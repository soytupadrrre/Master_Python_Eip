{
 "cells": [
  {
   "cell_type": "markdown",
   "metadata": {},
   "source": [
    "# Modelos de Regresión y Clasificación I\n",
    "Actividad Lección 3 || Fundamentos de IA y Machine Learning\n",
    "\n",
    "Objetivos:\n",
    "* Aplicar conceptos teóricos vistos en clase\n",
    "\n",
    "Datos del alumno:\n",
    "* Víctor Luque Martín\n",
    "* Máster Avanzado en Programación en Python para Hacking, BigData y Machine Learning\n",
    "\n",
    "Fecha: 20/10/2022"
   ]
  },
  {
   "cell_type": "markdown",
   "metadata": {},
   "source": [
    "# Tabla de contenidos:\n",
    "1. [Problema I](#problema-i)\n",
    "    1. [Preparación Previa](#pi-preparacion-previa)\n",
    "        1. [Obtención de train y test](#pi-obtencion-train-test)\n",
    "        2. [Normalización de los datos de entrenamiento](#pi-pp-norm-train)\n",
    "        3. [Normalicación de los datos de test](#pi-pp-norm-test)\n",
    "        4. [Obtención del vector de medias del entrenamiento](#pi-pp-media-train)\n",
    "        5. [Obtención de la matriz de covarianzas del entrenamiento](#pi-pp-cov-train)\n",
    "    2. [Regresión Lineal Simple](#pi-regresion-lineal-simple)\n",
    "        1. [Regresión lineal simple Y en función de X<sub>1</sub>](#pi-rls-modelo-1)\n",
    "        2. [Regresión lineal simple Y en función de X<sub>2</sub>](#pi-rls-modelo-2)\n",
    "    3. [Regresión lineal múltiple](#pi-regresion-lineal-multiple)\n",
    "        1. [Operaciones auxiliares](#pi-rlm-operaciones-auxiliares)\n",
    "        2. [Regresión lineal múltiple de Y en función de X1 y X2](#pi-modelo-rlm)\n",
    "    4. [Validación de los modelos](#pi-validacion-modelos)\n",
    "2. [Problema II](#problema-ii)\n",
    "    1. [Transformación Logística](#pii-transformacion-logistica)\n",
    "    2. [Evaluación de la regresión logística](#pii-evaluacion-regresion-logistica)\n",
    "    3. [Comparación con el modelo de la lección 3](#pii-comparacion-modelo-leccion-3)\n",
    "3. [Problema III](#problema-iii)\n",
    "    1. [Preparacion previa](#piii-preparacion-previa)\n",
    "    2. [Algoritmo KNN](#piii-algoritmo-knn)\n",
    "        1. [Resultados k = 1](#piii-resultados-k-1)\n",
    "        2. [Resultados k = 3](#piii-resultados-k-3)\n",
    "    3. [Conclusiones](#piii-conclusiones)"
   ]
  },
  {
   "cell_type": "code",
   "execution_count": 1,
   "metadata": {},
   "outputs": [],
   "source": [
    "import pandas as pd"
   ]
  },
  {
   "cell_type": "markdown",
   "metadata": {},
   "source": [
    "# Problema I <a class=\"anchor\" id=\"problema-i\"></a>\n",
    "Se desea estimar el valor Y de una casa dada su superficie X<sub>1</sub> y el número de habitaciones X<sub>2</sub> . Hasta ahora, se conocen los siguientes datos de entrenamiento:"
   ]
  },
  {
   "cell_type": "code",
   "execution_count": 2,
   "metadata": {},
   "outputs": [
    {
     "data": {
      "text/html": [
       "<div>\n",
       "<style scoped>\n",
       "    .dataframe tbody tr th:only-of-type {\n",
       "        vertical-align: middle;\n",
       "    }\n",
       "\n",
       "    .dataframe tbody tr th {\n",
       "        vertical-align: top;\n",
       "    }\n",
       "\n",
       "    .dataframe thead th {\n",
       "        text-align: right;\n",
       "    }\n",
       "</style>\n",
       "<table border=\"1\" class=\"dataframe\">\n",
       "  <thead>\n",
       "    <tr style=\"text-align: right;\">\n",
       "      <th></th>\n",
       "      <th>x1</th>\n",
       "      <th>x2</th>\n",
       "      <th>y</th>\n",
       "    </tr>\n",
       "  </thead>\n",
       "  <tbody>\n",
       "    <tr>\n",
       "      <th>0</th>\n",
       "      <td>60</td>\n",
       "      <td>1</td>\n",
       "      <td>120</td>\n",
       "    </tr>\n",
       "    <tr>\n",
       "      <th>1</th>\n",
       "      <td>55</td>\n",
       "      <td>2</td>\n",
       "      <td>125</td>\n",
       "    </tr>\n",
       "    <tr>\n",
       "      <th>2</th>\n",
       "      <td>70</td>\n",
       "      <td>1</td>\n",
       "      <td>130</td>\n",
       "    </tr>\n",
       "    <tr>\n",
       "      <th>3</th>\n",
       "      <td>60</td>\n",
       "      <td>2</td>\n",
       "      <td>112</td>\n",
       "    </tr>\n",
       "    <tr>\n",
       "      <th>4</th>\n",
       "      <td>62</td>\n",
       "      <td>1</td>\n",
       "      <td>122</td>\n",
       "    </tr>\n",
       "    <tr>\n",
       "      <th>5</th>\n",
       "      <td>70</td>\n",
       "      <td>2</td>\n",
       "      <td>135</td>\n",
       "    </tr>\n",
       "    <tr>\n",
       "      <th>6</th>\n",
       "      <td>60</td>\n",
       "      <td>3</td>\n",
       "      <td>128</td>\n",
       "    </tr>\n",
       "    <tr>\n",
       "      <th>7</th>\n",
       "      <td>80</td>\n",
       "      <td>1</td>\n",
       "      <td>140</td>\n",
       "    </tr>\n",
       "    <tr>\n",
       "      <th>8</th>\n",
       "      <td>80</td>\n",
       "      <td>2</td>\n",
       "      <td>150</td>\n",
       "    </tr>\n",
       "    <tr>\n",
       "      <th>9</th>\n",
       "      <td>85</td>\n",
       "      <td>3</td>\n",
       "      <td>160</td>\n",
       "    </tr>\n",
       "  </tbody>\n",
       "</table>\n",
       "</div>"
      ],
      "text/plain": [
       "   x1  x2    y\n",
       "0  60   1  120\n",
       "1  55   2  125\n",
       "2  70   1  130\n",
       "3  60   2  112\n",
       "4  62   1  122\n",
       "5  70   2  135\n",
       "6  60   3  128\n",
       "7  80   1  140\n",
       "8  80   2  150\n",
       "9  85   3  160"
      ]
     },
     "execution_count": 2,
     "metadata": {},
     "output_type": "execute_result"
    }
   ],
   "source": [
    "train_p1 = pd.read_csv('l3p1_train.csv')\n",
    "train_p1"
   ]
  },
  {
   "cell_type": "markdown",
   "metadata": {},
   "source": [
    "Se pide hallar:\n",
    "1. El modelo de regresión lineal simple de Y en función de X<sub>1</sub> .\n",
    "2. El modelo de regresión lineal simple de Y en función de X<sub>2</sub> .\n",
    "3. El modelo de regresión lineal múltiple de Y en función de X<sub>1</sub> y X<sub>2</sub> .\n",
    "4. Validar cada modelo con el siguiente conjunto de test."
   ]
  },
  {
   "cell_type": "code",
   "execution_count": 3,
   "metadata": {},
   "outputs": [
    {
     "data": {
      "text/html": [
       "<div>\n",
       "<style scoped>\n",
       "    .dataframe tbody tr th:only-of-type {\n",
       "        vertical-align: middle;\n",
       "    }\n",
       "\n",
       "    .dataframe tbody tr th {\n",
       "        vertical-align: top;\n",
       "    }\n",
       "\n",
       "    .dataframe thead th {\n",
       "        text-align: right;\n",
       "    }\n",
       "</style>\n",
       "<table border=\"1\" class=\"dataframe\">\n",
       "  <thead>\n",
       "    <tr style=\"text-align: right;\">\n",
       "      <th></th>\n",
       "      <th>x1</th>\n",
       "      <th>x2</th>\n",
       "      <th>y</th>\n",
       "    </tr>\n",
       "  </thead>\n",
       "  <tbody>\n",
       "    <tr>\n",
       "      <th>0</th>\n",
       "      <td>58</td>\n",
       "      <td>1</td>\n",
       "      <td>120</td>\n",
       "    </tr>\n",
       "    <tr>\n",
       "      <th>1</th>\n",
       "      <td>50</td>\n",
       "      <td>3</td>\n",
       "      <td>128</td>\n",
       "    </tr>\n",
       "    <tr>\n",
       "      <th>2</th>\n",
       "      <td>80</td>\n",
       "      <td>1</td>\n",
       "      <td>140</td>\n",
       "    </tr>\n",
       "    <tr>\n",
       "      <th>3</th>\n",
       "      <td>65</td>\n",
       "      <td>2</td>\n",
       "      <td>115</td>\n",
       "    </tr>\n",
       "    <tr>\n",
       "      <th>4</th>\n",
       "      <td>55</td>\n",
       "      <td>1</td>\n",
       "      <td>120</td>\n",
       "    </tr>\n",
       "    <tr>\n",
       "      <th>5</th>\n",
       "      <td>75</td>\n",
       "      <td>2</td>\n",
       "      <td>145</td>\n",
       "    </tr>\n",
       "    <tr>\n",
       "      <th>6</th>\n",
       "      <td>55</td>\n",
       "      <td>3</td>\n",
       "      <td>125</td>\n",
       "    </tr>\n",
       "    <tr>\n",
       "      <th>7</th>\n",
       "      <td>80</td>\n",
       "      <td>3</td>\n",
       "      <td>170</td>\n",
       "    </tr>\n",
       "    <tr>\n",
       "      <th>8</th>\n",
       "      <td>70</td>\n",
       "      <td>1</td>\n",
       "      <td>135</td>\n",
       "    </tr>\n",
       "    <tr>\n",
       "      <th>9</th>\n",
       "      <td>75</td>\n",
       "      <td>3</td>\n",
       "      <td>155</td>\n",
       "    </tr>\n",
       "  </tbody>\n",
       "</table>\n",
       "</div>"
      ],
      "text/plain": [
       "   x1  x2    y\n",
       "0  58   1  120\n",
       "1  50   3  128\n",
       "2  80   1  140\n",
       "3  65   2  115\n",
       "4  55   1  120\n",
       "5  75   2  145\n",
       "6  55   3  125\n",
       "7  80   3  170\n",
       "8  70   1  135\n",
       "9  75   3  155"
      ]
     },
     "execution_count": 3,
     "metadata": {},
     "output_type": "execute_result"
    }
   ],
   "source": [
    "test_p1 = pd.read_csv('l3p1_test.csv')\n",
    "test_p1"
   ]
  },
  {
   "cell_type": "markdown",
   "metadata": {},
   "source": [
    "## Preparación previa <a class=\"anchor\" id=\"pi-preparacion-previa\"></a>\n",
    "Antes de comenzar a resolver el problema se deben realizar las siguientes tareas:\n",
    "1. Normalizar los datos de entrenamiento.\n",
    "2. Normalizar los datos de test.\n",
    "3. Obtención del vector de medias del entrenamiento.\n",
    "4. Obtención de la matriz de covarianzas del entrenamiento."
   ]
  },
  {
   "cell_type": "markdown",
   "metadata": {},
   "source": [
    "### Obtención de train y test <a class=\"anchor\" id=\"pi-obtencion-train-test\"></a>"
   ]
  },
  {
   "cell_type": "markdown",
   "metadata": {},
   "source": [
    "### Normalización de los datos de entrenamiento <a class=\"anchor\" id=\"pi-pp-norm-train\"></a>\n",
    "Para normalizar los datos de entrenamiento se debe realizar la siguiente operación:\n",
    "\n",
    "$$X_{normalized} = \\frac{X - X_{min}}{X_{max} - X_{min}}$$"
   ]
  },
  {
   "cell_type": "code",
   "execution_count": 4,
   "metadata": {},
   "outputs": [
    {
     "data": {
      "text/html": [
       "<div>\n",
       "<style scoped>\n",
       "    .dataframe tbody tr th:only-of-type {\n",
       "        vertical-align: middle;\n",
       "    }\n",
       "\n",
       "    .dataframe tbody tr th {\n",
       "        vertical-align: top;\n",
       "    }\n",
       "\n",
       "    .dataframe thead th {\n",
       "        text-align: right;\n",
       "    }\n",
       "</style>\n",
       "<table border=\"1\" class=\"dataframe\">\n",
       "  <thead>\n",
       "    <tr style=\"text-align: right;\">\n",
       "      <th></th>\n",
       "      <th>y</th>\n",
       "      <th>x1</th>\n",
       "      <th>x2</th>\n",
       "    </tr>\n",
       "  </thead>\n",
       "  <tbody>\n",
       "    <tr>\n",
       "      <th>0</th>\n",
       "      <td>120</td>\n",
       "      <td>0.166667</td>\n",
       "      <td>0.0</td>\n",
       "    </tr>\n",
       "    <tr>\n",
       "      <th>1</th>\n",
       "      <td>125</td>\n",
       "      <td>0.000000</td>\n",
       "      <td>0.5</td>\n",
       "    </tr>\n",
       "    <tr>\n",
       "      <th>2</th>\n",
       "      <td>130</td>\n",
       "      <td>0.500000</td>\n",
       "      <td>0.0</td>\n",
       "    </tr>\n",
       "    <tr>\n",
       "      <th>3</th>\n",
       "      <td>112</td>\n",
       "      <td>0.166667</td>\n",
       "      <td>0.5</td>\n",
       "    </tr>\n",
       "    <tr>\n",
       "      <th>4</th>\n",
       "      <td>122</td>\n",
       "      <td>0.233333</td>\n",
       "      <td>0.0</td>\n",
       "    </tr>\n",
       "  </tbody>\n",
       "</table>\n",
       "</div>"
      ],
      "text/plain": [
       "     y        x1   x2\n",
       "0  120  0.166667  0.0\n",
       "1  125  0.000000  0.5\n",
       "2  130  0.500000  0.0\n",
       "3  112  0.166667  0.5\n",
       "4  122  0.233333  0.0"
      ]
     },
     "execution_count": 4,
     "metadata": {},
     "output_type": "execute_result"
    }
   ],
   "source": [
    "# Normalización Min-Max Train\n",
    "df = train_p1.drop('y', axis=1)\n",
    "p1_max = df.max()\n",
    "p1_min = df.min()\n",
    "df_norm = (df-p1_min)/(p1_max-p1_min)\n",
    "train_p1_norm = pd.concat((train_p1.y, df_norm), axis=1)\n",
    "train_p1_norm.head()"
   ]
  },
  {
   "cell_type": "markdown",
   "metadata": {},
   "source": [
    "### Normalización de los datos de test <a class=\"anchor\" id=\"pi-pp-norm-test\"></a>\n",
    "Para normalizar los datos de test se deben utilizar los mismos valores de $X_{min}$ y $X_{max}$ que se utilizaron para normalizar los datos de entrenamiento. Se expresaría de la siguiente forma:\n",
    "\n",
    "$$X'_{normalized} = \\frac{X' - X_{min}}{X_{max} - X_{min}}$$"
   ]
  },
  {
   "cell_type": "code",
   "execution_count": 5,
   "metadata": {},
   "outputs": [
    {
     "data": {
      "text/html": [
       "<div>\n",
       "<style scoped>\n",
       "    .dataframe tbody tr th:only-of-type {\n",
       "        vertical-align: middle;\n",
       "    }\n",
       "\n",
       "    .dataframe tbody tr th {\n",
       "        vertical-align: top;\n",
       "    }\n",
       "\n",
       "    .dataframe thead th {\n",
       "        text-align: right;\n",
       "    }\n",
       "</style>\n",
       "<table border=\"1\" class=\"dataframe\">\n",
       "  <thead>\n",
       "    <tr style=\"text-align: right;\">\n",
       "      <th></th>\n",
       "      <th>y</th>\n",
       "      <th>x1</th>\n",
       "      <th>x2</th>\n",
       "    </tr>\n",
       "  </thead>\n",
       "  <tbody>\n",
       "    <tr>\n",
       "      <th>0</th>\n",
       "      <td>120</td>\n",
       "      <td>0.100000</td>\n",
       "      <td>0.0</td>\n",
       "    </tr>\n",
       "    <tr>\n",
       "      <th>1</th>\n",
       "      <td>128</td>\n",
       "      <td>-0.166667</td>\n",
       "      <td>1.0</td>\n",
       "    </tr>\n",
       "    <tr>\n",
       "      <th>2</th>\n",
       "      <td>140</td>\n",
       "      <td>0.833333</td>\n",
       "      <td>0.0</td>\n",
       "    </tr>\n",
       "    <tr>\n",
       "      <th>3</th>\n",
       "      <td>115</td>\n",
       "      <td>0.333333</td>\n",
       "      <td>0.5</td>\n",
       "    </tr>\n",
       "    <tr>\n",
       "      <th>4</th>\n",
       "      <td>120</td>\n",
       "      <td>0.000000</td>\n",
       "      <td>0.0</td>\n",
       "    </tr>\n",
       "  </tbody>\n",
       "</table>\n",
       "</div>"
      ],
      "text/plain": [
       "     y        x1   x2\n",
       "0  120  0.100000  0.0\n",
       "1  128 -0.166667  1.0\n",
       "2  140  0.833333  0.0\n",
       "3  115  0.333333  0.5\n",
       "4  120  0.000000  0.0"
      ]
     },
     "execution_count": 5,
     "metadata": {},
     "output_type": "execute_result"
    }
   ],
   "source": [
    "# Normalización Min-Max Test\n",
    "df = test_p1.drop('y', axis=1)\n",
    "df_norm = (df-p1_min)/(p1_max-p1_min)\n",
    "test_p1_norm = pd.concat((test_p1.y, df_norm), axis=1)\n",
    "test_p1_norm.head()"
   ]
  },
  {
   "cell_type": "markdown",
   "metadata": {},
   "source": [
    "### Obtención del vector de medias del entrenamiento <a class=\"anchor\" id=\"pi-pp-media-train\"></a>\n",
    "Para obtener el vector de medias del entrenamiento se debe obtener la media de cada columna de la matriz de datos de entrenamiento. Se expresaría de la siguiente forma:\n",
    "\n",
    "$$\\mu = \\frac{1}{m} \\sum_{i=1}^{m} x^{(i)}$$\n",
    "\n",
    "Utilizaremos la función mean() de pandas para calcular la media de cada columna."
   ]
  },
  {
   "cell_type": "code",
   "execution_count": 6,
   "metadata": {},
   "outputs": [
    {
     "data": {
      "text/plain": [
       "y     132.20\n",
       "x1      0.44\n",
       "x2      0.40\n",
       "dtype: float64"
      ]
     },
     "execution_count": 6,
     "metadata": {},
     "output_type": "execute_result"
    }
   ],
   "source": [
    "vector_medias = train_p1_norm.mean()\n",
    "vector_medias"
   ]
  },
  {
   "cell_type": "markdown",
   "metadata": {},
   "source": [
    "### Obtención de la matriz de covarianzas del entrenamiento <a class=\"anchor\" id=\"pi-pp-cov-train\"></a>\n",
    "Para obtener la matriz de covarianzas del entrenamiento se debe obtener la covarianza de cada columna de la matriz de datos de entrenamiento. Se expresaría de la siguiente forma:\n",
    "\n",
    "$$\\Sigma_{ij} = \\text{Cov}(X_i, X_j)$$\n",
    "\n",
    "Si $i = j$ entonces:\n",
    "\n",
    "$$\\Sigma_{ii} = \\text{Var}(X_i)$$\n",
    "\n",
    "Utilizaremos la función [cov()](https://pandas.pydata.org/docs/reference/api/pandas.DataFrame.cov.html) de pandas para obtener la matriz de covarianzas del entrenamiento."
   ]
  },
  {
   "cell_type": "code",
   "execution_count": 7,
   "metadata": {},
   "outputs": [
    {
     "data": {
      "text/html": [
       "<div>\n",
       "<style scoped>\n",
       "    .dataframe tbody tr th:only-of-type {\n",
       "        vertical-align: middle;\n",
       "    }\n",
       "\n",
       "    .dataframe tbody tr th {\n",
       "        vertical-align: top;\n",
       "    }\n",
       "\n",
       "    .dataframe thead th {\n",
       "        text-align: right;\n",
       "    }\n",
       "</style>\n",
       "<table border=\"1\" class=\"dataframe\">\n",
       "  <thead>\n",
       "    <tr style=\"text-align: right;\">\n",
       "      <th></th>\n",
       "      <th>y</th>\n",
       "      <th>x1</th>\n",
       "      <th>x2</th>\n",
       "    </tr>\n",
       "  </thead>\n",
       "  <tbody>\n",
       "    <tr>\n",
       "      <th>y</th>\n",
       "      <td>210.400000</td>\n",
       "      <td>4.550370</td>\n",
       "      <td>2.244444</td>\n",
       "    </tr>\n",
       "    <tr>\n",
       "      <th>x1</th>\n",
       "      <td>4.550370</td>\n",
       "      <td>0.121185</td>\n",
       "      <td>0.017407</td>\n",
       "    </tr>\n",
       "    <tr>\n",
       "      <th>x2</th>\n",
       "      <td>2.244444</td>\n",
       "      <td>0.017407</td>\n",
       "      <td>0.155556</td>\n",
       "    </tr>\n",
       "  </tbody>\n",
       "</table>\n",
       "</div>"
      ],
      "text/plain": [
       "             y        x1        x2\n",
       "y   210.400000  4.550370  2.244444\n",
       "x1    4.550370  0.121185  0.017407\n",
       "x2    2.244444  0.017407  0.155556"
      ]
     },
     "execution_count": 7,
     "metadata": {},
     "output_type": "execute_result"
    }
   ],
   "source": [
    "matriz_covarianza = train_p1_norm.cov()\n",
    "matriz_covarianza"
   ]
  },
  {
   "cell_type": "markdown",
   "metadata": {},
   "source": [
    "## Regresión lineal simple <a class=\"anchor\" id=\"pi-regresion-lineal-simple\"></a>\n",
    "El modelo de regresión a estimar es $Y = \\hat{\\beta_0} + \\hat{\\beta_1} X$. Para obtener los parámetros $\\hat{\\beta_0}$ y $\\hat{\\beta_1}$ se debe resolver el siguiente sistema de ecuaciones:\n",
    "\n",
    "$$\\text{Pendiente} = \\hat{\\beta_1} = \\frac{S_{x,y}}{S^2_x}$$\n",
    "\n",
    "$$\\text{Ordenada de Origen} = \\hat{\\beta_0} = \\mu_y - \\hat{\\beta_1} \\mu_x = \\bar{Y} - \\hat{\\beta_1} \\bar{X_1}$$\n",
    "\n",
    "Siendo $S$ la matriz de covarianzas del entrenamiento y $\\mu$ el vector de medias del entrenamiento.\n",
    "\n",
    "Ambas ecuaciones vienen definidas dentro de la siguiente función:"
   ]
  },
  {
   "cell_type": "code",
   "execution_count": 8,
   "metadata": {},
   "outputs": [],
   "source": [
    "def regresion_lineal_simple(train, y, avg_y, x, avg_x):\n",
    "    # Calculamos la matriz de covarianzas\n",
    "    matriz_covarianzas = train.cov() \n",
    "    # obtener la varianza de x\n",
    "    varianza_x = matriz_covarianzas.loc[x, x]\n",
    "    # obtener la covarianza entre x e y\n",
    "    covarianza_x_y = matriz_covarianzas.loc[x, y]\n",
    "    # obtener la varianza de y\n",
    "    varianza_y = matriz_covarianzas.loc[y, y]\n",
    "    # obtener la beta 1\n",
    "    beta_1 = covarianza_x_y / varianza_x\n",
    "    # obtener el termino independiente\n",
    "    beta_0 = avg_y - beta_1 * avg_x\n",
    "    # obtener la ecuacion de la recta\n",
    "    sub = str.maketrans(\"0123456789\", \"₀₁₂₃₄₅₆₇₈₉\")\n",
    "    ecuacion = f\"Y = {beta_0} + {beta_1}·{x.translate(sub)}\"\n",
    "\n",
    "    # Almacenar los resultados en un diccionario\n",
    "    resultados = {\n",
    "        \"beta_1\": beta_1,\n",
    "        \"beta_0\": beta_0,\n",
    "        \"ecuacion\": ecuacion,\n",
    "        \"data\": []\n",
    "    }\n",
    "    # Calcular los valores de Y para cada valor de X\n",
    "    for row in train.iterrows():\n",
    "        resultados[\"data\"].append(\n",
    "            beta_0 + beta_1 * row[1][x]\n",
    "        )\n",
    "    resultados[\"data\"] = pd.Series(resultados[\"data\"])        \n",
    "    return resultados"
   ]
  },
  {
   "cell_type": "markdown",
   "metadata": {},
   "source": [
    "### Regresión lineal simple Y en función de X<sub>1</sub> <a class=\"anchor\" id=\"pi-rls-modelo-1\"></a>\n",
    "Aplicamos la función anterior para obtener los resultados del modelo 1."
   ]
  },
  {
   "cell_type": "code",
   "execution_count": 9,
   "metadata": {},
   "outputs": [],
   "source": [
    "p1_modelo_1 = regresion_lineal_simple(train_p1_norm, 'y', vector_medias[0], 'x1', vector_medias[1])"
   ]
  },
  {
   "cell_type": "markdown",
   "metadata": {},
   "source": [
    "**El valor de $\\hat{\\beta_1}$ es:**\n",
    "$$\\hat{\\beta_1} = 37.548899755501225$$"
   ]
  },
  {
   "cell_type": "code",
   "execution_count": 10,
   "metadata": {},
   "outputs": [
    {
     "data": {
      "text/plain": [
       "37.548899755501225"
      ]
     },
     "execution_count": 10,
     "metadata": {},
     "output_type": "execute_result"
    }
   ],
   "source": [
    "p1_modelo_1[\"beta_1\"]"
   ]
  },
  {
   "cell_type": "markdown",
   "metadata": {},
   "source": [
    "**El valor de $\\hat{\\beta_0}$ es:**\n",
    "$$\\hat{\\beta_0} = 115.67848410757945$$"
   ]
  },
  {
   "cell_type": "code",
   "execution_count": 11,
   "metadata": {},
   "outputs": [
    {
     "data": {
      "text/plain": [
       "115.67848410757945"
      ]
     },
     "execution_count": 11,
     "metadata": {},
     "output_type": "execute_result"
    }
   ],
   "source": [
    "p1_modelo_1[\"beta_0\"]"
   ]
  },
  {
   "cell_type": "markdown",
   "metadata": {},
   "source": [
    "**El modelo estimado sería:**<br>\n",
    "$$Y = 115.67848410757945 + 37.548899755501225·X_1$$"
   ]
  },
  {
   "cell_type": "code",
   "execution_count": 12,
   "metadata": {},
   "outputs": [
    {
     "data": {
      "text/plain": [
       "'Y = 115.67848410757945 + 37.548899755501225·x₁'"
      ]
     },
     "execution_count": 12,
     "metadata": {},
     "output_type": "execute_result"
    }
   ],
   "source": [
    "p1_modelo_1[\"ecuacion\"]"
   ]
  },
  {
   "cell_type": "markdown",
   "metadata": {},
   "source": [
    "### Regresión lineal simple Y en función de X<sub>2</sub> <a class=\"anchor\" id=\"pi-rls-modelo-2\"></a>"
   ]
  },
  {
   "cell_type": "code",
   "execution_count": 13,
   "metadata": {},
   "outputs": [],
   "source": [
    "p1_modelo_2 = regresion_lineal_simple(train_p1_norm, 'y', vector_medias[0], 'x2', vector_medias[2])"
   ]
  },
  {
   "cell_type": "markdown",
   "metadata": {},
   "source": [
    "**El valor de $\\hat{\\beta_1}$ es:**\n",
    "$$\\hat{\\beta_1} = 14.428571428571429$$"
   ]
  },
  {
   "cell_type": "code",
   "execution_count": 14,
   "metadata": {},
   "outputs": [
    {
     "data": {
      "text/plain": [
       "14.428571428571429"
      ]
     },
     "execution_count": 14,
     "metadata": {},
     "output_type": "execute_result"
    }
   ],
   "source": [
    "p1_modelo_2[\"beta_1\"]"
   ]
  },
  {
   "cell_type": "markdown",
   "metadata": {},
   "source": [
    "**El valor de $\\hat{\\beta_0}$ es:**\n",
    "$$\\hat{\\beta_0} = 126.42857142857142$$"
   ]
  },
  {
   "cell_type": "code",
   "execution_count": 15,
   "metadata": {},
   "outputs": [
    {
     "data": {
      "text/plain": [
       "126.42857142857142"
      ]
     },
     "execution_count": 15,
     "metadata": {},
     "output_type": "execute_result"
    }
   ],
   "source": [
    "p1_modelo_2[\"beta_0\"]"
   ]
  },
  {
   "cell_type": "markdown",
   "metadata": {},
   "source": [
    "**El modelo estimado sería:**<br>\n",
    "$$Y = 126.42857142857142 + 14.428571428571429·X_2$$"
   ]
  },
  {
   "cell_type": "code",
   "execution_count": 16,
   "metadata": {},
   "outputs": [
    {
     "data": {
      "text/plain": [
       "'Y = 126.42857142857142 + 14.428571428571429·x₂'"
      ]
     },
     "execution_count": 16,
     "metadata": {},
     "output_type": "execute_result"
    }
   ],
   "source": [
    "p1_modelo_2[\"ecuacion\"]"
   ]
  },
  {
   "cell_type": "markdown",
   "metadata": {},
   "source": [
    "## Regresión lineal múltiple <a class=\"anchor\" id=\"pi-regresion-lineal-multiple\"></a>\n",
    "El modelo de regresión a estimar es $Y = \\hat{\\beta_0} + \\hat{\\beta_1} X_1 + \\hat{\\beta_2} X_2$. Para obtener los parámetros $\\hat{\\beta_0}$, $\\hat{\\beta_1}$ y $\\hat{\\beta_2}$ se debe resolver el siguiente sistema de ecuaciones:\n",
    "\n",
    "$$\\text{Coeficientes Parciales} = \\hat{\\beta_i} = - \\frac{A_{1, j+1}}{A_{1, 1}} \\rightarrow \\begin{cases} \\hat{\\beta_1} = - \\frac{A_{1, 2}}{A_{1, 1}} \\\\ \\hat{\\beta_2} = - \\frac{A_{1, 3}}{A_{1, 1}} \\end{cases}$$\n",
    "\n",
    "$$\\text{Ordenada de Origen} = \\hat{\\beta_0} = \\mu_y - \\hat{\\beta_1} \\mu_{x_1} - \\hat{\\beta_2} \\mu_{x_2} = \\bar{Y} - \\hat{\\beta_1} \\bar{X_1} - \\hat{\\beta_2} \\bar{X_2}$$\n",
    "\n",
    "Siendo $A_{i,j}$ el adjunto ($Adj_{ij}(S) = (-1)^{i+j}\\cdot det(S_{ij})$) de la matriz de covarianzas del entrenamiento y $\\mu$ el vector de medias del entrenamiento."
   ]
  },
  {
   "cell_type": "markdown",
   "metadata": {},
   "source": [
    "### Operaciones auxiliares <a class=\"anchor\" id=\"pi-rlm-operaciones-auxiliares\"></a>\n",
    "Para resolver el sistema de ecuaciones anterior se necesitan realizar las siguientes operaciones:\n",
    "1. Calcular el adjunto de la matriz de covarianzas 3x3 del entrenamiento.\n",
    "2. Obtener los coeficientes parciales $\\hat{\\beta_1}$ y $\\hat{\\beta_2}$.\n",
    "3. Obtener la ordenada de origen $\\hat{\\beta_0}$."
   ]
  },
  {
   "cell_type": "markdown",
   "metadata": {},
   "source": [
    "**Adjunto de la matriz de covarianzas 3x3 del entrenamiento**<br>\n",
    "A partir de la siguiente función se obtiene el adjunto de la matriz de covarianzas 3x3 del entrenamiento, dado un índice de fila y columna."
   ]
  },
  {
   "cell_type": "code",
   "execution_count": 17,
   "metadata": {},
   "outputs": [],
   "source": [
    "def calc_adjunto_matriz_3x3(matriz_covarianzas, col, idx):\n",
    "    # Eliminar la columna y la fila de la matriz de covarianzas\n",
    "    # para obtener la matriz adjunta\n",
    "    matriz_adjunta = matriz_covarianzas.copy()\\\n",
    "        .drop(matriz_covarianzas.index[idx-1], axis=0)\\\n",
    "        .drop(matriz_covarianzas.columns[col-1], axis=1)\n",
    "\n",
    "    # Calcular el determinante de la matriz adjunta\n",
    "    det = matriz_adjunta.iloc[0, 0] * matriz_adjunta.iloc[1, 1] - matriz_adjunta.iloc[0, 1] * matriz_adjunta.iloc[1, 0]\n",
    "    # Si la suma de idx y col es impar el adjunto es negativo\n",
    "    adjunto = (-1)**(idx+col) * det\n",
    "    return adjunto"
   ]
  },
  {
   "cell_type": "markdown",
   "metadata": {},
   "source": [
    "**Coeficientes parciales $\\hat{\\beta_1}$ y $\\hat{\\beta_2}$**<br>\n",
    "A partir de la siguiente función se obtienen los coeficientes parciales $\\hat{\\beta_1}$ y $\\hat{\\beta_2}$ en formato de lista, siendo el primer elemento $\\hat{\\beta_1}$ y el segundo $\\hat{\\beta_2}$."
   ]
  },
  {
   "cell_type": "code",
   "execution_count": 18,
   "metadata": {},
   "outputs": [],
   "source": [
    "def coeficientes_parciales(matriz_covarianzas):\n",
    "    # Calcular el denominador A11\n",
    "    denominador = calc_adjunto_matriz_3x3(matriz_covarianzas, col=1, idx=1)\n",
    "    coeficientes = []\n",
    "    # Recorremos el indice de las columnas menos la primera\n",
    "    for col in range(2, len(matriz_covarianzas)+1):\n",
    "        # Calcular el numerador A1i+1\n",
    "        numerador = calc_adjunto_matriz_3x3(matriz_covarianzas, col=col, idx=1)\n",
    "        # Calcular el coeficiente parcial (- (A1i+1 / A11))\n",
    "        c = - (numerador / denominador)\n",
    "        # Agregar el coeficiente parcial a la lista\n",
    "        coeficientes.append(c)\n",
    "    return coeficientes"
   ]
  },
  {
   "cell_type": "markdown",
   "metadata": {},
   "source": [
    "**Ordenada de origen $\\hat{\\beta_0}$**<br>\n",
    "A partir de la siguiente función se obtiene la ordenada de origen $\\hat{\\beta_0}$."
   ]
  },
  {
   "cell_type": "code",
   "execution_count": 19,
   "metadata": {},
   "outputs": [],
   "source": [
    "def ordenada_origen(coeficientes, vector_medias):\n",
    "    # Ordenada de origen b0 = media_y - b1·media_x1 - b2·media_x2\n",
    "    # Inicialmente b0 = y\n",
    "    ordenada_origen = vector_medias[0]\n",
    "    # Recorremos los coeficientes parciales\n",
    "    for idx, coeficiente in enumerate(coeficientes):\n",
    "        # En cada iteración restamos bi·media_xi\n",
    "        # El idx comienza en 0, por lo que le sumamos 1\n",
    "        ordenada_origen -= coeficiente * vector_medias[idx+1]\n",
    "    return ordenada_origen"
   ]
  },
  {
   "cell_type": "markdown",
   "metadata": {},
   "source": [
    "### Regresión lineal múltiple de Y en función de X1 y X2 <a class=\"anchor\" id=\"pi-modelo-rlm\"></a>\n",
    "Aplicamos las funciones anteriores para obtener del modelo 3."
   ]
  },
  {
   "cell_type": "code",
   "execution_count": 20,
   "metadata": {},
   "outputs": [],
   "source": [
    "def regresion_lineal_multiple(matriz, vector_medias):\n",
    "    # Calcular la matriz de covarianzas\n",
    "    matriz_covarianzas = matriz.cov()\n",
    "    # Calcular los coeficientes parciales\n",
    "    coeficientes = coeficientes_parciales(matriz_covarianzas)\n",
    "    # Calcular la ordenada de origen\n",
    "    beta_0 = ordenada_origen(coeficientes, vector_medias)\n",
    "    sub = str.maketrans(\"0123456789\", \"₀₁₂₃₄₅₆₇₈₉\")\n",
    "    # Calcular la ecuación\n",
    "    ecuacion = f\"y = {beta_0} + {coeficientes[0]}·{'x1'.translate(sub)} + {coeficientes[1]}·{'x2'.translate(sub)}\"\n",
    "    resultados = {\n",
    "        \"coeficientes\": coeficientes,\n",
    "        \"beta_0\": beta_0,\n",
    "        \"ecuacion\": ecuacion,\n",
    "        \"data\": []\n",
    "    }\n",
    "    # Calcular los valores de Y para cada valor de X1 y X2\n",
    "    for row in matriz.iterrows():\n",
    "        y = beta_0\n",
    "        for idx, coeficiente in enumerate(coeficientes):\n",
    "            y += coeficiente * row[1][idx+1]\n",
    "        resultados[\"data\"].append(y)\n",
    "    resultados[\"data\"] = pd.Series(resultados[\"data\"])\n",
    "    return resultados"
   ]
  },
  {
   "cell_type": "code",
   "execution_count": 21,
   "metadata": {},
   "outputs": [],
   "source": [
    "p1_modelo_3 = regresion_lineal_multiple(train_p1_norm, vector_medias)"
   ]
  },
  {
   "cell_type": "markdown",
   "metadata": {},
   "source": [
    "**El valor de $\\hat{\\beta_1}$ es:**\n",
    "$$\\hat{\\beta_1} = 36.055910956624636$$"
   ]
  },
  {
   "cell_type": "code",
   "execution_count": 22,
   "metadata": {},
   "outputs": [
    {
     "data": {
      "text/plain": [
       "36.055910956624636"
      ]
     },
     "execution_count": 22,
     "metadata": {},
     "output_type": "execute_result"
    }
   ],
   "source": [
    "p1_modelo_3[\"coeficientes\"][0]"
   ]
  },
  {
   "cell_type": "markdown",
   "metadata": {},
   "source": [
    "**El valor de $\\hat{\\beta_2}$ es:**\n",
    "$$\\hat{\\beta_2} = 10.393743297711053$$"
   ]
  },
  {
   "cell_type": "code",
   "execution_count": 23,
   "metadata": {},
   "outputs": [
    {
     "data": {
      "text/plain": [
       "10.393743297711053"
      ]
     },
     "execution_count": 23,
     "metadata": {},
     "output_type": "execute_result"
    }
   ],
   "source": [
    "p1_modelo_3[\"coeficientes\"][1]"
   ]
  },
  {
   "cell_type": "markdown",
   "metadata": {},
   "source": [
    "**El valor de $\\hat{\\beta_0}$ es:**\n",
    "$$\\hat{\\beta_0} = 112.17790186000072$$"
   ]
  },
  {
   "cell_type": "code",
   "execution_count": 24,
   "metadata": {},
   "outputs": [
    {
     "data": {
      "text/plain": [
       "112.17790186000072"
      ]
     },
     "execution_count": 24,
     "metadata": {},
     "output_type": "execute_result"
    }
   ],
   "source": [
    "p1_modelo_3[\"beta_0\"]"
   ]
  },
  {
   "cell_type": "markdown",
   "metadata": {},
   "source": [
    "**El modelo estimado sería:**<br>\n",
    "$$Y = 112.17790186000072 + 36.055910956624636·X_1 + 10.393743297711053·X_2$$"
   ]
  },
  {
   "cell_type": "code",
   "execution_count": 25,
   "metadata": {},
   "outputs": [
    {
     "data": {
      "text/plain": [
       "'y = 112.17790186000072 + 36.055910956624636·x₁ + 10.393743297711053·x₂'"
      ]
     },
     "execution_count": 25,
     "metadata": {},
     "output_type": "execute_result"
    }
   ],
   "source": [
    "p1_modelo_3[\"ecuacion\"]"
   ]
  },
  {
   "cell_type": "markdown",
   "metadata": {},
   "source": [
    "## Validación de los modelos <a class=\"anchor\" id=\"pi-validacion-modelos\"></a>\n",
    "Esta vez se utilizará el conjunto de datos de test para validar los modelos estimados. Posteriormente se hallarán las métricas de error para cada modelo.\n",
    "\n",
    "Los modelos a validar son los siguientes:\n",
    "1. Modelo 1: Regresión lineal simple de Y en función de X1. \n",
    "\n",
    "$$Y = 115.67848410757945 + 37.548899755501225·X_1$$\n",
    "\n",
    "2. Modelo 2: Regresión lineal simple de Y en función de X2. \n",
    "\n",
    "$$Y = 126.42857142857142 + 14.428571428571429·X_2$$\n",
    "\n",
    "3. Modelo 3: Regresión lineal múltiple de Y en función de X1 y X2. \n",
    "\n",
    "$$Y = 112.17790186000072 + 36.055910956624636·X_1 + 10.393743297711053·X_2$$\n",
    "\n",
    "Los resultados serían los siguientes:"
   ]
  },
  {
   "cell_type": "code",
   "execution_count": 26,
   "metadata": {},
   "outputs": [
    {
     "data": {
      "text/html": [
       "<div>\n",
       "<style scoped>\n",
       "    .dataframe tbody tr th:only-of-type {\n",
       "        vertical-align: middle;\n",
       "    }\n",
       "\n",
       "    .dataframe tbody tr th {\n",
       "        vertical-align: top;\n",
       "    }\n",
       "\n",
       "    .dataframe thead th {\n",
       "        text-align: right;\n",
       "    }\n",
       "</style>\n",
       "<table border=\"1\" class=\"dataframe\">\n",
       "  <thead>\n",
       "    <tr style=\"text-align: right;\">\n",
       "      <th></th>\n",
       "      <th>Y</th>\n",
       "      <th>Ym1</th>\n",
       "      <th>Ym2</th>\n",
       "      <th>Ym3</th>\n",
       "    </tr>\n",
       "  </thead>\n",
       "  <tbody>\n",
       "    <tr>\n",
       "      <th>0</th>\n",
       "      <td>120</td>\n",
       "      <td>119.433374</td>\n",
       "      <td>126.428571</td>\n",
       "      <td>115.783493</td>\n",
       "    </tr>\n",
       "    <tr>\n",
       "      <th>1</th>\n",
       "      <td>128</td>\n",
       "      <td>109.420334</td>\n",
       "      <td>140.857143</td>\n",
       "      <td>116.562327</td>\n",
       "    </tr>\n",
       "    <tr>\n",
       "      <th>2</th>\n",
       "      <td>140</td>\n",
       "      <td>146.969234</td>\n",
       "      <td>126.428571</td>\n",
       "      <td>142.224494</td>\n",
       "    </tr>\n",
       "    <tr>\n",
       "      <th>3</th>\n",
       "      <td>115</td>\n",
       "      <td>128.194784</td>\n",
       "      <td>133.642857</td>\n",
       "      <td>129.393410</td>\n",
       "    </tr>\n",
       "    <tr>\n",
       "      <th>4</th>\n",
       "      <td>120</td>\n",
       "      <td>115.678484</td>\n",
       "      <td>126.428571</td>\n",
       "      <td>112.177902</td>\n",
       "    </tr>\n",
       "    <tr>\n",
       "      <th>5</th>\n",
       "      <td>145</td>\n",
       "      <td>140.711084</td>\n",
       "      <td>133.642857</td>\n",
       "      <td>141.412047</td>\n",
       "    </tr>\n",
       "    <tr>\n",
       "      <th>6</th>\n",
       "      <td>125</td>\n",
       "      <td>115.678484</td>\n",
       "      <td>140.857143</td>\n",
       "      <td>122.571645</td>\n",
       "    </tr>\n",
       "    <tr>\n",
       "      <th>7</th>\n",
       "      <td>170</td>\n",
       "      <td>146.969234</td>\n",
       "      <td>140.857143</td>\n",
       "      <td>152.618238</td>\n",
       "    </tr>\n",
       "    <tr>\n",
       "      <th>8</th>\n",
       "      <td>135</td>\n",
       "      <td>134.452934</td>\n",
       "      <td>126.428571</td>\n",
       "      <td>130.205857</td>\n",
       "    </tr>\n",
       "    <tr>\n",
       "      <th>9</th>\n",
       "      <td>155</td>\n",
       "      <td>140.711084</td>\n",
       "      <td>140.857143</td>\n",
       "      <td>146.608919</td>\n",
       "    </tr>\n",
       "  </tbody>\n",
       "</table>\n",
       "</div>"
      ],
      "text/plain": [
       "     Y         Ym1         Ym2         Ym3\n",
       "0  120  119.433374  126.428571  115.783493\n",
       "1  128  109.420334  140.857143  116.562327\n",
       "2  140  146.969234  126.428571  142.224494\n",
       "3  115  128.194784  133.642857  129.393410\n",
       "4  120  115.678484  126.428571  112.177902\n",
       "5  145  140.711084  133.642857  141.412047\n",
       "6  125  115.678484  140.857143  122.571645\n",
       "7  170  146.969234  140.857143  152.618238\n",
       "8  135  134.452934  126.428571  130.205857\n",
       "9  155  140.711084  140.857143  146.608919"
      ]
     },
     "execution_count": 26,
     "metadata": {},
     "output_type": "execute_result"
    }
   ],
   "source": [
    "data_pred = {\"Y\": test_p1_norm[\"y\"],\"Ym1\": [],\"Ym2\": [],\"Ym3\": []}\n",
    "for row in test_p1_norm.iterrows():\n",
    "    data_pred[\"Ym1\"].append(p1_modelo_1[\"beta_0\"] + p1_modelo_1[\"beta_1\"] * row[1][\"x1\"])\n",
    "    data_pred[\"Ym2\"].append(p1_modelo_2[\"beta_0\"] + p1_modelo_2[\"beta_1\"] * row[1][\"x2\"])\n",
    "    data_pred[\"Ym3\"].append(p1_modelo_3[\"beta_0\"] + p1_modelo_3[\"coeficientes\"][0] *\\\n",
    "        row[1][\"x1\"] + p1_modelo_3[\"coeficientes\"][1] * row[1][\"x2\"])\n",
    "\n",
    "df_pred_test = pd.DataFrame(data_pred)\n",
    "df_pred_test"
   ]
  },
  {
   "cell_type": "markdown",
   "metadata": {},
   "source": [
    "Para cada modelo se calculan los residuos \n",
    "\n",
    "$$e_i = y_i - \\hat{y_i}$$"
   ]
  },
  {
   "cell_type": "code",
   "execution_count": 27,
   "metadata": {},
   "outputs": [
    {
     "data": {
      "text/html": [
       "<div>\n",
       "<style scoped>\n",
       "    .dataframe tbody tr th:only-of-type {\n",
       "        vertical-align: middle;\n",
       "    }\n",
       "\n",
       "    .dataframe tbody tr th {\n",
       "        vertical-align: top;\n",
       "    }\n",
       "\n",
       "    .dataframe thead th {\n",
       "        text-align: right;\n",
       "    }\n",
       "</style>\n",
       "<table border=\"1\" class=\"dataframe\">\n",
       "  <thead>\n",
       "    <tr style=\"text-align: right;\">\n",
       "      <th></th>\n",
       "      <th>em1</th>\n",
       "      <th>em2</th>\n",
       "      <th>em3</th>\n",
       "    </tr>\n",
       "  </thead>\n",
       "  <tbody>\n",
       "    <tr>\n",
       "      <th>0</th>\n",
       "      <td>0.566626</td>\n",
       "      <td>-6.428571</td>\n",
       "      <td>4.216507</td>\n",
       "    </tr>\n",
       "    <tr>\n",
       "      <th>1</th>\n",
       "      <td>18.579666</td>\n",
       "      <td>-12.857143</td>\n",
       "      <td>11.437673</td>\n",
       "    </tr>\n",
       "    <tr>\n",
       "      <th>2</th>\n",
       "      <td>-6.969234</td>\n",
       "      <td>13.571429</td>\n",
       "      <td>-2.224494</td>\n",
       "    </tr>\n",
       "    <tr>\n",
       "      <th>3</th>\n",
       "      <td>-13.194784</td>\n",
       "      <td>-18.642857</td>\n",
       "      <td>-14.393410</td>\n",
       "    </tr>\n",
       "    <tr>\n",
       "      <th>4</th>\n",
       "      <td>4.321516</td>\n",
       "      <td>-6.428571</td>\n",
       "      <td>7.822098</td>\n",
       "    </tr>\n",
       "    <tr>\n",
       "      <th>5</th>\n",
       "      <td>4.288916</td>\n",
       "      <td>11.357143</td>\n",
       "      <td>3.587953</td>\n",
       "    </tr>\n",
       "    <tr>\n",
       "      <th>6</th>\n",
       "      <td>9.321516</td>\n",
       "      <td>-15.857143</td>\n",
       "      <td>2.428355</td>\n",
       "    </tr>\n",
       "    <tr>\n",
       "      <th>7</th>\n",
       "      <td>23.030766</td>\n",
       "      <td>29.142857</td>\n",
       "      <td>17.381762</td>\n",
       "    </tr>\n",
       "    <tr>\n",
       "      <th>8</th>\n",
       "      <td>0.547066</td>\n",
       "      <td>8.571429</td>\n",
       "      <td>4.794143</td>\n",
       "    </tr>\n",
       "    <tr>\n",
       "      <th>9</th>\n",
       "      <td>14.288916</td>\n",
       "      <td>14.142857</td>\n",
       "      <td>8.391081</td>\n",
       "    </tr>\n",
       "  </tbody>\n",
       "</table>\n",
       "</div>"
      ],
      "text/plain": [
       "         em1        em2        em3\n",
       "0   0.566626  -6.428571   4.216507\n",
       "1  18.579666 -12.857143  11.437673\n",
       "2  -6.969234  13.571429  -2.224494\n",
       "3 -13.194784 -18.642857 -14.393410\n",
       "4   4.321516  -6.428571   7.822098\n",
       "5   4.288916  11.357143   3.587953\n",
       "6   9.321516 -15.857143   2.428355\n",
       "7  23.030766  29.142857  17.381762\n",
       "8   0.547066   8.571429   4.794143\n",
       "9  14.288916  14.142857   8.391081"
      ]
     },
     "execution_count": 27,
     "metadata": {},
     "output_type": "execute_result"
    }
   ],
   "source": [
    "# Para cada Ym calcular los residuos e = Y_train_pred - Y_test_pred\n",
    "data = {\"em1\": [],\"em2\": [],\"em3\": []}\n",
    "for row in df_pred_test.iterrows():\n",
    "    data[\"em1\"].append(test_p1_norm[\"y\"][row[0]] - row[1][\"Ym1\"])\n",
    "    data[\"em2\"].append(test_p1_norm[\"y\"][row[0]] - row[1][\"Ym2\"])\n",
    "    data[\"em3\"].append(test_p1_norm[\"y\"][row[0]] - row[1][\"Ym3\"])\n",
    "\n",
    "df_residuos = pd.DataFrame(data)\n",
    "df_residuos"
   ]
  },
  {
   "cell_type": "markdown",
   "metadata": {},
   "source": [
    "**Reutilizamos las funciones para calcular las métricas de regresión y las encapsulamos en una clase.**"
   ]
  },
  {
   "cell_type": "code",
   "execution_count": 28,
   "metadata": {},
   "outputs": [],
   "source": [
    "class MetricasRegresion:\n",
    "    def __init__(self, y, y_pred):\n",
    "        self.y = y\n",
    "        self.y_pred = y_pred\n",
    "        self.n = len(y)\n",
    "\n",
    "    @property\n",
    "    def mae(self):\n",
    "        sumatorio = 0\n",
    "        for y, m in zip(self.y, self.y_pred):\n",
    "            sumatorio += abs(y - m)\n",
    "        return sumatorio / self.n\n",
    "\n",
    "    @property\n",
    "    def mse(self):\n",
    "        sumatorio = 0\n",
    "        for y, m in zip(self.y, self.y_pred):\n",
    "            sumatorio += (y - m) ** 2\n",
    "        return sumatorio / self.n\n",
    "\n",
    "    @property\n",
    "    def rmse(self):\n",
    "        return self.mse ** 0.5\n",
    "\n",
    "    @property\n",
    "    def r2(self):\n",
    "        media_y = sum(self.y) / self.n\n",
    "        numerador, denominador = 0, 0\n",
    "        for y, m in zip(self.y, self.y_pred):\n",
    "            numerador += (m - media_y) ** 2\n",
    "            denominador += (y - media_y) ** 2\n",
    "        return numerador / denominador"
   ]
  },
  {
   "cell_type": "markdown",
   "metadata": {},
   "source": [
    "**Calculamos las métricas de error para cada modelo.**"
   ]
  },
  {
   "cell_type": "code",
   "execution_count": 29,
   "metadata": {},
   "outputs": [
    {
     "data": {
      "text/html": [
       "<div>\n",
       "<style scoped>\n",
       "    .dataframe tbody tr th:only-of-type {\n",
       "        vertical-align: middle;\n",
       "    }\n",
       "\n",
       "    .dataframe tbody tr th {\n",
       "        vertical-align: top;\n",
       "    }\n",
       "\n",
       "    .dataframe thead th {\n",
       "        text-align: right;\n",
       "    }\n",
       "</style>\n",
       "<table border=\"1\" class=\"dataframe\">\n",
       "  <thead>\n",
       "    <tr style=\"text-align: right;\">\n",
       "      <th></th>\n",
       "      <th>MAE</th>\n",
       "      <th>MSE</th>\n",
       "      <th>RMSE</th>\n",
       "      <th>R²</th>\n",
       "    </tr>\n",
       "  </thead>\n",
       "  <tbody>\n",
       "    <tr>\n",
       "      <th>Modelo 1</th>\n",
       "      <td>9.510901</td>\n",
       "      <td>142.704714</td>\n",
       "      <td>11.945908</td>\n",
       "      <td>0.754564</td>\n",
       "    </tr>\n",
       "    <tr>\n",
       "      <th>Modelo 2</th>\n",
       "      <td>13.700000</td>\n",
       "      <td>228.292857</td>\n",
       "      <td>15.109363</td>\n",
       "      <td>0.161504</td>\n",
       "    </tr>\n",
       "    <tr>\n",
       "      <th>Modelo 3</th>\n",
       "      <td>7.667748</td>\n",
       "      <td>83.619318</td>\n",
       "      <td>9.144360</td>\n",
       "      <td>0.728719</td>\n",
       "    </tr>\n",
       "  </tbody>\n",
       "</table>\n",
       "</div>"
      ],
      "text/plain": [
       "                MAE         MSE       RMSE        R²\n",
       "Modelo 1   9.510901  142.704714  11.945908  0.754564\n",
       "Modelo 2  13.700000  228.292857  15.109363  0.161504\n",
       "Modelo 3   7.667748   83.619318   9.144360  0.728719"
      ]
     },
     "execution_count": 29,
     "metadata": {},
     "output_type": "execute_result"
    }
   ],
   "source": [
    "# calcular las métricas para cada modelo\n",
    "mr_1 = MetricasRegresion(test_p1_norm[\"y\"], df_pred_test[\"Ym1\"])\n",
    "mr_2 = MetricasRegresion(test_p1_norm[\"y\"], df_pred_test[\"Ym2\"])\n",
    "mr_3 = MetricasRegresion(test_p1_norm[\"y\"], df_pred_test[\"Ym3\"])\n",
    "data = [\n",
    "    [mr_1.mae, mr_1.mse, mr_1.rmse, mr_1.r2],\n",
    "    [mr_2.mae, mr_2.mse, mr_2.rmse, mr_2.r2],\n",
    "    [mr_3.mae, mr_3.mse, mr_3.rmse, mr_3.r2]\n",
    "]\n",
    "sup = str.maketrans(\"0123456789\", \"⁰¹²³⁴⁵⁶⁷⁸⁹\")\n",
    "pd.DataFrame(\n",
    "    data, \n",
    "    columns=[\"MAE\", \"MSE\", \"RMSE\", \"R2\".translate(sup)], \n",
    "    index=[\"Modelo 1\", \"Modelo 2\", \"Modelo 3\"]\n",
    ")"
   ]
  },
  {
   "cell_type": "markdown",
   "metadata": {},
   "source": [
    "**Conclusiones**<br>\n",
    "- Todas las métricas indican que el mejor modelo es el 3, seguido del 1 y por último el 2.\n",
    "- Observamos que la regresión lineal múltiple es mejor que la regresión lineal simple, ya que tiene un menor error cuadrático medio y un menor error absoluto medio, es necesario el uso de $X_1$ y $X_2$ para obtener un mejor modelo.\n",
    "- La $\\beta_1$ tiene un valor mayor que $\\beta_2$, por lo que $X_1$ es más importante que $X_2$ para explicar la variable dependiente $Y$.\n",
    "- El error con mayor puntuación es el error cuadrático medio, en los tres modelos."
   ]
  },
  {
   "cell_type": "markdown",
   "metadata": {},
   "source": [
    "# Problema II <a class=\"anchor\" id=\"problema-ii\"></a>\n",
    "Haciendo uso de la base de datos Iris vista anteriormente, se ha ejecutado un algoritmo para estimar los parámetros de una regresión logística múltiple. Como el problema tiene tres clases: setosa (1), versicolor (2) y virgínica (3), se han generado los dos modelos siguientes:\n",
    "\n",
    "$$f_1(X,\\beta_1) = 541.0741 – 33.121X_1 − 10.2824X_2 − 38.5734X_3 − 90.4374X_4$$\n",
    "\n",
    "$$f_2(X,\\beta_2) = 501.1562 − 26.3497X_1 − 24.2689X_2 − 10.7613X_3 − 130.0915X_4$$\n",
    "\n",
    "Se pide:\n",
    "1. Hallar las predicciones del modelo para el siguiente conjunto de test.\n",
    "2. Evaluar el rendimiento del clasificador en dicho conjunto.\n",
    "3. Comparar el modelo obtenido con el expuesto en la lección 3.\n",
    "\n",
    "Almacenamos en una lista el valor de cada $f_i$."
   ]
  },
  {
   "cell_type": "code",
   "execution_count": 30,
   "metadata": {},
   "outputs": [
    {
     "data": {
      "text/html": [
       "<div>\n",
       "<style scoped>\n",
       "    .dataframe tbody tr th:only-of-type {\n",
       "        vertical-align: middle;\n",
       "    }\n",
       "\n",
       "    .dataframe tbody tr th {\n",
       "        vertical-align: top;\n",
       "    }\n",
       "\n",
       "    .dataframe thead th {\n",
       "        text-align: right;\n",
       "    }\n",
       "</style>\n",
       "<table border=\"1\" class=\"dataframe\">\n",
       "  <thead>\n",
       "    <tr style=\"text-align: right;\">\n",
       "      <th></th>\n",
       "      <th>x1</th>\n",
       "      <th>x2</th>\n",
       "      <th>x3</th>\n",
       "      <th>x4</th>\n",
       "      <th>clase</th>\n",
       "    </tr>\n",
       "  </thead>\n",
       "  <tbody>\n",
       "    <tr>\n",
       "      <th>0</th>\n",
       "      <td>4.6</td>\n",
       "      <td>3.2</td>\n",
       "      <td>1.4</td>\n",
       "      <td>0.2</td>\n",
       "      <td>1</td>\n",
       "    </tr>\n",
       "    <tr>\n",
       "      <th>1</th>\n",
       "      <td>5.3</td>\n",
       "      <td>3.7</td>\n",
       "      <td>1.5</td>\n",
       "      <td>0.2</td>\n",
       "      <td>1</td>\n",
       "    </tr>\n",
       "    <tr>\n",
       "      <th>2</th>\n",
       "      <td>5.7</td>\n",
       "      <td>4.4</td>\n",
       "      <td>1.5</td>\n",
       "      <td>0.4</td>\n",
       "      <td>1</td>\n",
       "    </tr>\n",
       "    <tr>\n",
       "      <th>3</th>\n",
       "      <td>5.0</td>\n",
       "      <td>3.5</td>\n",
       "      <td>1.6</td>\n",
       "      <td>0.6</td>\n",
       "      <td>2</td>\n",
       "    </tr>\n",
       "    <tr>\n",
       "      <th>4</th>\n",
       "      <td>5.5</td>\n",
       "      <td>2.5</td>\n",
       "      <td>4.0</td>\n",
       "      <td>1.3</td>\n",
       "      <td>2</td>\n",
       "    </tr>\n",
       "    <tr>\n",
       "      <th>5</th>\n",
       "      <td>5.7</td>\n",
       "      <td>3.0</td>\n",
       "      <td>4.2</td>\n",
       "      <td>1.2</td>\n",
       "      <td>2</td>\n",
       "    </tr>\n",
       "    <tr>\n",
       "      <th>6</th>\n",
       "      <td>5.7</td>\n",
       "      <td>2.8</td>\n",
       "      <td>4.1</td>\n",
       "      <td>1.3</td>\n",
       "      <td>3</td>\n",
       "    </tr>\n",
       "    <tr>\n",
       "      <th>7</th>\n",
       "      <td>5.8</td>\n",
       "      <td>2.7</td>\n",
       "      <td>5.1</td>\n",
       "      <td>1.9</td>\n",
       "      <td>3</td>\n",
       "    </tr>\n",
       "    <tr>\n",
       "      <th>8</th>\n",
       "      <td>6.3</td>\n",
       "      <td>2.5</td>\n",
       "      <td>5.0</td>\n",
       "      <td>1.9</td>\n",
       "      <td>3</td>\n",
       "    </tr>\n",
       "    <tr>\n",
       "      <th>9</th>\n",
       "      <td>5.9</td>\n",
       "      <td>3.0</td>\n",
       "      <td>5.1</td>\n",
       "      <td>1.8</td>\n",
       "      <td>3</td>\n",
       "    </tr>\n",
       "  </tbody>\n",
       "</table>\n",
       "</div>"
      ],
      "text/plain": [
       "    x1   x2   x3   x4  clase\n",
       "0  4.6  3.2  1.4  0.2      1\n",
       "1  5.3  3.7  1.5  0.2      1\n",
       "2  5.7  4.4  1.5  0.4      1\n",
       "3  5.0  3.5  1.6  0.6      2\n",
       "4  5.5  2.5  4.0  1.3      2\n",
       "5  5.7  3.0  4.2  1.2      2\n",
       "6  5.7  2.8  4.1  1.3      3\n",
       "7  5.8  2.7  5.1  1.9      3\n",
       "8  6.3  2.5  5.0  1.9      3\n",
       "9  5.9  3.0  5.1  1.8      3"
      ]
     },
     "execution_count": 30,
     "metadata": {},
     "output_type": "execute_result"
    }
   ],
   "source": [
    "# [beta_0, beta_1, beta_2, beta_3, beta_4]\n",
    "p2_f1 = [541.0741, 33.121, 10.2824, 38.5734, 90.4374]\n",
    "p2_f2 = [501.1562, 26.3497, 24.2689, 10.7613, 130.0915]\n",
    "p2_df = pd.read_csv(\"l3p2_test.csv\")\n",
    "p2_df"
   ]
  },
  {
   "cell_type": "markdown",
   "metadata": {},
   "source": [
    "## Transformación logística <a class=\"anchor\" id=\"pii-transformacion-logistica\"></a>\n",
    "Para cada patrón se deben obtener los siguientes resultados:\n",
    "$$e^{f_1(X,\\beta_1)}$$\n",
    "\n",
    "$$e^{f_2(X,\\beta_2)}$$\n",
    "\n",
    "$$\\sum_{i=1}^{n} e^{f_i(X,\\beta_i)}$$\n",
    "\n",
    "$$p(Y=q|X) = \\frac{e^{\\beta_0 + \\sum_{i=0}^{n} \\beta_{i}·X_{i}}}{1 + e^{\\beta_0 + \\sum_{l=1}^{Q-1} \\beta_{lk}·X_{lk}}}$$\n",
    "\n",
    "- Clase Predicha\n",
    "- Clase Real"
   ]
  },
  {
   "cell_type": "markdown",
   "metadata": {},
   "source": [
    "Para poder trabajar con el número $e$ en Python, se debe importar la librería math."
   ]
  },
  {
   "cell_type": "code",
   "execution_count": 31,
   "metadata": {},
   "outputs": [],
   "source": [
    "import math\n",
    "# Empleado para hacer prints en Jupyter\n",
    "from IPython.display import display"
   ]
  },
  {
   "cell_type": "markdown",
   "metadata": {},
   "source": [
    "**Creación de la función para calcular el valor de $e^{f_i(X,\\beta_i)}$**"
   ]
  },
  {
   "cell_type": "code",
   "execution_count": 32,
   "metadata": {},
   "outputs": [],
   "source": [
    "def e_f(data, fi):\n",
    "    lista_efi = []\n",
    "    for row in data.iterrows():\n",
    "        y = fi[0]\n",
    "        for idx, beta in enumerate(fi[1:]):\n",
    "            y -= beta * row[1][idx]\n",
    "        lista_efi.append(math.exp(y)) # math.e ** y\n",
    "    return lista_efi"
   ]
  },
  {
   "cell_type": "markdown",
   "metadata": {},
   "source": [
    "**Creación de la función para calcular el valor de $\\sum_{i=1}^{n} e^{f_i(X,\\beta_i)}$**"
   ]
  },
  {
   "cell_type": "code",
   "execution_count": 33,
   "metadata": {},
   "outputs": [],
   "source": [
    "def sum_ef(ef1, ef2):\n",
    "    return [e_1 + e_2 for e_1, e_2 in zip(ef1, ef2)]"
   ]
  },
  {
   "cell_type": "markdown",
   "metadata": {},
   "source": [
    "**Creación de la función para calcular el valor de $p(Y=q|X)$**"
   ]
  },
  {
   "cell_type": "code",
   "execution_count": 34,
   "metadata": {},
   "outputs": [],
   "source": [
    "def probabilidad(ef, sum_ef):\n",
    "    return [e / (1+s) for e, s in zip(ef, sum_ef)]"
   ]
  },
  {
   "cell_type": "markdown",
   "metadata": {},
   "source": [
    "**Creación dataframe con los resultados**"
   ]
  },
  {
   "cell_type": "code",
   "execution_count": 35,
   "metadata": {},
   "outputs": [
    {
     "data": {
      "text/html": [
       "<div>\n",
       "<style scoped>\n",
       "    .dataframe tbody tr th:only-of-type {\n",
       "        vertical-align: middle;\n",
       "    }\n",
       "\n",
       "    .dataframe tbody tr th {\n",
       "        vertical-align: top;\n",
       "    }\n",
       "\n",
       "    .dataframe thead th {\n",
       "        text-align: right;\n",
       "    }\n",
       "</style>\n",
       "<table border=\"1\" class=\"dataframe\">\n",
       "  <thead>\n",
       "    <tr style=\"text-align: right;\">\n",
       "      <th></th>\n",
       "      <th>e^f1</th>\n",
       "      <th>e^f2</th>\n",
       "      <th>SUM(e^f1, e^f2)</th>\n",
       "      <th>P1</th>\n",
       "      <th>P2</th>\n",
       "      <th>P3</th>\n",
       "      <th>Clase Predicha</th>\n",
       "      <th>Clase real</th>\n",
       "    </tr>\n",
       "  </thead>\n",
       "  <tbody>\n",
       "    <tr>\n",
       "      <th>0</th>\n",
       "      <td>1.658002e+123</td>\n",
       "      <td>2.747976e+113</td>\n",
       "      <td>1.658002e+123</td>\n",
       "      <td>1.000000e+00</td>\n",
       "      <td>1.657401e-10</td>\n",
       "      <td>6.337916e-17</td>\n",
       "      <td>1</td>\n",
       "      <td>1</td>\n",
       "    </tr>\n",
       "    <tr>\n",
       "      <th>1</th>\n",
       "      <td>1.748162e+109</td>\n",
       "      <td>4.912023e+99</td>\n",
       "      <td>1.748162e+109</td>\n",
       "      <td>1.000000e+00</td>\n",
       "      <td>2.809821e-10</td>\n",
       "      <td>9.549555e-17</td>\n",
       "      <td>1</td>\n",
       "      <td>1</td>\n",
       "    </tr>\n",
       "    <tr>\n",
       "      <th>2</th>\n",
       "      <td>3.218616e+92</td>\n",
       "      <td>2.731178e+76</td>\n",
       "      <td>3.218616e+92</td>\n",
       "      <td>1.000000e+00</td>\n",
       "      <td>8.485566e-17</td>\n",
       "      <td>-8.485566e-17</td>\n",
       "      <td>1</td>\n",
       "      <td>1</td>\n",
       "    </tr>\n",
       "    <tr>\n",
       "      <th>3</th>\n",
       "      <td>1.161911e+97</td>\n",
       "      <td>1.464615e+82</td>\n",
       "      <td>1.161911e+97</td>\n",
       "      <td>1.000000e+00</td>\n",
       "      <td>1.260523e-15</td>\n",
       "      <td>7.174503e-17</td>\n",
       "      <td>1</td>\n",
       "      <td>2</td>\n",
       "    </tr>\n",
       "    <tr>\n",
       "      <th>4</th>\n",
       "      <td>4.363034e+26</td>\n",
       "      <td>1.654314e+36</td>\n",
       "      <td>1.654314e+36</td>\n",
       "      <td>2.637367e-10</td>\n",
       "      <td>1.000000e+00</td>\n",
       "      <td>-1.110223e-16</td>\n",
       "      <td>2</td>\n",
       "      <td>2</td>\n",
       "    </tr>\n",
       "    <tr>\n",
       "      <th>5</th>\n",
       "      <td>1.280394e+22</td>\n",
       "      <td>2.371783e+33</td>\n",
       "      <td>2.371783e+33</td>\n",
       "      <td>5.398446e-12</td>\n",
       "      <td>1.000000e+00</td>\n",
       "      <td>0.000000e+00</td>\n",
       "      <td>2</td>\n",
       "      <td>2</td>\n",
       "    </tr>\n",
       "    <tr>\n",
       "      <th>6</th>\n",
       "      <td>5.598049e+20</td>\n",
       "      <td>1.998021e+30</td>\n",
       "      <td>1.998021e+30</td>\n",
       "      <td>2.801797e-10</td>\n",
       "      <td>1.000000e+00</td>\n",
       "      <td>1.110223e-16</td>\n",
       "      <td>2</td>\n",
       "      <td>3</td>\n",
       "    </tr>\n",
       "    <tr>\n",
       "      <th>7</th>\n",
       "      <td>2.742053e-21</td>\n",
       "      <td>4.343567e-09</td>\n",
       "      <td>4.343567e-09</td>\n",
       "      <td>2.742053e-21</td>\n",
       "      <td>4.343567e-09</td>\n",
       "      <td>1.000000e+00</td>\n",
       "      <td>3</td>\n",
       "      <td>3</td>\n",
       "    </tr>\n",
       "    <tr>\n",
       "      <th>8</th>\n",
       "      <td>6.520509e-26</td>\n",
       "      <td>3.100338e-12</td>\n",
       "      <td>3.100338e-12</td>\n",
       "      <td>6.520509e-26</td>\n",
       "      <td>3.100338e-12</td>\n",
       "      <td>1.000000e+00</td>\n",
       "      <td>3</td>\n",
       "      <td>3</td>\n",
       "    </tr>\n",
       "    <tr>\n",
       "      <th>9</th>\n",
       "      <td>3.869177e-20</td>\n",
       "      <td>9.579455e-08</td>\n",
       "      <td>9.579455e-08</td>\n",
       "      <td>3.869177e-20</td>\n",
       "      <td>9.579454e-08</td>\n",
       "      <td>9.999999e-01</td>\n",
       "      <td>3</td>\n",
       "      <td>3</td>\n",
       "    </tr>\n",
       "  </tbody>\n",
       "</table>\n",
       "</div>"
      ],
      "text/plain": [
       "            e^f1           e^f2  SUM(e^f1, e^f2)            P1            P2  \\\n",
       "0  1.658002e+123  2.747976e+113    1.658002e+123  1.000000e+00  1.657401e-10   \n",
       "1  1.748162e+109   4.912023e+99    1.748162e+109  1.000000e+00  2.809821e-10   \n",
       "2   3.218616e+92   2.731178e+76     3.218616e+92  1.000000e+00  8.485566e-17   \n",
       "3   1.161911e+97   1.464615e+82     1.161911e+97  1.000000e+00  1.260523e-15   \n",
       "4   4.363034e+26   1.654314e+36     1.654314e+36  2.637367e-10  1.000000e+00   \n",
       "5   1.280394e+22   2.371783e+33     2.371783e+33  5.398446e-12  1.000000e+00   \n",
       "6   5.598049e+20   1.998021e+30     1.998021e+30  2.801797e-10  1.000000e+00   \n",
       "7   2.742053e-21   4.343567e-09     4.343567e-09  2.742053e-21  4.343567e-09   \n",
       "8   6.520509e-26   3.100338e-12     3.100338e-12  6.520509e-26  3.100338e-12   \n",
       "9   3.869177e-20   9.579455e-08     9.579455e-08  3.869177e-20  9.579454e-08   \n",
       "\n",
       "             P3  Clase Predicha  Clase real  \n",
       "0  6.337916e-17               1           1  \n",
       "1  9.549555e-17               1           1  \n",
       "2 -8.485566e-17               1           1  \n",
       "3  7.174503e-17               1           2  \n",
       "4 -1.110223e-16               2           2  \n",
       "5  0.000000e+00               2           2  \n",
       "6  1.110223e-16               2           3  \n",
       "7  1.000000e+00               3           3  \n",
       "8  1.000000e+00               3           3  \n",
       "9  9.999999e-01               3           3  "
      ]
     },
     "execution_count": 35,
     "metadata": {},
     "output_type": "execute_result"
    }
   ],
   "source": [
    "p2_e_f1 = e_f(p2_df, p2_f1)\n",
    "p2_e_f2 = e_f(p2_df, p2_f2)\n",
    "p2_suma_ef = sum_ef(p2_e_f1, p2_e_f2)\n",
    "p2_data_stats = {\"e^f1\": p2_e_f1, \"e^f2\": p2_e_f2, \"SUM(e^f1, e^f2)\": p2_suma_ef,\n",
    "    \"P1\": probabilidad(p2_e_f1, p2_suma_ef),\"P2\": probabilidad(p2_e_f2, p2_suma_ef)}\n",
    "p2_df_stats = pd.DataFrame(p2_data_stats)\n",
    "# P3 = 1 - P1 - P2\n",
    "p2_df_stats[\"P3\"] = 1 - p2_df_stats[\"P1\"] - p2_df_stats[\"P2\"]\n",
    "# La clase predicha debe ser un entero\n",
    "p2_df_stats[\"Clase Predicha\"] = p2_df_stats[[\"P1\", \"P2\", \"P3\"]].idxmax(axis=1).str[-1].astype(int)\n",
    "p2_df_stats[\"Clase real\"] = p2_df[\"clase\"]\n",
    "p2_df_stats"
   ]
  },
  {
   "cell_type": "markdown",
   "metadata": {},
   "source": [
    "## Evaluación de la regresión logística <a class=\"anchor\" id=\"pii-evaluacion-regresion-logistica\"></a>\n",
    "Para evaluar el rendimiento del clasificador se calculan las siguientes métricas:\n",
    "1. Matriz de confusión\n",
    "2. CCR\n",
    "3. Kappa\n",
    "4. TPR\n",
    "5. FPR\n",
    "6. TNR\n",
    "7. PPV\n",
    "8. F1-Score"
   ]
  },
  {
   "cell_type": "markdown",
   "metadata": {},
   "source": [
    "**Reutilizamos las funciones para calcular las métricas de problemas de clasificación utilizadas en la anterior lección y las encapsulamos en una clase.**<br>\n",
    "Para calcular la matriz de confusión usamos el método pd.crosstab()."
   ]
  },
  {
   "cell_type": "code",
   "execution_count": 36,
   "metadata": {},
   "outputs": [],
   "source": [
    "class MetricasClasificacion:\n",
    "    def __init__(self, y, y_pred) -> None:\n",
    "        self.y = y\n",
    "        self.y_pred = y_pred\n",
    "        self.n = len(y)\n",
    "        self.matriz_confusion = pd.crosstab(self.y, self.y_pred, rownames=[\"Real\"], colnames=[\"Predicha\"])\n",
    "\n",
    "    def crear_sub_matriz(self, c):\n",
    "        matriz = self.matriz_confusion.copy()\n",
    "        matriz[\"Negativo\"] = matriz.sum(axis=1) - matriz[c]\n",
    "        matriz[\"Positivo\"] = matriz[c]\n",
    "        matriz = matriz[[\"Positivo\", \"Negativo\"]].rename(index={c: \"Positivo\"})\n",
    "        matriz.loc[\"Negativo\"] = matriz.sum(axis=0) - matriz.loc[\"Positivo\"]\n",
    "        matriz = matriz.drop(matriz.index.difference([\"Positivo\", \"Negativo\"]))\n",
    "        return matriz\n",
    "\n",
    "    def ccr(self):\n",
    "        confusion = self.matriz_confusion.copy()\n",
    "        columnas = confusion.columns\n",
    "        filas = confusion.index\n",
    "        suma_matriz = confusion.sum().sum()\n",
    "        numerador = 0\n",
    "        for c, f in zip(columnas, filas):\n",
    "            if columnas.get_loc(c) == filas.get_loc(f):\n",
    "                numerador += confusion[c][f]\n",
    "        return numerador / suma_matriz\n",
    "            \n",
    "\n",
    "    def tpr(self, c = None):\n",
    "        try:\n",
    "            if c is not None:\n",
    "                confusion = self.crear_sub_matriz(c)\n",
    "            else:\n",
    "                confusion = self.matriz_confusion.copy()\n",
    "            return confusion[\"Positivo\"][\"Positivo\"] / \\\n",
    "                (confusion[\"Positivo\"][\"Positivo\"] + confusion[\"Negativo\"][\"Positivo\"])\n",
    "        except Exception:\n",
    "            return 0\n",
    "\n",
    "    def fpr(self, c = None):\n",
    "        try:    \n",
    "            if c is not None:\n",
    "                confusion = self.crear_sub_matriz(c)\n",
    "            else:\n",
    "                confusion = self.matriz_confusion.copy()\n",
    "            return confusion[\"Positivo\"][\"Negativo\"] / \\\n",
    "                (confusion[\"Negativo\"][\"Negativo\"] + confusion[\"Positivo\"][\"Negativo\"])\n",
    "        except Exception:\n",
    "            return 0\n",
    "\n",
    "    def tnr(self, c = None):\n",
    "        try:\n",
    "            if c is not None:\n",
    "                confusion = self.crear_sub_matriz(c)\n",
    "            else:\n",
    "                confusion = self.matriz_confusion.copy()\n",
    "            return confusion[\"Negativo\"][\"Negativo\"] / \\\n",
    "                (confusion[\"Negativo\"][\"Negativo\"] + confusion[\"Positivo\"][\"Negativo\"])\n",
    "        except Exception:\n",
    "            return 0\n",
    "\n",
    "    def ppv(self, c = None):\n",
    "        try:\n",
    "            if c is not None:\n",
    "                confusion = self.crear_sub_matriz(c)\n",
    "            else:\n",
    "                confusion = self.matriz_confusion.copy()\n",
    "            return confusion[\"Positivo\"][\"Positivo\"] / \\\n",
    "                (confusion[\"Positivo\"][\"Positivo\"] + confusion[\"Positivo\"][\"Negativo\"])\n",
    "        except Exception:\n",
    "            return 0\n",
    "\n",
    "    def f1(self, c = None):\n",
    "        try:\n",
    "            return 2 * (self.ppv(c) * self.tpr(c)) / \\\n",
    "                (self.ppv(c) + self.tpr(c))\n",
    "        except Exception:\n",
    "            return 0\n",
    "\n",
    "    def kappa(self):\n",
    "        confusion = self.matriz_confusion.copy()\n",
    "        confusion.loc[\"Total\"] = confusion.sum()\n",
    "        confusion[\"Total\"] = confusion.sum(axis=1)\n",
    "        total_col = confusion[\"Total\"]\n",
    "        total_row = confusion.loc[\"Total\"]\n",
    "        total = confusion.loc[\"Total\", \"Total\"]\n",
    "        total_row = total_row.drop(\"Total\")\n",
    "        total_col = total_col.drop(\"Total\")\n",
    "        pe = 0\n",
    "        for c, f in zip(total_col.index, total_row.index):\n",
    "            pe += (total_col[c] * total_row[f])/(total*total)\n",
    "        k = (self.ccr() - pe) / (1 - pe)\n",
    "        return k"
   ]
  },
  {
   "cell_type": "markdown",
   "metadata": {},
   "source": [
    "**Matriz de confusión**"
   ]
  },
  {
   "cell_type": "code",
   "execution_count": 37,
   "metadata": {},
   "outputs": [
    {
     "data": {
      "text/html": [
       "<div>\n",
       "<style scoped>\n",
       "    .dataframe tbody tr th:only-of-type {\n",
       "        vertical-align: middle;\n",
       "    }\n",
       "\n",
       "    .dataframe tbody tr th {\n",
       "        vertical-align: top;\n",
       "    }\n",
       "\n",
       "    .dataframe thead th {\n",
       "        text-align: right;\n",
       "    }\n",
       "</style>\n",
       "<table border=\"1\" class=\"dataframe\">\n",
       "  <thead>\n",
       "    <tr style=\"text-align: right;\">\n",
       "      <th>Predicha</th>\n",
       "      <th>1</th>\n",
       "      <th>2</th>\n",
       "      <th>3</th>\n",
       "    </tr>\n",
       "    <tr>\n",
       "      <th>Real</th>\n",
       "      <th></th>\n",
       "      <th></th>\n",
       "      <th></th>\n",
       "    </tr>\n",
       "  </thead>\n",
       "  <tbody>\n",
       "    <tr>\n",
       "      <th>1</th>\n",
       "      <td>3</td>\n",
       "      <td>0</td>\n",
       "      <td>0</td>\n",
       "    </tr>\n",
       "    <tr>\n",
       "      <th>2</th>\n",
       "      <td>1</td>\n",
       "      <td>2</td>\n",
       "      <td>0</td>\n",
       "    </tr>\n",
       "    <tr>\n",
       "      <th>3</th>\n",
       "      <td>0</td>\n",
       "      <td>1</td>\n",
       "      <td>3</td>\n",
       "    </tr>\n",
       "  </tbody>\n",
       "</table>\n",
       "</div>"
      ],
      "text/plain": [
       "Predicha  1  2  3\n",
       "Real             \n",
       "1         3  0  0\n",
       "2         1  2  0\n",
       "3         0  1  3"
      ]
     },
     "execution_count": 37,
     "metadata": {},
     "output_type": "execute_result"
    }
   ],
   "source": [
    "p2_metricas_clasificacion = MetricasClasificacion(p2_df_stats[\"Clase real\"], p2_df_stats[\"Clase Predicha\"])\n",
    "p2_metricas_clasificacion.matriz_confusion"
   ]
  },
  {
   "cell_type": "markdown",
   "metadata": {},
   "source": [
    "**CCR y Kappa**"
   ]
  },
  {
   "cell_type": "code",
   "execution_count": 38,
   "metadata": {},
   "outputs": [
    {
     "name": "stdout",
     "output_type": "stream",
     "text": [
      "CCR: 0.8\n",
      "Kappa: 0.701492537313433\n"
     ]
    }
   ],
   "source": [
    "print(f\"CCR: {p2_metricas_clasificacion.ccr()}\")\n",
    "print(f\"Kappa: {p2_metricas_clasificacion.kappa()}\")"
   ]
  },
  {
   "cell_type": "markdown",
   "metadata": {},
   "source": [
    "**Creación de matriz de confusión para cada clase**"
   ]
  },
  {
   "cell_type": "code",
   "execution_count": 39,
   "metadata": {},
   "outputs": [
    {
     "name": "stdout",
     "output_type": "stream",
     "text": [
      "=============================\n",
      "Matriz Confusión - Clase 1\n"
     ]
    },
    {
     "data": {
      "text/html": [
       "<div>\n",
       "<style scoped>\n",
       "    .dataframe tbody tr th:only-of-type {\n",
       "        vertical-align: middle;\n",
       "    }\n",
       "\n",
       "    .dataframe tbody tr th {\n",
       "        vertical-align: top;\n",
       "    }\n",
       "\n",
       "    .dataframe thead th {\n",
       "        text-align: right;\n",
       "    }\n",
       "</style>\n",
       "<table border=\"1\" class=\"dataframe\">\n",
       "  <thead>\n",
       "    <tr style=\"text-align: right;\">\n",
       "      <th>Predicha</th>\n",
       "      <th>Positivo</th>\n",
       "      <th>Negativo</th>\n",
       "    </tr>\n",
       "    <tr>\n",
       "      <th>Real</th>\n",
       "      <th></th>\n",
       "      <th></th>\n",
       "    </tr>\n",
       "  </thead>\n",
       "  <tbody>\n",
       "    <tr>\n",
       "      <th>Positivo</th>\n",
       "      <td>3</td>\n",
       "      <td>0</td>\n",
       "    </tr>\n",
       "    <tr>\n",
       "      <th>Negativo</th>\n",
       "      <td>1</td>\n",
       "      <td>6</td>\n",
       "    </tr>\n",
       "  </tbody>\n",
       "</table>\n",
       "</div>"
      ],
      "text/plain": [
       "Predicha  Positivo  Negativo\n",
       "Real                        \n",
       "Positivo         3         0\n",
       "Negativo         1         6"
      ]
     },
     "metadata": {},
     "output_type": "display_data"
    },
    {
     "name": "stdout",
     "output_type": "stream",
     "text": [
      "=============================\n",
      "Matriz Confusión - Clase 2\n"
     ]
    },
    {
     "data": {
      "text/html": [
       "<div>\n",
       "<style scoped>\n",
       "    .dataframe tbody tr th:only-of-type {\n",
       "        vertical-align: middle;\n",
       "    }\n",
       "\n",
       "    .dataframe tbody tr th {\n",
       "        vertical-align: top;\n",
       "    }\n",
       "\n",
       "    .dataframe thead th {\n",
       "        text-align: right;\n",
       "    }\n",
       "</style>\n",
       "<table border=\"1\" class=\"dataframe\">\n",
       "  <thead>\n",
       "    <tr style=\"text-align: right;\">\n",
       "      <th>Predicha</th>\n",
       "      <th>Positivo</th>\n",
       "      <th>Negativo</th>\n",
       "    </tr>\n",
       "    <tr>\n",
       "      <th>Real</th>\n",
       "      <th></th>\n",
       "      <th></th>\n",
       "    </tr>\n",
       "  </thead>\n",
       "  <tbody>\n",
       "    <tr>\n",
       "      <th>Positivo</th>\n",
       "      <td>2</td>\n",
       "      <td>1</td>\n",
       "    </tr>\n",
       "    <tr>\n",
       "      <th>Negativo</th>\n",
       "      <td>1</td>\n",
       "      <td>6</td>\n",
       "    </tr>\n",
       "  </tbody>\n",
       "</table>\n",
       "</div>"
      ],
      "text/plain": [
       "Predicha  Positivo  Negativo\n",
       "Real                        \n",
       "Positivo         2         1\n",
       "Negativo         1         6"
      ]
     },
     "metadata": {},
     "output_type": "display_data"
    },
    {
     "name": "stdout",
     "output_type": "stream",
     "text": [
      "=============================\n",
      "Matriz Confusión - Clase 3\n"
     ]
    },
    {
     "data": {
      "text/html": [
       "<div>\n",
       "<style scoped>\n",
       "    .dataframe tbody tr th:only-of-type {\n",
       "        vertical-align: middle;\n",
       "    }\n",
       "\n",
       "    .dataframe tbody tr th {\n",
       "        vertical-align: top;\n",
       "    }\n",
       "\n",
       "    .dataframe thead th {\n",
       "        text-align: right;\n",
       "    }\n",
       "</style>\n",
       "<table border=\"1\" class=\"dataframe\">\n",
       "  <thead>\n",
       "    <tr style=\"text-align: right;\">\n",
       "      <th>Predicha</th>\n",
       "      <th>Positivo</th>\n",
       "      <th>Negativo</th>\n",
       "    </tr>\n",
       "    <tr>\n",
       "      <th>Real</th>\n",
       "      <th></th>\n",
       "      <th></th>\n",
       "    </tr>\n",
       "  </thead>\n",
       "  <tbody>\n",
       "    <tr>\n",
       "      <th>Positivo</th>\n",
       "      <td>3</td>\n",
       "      <td>1</td>\n",
       "    </tr>\n",
       "    <tr>\n",
       "      <th>Negativo</th>\n",
       "      <td>0</td>\n",
       "      <td>6</td>\n",
       "    </tr>\n",
       "  </tbody>\n",
       "</table>\n",
       "</div>"
      ],
      "text/plain": [
       "Predicha  Positivo  Negativo\n",
       "Real                        \n",
       "Positivo         3         1\n",
       "Negativo         0         6"
      ]
     },
     "metadata": {},
     "output_type": "display_data"
    }
   ],
   "source": [
    "for i in range(1, 4):\n",
    "    print(\"=============================\")\n",
    "    print(f\"Matriz Confusión - Clase {i}\")\n",
    "    display(p2_metricas_clasificacion.crear_sub_matriz(i))"
   ]
  },
  {
   "cell_type": "markdown",
   "metadata": {},
   "source": [
    "**Métricas para cada clase**"
   ]
  },
  {
   "cell_type": "code",
   "execution_count": 40,
   "metadata": {},
   "outputs": [
    {
     "data": {
      "text/html": [
       "<style type=\"text/css\">\n",
       "#T_e3294_row3_col0, #T_e3294_row3_col1, #T_e3294_row3_col2, #T_e3294_row3_col3, #T_e3294_row3_col4 {\n",
       "  background: yellow;\n",
       "}\n",
       "</style>\n",
       "<table id=\"T_e3294\">\n",
       "  <thead>\n",
       "    <tr>\n",
       "      <th class=\"blank level0\" >&nbsp;</th>\n",
       "      <th id=\"T_e3294_level0_col0\" class=\"col_heading level0 col0\" >Sensibilidad</th>\n",
       "      <th id=\"T_e3294_level0_col1\" class=\"col_heading level0 col1\" >False Positive Rate</th>\n",
       "      <th id=\"T_e3294_level0_col2\" class=\"col_heading level0 col2\" >Especificidad</th>\n",
       "      <th id=\"T_e3294_level0_col3\" class=\"col_heading level0 col3\" >Precision</th>\n",
       "      <th id=\"T_e3294_level0_col4\" class=\"col_heading level0 col4\" >F1 Score</th>\n",
       "    </tr>\n",
       "    <tr>\n",
       "      <th class=\"index_name level0\" >Clase</th>\n",
       "      <th class=\"blank col0\" >&nbsp;</th>\n",
       "      <th class=\"blank col1\" >&nbsp;</th>\n",
       "      <th class=\"blank col2\" >&nbsp;</th>\n",
       "      <th class=\"blank col3\" >&nbsp;</th>\n",
       "      <th class=\"blank col4\" >&nbsp;</th>\n",
       "    </tr>\n",
       "  </thead>\n",
       "  <tbody>\n",
       "    <tr>\n",
       "      <th id=\"T_e3294_level0_row0\" class=\"row_heading level0 row0\" >1</th>\n",
       "      <td id=\"T_e3294_row0_col0\" class=\"data row0 col0\" >1.000000</td>\n",
       "      <td id=\"T_e3294_row0_col1\" class=\"data row0 col1\" >0.142857</td>\n",
       "      <td id=\"T_e3294_row0_col2\" class=\"data row0 col2\" >0.857143</td>\n",
       "      <td id=\"T_e3294_row0_col3\" class=\"data row0 col3\" >0.750000</td>\n",
       "      <td id=\"T_e3294_row0_col4\" class=\"data row0 col4\" >0.857143</td>\n",
       "    </tr>\n",
       "    <tr>\n",
       "      <th id=\"T_e3294_level0_row1\" class=\"row_heading level0 row1\" >2</th>\n",
       "      <td id=\"T_e3294_row1_col0\" class=\"data row1 col0\" >0.666667</td>\n",
       "      <td id=\"T_e3294_row1_col1\" class=\"data row1 col1\" >0.142857</td>\n",
       "      <td id=\"T_e3294_row1_col2\" class=\"data row1 col2\" >0.857143</td>\n",
       "      <td id=\"T_e3294_row1_col3\" class=\"data row1 col3\" >0.666667</td>\n",
       "      <td id=\"T_e3294_row1_col4\" class=\"data row1 col4\" >0.666667</td>\n",
       "    </tr>\n",
       "    <tr>\n",
       "      <th id=\"T_e3294_level0_row2\" class=\"row_heading level0 row2\" >3</th>\n",
       "      <td id=\"T_e3294_row2_col0\" class=\"data row2 col0\" >0.750000</td>\n",
       "      <td id=\"T_e3294_row2_col1\" class=\"data row2 col1\" >0.000000</td>\n",
       "      <td id=\"T_e3294_row2_col2\" class=\"data row2 col2\" >1.000000</td>\n",
       "      <td id=\"T_e3294_row2_col3\" class=\"data row2 col3\" >1.000000</td>\n",
       "      <td id=\"T_e3294_row2_col4\" class=\"data row2 col4\" >0.857143</td>\n",
       "    </tr>\n",
       "    <tr>\n",
       "      <th id=\"T_e3294_level0_row3\" class=\"row_heading level0 row3\" >Promedio</th>\n",
       "      <td id=\"T_e3294_row3_col0\" class=\"data row3 col0\" >0.805556</td>\n",
       "      <td id=\"T_e3294_row3_col1\" class=\"data row3 col1\" >0.095238</td>\n",
       "      <td id=\"T_e3294_row3_col2\" class=\"data row3 col2\" >0.904762</td>\n",
       "      <td id=\"T_e3294_row3_col3\" class=\"data row3 col3\" >0.805556</td>\n",
       "      <td id=\"T_e3294_row3_col4\" class=\"data row3 col4\" >0.793651</td>\n",
       "    </tr>\n",
       "  </tbody>\n",
       "</table>\n"
      ],
      "text/plain": [
       "<pandas.io.formats.style.Styler at 0x1b660aec670>"
      ]
     },
     "execution_count": 40,
     "metadata": {},
     "output_type": "execute_result"
    }
   ],
   "source": [
    "p2_metricas_data = [\n",
    "    {\n",
    "        \"Sensibilidad\": p2_metricas_clasificacion.tpr(i), \"False Positive Rate\": p2_metricas_clasificacion.fpr(i),\n",
    "        \"Especificidad\": p2_metricas_clasificacion.tnr(i), \"Precision\": p2_metricas_clasificacion.ppv(i),\n",
    "        \"F1 Score\": p2_metricas_clasificacion.f1(i)\n",
    "    } for i in range(1, 4)\n",
    "]\n",
    "p2_df_metricas = pd.DataFrame(p2_metricas_data, index=[\"1\", \"2\", \"3\"])\n",
    "p2_df_metricas.index.name = \"Clase\"\n",
    "p2_df_metricas.loc[\"Promedio\"] = p2_df_metricas.mean()\n",
    "p2_df_metricas = p2_df_metricas.style.apply(\n",
    "    lambda x: [\"background: yellow\" if x.name == \"Promedio\" else \"\" for i in x], axis=1)\n",
    "p2_df_metricas"
   ]
  },
  {
   "cell_type": "markdown",
   "metadata": {},
   "source": [
    "## Comparación con el modelo de la lección 3 <a class=\"anchor\" id=\"pii-comparacion-modelo-leccion-3\"></a>\n",
    "Tras comparar los resultados obtenidos con el modelo de la lección 3, podemos observar lo siguiente:\n",
    "- La matriz de confusión es la misma.\n",
    "- El CCR tiene el mismo porcentaje (80% - 80%).\n",
    "- El Kappa es aproximadamente el mismo (0.70 - 0.701492537313433).\n",
    "- Las métricas de cada matriz de confusion para cada clase son similares, en caso de realizar un aproximación a tres decimales.\n",
    "- El promedio de las métricas de cada matriz de confusión es similar, en caso de realizar un aproximación a tres decimales.\n",
    "\n",
    "Con esto podemos concluir que el modelo obtenido es similar o practicamente igual al modelo de la lección 3."
   ]
  },
  {
   "cell_type": "markdown",
   "metadata": {},
   "source": [
    "# Problema III <a class=\"anchor\" id=\"problema-iii\"></a>\n",
    "Para un problema de clasificación binaria y con tres características se han recogido los siguientes patrones de entrenamiento"
   ]
  },
  {
   "cell_type": "code",
   "execution_count": 41,
   "metadata": {},
   "outputs": [
    {
     "data": {
      "text/html": [
       "<div>\n",
       "<style scoped>\n",
       "    .dataframe tbody tr th:only-of-type {\n",
       "        vertical-align: middle;\n",
       "    }\n",
       "\n",
       "    .dataframe tbody tr th {\n",
       "        vertical-align: top;\n",
       "    }\n",
       "\n",
       "    .dataframe thead th {\n",
       "        text-align: right;\n",
       "    }\n",
       "</style>\n",
       "<table border=\"1\" class=\"dataframe\">\n",
       "  <thead>\n",
       "    <tr style=\"text-align: right;\">\n",
       "      <th></th>\n",
       "      <th>x1</th>\n",
       "      <th>x2</th>\n",
       "      <th>x3</th>\n",
       "      <th>clase</th>\n",
       "    </tr>\n",
       "  </thead>\n",
       "  <tbody>\n",
       "    <tr>\n",
       "      <th>0</th>\n",
       "      <td>4.6</td>\n",
       "      <td>3.2</td>\n",
       "      <td>1.4</td>\n",
       "      <td>1</td>\n",
       "    </tr>\n",
       "    <tr>\n",
       "      <th>1</th>\n",
       "      <td>5.3</td>\n",
       "      <td>3.7</td>\n",
       "      <td>1.5</td>\n",
       "      <td>3</td>\n",
       "    </tr>\n",
       "    <tr>\n",
       "      <th>2</th>\n",
       "      <td>5.7</td>\n",
       "      <td>4.4</td>\n",
       "      <td>1.5</td>\n",
       "      <td>1</td>\n",
       "    </tr>\n",
       "    <tr>\n",
       "      <th>3</th>\n",
       "      <td>5.0</td>\n",
       "      <td>3.5</td>\n",
       "      <td>1.6</td>\n",
       "      <td>2</td>\n",
       "    </tr>\n",
       "    <tr>\n",
       "      <th>4</th>\n",
       "      <td>5.5</td>\n",
       "      <td>2.5</td>\n",
       "      <td>4.0</td>\n",
       "      <td>1</td>\n",
       "    </tr>\n",
       "    <tr>\n",
       "      <th>5</th>\n",
       "      <td>5.7</td>\n",
       "      <td>3.0</td>\n",
       "      <td>4.2</td>\n",
       "      <td>2</td>\n",
       "    </tr>\n",
       "    <tr>\n",
       "      <th>6</th>\n",
       "      <td>5.7</td>\n",
       "      <td>2.8</td>\n",
       "      <td>4.1</td>\n",
       "      <td>2</td>\n",
       "    </tr>\n",
       "    <tr>\n",
       "      <th>7</th>\n",
       "      <td>5.8</td>\n",
       "      <td>2.7</td>\n",
       "      <td>5.1</td>\n",
       "      <td>1</td>\n",
       "    </tr>\n",
       "    <tr>\n",
       "      <th>8</th>\n",
       "      <td>6.3</td>\n",
       "      <td>2.5</td>\n",
       "      <td>5.0</td>\n",
       "      <td>2</td>\n",
       "    </tr>\n",
       "    <tr>\n",
       "      <th>9</th>\n",
       "      <td>5.9</td>\n",
       "      <td>3.0</td>\n",
       "      <td>5.1</td>\n",
       "      <td>3</td>\n",
       "    </tr>\n",
       "  </tbody>\n",
       "</table>\n",
       "</div>"
      ],
      "text/plain": [
       "    x1   x2   x3  clase\n",
       "0  4.6  3.2  1.4      1\n",
       "1  5.3  3.7  1.5      3\n",
       "2  5.7  4.4  1.5      1\n",
       "3  5.0  3.5  1.6      2\n",
       "4  5.5  2.5  4.0      1\n",
       "5  5.7  3.0  4.2      2\n",
       "6  5.7  2.8  4.1      2\n",
       "7  5.8  2.7  5.1      1\n",
       "8  6.3  2.5  5.0      2\n",
       "9  5.9  3.0  5.1      3"
      ]
     },
     "execution_count": 41,
     "metadata": {},
     "output_type": "execute_result"
    }
   ],
   "source": [
    "p3_df_train = pd.read_csv(\"l3p3_train.csv\")\n",
    "p3_df_train"
   ]
  },
  {
   "cell_type": "markdown",
   "metadata": {},
   "source": [
    "Se pide:\n",
    "1. Hallar las predicciones del modelo para el siguiente conjunto de test, con el valor de 𝑘 = 1 y 𝑘 = 3 vecinos, y la distancia euclídea.\n",
    "2. Evaluar el rendimiento del clasificador en dicho conjunto para ambos valores de 𝑘."
   ]
  },
  {
   "cell_type": "code",
   "execution_count": 42,
   "metadata": {},
   "outputs": [
    {
     "data": {
      "text/html": [
       "<div>\n",
       "<style scoped>\n",
       "    .dataframe tbody tr th:only-of-type {\n",
       "        vertical-align: middle;\n",
       "    }\n",
       "\n",
       "    .dataframe tbody tr th {\n",
       "        vertical-align: top;\n",
       "    }\n",
       "\n",
       "    .dataframe thead th {\n",
       "        text-align: right;\n",
       "    }\n",
       "</style>\n",
       "<table border=\"1\" class=\"dataframe\">\n",
       "  <thead>\n",
       "    <tr style=\"text-align: right;\">\n",
       "      <th></th>\n",
       "      <th>x1</th>\n",
       "      <th>x2</th>\n",
       "      <th>x3</th>\n",
       "      <th>clase</th>\n",
       "    </tr>\n",
       "  </thead>\n",
       "  <tbody>\n",
       "    <tr>\n",
       "      <th>0</th>\n",
       "      <td>5.0</td>\n",
       "      <td>3.5</td>\n",
       "      <td>1.7</td>\n",
       "      <td>1</td>\n",
       "    </tr>\n",
       "    <tr>\n",
       "      <th>1</th>\n",
       "      <td>4.3</td>\n",
       "      <td>2.8</td>\n",
       "      <td>1.5</td>\n",
       "      <td>1</td>\n",
       "    </tr>\n",
       "    <tr>\n",
       "      <th>2</th>\n",
       "      <td>2.7</td>\n",
       "      <td>4.5</td>\n",
       "      <td>1.2</td>\n",
       "      <td>3</td>\n",
       "    </tr>\n",
       "    <tr>\n",
       "      <th>3</th>\n",
       "      <td>5.0</td>\n",
       "      <td>4.2</td>\n",
       "      <td>1.3</td>\n",
       "      <td>3</td>\n",
       "    </tr>\n",
       "    <tr>\n",
       "      <th>4</th>\n",
       "      <td>6.3</td>\n",
       "      <td>2.5</td>\n",
       "      <td>4.1</td>\n",
       "      <td>1</td>\n",
       "    </tr>\n",
       "    <tr>\n",
       "      <th>5</th>\n",
       "      <td>5.2</td>\n",
       "      <td>3.0</td>\n",
       "      <td>4.5</td>\n",
       "      <td>2</td>\n",
       "    </tr>\n",
       "    <tr>\n",
       "      <th>6</th>\n",
       "      <td>4.5</td>\n",
       "      <td>3.0</td>\n",
       "      <td>4.2</td>\n",
       "      <td>2</td>\n",
       "    </tr>\n",
       "    <tr>\n",
       "      <th>7</th>\n",
       "      <td>5.9</td>\n",
       "      <td>2.9</td>\n",
       "      <td>5.2</td>\n",
       "      <td>2</td>\n",
       "    </tr>\n",
       "    <tr>\n",
       "      <th>8</th>\n",
       "      <td>5.0</td>\n",
       "      <td>2.4</td>\n",
       "      <td>5.1</td>\n",
       "      <td>1</td>\n",
       "    </tr>\n",
       "    <tr>\n",
       "      <th>9</th>\n",
       "      <td>4.5</td>\n",
       "      <td>3.2</td>\n",
       "      <td>5.0</td>\n",
       "      <td>2</td>\n",
       "    </tr>\n",
       "  </tbody>\n",
       "</table>\n",
       "</div>"
      ],
      "text/plain": [
       "    x1   x2   x3  clase\n",
       "0  5.0  3.5  1.7      1\n",
       "1  4.3  2.8  1.5      1\n",
       "2  2.7  4.5  1.2      3\n",
       "3  5.0  4.2  1.3      3\n",
       "4  6.3  2.5  4.1      1\n",
       "5  5.2  3.0  4.5      2\n",
       "6  4.5  3.0  4.2      2\n",
       "7  5.9  2.9  5.2      2\n",
       "8  5.0  2.4  5.1      1\n",
       "9  4.5  3.2  5.0      2"
      ]
     },
     "execution_count": 42,
     "metadata": {},
     "output_type": "execute_result"
    }
   ],
   "source": [
    "p3_df_test = pd.read_csv(\"l3p3_test.csv\")\n",
    "p3_df_test"
   ]
  },
  {
   "cell_type": "markdown",
   "metadata": {},
   "source": [
    "## Preparacion previa <a class=\"anchor\" id=\"piii-preparacion-previa\"></a>\n",
    "Antes de resolver el problema es necesario realizar una serie de preparaciones previas:\n",
    "1. Definir la distancia euclídea como métrica de distancia."
   ]
  },
  {
   "cell_type": "markdown",
   "metadata": {},
   "source": [
    "**Distancia Euclídea**<br>\n",
    "Es la raíz cuadrada de las diferencias al cuadrado de cada una de las coordenadas de los puntos.\n",
    "\n",
    "$$d_E(X_1,X_2) = \\sqrt{\\sum_{i=1}^{k} (X_{1i} - X_{2i})^2}$$"
   ]
  },
  {
   "cell_type": "code",
   "execution_count": 43,
   "metadata": {},
   "outputs": [],
   "source": [
    "def distancia_euclidea(x1, x2):\n",
    "    if len(x1) != len(x2):\n",
    "        raise Exception(\"Las coordenadas deben tener la misma cantidad de elementos\")\n",
    "    k = len(x1)\n",
    "    sumatorio = sum([(x1[i] - x2[i])**2 for i in range(k)])\n",
    "    return sumatorio**0.5"
   ]
  },
  {
   "cell_type": "markdown",
   "metadata": {},
   "source": [
    "## Algoritmo KNN <a class=\"anchor\" id=\"piii-algoritmo-knn\"></a>\n",
    "Calculamos la distancia de cada patrón de prueba a los de entrenamiento, se seleccionan los tres más cercanos y se determina la clase predicha"
   ]
  },
  {
   "cell_type": "code",
   "execution_count": 44,
   "metadata": {},
   "outputs": [],
   "source": [
    "# algoritmo knn\n",
    "def knn(train, test, k):\n",
    "    train, test = train.copy(), test.copy()\n",
    "    data = {}\n",
    "    # Iterar sobre cada fila del dataframe de test\n",
    "    for i, row in test.iterrows():\n",
    "            distancias = []\n",
    "            # Iterar sobre cada fila del dataframe de entrenamiento\n",
    "            for j, row_train in train.iterrows():\n",
    "                # Calcular la distancia euclidea entre la fila de test y la fila de train\n",
    "                distancia = distancia_euclidea(row_train[:-1], row[:-1])\n",
    "                # Agregar la columna del train j y la fila de test i al df\n",
    "                distancias.append(distancia)\n",
    "            # Agregar la columna de distancias al diccionario\n",
    "            data[i] = distancias\n",
    "\n",
    "    # Crear un dataframe con las distancias\n",
    "    df_distancias = pd.DataFrame(data, columns=[i for i, row in test.iterrows()])\n",
    "    df_distancias.index.name = \"P. Test\"\n",
    "    df_distancias.columns.name = \"Patrón Entrenamiento\"\n",
    "\n",
    "    predicted = []\n",
    "    # Recorrer las distancias\n",
    "    for i, row in df_distancias.iterrows():\n",
    "        tmp = []\n",
    "        # Convertir las distancias a una lista y ordenarlas de menor a mayor\n",
    "        # Obtener los k vecinos más cercanos y recorrerlos\n",
    "        for m in sorted(row.tolist())[:k]:\n",
    "            # Obtener la columna el indice columna de train y\n",
    "            # obtener la clase de la fila de train\n",
    "            tmp.append(train.iloc[row[row == m].index[0]][\"clase\"])\n",
    "        # Obtener la clase más frecuente\n",
    "        predicted.append(max(set(tmp), key = tmp.count))\n",
    "\n",
    "    df_distancias[\"Clase Predicha\"] = predicted\n",
    "    df_distancias[\"Clase Real\"] = test[\"clase\"]\n",
    "\n",
    "    return df_distancias"
   ]
  },
  {
   "cell_type": "markdown",
   "metadata": {},
   "source": [
    "### Resultados k = 1 <a class=\"anchor\" id=\"piii-resultados-k-1\"></a>"
   ]
  },
  {
   "cell_type": "code",
   "execution_count": 45,
   "metadata": {},
   "outputs": [
    {
     "data": {
      "text/html": [
       "<div>\n",
       "<style scoped>\n",
       "    .dataframe tbody tr th:only-of-type {\n",
       "        vertical-align: middle;\n",
       "    }\n",
       "\n",
       "    .dataframe tbody tr th {\n",
       "        vertical-align: top;\n",
       "    }\n",
       "\n",
       "    .dataframe thead th {\n",
       "        text-align: right;\n",
       "    }\n",
       "</style>\n",
       "<table border=\"1\" class=\"dataframe\">\n",
       "  <thead>\n",
       "    <tr style=\"text-align: right;\">\n",
       "      <th>Patrón Entrenamiento</th>\n",
       "      <th>0</th>\n",
       "      <th>1</th>\n",
       "      <th>2</th>\n",
       "      <th>3</th>\n",
       "      <th>4</th>\n",
       "      <th>5</th>\n",
       "      <th>6</th>\n",
       "      <th>7</th>\n",
       "      <th>8</th>\n",
       "      <th>9</th>\n",
       "      <th>Clase Predicha</th>\n",
       "      <th>Clase Real</th>\n",
       "    </tr>\n",
       "    <tr>\n",
       "      <th>P. Test</th>\n",
       "      <th></th>\n",
       "      <th></th>\n",
       "      <th></th>\n",
       "      <th></th>\n",
       "      <th></th>\n",
       "      <th></th>\n",
       "      <th></th>\n",
       "      <th></th>\n",
       "      <th></th>\n",
       "      <th></th>\n",
       "      <th></th>\n",
       "      <th></th>\n",
       "    </tr>\n",
       "  </thead>\n",
       "  <tbody>\n",
       "    <tr>\n",
       "      <th>0</th>\n",
       "      <td>0.583095</td>\n",
       "      <td>0.509902</td>\n",
       "      <td>2.310844</td>\n",
       "      <td>1.081665</td>\n",
       "      <td>3.266497</td>\n",
       "      <td>3.163858</td>\n",
       "      <td>2.808914</td>\n",
       "      <td>4.027406</td>\n",
       "      <td>3.806573</td>\n",
       "      <td>3.601389</td>\n",
       "      <td>3.0</td>\n",
       "      <td>1</td>\n",
       "    </tr>\n",
       "    <tr>\n",
       "      <th>1</th>\n",
       "      <td>0.412311</td>\n",
       "      <td>1.345362</td>\n",
       "      <td>2.736786</td>\n",
       "      <td>0.616441</td>\n",
       "      <td>3.033150</td>\n",
       "      <td>3.082207</td>\n",
       "      <td>2.901724</td>\n",
       "      <td>3.832754</td>\n",
       "      <td>3.839271</td>\n",
       "      <td>3.624914</td>\n",
       "      <td>1.0</td>\n",
       "      <td>1</td>\n",
       "    </tr>\n",
       "    <tr>\n",
       "      <th>2</th>\n",
       "      <td>1.157584</td>\n",
       "      <td>2.126029</td>\n",
       "      <td>3.016621</td>\n",
       "      <td>0.754983</td>\n",
       "      <td>3.275668</td>\n",
       "      <td>3.348134</td>\n",
       "      <td>3.269557</td>\n",
       "      <td>3.997499</td>\n",
       "      <td>4.177320</td>\n",
       "      <td>3.889730</td>\n",
       "      <td>2.0</td>\n",
       "      <td>3</td>\n",
       "    </tr>\n",
       "    <tr>\n",
       "      <th>3</th>\n",
       "      <td>0.100000</td>\n",
       "      <td>0.994987</td>\n",
       "      <td>2.539685</td>\n",
       "      <td>0.761577</td>\n",
       "      <td>2.989983</td>\n",
       "      <td>2.949576</td>\n",
       "      <td>2.694439</td>\n",
       "      <td>3.758989</td>\n",
       "      <td>3.668787</td>\n",
       "      <td>3.449638</td>\n",
       "      <td>1.0</td>\n",
       "      <td>3</td>\n",
       "    </tr>\n",
       "    <tr>\n",
       "      <th>4</th>\n",
       "      <td>2.557342</td>\n",
       "      <td>2.789265</td>\n",
       "      <td>4.436215</td>\n",
       "      <td>3.229551</td>\n",
       "      <td>0.806226</td>\n",
       "      <td>0.768115</td>\n",
       "      <td>1.135782</td>\n",
       "      <td>1.326650</td>\n",
       "      <td>1.212436</td>\n",
       "      <td>1.577973</td>\n",
       "      <td>2.0</td>\n",
       "      <td>1</td>\n",
       "    </tr>\n",
       "    <tr>\n",
       "      <th>5</th>\n",
       "      <td>2.643861</td>\n",
       "      <td>3.047950</td>\n",
       "      <td>4.500000</td>\n",
       "      <td>3.215587</td>\n",
       "      <td>0.787401</td>\n",
       "      <td>0.583095</td>\n",
       "      <td>1.200000</td>\n",
       "      <td>1.024695</td>\n",
       "      <td>1.288410</td>\n",
       "      <td>1.456022</td>\n",
       "      <td>2.0</td>\n",
       "      <td>2</td>\n",
       "    </tr>\n",
       "    <tr>\n",
       "      <th>6</th>\n",
       "      <td>2.596151</td>\n",
       "      <td>2.952965</td>\n",
       "      <td>4.505552</td>\n",
       "      <td>3.207803</td>\n",
       "      <td>0.670820</td>\n",
       "      <td>0.670820</td>\n",
       "      <td>1.220656</td>\n",
       "      <td>1.122497</td>\n",
       "      <td>1.284523</td>\n",
       "      <td>1.552417</td>\n",
       "      <td>1.0</td>\n",
       "      <td>2</td>\n",
       "    </tr>\n",
       "    <tr>\n",
       "      <th>7</th>\n",
       "      <td>3.583295</td>\n",
       "      <td>3.901282</td>\n",
       "      <td>5.297169</td>\n",
       "      <td>4.162932</td>\n",
       "      <td>1.135782</td>\n",
       "      <td>0.900000</td>\n",
       "      <td>1.609348</td>\n",
       "      <td>0.244949</td>\n",
       "      <td>0.854400</td>\n",
       "      <td>1.396424</td>\n",
       "      <td>1.0</td>\n",
       "      <td>2</td>\n",
       "    </tr>\n",
       "    <tr>\n",
       "      <th>8</th>\n",
       "      <td>3.685105</td>\n",
       "      <td>4.042277</td>\n",
       "      <td>5.603570</td>\n",
       "      <td>4.274342</td>\n",
       "      <td>0.900000</td>\n",
       "      <td>1.307670</td>\n",
       "      <td>2.032240</td>\n",
       "      <td>0.600000</td>\n",
       "      <td>1.307670</td>\n",
       "      <td>1.931321</td>\n",
       "      <td>1.0</td>\n",
       "      <td>1</td>\n",
       "    </tr>\n",
       "    <tr>\n",
       "      <th>9</th>\n",
       "      <td>3.552464</td>\n",
       "      <td>3.944617</td>\n",
       "      <td>5.263079</td>\n",
       "      <td>4.085340</td>\n",
       "      <td>1.187434</td>\n",
       "      <td>0.921954</td>\n",
       "      <td>1.664332</td>\n",
       "      <td>0.141421</td>\n",
       "      <td>1.081665</td>\n",
       "      <td>1.417745</td>\n",
       "      <td>1.0</td>\n",
       "      <td>2</td>\n",
       "    </tr>\n",
       "  </tbody>\n",
       "</table>\n",
       "</div>"
      ],
      "text/plain": [
       "Patrón Entrenamiento         0         1         2         3         4  \\\n",
       "P. Test                                                                  \n",
       "0                     0.583095  0.509902  2.310844  1.081665  3.266497   \n",
       "1                     0.412311  1.345362  2.736786  0.616441  3.033150   \n",
       "2                     1.157584  2.126029  3.016621  0.754983  3.275668   \n",
       "3                     0.100000  0.994987  2.539685  0.761577  2.989983   \n",
       "4                     2.557342  2.789265  4.436215  3.229551  0.806226   \n",
       "5                     2.643861  3.047950  4.500000  3.215587  0.787401   \n",
       "6                     2.596151  2.952965  4.505552  3.207803  0.670820   \n",
       "7                     3.583295  3.901282  5.297169  4.162932  1.135782   \n",
       "8                     3.685105  4.042277  5.603570  4.274342  0.900000   \n",
       "9                     3.552464  3.944617  5.263079  4.085340  1.187434   \n",
       "\n",
       "Patrón Entrenamiento         5         6         7         8         9  \\\n",
       "P. Test                                                                  \n",
       "0                     3.163858  2.808914  4.027406  3.806573  3.601389   \n",
       "1                     3.082207  2.901724  3.832754  3.839271  3.624914   \n",
       "2                     3.348134  3.269557  3.997499  4.177320  3.889730   \n",
       "3                     2.949576  2.694439  3.758989  3.668787  3.449638   \n",
       "4                     0.768115  1.135782  1.326650  1.212436  1.577973   \n",
       "5                     0.583095  1.200000  1.024695  1.288410  1.456022   \n",
       "6                     0.670820  1.220656  1.122497  1.284523  1.552417   \n",
       "7                     0.900000  1.609348  0.244949  0.854400  1.396424   \n",
       "8                     1.307670  2.032240  0.600000  1.307670  1.931321   \n",
       "9                     0.921954  1.664332  0.141421  1.081665  1.417745   \n",
       "\n",
       "Patrón Entrenamiento  Clase Predicha  Clase Real  \n",
       "P. Test                                           \n",
       "0                                3.0           1  \n",
       "1                                1.0           1  \n",
       "2                                2.0           3  \n",
       "3                                1.0           3  \n",
       "4                                2.0           1  \n",
       "5                                2.0           2  \n",
       "6                                1.0           2  \n",
       "7                                1.0           2  \n",
       "8                                1.0           1  \n",
       "9                                1.0           2  "
      ]
     },
     "execution_count": 45,
     "metadata": {},
     "output_type": "execute_result"
    }
   ],
   "source": [
    "p3_knn_d1 = knn(p3_df_train, p3_df_test, k=1)\n",
    "p3_knn_d1"
   ]
  },
  {
   "cell_type": "markdown",
   "metadata": {},
   "source": [
    "**Matriz de confusión para 𝑘 = 1**"
   ]
  },
  {
   "cell_type": "code",
   "execution_count": 46,
   "metadata": {},
   "outputs": [
    {
     "data": {
      "text/html": [
       "<div>\n",
       "<style scoped>\n",
       "    .dataframe tbody tr th:only-of-type {\n",
       "        vertical-align: middle;\n",
       "    }\n",
       "\n",
       "    .dataframe tbody tr th {\n",
       "        vertical-align: top;\n",
       "    }\n",
       "\n",
       "    .dataframe thead th {\n",
       "        text-align: right;\n",
       "    }\n",
       "</style>\n",
       "<table border=\"1\" class=\"dataframe\">\n",
       "  <thead>\n",
       "    <tr style=\"text-align: right;\">\n",
       "      <th>Predicha</th>\n",
       "      <th>1.0</th>\n",
       "      <th>2.0</th>\n",
       "      <th>3.0</th>\n",
       "    </tr>\n",
       "    <tr>\n",
       "      <th>Real</th>\n",
       "      <th></th>\n",
       "      <th></th>\n",
       "      <th></th>\n",
       "    </tr>\n",
       "  </thead>\n",
       "  <tbody>\n",
       "    <tr>\n",
       "      <th>1</th>\n",
       "      <td>2</td>\n",
       "      <td>1</td>\n",
       "      <td>1</td>\n",
       "    </tr>\n",
       "    <tr>\n",
       "      <th>2</th>\n",
       "      <td>3</td>\n",
       "      <td>1</td>\n",
       "      <td>0</td>\n",
       "    </tr>\n",
       "    <tr>\n",
       "      <th>3</th>\n",
       "      <td>1</td>\n",
       "      <td>1</td>\n",
       "      <td>0</td>\n",
       "    </tr>\n",
       "  </tbody>\n",
       "</table>\n",
       "</div>"
      ],
      "text/plain": [
       "Predicha  1.0  2.0  3.0\n",
       "Real                   \n",
       "1           2    1    1\n",
       "2           3    1    0\n",
       "3           1    1    0"
      ]
     },
     "execution_count": 46,
     "metadata": {},
     "output_type": "execute_result"
    }
   ],
   "source": [
    "p3_metricas_knn_d1 = MetricasClasificacion(p3_knn_d1[\"Clase Real\"], p3_knn_d1[\"Clase Predicha\"])\n",
    "p3_metricas_knn_d1.matriz_confusion"
   ]
  },
  {
   "cell_type": "markdown",
   "metadata": {},
   "source": [
    "**Métricas para 𝑘 = 1**"
   ]
  },
  {
   "cell_type": "code",
   "execution_count": 47,
   "metadata": {},
   "outputs": [
    {
     "name": "stdout",
     "output_type": "stream",
     "text": [
      "Métricas de clasificación para k = 1\n",
      "CCR: 0.3\n",
      "Kappa: -0.12903225806451615\n"
     ]
    },
    {
     "name": "stderr",
     "output_type": "stream",
     "text": [
      "C:\\Users\\Usuario\\AppData\\Local\\Temp\\ipykernel_24044\\1243272186.py:75: RuntimeWarning: invalid value encountered in double_scalars\n",
      "  return 2 * (self.ppv(c) * self.tpr(c)) / \\\n"
     ]
    },
    {
     "data": {
      "text/html": [
       "<style type=\"text/css\">\n",
       "#T_58c0d_row3_col0, #T_58c0d_row3_col1, #T_58c0d_row3_col2, #T_58c0d_row3_col3, #T_58c0d_row3_col4 {\n",
       "  background: yellow;\n",
       "}\n",
       "</style>\n",
       "<table id=\"T_58c0d\">\n",
       "  <thead>\n",
       "    <tr>\n",
       "      <th class=\"blank level0\" >&nbsp;</th>\n",
       "      <th id=\"T_58c0d_level0_col0\" class=\"col_heading level0 col0\" >Sensibilidad</th>\n",
       "      <th id=\"T_58c0d_level0_col1\" class=\"col_heading level0 col1\" >False Positive Rate</th>\n",
       "      <th id=\"T_58c0d_level0_col2\" class=\"col_heading level0 col2\" >Especificidad</th>\n",
       "      <th id=\"T_58c0d_level0_col3\" class=\"col_heading level0 col3\" >Precision</th>\n",
       "      <th id=\"T_58c0d_level0_col4\" class=\"col_heading level0 col4\" >F1 Score</th>\n",
       "    </tr>\n",
       "    <tr>\n",
       "      <th class=\"index_name level0\" >Clase</th>\n",
       "      <th class=\"blank col0\" >&nbsp;</th>\n",
       "      <th class=\"blank col1\" >&nbsp;</th>\n",
       "      <th class=\"blank col2\" >&nbsp;</th>\n",
       "      <th class=\"blank col3\" >&nbsp;</th>\n",
       "      <th class=\"blank col4\" >&nbsp;</th>\n",
       "    </tr>\n",
       "  </thead>\n",
       "  <tbody>\n",
       "    <tr>\n",
       "      <th id=\"T_58c0d_level0_row0\" class=\"row_heading level0 row0\" >1</th>\n",
       "      <td id=\"T_58c0d_row0_col0\" class=\"data row0 col0\" >0.500000</td>\n",
       "      <td id=\"T_58c0d_row0_col1\" class=\"data row0 col1\" >0.666667</td>\n",
       "      <td id=\"T_58c0d_row0_col2\" class=\"data row0 col2\" >0.333333</td>\n",
       "      <td id=\"T_58c0d_row0_col3\" class=\"data row0 col3\" >0.333333</td>\n",
       "      <td id=\"T_58c0d_row0_col4\" class=\"data row0 col4\" >0.400000</td>\n",
       "    </tr>\n",
       "    <tr>\n",
       "      <th id=\"T_58c0d_level0_row1\" class=\"row_heading level0 row1\" >2</th>\n",
       "      <td id=\"T_58c0d_row1_col0\" class=\"data row1 col0\" >0.250000</td>\n",
       "      <td id=\"T_58c0d_row1_col1\" class=\"data row1 col1\" >0.333333</td>\n",
       "      <td id=\"T_58c0d_row1_col2\" class=\"data row1 col2\" >0.666667</td>\n",
       "      <td id=\"T_58c0d_row1_col3\" class=\"data row1 col3\" >0.333333</td>\n",
       "      <td id=\"T_58c0d_row1_col4\" class=\"data row1 col4\" >0.285714</td>\n",
       "    </tr>\n",
       "    <tr>\n",
       "      <th id=\"T_58c0d_level0_row2\" class=\"row_heading level0 row2\" >3</th>\n",
       "      <td id=\"T_58c0d_row2_col0\" class=\"data row2 col0\" >0.000000</td>\n",
       "      <td id=\"T_58c0d_row2_col1\" class=\"data row2 col1\" >0.125000</td>\n",
       "      <td id=\"T_58c0d_row2_col2\" class=\"data row2 col2\" >0.875000</td>\n",
       "      <td id=\"T_58c0d_row2_col3\" class=\"data row2 col3\" >0.000000</td>\n",
       "      <td id=\"T_58c0d_row2_col4\" class=\"data row2 col4\" >0.000000</td>\n",
       "    </tr>\n",
       "    <tr>\n",
       "      <th id=\"T_58c0d_level0_row3\" class=\"row_heading level0 row3\" >Promedio</th>\n",
       "      <td id=\"T_58c0d_row3_col0\" class=\"data row3 col0\" >0.250000</td>\n",
       "      <td id=\"T_58c0d_row3_col1\" class=\"data row3 col1\" >0.375000</td>\n",
       "      <td id=\"T_58c0d_row3_col2\" class=\"data row3 col2\" >0.625000</td>\n",
       "      <td id=\"T_58c0d_row3_col3\" class=\"data row3 col3\" >0.222222</td>\n",
       "      <td id=\"T_58c0d_row3_col4\" class=\"data row3 col4\" >0.228571</td>\n",
       "    </tr>\n",
       "  </tbody>\n",
       "</table>\n"
      ],
      "text/plain": [
       "<pandas.io.formats.style.Styler at 0x1b660b2deb0>"
      ]
     },
     "execution_count": 47,
     "metadata": {},
     "output_type": "execute_result"
    }
   ],
   "source": [
    "p3_metricas_knn_d1_data = [\n",
    "    {\n",
    "        \"Sensibilidad\": p3_metricas_knn_d1.tpr(i), \"False Positive Rate\": p3_metricas_knn_d1.fpr(i),\n",
    "        \"Especificidad\": p3_metricas_knn_d1.tnr(i), \"Precision\": p3_metricas_knn_d1.ppv(i),\n",
    "        \"F1 Score\": p3_metricas_knn_d1.f1(i)\n",
    "    } for i in range(1, 4)\n",
    "]\n",
    "p3_df_metricas_knn_d1_details = pd.DataFrame(p3_metricas_knn_d1_data, index=[\"1\", \"2\", \"3\"])\n",
    "p3_df_metricas_knn_d1_details.index.name = \"Clase\"\n",
    "p3_df_metricas_knn_d1_details = p3_df_metricas_knn_d1_details.fillna(0)\n",
    "p3_df_metricas_knn_d1_details.loc[\"Promedio\"] = p3_df_metricas_knn_d1_details.mean()\n",
    "p3_df_metricas_knn_d1_details = p3_df_metricas_knn_d1_details.style.apply(\n",
    "    lambda x: [\"background: yellow\" if x.name == \"Promedio\" else \"\" for i in x], axis=1)\n",
    "print(f\"Métricas de clasificación para k = 1\")\n",
    "print(f\"CCR: {p3_metricas_knn_d1.ccr()}\")\n",
    "print(f\"Kappa: {p3_metricas_knn_d1.kappa()}\")\n",
    "p3_df_metricas_knn_d1_details"
   ]
  },
  {
   "cell_type": "markdown",
   "metadata": {},
   "source": [
    "### Resultados k = 3 <a class=\"anchor\" id=\"piii-resultados-k-3\"></a>"
   ]
  },
  {
   "cell_type": "code",
   "execution_count": 48,
   "metadata": {},
   "outputs": [
    {
     "data": {
      "text/html": [
       "<div>\n",
       "<style scoped>\n",
       "    .dataframe tbody tr th:only-of-type {\n",
       "        vertical-align: middle;\n",
       "    }\n",
       "\n",
       "    .dataframe tbody tr th {\n",
       "        vertical-align: top;\n",
       "    }\n",
       "\n",
       "    .dataframe thead th {\n",
       "        text-align: right;\n",
       "    }\n",
       "</style>\n",
       "<table border=\"1\" class=\"dataframe\">\n",
       "  <thead>\n",
       "    <tr style=\"text-align: right;\">\n",
       "      <th>Patrón Entrenamiento</th>\n",
       "      <th>0</th>\n",
       "      <th>1</th>\n",
       "      <th>2</th>\n",
       "      <th>3</th>\n",
       "      <th>4</th>\n",
       "      <th>5</th>\n",
       "      <th>6</th>\n",
       "      <th>7</th>\n",
       "      <th>8</th>\n",
       "      <th>9</th>\n",
       "      <th>Clase Predicha</th>\n",
       "      <th>Clase Real</th>\n",
       "    </tr>\n",
       "    <tr>\n",
       "      <th>P. Test</th>\n",
       "      <th></th>\n",
       "      <th></th>\n",
       "      <th></th>\n",
       "      <th></th>\n",
       "      <th></th>\n",
       "      <th></th>\n",
       "      <th></th>\n",
       "      <th></th>\n",
       "      <th></th>\n",
       "      <th></th>\n",
       "      <th></th>\n",
       "      <th></th>\n",
       "    </tr>\n",
       "  </thead>\n",
       "  <tbody>\n",
       "    <tr>\n",
       "      <th>0</th>\n",
       "      <td>0.583095</td>\n",
       "      <td>0.509902</td>\n",
       "      <td>2.310844</td>\n",
       "      <td>1.081665</td>\n",
       "      <td>3.266497</td>\n",
       "      <td>3.163858</td>\n",
       "      <td>2.808914</td>\n",
       "      <td>4.027406</td>\n",
       "      <td>3.806573</td>\n",
       "      <td>3.601389</td>\n",
       "      <td>1.0</td>\n",
       "      <td>1</td>\n",
       "    </tr>\n",
       "    <tr>\n",
       "      <th>1</th>\n",
       "      <td>0.412311</td>\n",
       "      <td>1.345362</td>\n",
       "      <td>2.736786</td>\n",
       "      <td>0.616441</td>\n",
       "      <td>3.033150</td>\n",
       "      <td>3.082207</td>\n",
       "      <td>2.901724</td>\n",
       "      <td>3.832754</td>\n",
       "      <td>3.839271</td>\n",
       "      <td>3.624914</td>\n",
       "      <td>1.0</td>\n",
       "      <td>1</td>\n",
       "    </tr>\n",
       "    <tr>\n",
       "      <th>2</th>\n",
       "      <td>1.157584</td>\n",
       "      <td>2.126029</td>\n",
       "      <td>3.016621</td>\n",
       "      <td>0.754983</td>\n",
       "      <td>3.275668</td>\n",
       "      <td>3.348134</td>\n",
       "      <td>3.269557</td>\n",
       "      <td>3.997499</td>\n",
       "      <td>4.177320</td>\n",
       "      <td>3.889730</td>\n",
       "      <td>1.0</td>\n",
       "      <td>3</td>\n",
       "    </tr>\n",
       "    <tr>\n",
       "      <th>3</th>\n",
       "      <td>0.100000</td>\n",
       "      <td>0.994987</td>\n",
       "      <td>2.539685</td>\n",
       "      <td>0.761577</td>\n",
       "      <td>2.989983</td>\n",
       "      <td>2.949576</td>\n",
       "      <td>2.694439</td>\n",
       "      <td>3.758989</td>\n",
       "      <td>3.668787</td>\n",
       "      <td>3.449638</td>\n",
       "      <td>1.0</td>\n",
       "      <td>3</td>\n",
       "    </tr>\n",
       "    <tr>\n",
       "      <th>4</th>\n",
       "      <td>2.557342</td>\n",
       "      <td>2.789265</td>\n",
       "      <td>4.436215</td>\n",
       "      <td>3.229551</td>\n",
       "      <td>0.806226</td>\n",
       "      <td>0.768115</td>\n",
       "      <td>1.135782</td>\n",
       "      <td>1.326650</td>\n",
       "      <td>1.212436</td>\n",
       "      <td>1.577973</td>\n",
       "      <td>2.0</td>\n",
       "      <td>1</td>\n",
       "    </tr>\n",
       "    <tr>\n",
       "      <th>5</th>\n",
       "      <td>2.643861</td>\n",
       "      <td>3.047950</td>\n",
       "      <td>4.500000</td>\n",
       "      <td>3.215587</td>\n",
       "      <td>0.787401</td>\n",
       "      <td>0.583095</td>\n",
       "      <td>1.200000</td>\n",
       "      <td>1.024695</td>\n",
       "      <td>1.288410</td>\n",
       "      <td>1.456022</td>\n",
       "      <td>1.0</td>\n",
       "      <td>2</td>\n",
       "    </tr>\n",
       "    <tr>\n",
       "      <th>6</th>\n",
       "      <td>2.596151</td>\n",
       "      <td>2.952965</td>\n",
       "      <td>4.505552</td>\n",
       "      <td>3.207803</td>\n",
       "      <td>0.670820</td>\n",
       "      <td>0.670820</td>\n",
       "      <td>1.220656</td>\n",
       "      <td>1.122497</td>\n",
       "      <td>1.284523</td>\n",
       "      <td>1.552417</td>\n",
       "      <td>1.0</td>\n",
       "      <td>2</td>\n",
       "    </tr>\n",
       "    <tr>\n",
       "      <th>7</th>\n",
       "      <td>3.583295</td>\n",
       "      <td>3.901282</td>\n",
       "      <td>5.297169</td>\n",
       "      <td>4.162932</td>\n",
       "      <td>1.135782</td>\n",
       "      <td>0.900000</td>\n",
       "      <td>1.609348</td>\n",
       "      <td>0.244949</td>\n",
       "      <td>0.854400</td>\n",
       "      <td>1.396424</td>\n",
       "      <td>2.0</td>\n",
       "      <td>2</td>\n",
       "    </tr>\n",
       "    <tr>\n",
       "      <th>8</th>\n",
       "      <td>3.685105</td>\n",
       "      <td>4.042277</td>\n",
       "      <td>5.603570</td>\n",
       "      <td>4.274342</td>\n",
       "      <td>0.900000</td>\n",
       "      <td>1.307670</td>\n",
       "      <td>2.032240</td>\n",
       "      <td>0.600000</td>\n",
       "      <td>1.307670</td>\n",
       "      <td>1.931321</td>\n",
       "      <td>1.0</td>\n",
       "      <td>1</td>\n",
       "    </tr>\n",
       "    <tr>\n",
       "      <th>9</th>\n",
       "      <td>3.552464</td>\n",
       "      <td>3.944617</td>\n",
       "      <td>5.263079</td>\n",
       "      <td>4.085340</td>\n",
       "      <td>1.187434</td>\n",
       "      <td>0.921954</td>\n",
       "      <td>1.664332</td>\n",
       "      <td>0.141421</td>\n",
       "      <td>1.081665</td>\n",
       "      <td>1.417745</td>\n",
       "      <td>2.0</td>\n",
       "      <td>2</td>\n",
       "    </tr>\n",
       "  </tbody>\n",
       "</table>\n",
       "</div>"
      ],
      "text/plain": [
       "Patrón Entrenamiento         0         1         2         3         4  \\\n",
       "P. Test                                                                  \n",
       "0                     0.583095  0.509902  2.310844  1.081665  3.266497   \n",
       "1                     0.412311  1.345362  2.736786  0.616441  3.033150   \n",
       "2                     1.157584  2.126029  3.016621  0.754983  3.275668   \n",
       "3                     0.100000  0.994987  2.539685  0.761577  2.989983   \n",
       "4                     2.557342  2.789265  4.436215  3.229551  0.806226   \n",
       "5                     2.643861  3.047950  4.500000  3.215587  0.787401   \n",
       "6                     2.596151  2.952965  4.505552  3.207803  0.670820   \n",
       "7                     3.583295  3.901282  5.297169  4.162932  1.135782   \n",
       "8                     3.685105  4.042277  5.603570  4.274342  0.900000   \n",
       "9                     3.552464  3.944617  5.263079  4.085340  1.187434   \n",
       "\n",
       "Patrón Entrenamiento         5         6         7         8         9  \\\n",
       "P. Test                                                                  \n",
       "0                     3.163858  2.808914  4.027406  3.806573  3.601389   \n",
       "1                     3.082207  2.901724  3.832754  3.839271  3.624914   \n",
       "2                     3.348134  3.269557  3.997499  4.177320  3.889730   \n",
       "3                     2.949576  2.694439  3.758989  3.668787  3.449638   \n",
       "4                     0.768115  1.135782  1.326650  1.212436  1.577973   \n",
       "5                     0.583095  1.200000  1.024695  1.288410  1.456022   \n",
       "6                     0.670820  1.220656  1.122497  1.284523  1.552417   \n",
       "7                     0.900000  1.609348  0.244949  0.854400  1.396424   \n",
       "8                     1.307670  2.032240  0.600000  1.307670  1.931321   \n",
       "9                     0.921954  1.664332  0.141421  1.081665  1.417745   \n",
       "\n",
       "Patrón Entrenamiento  Clase Predicha  Clase Real  \n",
       "P. Test                                           \n",
       "0                                1.0           1  \n",
       "1                                1.0           1  \n",
       "2                                1.0           3  \n",
       "3                                1.0           3  \n",
       "4                                2.0           1  \n",
       "5                                1.0           2  \n",
       "6                                1.0           2  \n",
       "7                                2.0           2  \n",
       "8                                1.0           1  \n",
       "9                                2.0           2  "
      ]
     },
     "execution_count": 48,
     "metadata": {},
     "output_type": "execute_result"
    }
   ],
   "source": [
    "p3_knn_d3 = knn(p3_df_train, p3_df_test, k=3)\n",
    "p3_knn_d3"
   ]
  },
  {
   "cell_type": "markdown",
   "metadata": {},
   "source": [
    "**Matriz de confusión para 𝑘 = 3**<br>\n",
    "Es necesario realizar una pequeña corrección en la matriz de confusión, ya que no tenemos resultados predichos para la clase 3."
   ]
  },
  {
   "cell_type": "code",
   "execution_count": 49,
   "metadata": {},
   "outputs": [
    {
     "data": {
      "text/html": [
       "<div>\n",
       "<style scoped>\n",
       "    .dataframe tbody tr th:only-of-type {\n",
       "        vertical-align: middle;\n",
       "    }\n",
       "\n",
       "    .dataframe tbody tr th {\n",
       "        vertical-align: top;\n",
       "    }\n",
       "\n",
       "    .dataframe thead th {\n",
       "        text-align: right;\n",
       "    }\n",
       "</style>\n",
       "<table border=\"1\" class=\"dataframe\">\n",
       "  <thead>\n",
       "    <tr style=\"text-align: right;\">\n",
       "      <th>Predicha</th>\n",
       "      <th>1.0</th>\n",
       "      <th>2.0</th>\n",
       "      <th>3.0</th>\n",
       "    </tr>\n",
       "    <tr>\n",
       "      <th>Real</th>\n",
       "      <th></th>\n",
       "      <th></th>\n",
       "      <th></th>\n",
       "    </tr>\n",
       "  </thead>\n",
       "  <tbody>\n",
       "    <tr>\n",
       "      <th>1</th>\n",
       "      <td>3</td>\n",
       "      <td>1</td>\n",
       "      <td>0</td>\n",
       "    </tr>\n",
       "    <tr>\n",
       "      <th>2</th>\n",
       "      <td>2</td>\n",
       "      <td>2</td>\n",
       "      <td>0</td>\n",
       "    </tr>\n",
       "    <tr>\n",
       "      <th>3</th>\n",
       "      <td>2</td>\n",
       "      <td>0</td>\n",
       "      <td>0</td>\n",
       "    </tr>\n",
       "  </tbody>\n",
       "</table>\n",
       "</div>"
      ],
      "text/plain": [
       "Predicha  1.0  2.0  3.0\n",
       "Real                   \n",
       "1           3    1    0\n",
       "2           2    2    0\n",
       "3           2    0    0"
      ]
     },
     "execution_count": 49,
     "metadata": {},
     "output_type": "execute_result"
    }
   ],
   "source": [
    "p3_metricas_knn_d3 = MetricasClasificacion(p3_knn_d3[\"Clase Real\"], p3_knn_d3[\"Clase Predicha\"])\n",
    "p3_metricas_knn_d3.matriz_confusion[3.0] = 0\n",
    "p3_metricas_knn_d3.matriz_confusion"
   ]
  },
  {
   "cell_type": "markdown",
   "metadata": {},
   "source": [
    "**Métricas para 𝑘 = 3**"
   ]
  },
  {
   "cell_type": "code",
   "execution_count": 50,
   "metadata": {},
   "outputs": [
    {
     "name": "stdout",
     "output_type": "stream",
     "text": [
      "Métricas de clasificación para k = 1\n",
      "CCR: 0.5\n",
      "Kappa: 0.16666666666666663\n"
     ]
    },
    {
     "name": "stderr",
     "output_type": "stream",
     "text": [
      "C:\\Users\\Usuario\\AppData\\Local\\Temp\\ipykernel_24044\\1243272186.py:68: RuntimeWarning: invalid value encountered in longlong_scalars\n",
      "  return confusion[\"Positivo\"][\"Positivo\"] / \\\n",
      "C:\\Users\\Usuario\\AppData\\Local\\Temp\\ipykernel_24044\\1243272186.py:68: RuntimeWarning: invalid value encountered in longlong_scalars\n",
      "  return confusion[\"Positivo\"][\"Positivo\"] / \\\n",
      "C:\\Users\\Usuario\\AppData\\Local\\Temp\\ipykernel_24044\\1243272186.py:68: RuntimeWarning: invalid value encountered in longlong_scalars\n",
      "  return confusion[\"Positivo\"][\"Positivo\"] / \\\n"
     ]
    },
    {
     "data": {
      "text/html": [
       "<style type=\"text/css\">\n",
       "#T_0b633_row3_col0, #T_0b633_row3_col1, #T_0b633_row3_col2, #T_0b633_row3_col3, #T_0b633_row3_col4 {\n",
       "  background: yellow;\n",
       "}\n",
       "</style>\n",
       "<table id=\"T_0b633\">\n",
       "  <thead>\n",
       "    <tr>\n",
       "      <th class=\"blank level0\" >&nbsp;</th>\n",
       "      <th id=\"T_0b633_level0_col0\" class=\"col_heading level0 col0\" >Sensibilidad</th>\n",
       "      <th id=\"T_0b633_level0_col1\" class=\"col_heading level0 col1\" >False Positive Rate</th>\n",
       "      <th id=\"T_0b633_level0_col2\" class=\"col_heading level0 col2\" >Especificidad</th>\n",
       "      <th id=\"T_0b633_level0_col3\" class=\"col_heading level0 col3\" >Precision</th>\n",
       "      <th id=\"T_0b633_level0_col4\" class=\"col_heading level0 col4\" >F1 Score</th>\n",
       "    </tr>\n",
       "    <tr>\n",
       "      <th class=\"index_name level0\" >Clase</th>\n",
       "      <th class=\"blank col0\" >&nbsp;</th>\n",
       "      <th class=\"blank col1\" >&nbsp;</th>\n",
       "      <th class=\"blank col2\" >&nbsp;</th>\n",
       "      <th class=\"blank col3\" >&nbsp;</th>\n",
       "      <th class=\"blank col4\" >&nbsp;</th>\n",
       "    </tr>\n",
       "  </thead>\n",
       "  <tbody>\n",
       "    <tr>\n",
       "      <th id=\"T_0b633_level0_row0\" class=\"row_heading level0 row0\" >1</th>\n",
       "      <td id=\"T_0b633_row0_col0\" class=\"data row0 col0\" >0.750000</td>\n",
       "      <td id=\"T_0b633_row0_col1\" class=\"data row0 col1\" >0.666667</td>\n",
       "      <td id=\"T_0b633_row0_col2\" class=\"data row0 col2\" >0.333333</td>\n",
       "      <td id=\"T_0b633_row0_col3\" class=\"data row0 col3\" >0.428571</td>\n",
       "      <td id=\"T_0b633_row0_col4\" class=\"data row0 col4\" >0.545455</td>\n",
       "    </tr>\n",
       "    <tr>\n",
       "      <th id=\"T_0b633_level0_row1\" class=\"row_heading level0 row1\" >2</th>\n",
       "      <td id=\"T_0b633_row1_col0\" class=\"data row1 col0\" >0.500000</td>\n",
       "      <td id=\"T_0b633_row1_col1\" class=\"data row1 col1\" >0.166667</td>\n",
       "      <td id=\"T_0b633_row1_col2\" class=\"data row1 col2\" >0.833333</td>\n",
       "      <td id=\"T_0b633_row1_col3\" class=\"data row1 col3\" >0.666667</td>\n",
       "      <td id=\"T_0b633_row1_col4\" class=\"data row1 col4\" >0.571429</td>\n",
       "    </tr>\n",
       "    <tr>\n",
       "      <th id=\"T_0b633_level0_row2\" class=\"row_heading level0 row2\" >3</th>\n",
       "      <td id=\"T_0b633_row2_col0\" class=\"data row2 col0\" >0.000000</td>\n",
       "      <td id=\"T_0b633_row2_col1\" class=\"data row2 col1\" >0.000000</td>\n",
       "      <td id=\"T_0b633_row2_col2\" class=\"data row2 col2\" >1.000000</td>\n",
       "      <td id=\"T_0b633_row2_col3\" class=\"data row2 col3\" >0.000000</td>\n",
       "      <td id=\"T_0b633_row2_col4\" class=\"data row2 col4\" >0.000000</td>\n",
       "    </tr>\n",
       "    <tr>\n",
       "      <th id=\"T_0b633_level0_row3\" class=\"row_heading level0 row3\" >Promedio</th>\n",
       "      <td id=\"T_0b633_row3_col0\" class=\"data row3 col0\" >0.416667</td>\n",
       "      <td id=\"T_0b633_row3_col1\" class=\"data row3 col1\" >0.277778</td>\n",
       "      <td id=\"T_0b633_row3_col2\" class=\"data row3 col2\" >0.722222</td>\n",
       "      <td id=\"T_0b633_row3_col3\" class=\"data row3 col3\" >0.365079</td>\n",
       "      <td id=\"T_0b633_row3_col4\" class=\"data row3 col4\" >0.372294</td>\n",
       "    </tr>\n",
       "  </tbody>\n",
       "</table>\n"
      ],
      "text/plain": [
       "<pandas.io.formats.style.Styler at 0x1b661a803d0>"
      ]
     },
     "execution_count": 50,
     "metadata": {},
     "output_type": "execute_result"
    }
   ],
   "source": [
    "p3_metricas_knn_d3_data = [\n",
    "    {\n",
    "        \"Sensibilidad\": p3_metricas_knn_d3.tpr(i), \"False Positive Rate\": p3_metricas_knn_d3.fpr(i),\n",
    "        \"Especificidad\": p3_metricas_knn_d3.tnr(i), \"Precision\": p3_metricas_knn_d3.ppv(i),\n",
    "        \"F1 Score\": p3_metricas_knn_d3.f1(i)\n",
    "    } for i in range(1, 4)\n",
    "]\n",
    "p3_df_metricas_knn_d3_details = pd.DataFrame(p3_metricas_knn_d3_data, index=[\"1\", \"2\", \"3\"])\n",
    "p3_df_metricas_knn_d3_details.index.name = \"Clase\"\n",
    "p3_df_metricas_knn_d3_details = p3_df_metricas_knn_d3_details.fillna(0)\n",
    "p3_df_metricas_knn_d3_details.loc[\"Promedio\"] = p3_df_metricas_knn_d3_details.mean()\n",
    "p3_df_metricas_knn_d3_details = p3_df_metricas_knn_d3_details.style.apply(\n",
    "    lambda x: [\"background: yellow\" if x.name == \"Promedio\" else \"\" for i in x], axis=1)\n",
    "print(f\"Métricas de clasificación para k = 1\")\n",
    "print(f\"CCR: {p3_metricas_knn_d3.ccr()}\")\n",
    "print(f\"Kappa: {p3_metricas_knn_d3.kappa()}\")\n",
    "p3_df_metricas_knn_d3_details"
   ]
  },
  {
   "cell_type": "markdown",
   "metadata": {},
   "source": [
    "## Conclusiones <a class=\"anchor\" id=\"piii-conclusiones\"></a>\n",
    "Tras comparar los resultados obtenidos con el modelo de la lección 3, podemos observar lo siguiente:\n",
    "- Para la distancia k = 1, el CCR nos da un resultado muy bajo (0.3) y el Kappa es negativo, indicando que hay discordancia entre las clases predichas y las reales.\n",
    "- Para la distancia k = 3, el CCR es superior al anterior (0.5) y el Kappa es positivo pero muy cercano a 0, indicando que hay poca concordancia entre las clases predichas y las reales.\n",
    "- Las métricas de cada matriz para k = 1, dan resultados muy bajos, indicando que el modelo no es bueno.\n",
    "- Las métricas de cada matriz para k = 3, dan resultados bajos, algo mejores que el caso anterior.\n",
    "- Los modelos obtenidos no son buenos, ya que no se ajustan a los datos de entrenamiento."
   ]
  }
 ],
 "metadata": {
  "kernelspec": {
   "display_name": "Python 3 (ipykernel)",
   "language": "python",
   "name": "python3"
  },
  "language_info": {
   "codemirror_mode": {
    "name": "ipython",
    "version": 3
   },
   "file_extension": ".py",
   "mimetype": "text/x-python",
   "name": "python",
   "nbconvert_exporter": "python",
   "pygments_lexer": "ipython3",
   "version": "3.8.5"
  },
  "vscode": {
   "interpreter": {
    "hash": "0c69c256b08609b71951974988714790ab11e33d472477113272d7ef64655dde"
   }
  }
 },
 "nbformat": 4,
 "nbformat_minor": 2
}
