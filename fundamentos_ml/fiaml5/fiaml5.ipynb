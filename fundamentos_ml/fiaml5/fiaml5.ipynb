{
 "cells": [
  {
   "cell_type": "markdown",
   "metadata": {},
   "source": [
    "# Modelos de Regresión y Clasificación II\n",
    "Actividad Lección 4 || Fundamentos de IA y Machine Learning\n",
    "\n",
    "Objetivos:\n",
    "* Aplicar conceptos teóricos vistos en clase\n",
    "\n",
    "Datos del alumno:\n",
    "* Víctor Luque Martín\n",
    "* Máster Avanzado en Programación en Python para Hacking, BigData y Machine Learning\n",
    "\n",
    "Fecha: 21/10/2022"
   ]
  },
  {
   "cell_type": "markdown",
   "metadata": {},
   "source": [
    "# Tabla de contenidos\n",
    "1. [Preparación Previa](#pp)\n",
    "2. [Problema I](#p1)\n",
    "3. [Problema II](#p2)\n",
    "4. [Problema III](#p3)"
   ]
  },
  {
   "cell_type": "markdown",
   "metadata": {},
   "source": [
    "# Prepación Previa <a class=\"anchor\" name=\"pp\"></a>\n",
    "- Importar librerías\n",
    "- Definir función distancia euclídea"
   ]
  },
  {
   "cell_type": "markdown",
   "metadata": {},
   "source": [
    "## Importar librerías <a class=\"anchor\" name=\"pp-importar\"></a>"
   ]
  },
  {
   "cell_type": "code",
   "execution_count": 523,
   "metadata": {},
   "outputs": [],
   "source": [
    "import pandas as pd\n",
    "import matplotlib.pyplot as plt\n",
    "import seaborn as sns\n",
    "import numpy as np"
   ]
  },
  {
   "cell_type": "markdown",
   "metadata": {},
   "source": [
    "## Distancia euclídea <a class=\"anchor\" name=\"pp-distancia\"></a>\n",
    "Es la raíz cuadrada de las diferencias al cuadrado de cada una de las coordenadas de los puntos.\n",
    "\n",
    "$$d_E(X_1,X_2) = \\sqrt{\\sum_{i=1}^{k} (X_{1i} - X_{2i})^2}$$"
   ]
  },
  {
   "cell_type": "code",
   "execution_count": 524,
   "metadata": {},
   "outputs": [],
   "source": [
    "def distancia_euclidea(x1, x2):\n",
    "    if len(x1) != len(x2):\n",
    "        raise Exception(\"Las coordenadas deben tener la misma cantidad de elementos\")\n",
    "    k = len(x1)\n",
    "    sumatorio = sum([(x1[i] - x2[i])**2 for i in range(k)])\n",
    "    return sumatorio**0.5"
   ]
  },
  {
   "cell_type": "markdown",
   "metadata": {},
   "source": [
    "# Problema I <a name=\"p1\"></a>\n",
    "Se pide agrupar un total de 8 patrones bidimensionales en tres clusters (𝑘 = 3). Los patrones son los siguientes: A1 (2,10), A2(2,5), A3(8,4), A4(5,8), A5(7,5),\n",
    "A6(6,4), A7(1,2) y A8(4,9). Los centroides iniciales son los puntos A1, A3 y A4. La métrica de distancia utilizada será la distancia euclídea.\n",
    "Se pide:\n",
    "1. Representar los clusters creados y la posición de los centroides después de cada iteración.\n",
    "2. El valor de la métrica SSE.\n",
    "3. Comparar los resultados con los obtenidos en el ejemplo de la sección 2.3. del manual de la lección 5.\n",
    "4. ¿Á que se debe la diferencia de resultados?"
   ]
  },
  {
   "cell_type": "markdown",
   "metadata": {},
   "source": [
    "## Carga de datos <a class=\"anchor\" name=\"p1-carga-datos\"></a>\n",
    "Se muestran de forma resaltada los puntos iniciales de los centroides (A1, A3, A4)."
   ]
  },
  {
   "cell_type": "code",
   "execution_count": 525,
   "metadata": {},
   "outputs": [
    {
     "data": {
      "text/html": [
       "<div>\n",
       "<style scoped>\n",
       "    .dataframe tbody tr th:only-of-type {\n",
       "        vertical-align: middle;\n",
       "    }\n",
       "\n",
       "    .dataframe tbody tr th {\n",
       "        vertical-align: top;\n",
       "    }\n",
       "\n",
       "    .dataframe thead th {\n",
       "        text-align: right;\n",
       "    }\n",
       "</style>\n",
       "<table border=\"1\" class=\"dataframe\">\n",
       "  <thead>\n",
       "    <tr style=\"text-align: right;\">\n",
       "      <th></th>\n",
       "      <th>coorX</th>\n",
       "      <th>coorY</th>\n",
       "    </tr>\n",
       "  </thead>\n",
       "  <tbody>\n",
       "    <tr>\n",
       "      <th>0</th>\n",
       "      <td>2</td>\n",
       "      <td>10</td>\n",
       "    </tr>\n",
       "    <tr>\n",
       "      <th>1</th>\n",
       "      <td>2</td>\n",
       "      <td>5</td>\n",
       "    </tr>\n",
       "    <tr>\n",
       "      <th>2</th>\n",
       "      <td>8</td>\n",
       "      <td>4</td>\n",
       "    </tr>\n",
       "    <tr>\n",
       "      <th>3</th>\n",
       "      <td>5</td>\n",
       "      <td>8</td>\n",
       "    </tr>\n",
       "    <tr>\n",
       "      <th>4</th>\n",
       "      <td>7</td>\n",
       "      <td>5</td>\n",
       "    </tr>\n",
       "    <tr>\n",
       "      <th>5</th>\n",
       "      <td>6</td>\n",
       "      <td>4</td>\n",
       "    </tr>\n",
       "    <tr>\n",
       "      <th>6</th>\n",
       "      <td>1</td>\n",
       "      <td>2</td>\n",
       "    </tr>\n",
       "    <tr>\n",
       "      <th>7</th>\n",
       "      <td>4</td>\n",
       "      <td>9</td>\n",
       "    </tr>\n",
       "  </tbody>\n",
       "</table>\n",
       "</div>"
      ],
      "text/plain": [
       "   coorX  coorY\n",
       "0      2     10\n",
       "1      2      5\n",
       "2      8      4\n",
       "3      5      8\n",
       "4      7      5\n",
       "5      6      4\n",
       "6      1      2\n",
       "7      4      9"
      ]
     },
     "execution_count": 525,
     "metadata": {},
     "output_type": "execute_result"
    }
   ],
   "source": [
    "l5p1 = pd.read_csv(\"l5p1.csv\")\n",
    "l5p1"
   ]
  },
  {
   "cell_type": "markdown",
   "metadata": {},
   "source": [
    "## Representación de los datos <a class=\"anchor\" name=\"p1-representacion\"></a>"
   ]
  },
  {
   "cell_type": "code",
   "execution_count": 526,
   "metadata": {},
   "outputs": [
    {
     "data": {
      "image/png": "[encoded data removed]",
      "text/plain": [
       "<Figure size 640x480 with 1 Axes>"
      ]
     },
     "metadata": {},
     "output_type": "display_data"
    }
   ],
   "source": [
    "sns.scatterplot(x=\"coorX\", y=\"coorY\", data=l5p1)\n",
    "# change color of points (2,10), (8,4), (5,8)\n",
    "plt.scatter([2,8,5], [10,4,8], color=\"red\")\n",
    "plt.show()"
   ]
  },
  {
   "cell_type": "code",
   "execution_count": 527,
   "metadata": {},
   "outputs": [],
   "source": [
    "def agrupamiento_particional(l5p1):\n",
    "    c1, c2, c3 = (2,10), (8,4), (5,8)\n",
    "    cambio = True\n",
    "    result_df: pd.DataFrame = l5p1.copy()\n",
    "    check_df: pd.DataFrame = l5p1.copy()\n",
    "    i = 0\n",
    "    # create a figure\n",
    "    fig, ax = plt.subplots(ncols=4, figsize=(20, 5))\n",
    "    while cambio:\n",
    "        distances_df = pd.DataFrame({\n",
    "            \"C1\": [distancia_euclidea(row[[\"coorX\", \"coorY\"]], c1) for _, row in result_df.iterrows()],\n",
    "            \"C2\": [distancia_euclidea(row[[\"coorX\", \"coorY\"]], c2) for _, row in result_df.iterrows()],\n",
    "            \"C3\": [distancia_euclidea(row[[\"coorX\", \"coorY\"]], c3) for _, row in result_df.iterrows()],\n",
    "        })\n",
    "        check_df[\"cluster\"] = distances_df.idxmin(axis=1)\n",
    "        if \"cluster\" in result_df.columns:\n",
    "            cambio = not (result_df[\"cluster\"] == check_df[\"cluster\"]).all()\n",
    "        result_df[\"cluster\"] = distances_df.idxmin(axis=1)\n",
    "        \n",
    "        sns.scatterplot(x=\"coorX\", y=\"coorY\", hue=\"cluster\", data=result_df, ax=ax[i])\n",
    "        ax[i].scatter([c1[0],c2[0],c3[0]], [c1[1],c2[1],c3[1]], color=[\"blue\", \"green\", \"orange\"], marker=\"x\")\n",
    "        ax[i].set_title(f\"Iteración {i}\")\n",
    "        for j, txt in enumerate([c1, c2, c3]):\n",
    "            ax[i].annotate(f\"({round(txt[0], 2)}, {round(txt[1], 2)})\", (txt[0]+0.1, txt[1]+0.1))\n",
    "        i+=1\n",
    "        c1 = tuple(result_df[result_df[\"cluster\"] == \"C1\"][[\"coorX\", \"coorY\"]].mean().to_list())\n",
    "        c2 = tuple(result_df[result_df[\"cluster\"] == \"C2\"][[\"coorX\", \"coorY\"]].mean().to_list())\n",
    "        c3 = tuple(result_df[result_df[\"cluster\"] == \"C3\"][[\"coorX\", \"coorY\"]].mean().to_list())          \n",
    "    plt.show()\n",
    "    # add coordinates of centroids\n",
    "    result_df[\"centroid_x\"] = result_df[\"cluster\"].apply(lambda x: round(c1[0], 2) if x == \"C1\" else round(c2[0], 2) if x == \"C2\" else round(c3[0], 2))\n",
    "    result_df[\"centroid_y\"] = result_df[\"cluster\"].apply(lambda x: round(c1[1], 2) if x == \"C1\" else round(c2[1], 2) if x == \"C2\" else round(c3[1], 2))\n",
    "    return result_df"
   ]
  },
  {
   "cell_type": "code",
   "execution_count": 528,
   "metadata": {},
   "outputs": [
    {
     "data": {
      "image/png": "[encoded data removed]",
      "text/plain": [
       "<Figure size 2000x500 with 4 Axes>"
      ]
     },
     "metadata": {},
     "output_type": "display_data"
    }
   ],
   "source": [
    "result_df = agrupamiento_particional(l5p1)"
   ]
  },
  {
   "cell_type": "code",
   "execution_count": 529,
   "metadata": {},
   "outputs": [
    {
     "data": {
      "text/html": [
       "<div>\n",
       "<style scoped>\n",
       "    .dataframe tbody tr th:only-of-type {\n",
       "        vertical-align: middle;\n",
       "    }\n",
       "\n",
       "    .dataframe tbody tr th {\n",
       "        vertical-align: top;\n",
       "    }\n",
       "\n",
       "    .dataframe thead th {\n",
       "        text-align: right;\n",
       "    }\n",
       "</style>\n",
       "<table border=\"1\" class=\"dataframe\">\n",
       "  <thead>\n",
       "    <tr style=\"text-align: right;\">\n",
       "      <th></th>\n",
       "      <th>coorX</th>\n",
       "      <th>coorY</th>\n",
       "      <th>cluster</th>\n",
       "      <th>centroid_x</th>\n",
       "      <th>centroid_y</th>\n",
       "      <th>distancia_centroide</th>\n",
       "    </tr>\n",
       "  </thead>\n",
       "  <tbody>\n",
       "    <tr>\n",
       "      <th>0</th>\n",
       "      <td>2</td>\n",
       "      <td>10</td>\n",
       "      <td>C1</td>\n",
       "      <td>3.67</td>\n",
       "      <td>9.00</td>\n",
       "      <td>1.946510</td>\n",
       "    </tr>\n",
       "    <tr>\n",
       "      <th>1</th>\n",
       "      <td>2</td>\n",
       "      <td>5</td>\n",
       "      <td>C3</td>\n",
       "      <td>1.50</td>\n",
       "      <td>3.50</td>\n",
       "      <td>1.581139</td>\n",
       "    </tr>\n",
       "    <tr>\n",
       "      <th>2</th>\n",
       "      <td>8</td>\n",
       "      <td>4</td>\n",
       "      <td>C2</td>\n",
       "      <td>7.00</td>\n",
       "      <td>4.33</td>\n",
       "      <td>1.053043</td>\n",
       "    </tr>\n",
       "    <tr>\n",
       "      <th>3</th>\n",
       "      <td>5</td>\n",
       "      <td>8</td>\n",
       "      <td>C1</td>\n",
       "      <td>3.67</td>\n",
       "      <td>9.00</td>\n",
       "      <td>1.664001</td>\n",
       "    </tr>\n",
       "    <tr>\n",
       "      <th>4</th>\n",
       "      <td>7</td>\n",
       "      <td>5</td>\n",
       "      <td>C2</td>\n",
       "      <td>7.00</td>\n",
       "      <td>4.33</td>\n",
       "      <td>0.670000</td>\n",
       "    </tr>\n",
       "    <tr>\n",
       "      <th>5</th>\n",
       "      <td>6</td>\n",
       "      <td>4</td>\n",
       "      <td>C2</td>\n",
       "      <td>7.00</td>\n",
       "      <td>4.33</td>\n",
       "      <td>1.053043</td>\n",
       "    </tr>\n",
       "    <tr>\n",
       "      <th>6</th>\n",
       "      <td>1</td>\n",
       "      <td>2</td>\n",
       "      <td>C3</td>\n",
       "      <td>1.50</td>\n",
       "      <td>3.50</td>\n",
       "      <td>1.581139</td>\n",
       "    </tr>\n",
       "    <tr>\n",
       "      <th>7</th>\n",
       "      <td>4</td>\n",
       "      <td>9</td>\n",
       "      <td>C1</td>\n",
       "      <td>3.67</td>\n",
       "      <td>9.00</td>\n",
       "      <td>0.330000</td>\n",
       "    </tr>\n",
       "  </tbody>\n",
       "</table>\n",
       "</div>"
      ],
      "text/plain": [
       "   coorX  coorY cluster  centroid_x  centroid_y  distancia_centroide\n",
       "0      2     10      C1        3.67        9.00             1.946510\n",
       "1      2      5      C3        1.50        3.50             1.581139\n",
       "2      8      4      C2        7.00        4.33             1.053043\n",
       "3      5      8      C1        3.67        9.00             1.664001\n",
       "4      7      5      C2        7.00        4.33             0.670000\n",
       "5      6      4      C2        7.00        4.33             1.053043\n",
       "6      1      2      C3        1.50        3.50             1.581139\n",
       "7      4      9      C1        3.67        9.00             0.330000"
      ]
     },
     "execution_count": 529,
     "metadata": {},
     "output_type": "execute_result"
    }
   ],
   "source": [
    "# add column distance to centroid\n",
    "result_df[\"distancia_centroide\"] = result_df.apply(lambda x: distancia_euclidea((x[\"coorX\"], x[\"coorY\"]), (x[\"centroid_x\"], x[\"centroid_y\"])), axis=1)\n",
    "result_df"
   ]
  },
  {
   "cell_type": "code",
   "execution_count": 530,
   "metadata": {},
   "outputs": [
    {
     "data": {
      "text/plain": [
       "14.333400000000003"
      ]
     },
     "execution_count": 530,
     "metadata": {},
     "output_type": "execute_result"
    }
   ],
   "source": [
    "sse = 0\n",
    "for i, row in result_df.iterrows():\n",
    "    sse += row[\"distancia_centroide\"]**2\n",
    "sse"
   ]
  },
  {
   "cell_type": "markdown",
   "metadata": {},
   "source": [
    "# Problema II <a name=\"p2\"></a>\n",
    "Dada la siguiente matriz de distancias entre cinco patrones:"
   ]
  },
  {
   "cell_type": "code",
   "execution_count": 531,
   "metadata": {},
   "outputs": [
    {
     "data": {
      "text/html": [
       "<div>\n",
       "<style scoped>\n",
       "    .dataframe tbody tr th:only-of-type {\n",
       "        vertical-align: middle;\n",
       "    }\n",
       "\n",
       "    .dataframe tbody tr th {\n",
       "        vertical-align: top;\n",
       "    }\n",
       "\n",
       "    .dataframe thead th {\n",
       "        text-align: right;\n",
       "    }\n",
       "</style>\n",
       "<table border=\"1\" class=\"dataframe\">\n",
       "  <thead>\n",
       "    <tr style=\"text-align: right;\">\n",
       "      <th></th>\n",
       "      <th>A</th>\n",
       "      <th>B</th>\n",
       "      <th>C</th>\n",
       "      <th>D</th>\n",
       "      <th>E</th>\n",
       "    </tr>\n",
       "  </thead>\n",
       "  <tbody>\n",
       "    <tr>\n",
       "      <th>A</th>\n",
       "      <td>0</td>\n",
       "      <td>1</td>\n",
       "      <td>2</td>\n",
       "      <td>9</td>\n",
       "      <td>10</td>\n",
       "    </tr>\n",
       "    <tr>\n",
       "      <th>B</th>\n",
       "      <td>1</td>\n",
       "      <td>0</td>\n",
       "      <td>3</td>\n",
       "      <td>7</td>\n",
       "      <td>5</td>\n",
       "    </tr>\n",
       "    <tr>\n",
       "      <th>C</th>\n",
       "      <td>2</td>\n",
       "      <td>3</td>\n",
       "      <td>0</td>\n",
       "      <td>4</td>\n",
       "      <td>6</td>\n",
       "    </tr>\n",
       "    <tr>\n",
       "      <th>D</th>\n",
       "      <td>9</td>\n",
       "      <td>7</td>\n",
       "      <td>4</td>\n",
       "      <td>0</td>\n",
       "      <td>8</td>\n",
       "    </tr>\n",
       "    <tr>\n",
       "      <th>E</th>\n",
       "      <td>10</td>\n",
       "      <td>5</td>\n",
       "      <td>6</td>\n",
       "      <td>8</td>\n",
       "      <td>0</td>\n",
       "    </tr>\n",
       "  </tbody>\n",
       "</table>\n",
       "</div>"
      ],
      "text/plain": [
       "    A  B  C  D   E\n",
       "A   0  1  2  9  10\n",
       "B   1  0  3  7   5\n",
       "C   2  3  0  4   6\n",
       "D   9  7  4  0   8\n",
       "E  10  5  6  8   0"
      ]
     },
     "execution_count": 531,
     "metadata": {},
     "output_type": "execute_result"
    }
   ],
   "source": [
    "l5p2_df = pd.DataFrame({\n",
    "    \"A\" : [0, 1, 2, 9, 10],\n",
    "    \"B\" : [1, 0, 3, 7, 5],\n",
    "    \"C\" : [2, 3, 0, 4, 6],\n",
    "    \"D\" : [9, 7, 4, 0, 8],\n",
    "    \"E\" : [10, 5, 6, 8, 0],\n",
    "}, index=[\"A\", \"B\", \"C\", \"D\", \"E\"])\n",
    "l5p2_df\n"
   ]
  },
  {
   "cell_type": "markdown",
   "metadata": {},
   "source": [
    "Se pide:\n",
    "1. Aplicar un clustering jerárquico con el método de enlace simple.\n",
    "2. Aplicar un clustering jerárquico con el método de enlace completo.\n",
    "3. ¿Se podría usar el método de enlace medio con estos datos? Justifica la respuesta."
   ]
  },
  {
   "cell_type": "code",
   "execution_count": 532,
   "metadata": {},
   "outputs": [],
   "source": [
    "def linkage(df, func):\n",
    "    # merge clusters with the smallest distance\n",
    "    merged = True\n",
    "    result = {}\n",
    "    while merged:\n",
    "        merged = False\n",
    "        min_dist = 100\n",
    "        min_cluster = None\n",
    "        for i, row in df.iterrows():\n",
    "            for j, col in row.items():\n",
    "                if i != j and col < min_dist:\n",
    "                    min_dist = col\n",
    "                    min_cluster = (i, j)\n",
    "        if min_cluster:\n",
    "            print(f\"Merge {min_cluster} with distance {min_dist}\")\n",
    "            merged = True\n",
    "            # merge clusters\n",
    "            df[min_cluster[0]] = df[min_cluster[0]].combine(df[min_cluster[1]], func)\n",
    "            df[min_cluster[1]] = df[min_cluster[0]]\n",
    "            df = df.drop(min_cluster[1], axis=1)\n",
    "            df = df.drop(min_cluster[1], axis=0)\n",
    "            # replace column and row names\n",
    "            df = df.rename(columns={min_cluster[0]: f\"{min_cluster[0]}{min_cluster[1]}\"}, index={min_cluster[0]: f\"{min_cluster[0]}{min_cluster[1]}\"})\n",
    "            print(f\"Clusters {min_cluster[0]} y {min_cluster[1]} unidos\")\n",
    "            print(df)\n",
    "            print(\"\")\n",
    "            result[''.join(min_cluster)] = min_dist\n",
    "    return result"
   ]
  },
  {
   "cell_type": "code",
   "execution_count": 533,
   "metadata": {},
   "outputs": [
    {
     "name": "stdout",
     "output_type": "stream",
     "text": [
      "Merge ('A', 'B') with distance 1\n",
      "Clusters A y B unidos\n",
      "    AB  C  D   E\n",
      "AB   0  2  9  10\n",
      "C    2  0  4   6\n",
      "D    7  4  0   8\n",
      "E    5  6  8   0\n",
      "\n",
      "Merge ('AB', 'C') with distance 2\n",
      "Clusters AB y C unidos\n",
      "     ABC  D   E\n",
      "ABC    0  9  10\n",
      "D      4  0   8\n",
      "E      5  8   0\n",
      "\n",
      "Merge ('D', 'ABC') with distance 4\n",
      "Clusters D y ABC unidos\n",
      "      DABC  E\n",
      "DABC     0  8\n",
      "E        5  0\n",
      "\n",
      "Merge ('E', 'DABC') with distance 5\n",
      "Clusters E y DABC unidos\n",
      "       EDABC\n",
      "EDABC      0\n",
      "\n"
     ]
    },
    {
     "data": {
      "text/plain": [
       "{'AB': 1, 'ABC': 2, 'DABC': 4, 'EDABC': 5}"
      ]
     },
     "execution_count": 533,
     "metadata": {},
     "output_type": "execute_result"
    }
   ],
   "source": [
    "linkage(l5p2_df.copy(), min)"
   ]
  },
  {
   "cell_type": "code",
   "execution_count": 534,
   "metadata": {},
   "outputs": [
    {
     "name": "stdout",
     "output_type": "stream",
     "text": [
      "Merge ('A', 'B') with distance 1\n",
      "Clusters A y B unidos\n",
      "    AB  C  D   E\n",
      "AB   1  2  9  10\n",
      "C    3  0  4   6\n",
      "D    9  4  0   8\n",
      "E   10  6  8   0\n",
      "\n",
      "Merge ('AB', 'C') with distance 2\n",
      "Clusters AB y C unidos\n",
      "     ABC  D   E\n",
      "ABC    2  9  10\n",
      "D      9  0   8\n",
      "E     10  8   0\n",
      "\n",
      "Merge ('D', 'E') with distance 8\n",
      "Clusters D y E unidos\n",
      "     ABC  DE\n",
      "ABC    2  10\n",
      "DE     9   8\n",
      "\n",
      "Merge ('DE', 'ABC') with distance 9\n",
      "Clusters DE y ABC unidos\n",
      "       DEABC\n",
      "DEABC      9\n",
      "\n"
     ]
    },
    {
     "data": {
      "text/plain": [
       "{'AB': 1, 'ABC': 2, 'DE': 8, 'DEABC': 9}"
      ]
     },
     "execution_count": 534,
     "metadata": {},
     "output_type": "execute_result"
    }
   ],
   "source": [
    "linkage(l5p2_df.copy(), max)"
   ]
  },
  {
   "cell_type": "code",
   "execution_count": 535,
   "metadata": {},
   "outputs": [
    {
     "name": "stdout",
     "output_type": "stream",
     "text": [
      "Merge ('A', 'B') with distance 1\n",
      "Clusters A y B unidos\n",
      "     AB  C  D   E\n",
      "AB  0.5  2  9  10\n",
      "C   2.5  0  4   6\n",
      "D   8.0  4  0   8\n",
      "E   7.5  6  8   0\n",
      "\n",
      "Merge ('AB', 'C') with distance 2.0\n",
      "Clusters AB y C unidos\n",
      "      ABC  D   E\n",
      "ABC  1.25  9  10\n",
      "D    6.00  0   8\n",
      "E    6.75  8   0\n",
      "\n",
      "Merge ('D', 'ABC') with distance 6.0\n",
      "Clusters D y ABC unidos\n",
      "       DABC  E\n",
      "DABC  3.000  8\n",
      "E     7.375  0\n",
      "\n",
      "Merge ('E', 'DABC') with distance 7.375\n",
      "Clusters E y DABC unidos\n",
      "        EDABC\n",
      "EDABC  3.6875\n",
      "\n"
     ]
    },
    {
     "data": {
      "text/plain": [
       "{'AB': 1, 'ABC': 2.0, 'DABC': 6.0, 'EDABC': 7.375}"
      ]
     },
     "execution_count": 535,
     "metadata": {},
     "output_type": "execute_result"
    }
   ],
   "source": [
    "# average linkage\n",
    "linkage(l5p2_df.copy(), lambda x, y: (x+y)/2)"
   ]
  },
  {
   "cell_type": "markdown",
   "metadata": {},
   "source": [
    "# Problema III <a name=\"p3\"></a>\n",
    "Dados los mismos puntos del Problema I.\n",
    "Se pide:\n",
    "1. Aplicar DBSCAN considerando 𝑀 = 3 y ϵ = $\\sqrt{2}$.\n",
    "2. Aplicar DBSCAN considerando 𝑀 = 3 y ϵ = $\\sqrt{10}$.\n",
    "3. ¿En qué afecta el cambio del parámetro ϵ ?"
   ]
  },
  {
   "cell_type": "code",
   "execution_count": 536,
   "metadata": {},
   "outputs": [
    {
     "data": {
      "text/html": [
       "<div>\n",
       "<style scoped>\n",
       "    .dataframe tbody tr th:only-of-type {\n",
       "        vertical-align: middle;\n",
       "    }\n",
       "\n",
       "    .dataframe tbody tr th {\n",
       "        vertical-align: top;\n",
       "    }\n",
       "\n",
       "    .dataframe thead th {\n",
       "        text-align: right;\n",
       "    }\n",
       "</style>\n",
       "<table border=\"1\" class=\"dataframe\">\n",
       "  <thead>\n",
       "    <tr style=\"text-align: right;\">\n",
       "      <th></th>\n",
       "      <th>coorX</th>\n",
       "      <th>coorY</th>\n",
       "    </tr>\n",
       "  </thead>\n",
       "  <tbody>\n",
       "    <tr>\n",
       "      <th>0</th>\n",
       "      <td>2</td>\n",
       "      <td>10</td>\n",
       "    </tr>\n",
       "    <tr>\n",
       "      <th>1</th>\n",
       "      <td>2</td>\n",
       "      <td>5</td>\n",
       "    </tr>\n",
       "    <tr>\n",
       "      <th>2</th>\n",
       "      <td>8</td>\n",
       "      <td>4</td>\n",
       "    </tr>\n",
       "    <tr>\n",
       "      <th>3</th>\n",
       "      <td>5</td>\n",
       "      <td>8</td>\n",
       "    </tr>\n",
       "    <tr>\n",
       "      <th>4</th>\n",
       "      <td>7</td>\n",
       "      <td>5</td>\n",
       "    </tr>\n",
       "    <tr>\n",
       "      <th>5</th>\n",
       "      <td>6</td>\n",
       "      <td>4</td>\n",
       "    </tr>\n",
       "    <tr>\n",
       "      <th>6</th>\n",
       "      <td>1</td>\n",
       "      <td>2</td>\n",
       "    </tr>\n",
       "    <tr>\n",
       "      <th>7</th>\n",
       "      <td>4</td>\n",
       "      <td>9</td>\n",
       "    </tr>\n",
       "  </tbody>\n",
       "</table>\n",
       "</div>"
      ],
      "text/plain": [
       "   coorX  coorY\n",
       "0      2     10\n",
       "1      2      5\n",
       "2      8      4\n",
       "3      5      8\n",
       "4      7      5\n",
       "5      6      4\n",
       "6      1      2\n",
       "7      4      9"
      ]
     },
     "execution_count": 536,
     "metadata": {},
     "output_type": "execute_result"
    }
   ],
   "source": [
    "l5p3_df = l5p1.copy()\n",
    "l5p3_df"
   ]
  },
  {
   "cell_type": "code",
   "execution_count": 537,
   "metadata": {},
   "outputs": [],
   "source": [
    "def get_neighbors(df, point, eps):\n",
    "    neighbours = []\n",
    "    for i, row in df.iterrows():\n",
    "        if distancia_euclidea(point, row[[\"coorX\", \"coorY\"]]) < eps:\n",
    "            neighbours.append(i)\n",
    "    return neighbours"
   ]
  },
  {
   "cell_type": "code",
   "execution_count": 538,
   "metadata": {},
   "outputs": [],
   "source": [
    "def dbscan(df, m, epsilon):\n",
    "    clusters = {}\n",
    "    noise = []\n",
    "    visited = []\n",
    "    cluster_id = 0\n",
    "    for i, row in df.iterrows():\n",
    "        # if point is not visited\n",
    "        if i not in visited:\n",
    "            # mark as visited\n",
    "            visited.append(i)\n",
    "            # get neighbors\n",
    "            neighbors = get_neighbors(df, row, epsilon)\n",
    "            # if point is not a core point\n",
    "            if len(neighbors) < m:\n",
    "                # mark as noise\n",
    "                noise.append(i)\n",
    "            else:\n",
    "                # create a new cluster\n",
    "                cluster_id += 1\n",
    "                clusters[cluster_id] = []\n",
    "                # add point to cluster\n",
    "                clusters[cluster_id].append(i)\n",
    "                # for each neighbor\n",
    "                for j in neighbors:\n",
    "                    # if neighbor is not visited\n",
    "                    if j not in visited:\n",
    "                        # mark as visited\n",
    "                        visited.append(j)\n",
    "                        # get neighbors of neighbor\n",
    "                        neighbors2 = get_neighbors(df, row, epsilon)\n",
    "                        # if neighbor is a core point\n",
    "                        if len(neighbors2) >= m:\n",
    "                            # add neighbors of neighbor to neighbors\n",
    "                            neighbors += neighbors2\n",
    "                    # if neighbor is not assigned to a cluster\n",
    "                    if j not in clusters[cluster_id]:\n",
    "                        # add neighbor to cluster\n",
    "                        clusters[cluster_id].append(j)\n",
    "    return clusters, noise"
   ]
  },
  {
   "cell_type": "code",
   "execution_count": 539,
   "metadata": {},
   "outputs": [
    {
     "data": {
      "text/plain": [
       "({}, [0, 1, 2, 3, 4, 5, 6, 7])"
      ]
     },
     "execution_count": 539,
     "metadata": {},
     "output_type": "execute_result"
    }
   ],
   "source": [
    "dbscan(l5p3_df, m=3, epsilon=2**0.5)"
   ]
  },
  {
   "cell_type": "code",
   "execution_count": 540,
   "metadata": {},
   "outputs": [
    {
     "data": {
      "text/plain": [
       "({1: [2, 4, 5], 2: [7, 0, 3]}, [0, 1, 3, 6])"
      ]
     },
     "execution_count": 540,
     "metadata": {},
     "output_type": "execute_result"
    }
   ],
   "source": [
    "dbscan(l5p3_df, m=3, epsilon=10**0.5)"
   ]
  }
 ],
 "metadata": {
  "kernelspec": {
   "display_name": "Python 3.8.5 ('venv': venv)",
   "language": "python",
   "name": "python3"
  },
  "language_info": {
   "codemirror_mode": {
    "name": "ipython",
    "version": 3
   },
   "file_extension": ".py",
   "mimetype": "text/x-python",
   "name": "python",
   "nbconvert_exporter": "python",
   "pygments_lexer": "ipython3",
   "version": "3.8.5"
  },
  "orig_nbformat": 4,
  "vscode": {
   "interpreter": {
    "hash": "246ca3cf8243da353637bcca66d8dd45bdeb745c89e6e0812819da85cfdd11e5"
   }
  }
 },
 "nbformat": 4,
 "nbformat_minor": 2
}
