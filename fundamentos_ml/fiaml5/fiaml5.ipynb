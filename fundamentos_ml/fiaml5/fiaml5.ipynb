{
 "cells": [
  {
   "cell_type": "markdown",
   "metadata": {},
   "source": [
    "# Modelos de Regresión y Clasificación II\n",
    "Actividad Lección 5 || Fundamentos de IA y Machine Learning\n",
    "\n",
    "Objetivos:\n",
    "* Aplicar conceptos teóricos vistos en clase\n",
    "\n",
    "Datos del alumno:\n",
    "* Víctor Luque Martín\n",
    "* Máster Avanzado en Programación en Python para Hacking, BigData y Machine Learning\n",
    "\n",
    "Fecha: 29/10/2022"
   ]
  },
  {
   "cell_type": "markdown",
   "metadata": {},
   "source": [
    "# Tabla de contenidos\n",
    "1. [Preparación Previa](#pp)\n",
    "    1. [Importar librerías](#pp-importar)\n",
    "    2. [Distancia Euclídea](#pp-distancia)\n",
    "    3. [Función para calcular el número de vecinos más cercanos](#pp-vecinos)\n",
    "2. [Problema I](#p1)\n",
    "    1. [Carga de datos](#p1-carga-datos)\n",
    "    2. [Representación de los datos](#p1-representacion)\n",
    "    3. [Algoritmo de agrupamiento k-medias](#p1-algoritmo)\n",
    "    4. [Evolución de los centroides](#p1-evolucion)\n",
    "    5. [Resultados](#p1-resultados)\n",
    "    6. [Métrica SSE](#p1-metrica)\n",
    "3. [Problema II](#p2)\n",
    "    1. [Algoritmo de clustering jerárquico](#p2-algoritmo)\n",
    "    2. [Resultados enlace simple](#p2-simple)\n",
    "    3. [Resultados enlace completo](#p2-completo)\n",
    "    4. [Enlace medio](#p2-medio)\n",
    "4. [Problema III](#p3)\n",
    "    1. [Carga de datos](#p3-carga-datos)\n",
    "    2. [Algoritmo DBSCAN](#p3-dbscan)\n",
    "    3. [Resultados DBSCAN con 𝑀 = 3 y ϵ = $\\sqrt{2}$](#p3-dbscan-1)\n",
    "    4. [Resultados DBSCAN con 𝑀 = 3 y ϵ = $\\sqrt{10}$](#p3-dbscan-2)\n",
    "    5. [Representación de los resultados](#p3-representacion)\n",
    "    6. [¿En qué afecta el cambio del parámetro ϵ?](#p3-epsilon)"
   ]
  },
  {
   "cell_type": "markdown",
   "metadata": {},
   "source": [
    "# Prepación Previa <a class=\"anchor\" name=\"pp\"></a>\n",
    "- Importar librerías\n",
    "- Definir función distancia euclídea"
   ]
  },
  {
   "cell_type": "markdown",
   "metadata": {},
   "source": [
    "## Importar librerías <a class=\"anchor\" name=\"pp-importar\"></a>"
   ]
  },
  {
   "cell_type": "code",
   "execution_count": 1,
   "metadata": {},
   "outputs": [],
   "source": [
    "import pandas as pd\n",
    "import matplotlib.pyplot as plt\n",
    "import seaborn as sns\n",
    "import numpy as np"
   ]
  },
  {
   "cell_type": "markdown",
   "metadata": {},
   "source": [
    "## Distancia euclídea <a class=\"anchor\" name=\"pp-distancia\"></a>\n",
    "Es la raíz cuadrada de las diferencias al cuadrado de cada una de las coordenadas de los puntos.\n",
    "\n",
    "$$d_E(X_1,X_2) = \\sqrt{\\sum_{i=1}^{k} (X_{1i} - X_{2i})^2}$$"
   ]
  },
  {
   "cell_type": "code",
   "execution_count": 2,
   "metadata": {},
   "outputs": [],
   "source": [
    "def distancia_euclidea(x1, x2):\n",
    "    if len(x1) != len(x2):\n",
    "        raise Exception(\"Las coordenadas deben tener la misma cantidad de elementos\")\n",
    "    k = len(x1)\n",
    "    sumatorio = sum([(x1[i] - x2[i])**2 for i in range(k)])\n",
    "    return sumatorio**0.5"
   ]
  },
  {
   "cell_type": "markdown",
   "metadata": {},
   "source": [
    "## Función para calcular el número de vecinos más cercanos <a class=\"anchor\" name=\"pp-vecinos\"></a>\n",
    "A partir de un conjunto de datos, un punto y un radio, devuelve los puntos que se encuentran dentro del radio. Se apoya en la función distancia euclídea para calcular la distancia entre el punto y los puntos del conjunto de datos."
   ]
  },
  {
   "cell_type": "code",
   "execution_count": 3,
   "metadata": {},
   "outputs": [],
   "source": [
    "def get_neighbors(df, point, eps):\n",
    "    neighbours = []\n",
    "    for i, row in df.iterrows():\n",
    "        if distancia_euclidea(point, row[[\"coorX\", \"coorY\"]]) <= eps:\n",
    "            neighbours.append(i)\n",
    "    return neighbours"
   ]
  },
  {
   "cell_type": "markdown",
   "metadata": {},
   "source": [
    "# Problema I <a name=\"p1\"></a>\n",
    "Se pide agrupar un total de 8 patrones bidimensionales en tres clusters (𝑘 = 3). Los patrones son los siguientes: A1 (2,10), A2(2,5), A3(8,4), A4(5,8), A5(7,5),\n",
    "A6(6,4), A7(1,2) y A8(4,9). Los centroides iniciales son los puntos A1, A3 y A4. La métrica de distancia utilizada será la distancia euclídea.\n",
    "Se pide:\n",
    "1. Representar los clusters creados y la posición de los centroides después de cada iteración.\n",
    "2. El valor de la métrica SSE.\n",
    "3. Comparar los resultados con los obtenidos en el ejemplo de la sección 2.3. del manual de la lección 5.\n",
    "4. ¿Á que se debe la diferencia de resultados?"
   ]
  },
  {
   "cell_type": "markdown",
   "metadata": {},
   "source": [
    "## Carga de datos <a class=\"anchor\" name=\"p1-carga-datos\"></a>\n",
    "Se muestran de forma resaltada los puntos iniciales de los centroides (A1, A3, A4)."
   ]
  },
  {
   "cell_type": "code",
   "execution_count": 4,
   "metadata": {},
   "outputs": [
    {
     "data": {
      "text/html": [
       "<div>\n",
       "<style scoped>\n",
       "    .dataframe tbody tr th:only-of-type {\n",
       "        vertical-align: middle;\n",
       "    }\n",
       "\n",
       "    .dataframe tbody tr th {\n",
       "        vertical-align: top;\n",
       "    }\n",
       "\n",
       "    .dataframe thead th {\n",
       "        text-align: right;\n",
       "    }\n",
       "</style>\n",
       "<table border=\"1\" class=\"dataframe\">\n",
       "  <thead>\n",
       "    <tr style=\"text-align: right;\">\n",
       "      <th></th>\n",
       "      <th>coorX</th>\n",
       "      <th>coorY</th>\n",
       "    </tr>\n",
       "  </thead>\n",
       "  <tbody>\n",
       "    <tr>\n",
       "      <th>0</th>\n",
       "      <td>2</td>\n",
       "      <td>10</td>\n",
       "    </tr>\n",
       "    <tr>\n",
       "      <th>1</th>\n",
       "      <td>2</td>\n",
       "      <td>5</td>\n",
       "    </tr>\n",
       "    <tr>\n",
       "      <th>2</th>\n",
       "      <td>8</td>\n",
       "      <td>4</td>\n",
       "    </tr>\n",
       "    <tr>\n",
       "      <th>3</th>\n",
       "      <td>5</td>\n",
       "      <td>8</td>\n",
       "    </tr>\n",
       "    <tr>\n",
       "      <th>4</th>\n",
       "      <td>7</td>\n",
       "      <td>5</td>\n",
       "    </tr>\n",
       "    <tr>\n",
       "      <th>5</th>\n",
       "      <td>6</td>\n",
       "      <td>4</td>\n",
       "    </tr>\n",
       "    <tr>\n",
       "      <th>6</th>\n",
       "      <td>1</td>\n",
       "      <td>2</td>\n",
       "    </tr>\n",
       "    <tr>\n",
       "      <th>7</th>\n",
       "      <td>4</td>\n",
       "      <td>9</td>\n",
       "    </tr>\n",
       "  </tbody>\n",
       "</table>\n",
       "</div>"
      ],
      "text/plain": [
       "   coorX  coorY\n",
       "0      2     10\n",
       "1      2      5\n",
       "2      8      4\n",
       "3      5      8\n",
       "4      7      5\n",
       "5      6      4\n",
       "6      1      2\n",
       "7      4      9"
      ]
     },
     "execution_count": 4,
     "metadata": {},
     "output_type": "execute_result"
    }
   ],
   "source": [
    "l5p1 = pd.read_csv(\"l5p1.csv\")\n",
    "l5p1"
   ]
  },
  {
   "cell_type": "markdown",
   "metadata": {},
   "source": [
    "## Representación de los datos <a class=\"anchor\" name=\"p1-representacion\"></a>\n",
    "Los centroides vienen representados como puntos rojos"
   ]
  },
  {
   "cell_type": "code",
   "execution_count": 5,
   "metadata": {},
   "outputs": [
    {
     "data": {
      "image/png": "[encoded data removed]",
      "text/plain": [
       "<Figure size 640x480 with 1 Axes>"
      ]
     },
     "metadata": {},
     "output_type": "display_data"
    }
   ],
   "source": [
    "sns.scatterplot(x=\"coorX\", y=\"coorY\", data=l5p1)\n",
    "# change color of points (2,10), (8,4), (5,8)\n",
    "plt.scatter([2,8,5], [10,4,8], color=\"red\")\n",
    "plt.show()"
   ]
  },
  {
   "cell_type": "markdown",
   "metadata": {},
   "source": [
    "## Algortimo de agrupamiento k-medias <a class=\"anchor\" name=\"p1-algoritmo\"></a>\n",
    "En este algoritmo se asume que se conoce o se cree conocer el número de clusters 𝑘. Por tanto, dado un valor de 𝑘, la idea es encontrar la partición que optimice el criterio de particionamiento. Cada grupo tiene asociado un centroide y se busca que cada punto o patrón esté lo más cerca posible de su centroide, utilizando cualquier métrica de distancia. Iterativamente, se van actualizando estos centroides en función de las asignaciones de cada punto a los distintos grupos, proceso que se repite hasta que los centroides dejan de cambiar."
   ]
  },
  {
   "cell_type": "code",
   "execution_count": 6,
   "metadata": {},
   "outputs": [],
   "source": [
    "def kmedias(l5p1):\n",
    "    # inicializar los centroides\n",
    "    c1, c2, c3 = (2,10), (8,4), (5,8)\n",
    "    cambio = True\n",
    "    result_df: pd.DataFrame = l5p1.copy()\n",
    "    check_df: pd.DataFrame = l5p1.copy()\n",
    "    i = 0\n",
    "    # Crea una figura para 4 iteraciones\n",
    "    fig, ax = plt.subplots(ncols=4, figsize=(20, 5))\n",
    "    while cambio:\n",
    "        # definir los clusters a partir de los centroides\n",
    "        distances_df = pd.DataFrame({\n",
    "            \"C1\": [distancia_euclidea(row[[\"coorX\", \"coorY\"]], c1) for _, row in result_df.iterrows()],\n",
    "            \"C2\": [distancia_euclidea(row[[\"coorX\", \"coorY\"]], c2) for _, row in result_df.iterrows()],\n",
    "            \"C3\": [distancia_euclidea(row[[\"coorX\", \"coorY\"]], c3) for _, row in result_df.iterrows()],\n",
    "        })\n",
    "        # comprobación cambios en el cluster\n",
    "        # en caso de no haber cambios entre iteraciones, se termina el algoritmo\n",
    "        check_df[\"cluster\"] = distances_df.idxmin(axis=1)\n",
    "        if \"cluster\" in result_df.columns:\n",
    "            cambio = not (result_df[\"cluster\"] == check_df[\"cluster\"]).all()\n",
    "        # asignar los clusteres a los puntos\n",
    "        result_df[\"cluster\"] = distances_df.idxmin(axis=1)\n",
    "        \n",
    "        # plotear los puntos\n",
    "        sns.scatterplot(x=\"coorX\", y=\"coorY\", hue=\"cluster\", data=result_df, ax=ax[i])\n",
    "        ax[i].scatter([c1[0],c2[0],c3[0]], [c1[1],c2[1],c3[1]], color=[\"blue\", \"green\", \"orange\"], marker=\"x\")\n",
    "        ax[i].set_title(f\"Iteración {i}\")\n",
    "        for j, txt in enumerate([c1, c2, c3]):\n",
    "            ax[i].annotate(f\"({round(txt[0], 2)}, {round(txt[1], 2)})\", (txt[0]+0.1, txt[1]+0.1))\n",
    "        # actualizar los centroides\n",
    "        c1 = tuple(result_df[result_df[\"cluster\"] == \"C1\"][[\"coorX\", \"coorY\"]].mean().to_list())\n",
    "        c2 = tuple(result_df[result_df[\"cluster\"] == \"C2\"][[\"coorX\", \"coorY\"]].mean().to_list())\n",
    "        c3 = tuple(result_df[result_df[\"cluster\"] == \"C3\"][[\"coorX\", \"coorY\"]].mean().to_list())          \n",
    "        i+=1\n",
    "    plt.show()\n",
    "    # Asignar coordenadas a los centroides\n",
    "    result_df[\"centroid_x\"] = result_df[\"cluster\"].apply(\n",
    "        lambda x: round(c1[0], 2) if x == \"C1\" else round(c2[0], 2) if x == \"C2\" else round(c3[0], 2))\n",
    "    result_df[\"centroid_y\"] = result_df[\"cluster\"].apply(\n",
    "        lambda x: round(c1[1], 2) if x == \"C1\" else round(c2[1], 2) if x == \"C2\" else round(c3[1], 2))\n",
    "    return result_df"
   ]
  },
  {
   "cell_type": "markdown",
   "metadata": {},
   "source": [
    "## Evolución de los centroides <a class=\"anchor\" name=\"p1-evolucion\"></a>\n",
    "Al invocar a la función kmedias, se obtiene la evolución de los centroides en cada iteración.\n",
    "\n",
    "Los centroides de cada cluster vienen representados con cruces (x)"
   ]
  },
  {
   "cell_type": "code",
   "execution_count": 7,
   "metadata": {},
   "outputs": [
    {
     "data": {
      "image/png": "[encoded data removed]",
      "text/plain": [
       "<Figure size 2000x500 with 4 Axes>"
      ]
     },
     "metadata": {},
     "output_type": "display_data"
    }
   ],
   "source": [
    "result_df = kmedias(l5p1)"
   ]
  },
  {
   "cell_type": "markdown",
   "metadata": {},
   "source": [
    "## Resultados <a class=\"anchor\" name=\"p1-resultados\"></a>"
   ]
  },
  {
   "cell_type": "code",
   "execution_count": 8,
   "metadata": {},
   "outputs": [
    {
     "data": {
      "text/html": [
       "<div>\n",
       "<style scoped>\n",
       "    .dataframe tbody tr th:only-of-type {\n",
       "        vertical-align: middle;\n",
       "    }\n",
       "\n",
       "    .dataframe tbody tr th {\n",
       "        vertical-align: top;\n",
       "    }\n",
       "\n",
       "    .dataframe thead th {\n",
       "        text-align: right;\n",
       "    }\n",
       "</style>\n",
       "<table border=\"1\" class=\"dataframe\">\n",
       "  <thead>\n",
       "    <tr style=\"text-align: right;\">\n",
       "      <th></th>\n",
       "      <th>coorX</th>\n",
       "      <th>coorY</th>\n",
       "      <th>cluster</th>\n",
       "      <th>centroid_x</th>\n",
       "      <th>centroid_y</th>\n",
       "      <th>distancia_centroide</th>\n",
       "    </tr>\n",
       "  </thead>\n",
       "  <tbody>\n",
       "    <tr>\n",
       "      <th>0</th>\n",
       "      <td>2</td>\n",
       "      <td>10</td>\n",
       "      <td>C1</td>\n",
       "      <td>3.67</td>\n",
       "      <td>9.00</td>\n",
       "      <td>1.946510</td>\n",
       "    </tr>\n",
       "    <tr>\n",
       "      <th>1</th>\n",
       "      <td>2</td>\n",
       "      <td>5</td>\n",
       "      <td>C3</td>\n",
       "      <td>1.50</td>\n",
       "      <td>3.50</td>\n",
       "      <td>1.581139</td>\n",
       "    </tr>\n",
       "    <tr>\n",
       "      <th>2</th>\n",
       "      <td>8</td>\n",
       "      <td>4</td>\n",
       "      <td>C2</td>\n",
       "      <td>7.00</td>\n",
       "      <td>4.33</td>\n",
       "      <td>1.053043</td>\n",
       "    </tr>\n",
       "    <tr>\n",
       "      <th>3</th>\n",
       "      <td>5</td>\n",
       "      <td>8</td>\n",
       "      <td>C1</td>\n",
       "      <td>3.67</td>\n",
       "      <td>9.00</td>\n",
       "      <td>1.664001</td>\n",
       "    </tr>\n",
       "    <tr>\n",
       "      <th>4</th>\n",
       "      <td>7</td>\n",
       "      <td>5</td>\n",
       "      <td>C2</td>\n",
       "      <td>7.00</td>\n",
       "      <td>4.33</td>\n",
       "      <td>0.670000</td>\n",
       "    </tr>\n",
       "    <tr>\n",
       "      <th>5</th>\n",
       "      <td>6</td>\n",
       "      <td>4</td>\n",
       "      <td>C2</td>\n",
       "      <td>7.00</td>\n",
       "      <td>4.33</td>\n",
       "      <td>1.053043</td>\n",
       "    </tr>\n",
       "    <tr>\n",
       "      <th>6</th>\n",
       "      <td>1</td>\n",
       "      <td>2</td>\n",
       "      <td>C3</td>\n",
       "      <td>1.50</td>\n",
       "      <td>3.50</td>\n",
       "      <td>1.581139</td>\n",
       "    </tr>\n",
       "    <tr>\n",
       "      <th>7</th>\n",
       "      <td>4</td>\n",
       "      <td>9</td>\n",
       "      <td>C1</td>\n",
       "      <td>3.67</td>\n",
       "      <td>9.00</td>\n",
       "      <td>0.330000</td>\n",
       "    </tr>\n",
       "  </tbody>\n",
       "</table>\n",
       "</div>"
      ],
      "text/plain": [
       "   coorX  coorY cluster  centroid_x  centroid_y  distancia_centroide\n",
       "0      2     10      C1        3.67        9.00             1.946510\n",
       "1      2      5      C3        1.50        3.50             1.581139\n",
       "2      8      4      C2        7.00        4.33             1.053043\n",
       "3      5      8      C1        3.67        9.00             1.664001\n",
       "4      7      5      C2        7.00        4.33             0.670000\n",
       "5      6      4      C2        7.00        4.33             1.053043\n",
       "6      1      2      C3        1.50        3.50             1.581139\n",
       "7      4      9      C1        3.67        9.00             0.330000"
      ]
     },
     "execution_count": 8,
     "metadata": {},
     "output_type": "execute_result"
    }
   ],
   "source": [
    "# Asignar columna distancia al centroide\n",
    "result_df[\"distancia_centroide\"] = result_df.apply(lambda x: distancia_euclidea(\n",
    "        (x[\"coorX\"], x[\"coorY\"]), (x[\"centroid_x\"], x[\"centroid_y\"])\n",
    "    ), axis=1)\n",
    "result_df"
   ]
  },
  {
   "cell_type": "markdown",
   "metadata": {},
   "source": [
    "## Métrica SSE <a class=\"anchor\" name=\"p1-metrica\"></a>\n",
    "El SSE es la suma del error cuadrático de cada punto respecto a su centroide. Cuanto menor sea el SSE, mejor será la agrupación.\n",
    "\n",
    "$$SSE = \\sum_{i=1}^{n} (x_i - \\mu_{x_i})^2$$\n",
    "\n",
    "Siendo **$x_i$** un patrón y **$\\mu_{xi}$** el centroide del cluster al que pertenece."
   ]
  },
  {
   "cell_type": "code",
   "execution_count": 9,
   "metadata": {},
   "outputs": [
    {
     "name": "stdout",
     "output_type": "stream",
     "text": [
      "Métrica SSE: 14.333400000000003\n"
     ]
    }
   ],
   "source": [
    "sse = 0\n",
    "for i, row in result_df.iterrows():\n",
    "    sse += row[\"distancia_centroide\"]**2\n",
    "print(f\"Métrica SSE: {sse}\")"
   ]
  },
  {
   "cell_type": "markdown",
   "metadata": {},
   "source": [
    "# Problema II <a name=\"p2\"></a>\n",
    "Dada la siguiente matriz de distancias entre cinco patrones:"
   ]
  },
  {
   "cell_type": "code",
   "execution_count": 10,
   "metadata": {},
   "outputs": [
    {
     "data": {
      "text/html": [
       "<div>\n",
       "<style scoped>\n",
       "    .dataframe tbody tr th:only-of-type {\n",
       "        vertical-align: middle;\n",
       "    }\n",
       "\n",
       "    .dataframe tbody tr th {\n",
       "        vertical-align: top;\n",
       "    }\n",
       "\n",
       "    .dataframe thead th {\n",
       "        text-align: right;\n",
       "    }\n",
       "</style>\n",
       "<table border=\"1\" class=\"dataframe\">\n",
       "  <thead>\n",
       "    <tr style=\"text-align: right;\">\n",
       "      <th></th>\n",
       "      <th>A</th>\n",
       "      <th>B</th>\n",
       "      <th>C</th>\n",
       "      <th>D</th>\n",
       "      <th>E</th>\n",
       "    </tr>\n",
       "  </thead>\n",
       "  <tbody>\n",
       "    <tr>\n",
       "      <th>A</th>\n",
       "      <td>0</td>\n",
       "      <td>1</td>\n",
       "      <td>2</td>\n",
       "      <td>9</td>\n",
       "      <td>10</td>\n",
       "    </tr>\n",
       "    <tr>\n",
       "      <th>B</th>\n",
       "      <td>1</td>\n",
       "      <td>0</td>\n",
       "      <td>3</td>\n",
       "      <td>7</td>\n",
       "      <td>5</td>\n",
       "    </tr>\n",
       "    <tr>\n",
       "      <th>C</th>\n",
       "      <td>2</td>\n",
       "      <td>3</td>\n",
       "      <td>0</td>\n",
       "      <td>4</td>\n",
       "      <td>6</td>\n",
       "    </tr>\n",
       "    <tr>\n",
       "      <th>D</th>\n",
       "      <td>9</td>\n",
       "      <td>7</td>\n",
       "      <td>4</td>\n",
       "      <td>0</td>\n",
       "      <td>8</td>\n",
       "    </tr>\n",
       "    <tr>\n",
       "      <th>E</th>\n",
       "      <td>10</td>\n",
       "      <td>5</td>\n",
       "      <td>6</td>\n",
       "      <td>8</td>\n",
       "      <td>0</td>\n",
       "    </tr>\n",
       "  </tbody>\n",
       "</table>\n",
       "</div>"
      ],
      "text/plain": [
       "    A  B  C  D   E\n",
       "A   0  1  2  9  10\n",
       "B   1  0  3  7   5\n",
       "C   2  3  0  4   6\n",
       "D   9  7  4  0   8\n",
       "E  10  5  6  8   0"
      ]
     },
     "execution_count": 10,
     "metadata": {},
     "output_type": "execute_result"
    }
   ],
   "source": [
    "l5p2_df = pd.DataFrame({\n",
    "    \"A\" : [0, 1, 2, 9, 10],\n",
    "    \"B\" : [1, 0, 3, 7, 5],\n",
    "    \"C\" : [2, 3, 0, 4, 6],\n",
    "    \"D\" : [9, 7, 4, 0, 8],\n",
    "    \"E\" : [10, 5, 6, 8, 0],\n",
    "}, index=[\"A\", \"B\", \"C\", \"D\", \"E\"])\n",
    "l5p2_df\n"
   ]
  },
  {
   "cell_type": "markdown",
   "metadata": {},
   "source": [
    "Se pide:\n",
    "1. Aplicar un clustering jerárquico con el método de enlace simple.\n",
    "2. Aplicar un clustering jerárquico con el método de enlace completo.\n",
    "3. ¿Se podría usar el método de enlace medio con estos datos? Justifica la respuesta."
   ]
  },
  {
   "cell_type": "markdown",
   "metadata": {},
   "source": [
    "## Algoritmo de clustering jerárquico <a class=\"anchor\" name=\"p2-algoritmo\"></a>\n",
    "Este tipo de clustering se basa en medir la distancia entre clusters. En función del tipo de enlace que se utilice, se medirá la distancia entre los puntos más cercanos, los más lejanos o la media de las distancias entre todos los puntos. El algoritmo se basa en ir uniendo los clusters más cercanos hasta que se obtiene un único cluster. Los enlaces que trabajaremos son:\n",
    "* Enlace simple: distancia entre los puntos más cercanos de cada cluster.\n",
    "\n",
    "$$D(C,C') = min_{x \\in C, x' \\in C'} d(x,x')$$\n",
    "\n",
    "* Enlace completo: distancia entre los puntos más lejanos de cada cluster.\n",
    "\n",
    "$$D(C,C') = max_{x \\in C, x' \\in C'} d(x,x')$$\n",
    "\n",
    "* Enlace medio: distancia media entre todos los puntos de cada cluster.\n",
    "\n",
    "$$D(C,C') = \\frac{1}{|C| \\cdot |C'|} \\sum_{x \\in C, x' \\in C'} d(x,x')$$"
   ]
  },
  {
   "cell_type": "code",
   "execution_count": 11,
   "metadata": {},
   "outputs": [],
   "source": [
    "def linkage(df, func):\n",
    "    # Agrupar los clusteres dada una función de enlace\n",
    "    merged = True\n",
    "    result = {}\n",
    "    while merged:\n",
    "        merged = False\n",
    "        dist = 100\n",
    "        cluster = None\n",
    "        for i, row in df.iterrows():\n",
    "            for j, col in row.items():\n",
    "                if i != j and col < dist:\n",
    "                    dist = col\n",
    "                    cluster = (i, j)\n",
    "        if cluster:\n",
    "            print(f\"Merge ({', '.join(cluster)}) with distance {dist}\")\n",
    "            merged = True\n",
    "            # Combinar los clusteres en función de la función de enlace\n",
    "            df[cluster[0]] = df[cluster[0]].combine(df[cluster[1]], func)\n",
    "            df[cluster[1]] = df[cluster[0]]\n",
    "            # Eliminar la columna del cluster combinado\n",
    "            df = df.drop(cluster[1], axis=1)\n",
    "            df = df.drop(cluster[1], axis=0)\n",
    "            # Reemplazar nombres de columnas y filas\n",
    "            df = df.rename(\n",
    "                columns={cluster[0]: f\"{cluster[0]}{cluster[1]}\"}, \n",
    "                index={cluster[0]: f\"{cluster[0]}{cluster[1]}\"}\n",
    "            )\n",
    "            print(f\"Clusters {cluster[0]} y {cluster[1]} unidos\")\n",
    "            print(df)\n",
    "            print(\"\")\n",
    "            result[''.join(cluster)] = dist\n",
    "    return result"
   ]
  },
  {
   "cell_type": "markdown",
   "metadata": {},
   "source": [
    "## Resultados enlace simple <a class=\"anchor\" name=\"p2-simple\"></a>"
   ]
  },
  {
   "cell_type": "code",
   "execution_count": 12,
   "metadata": {},
   "outputs": [
    {
     "name": "stdout",
     "output_type": "stream",
     "text": [
      "Merge (A, B) with distance 1\n",
      "Clusters A y B unidos\n",
      "    AB  C  D   E\n",
      "AB   0  2  9  10\n",
      "C    2  0  4   6\n",
      "D    7  4  0   8\n",
      "E    5  6  8   0\n",
      "\n",
      "Merge (AB, C) with distance 2\n",
      "Clusters AB y C unidos\n",
      "     ABC  D   E\n",
      "ABC    0  9  10\n",
      "D      4  0   8\n",
      "E      5  8   0\n",
      "\n",
      "Merge (D, ABC) with distance 4\n",
      "Clusters D y ABC unidos\n",
      "      DABC  E\n",
      "DABC     0  8\n",
      "E        5  0\n",
      "\n",
      "Merge (E, DABC) with distance 5\n",
      "Clusters E y DABC unidos\n",
      "       EDABC\n",
      "EDABC      0\n",
      "\n",
      "Dendograma Enlace Simple: {'AB': 1, 'ABC': 2, 'DABC': 4, 'EDABC': 5}\n"
     ]
    }
   ],
   "source": [
    "print(f\"Dendograma Enlace Simple: {linkage(l5p2_df.copy(), min)}\")"
   ]
  },
  {
   "cell_type": "markdown",
   "metadata": {},
   "source": [
    "## Resultados enlace completo <a class=\"anchor\" name=\"p2-completo\"></a>"
   ]
  },
  {
   "cell_type": "code",
   "execution_count": 13,
   "metadata": {},
   "outputs": [
    {
     "name": "stdout",
     "output_type": "stream",
     "text": [
      "Merge (A, B) with distance 1\n",
      "Clusters A y B unidos\n",
      "    AB  C  D   E\n",
      "AB   1  2  9  10\n",
      "C    3  0  4   6\n",
      "D    9  4  0   8\n",
      "E   10  6  8   0\n",
      "\n",
      "Merge (AB, C) with distance 2\n",
      "Clusters AB y C unidos\n",
      "     ABC  D   E\n",
      "ABC    2  9  10\n",
      "D      9  0   8\n",
      "E     10  8   0\n",
      "\n",
      "Merge (D, E) with distance 8\n",
      "Clusters D y E unidos\n",
      "     ABC  DE\n",
      "ABC    2  10\n",
      "DE     9   8\n",
      "\n",
      "Merge (DE, ABC) with distance 9\n",
      "Clusters DE y ABC unidos\n",
      "       DEABC\n",
      "DEABC      9\n",
      "\n",
      "Dendograma Enlace Completo: {'AB': 1, 'ABC': 2, 'DE': 8, 'DEABC': 9}\n"
     ]
    }
   ],
   "source": [
    "print(f\"Dendograma Enlace Completo: {linkage(l5p2_df.copy(), max)}\")"
   ]
  },
  {
   "cell_type": "markdown",
   "metadata": {},
   "source": [
    "## Enlace medio <a class=\"anchor\" name=\"p2-medio\"></a>\n",
    "Para este set de datos no es posible aplicar el enlace medio, porque la matriz dada no contiene los puntos de cada cluster, sino las distancias entre ellos. Por tanto, no se puede calcular la distancia media entre todos los puntos de cada cluster."
   ]
  },
  {
   "cell_type": "markdown",
   "metadata": {},
   "source": [
    "# Problema III <a name=\"p3\"></a>\n",
    "Dados los mismos puntos del Problema I.\n",
    "Se pide:\n",
    "1. Aplicar DBSCAN considerando 𝑀 = 3 y ϵ = $\\sqrt{2}$.\n",
    "2. Aplicar DBSCAN considerando 𝑀 = 3 y ϵ = $\\sqrt{10}$.\n",
    "3. ¿En qué afecta el cambio del parámetro ϵ ?"
   ]
  },
  {
   "cell_type": "markdown",
   "metadata": {},
   "source": [
    "## Carga de datos <a class=\"anchor\" name=\"p3-carga-datos\"></a>\n",
    "Se utiliza una copia de los datos del problema I."
   ]
  },
  {
   "cell_type": "code",
   "execution_count": 14,
   "metadata": {},
   "outputs": [
    {
     "data": {
      "text/html": [
       "<div>\n",
       "<style scoped>\n",
       "    .dataframe tbody tr th:only-of-type {\n",
       "        vertical-align: middle;\n",
       "    }\n",
       "\n",
       "    .dataframe tbody tr th {\n",
       "        vertical-align: top;\n",
       "    }\n",
       "\n",
       "    .dataframe thead th {\n",
       "        text-align: right;\n",
       "    }\n",
       "</style>\n",
       "<table border=\"1\" class=\"dataframe\">\n",
       "  <thead>\n",
       "    <tr style=\"text-align: right;\">\n",
       "      <th></th>\n",
       "      <th>coorX</th>\n",
       "      <th>coorY</th>\n",
       "    </tr>\n",
       "  </thead>\n",
       "  <tbody>\n",
       "    <tr>\n",
       "      <th>0</th>\n",
       "      <td>2</td>\n",
       "      <td>10</td>\n",
       "    </tr>\n",
       "    <tr>\n",
       "      <th>1</th>\n",
       "      <td>2</td>\n",
       "      <td>5</td>\n",
       "    </tr>\n",
       "    <tr>\n",
       "      <th>2</th>\n",
       "      <td>8</td>\n",
       "      <td>4</td>\n",
       "    </tr>\n",
       "    <tr>\n",
       "      <th>3</th>\n",
       "      <td>5</td>\n",
       "      <td>8</td>\n",
       "    </tr>\n",
       "    <tr>\n",
       "      <th>4</th>\n",
       "      <td>7</td>\n",
       "      <td>5</td>\n",
       "    </tr>\n",
       "    <tr>\n",
       "      <th>5</th>\n",
       "      <td>6</td>\n",
       "      <td>4</td>\n",
       "    </tr>\n",
       "    <tr>\n",
       "      <th>6</th>\n",
       "      <td>1</td>\n",
       "      <td>2</td>\n",
       "    </tr>\n",
       "    <tr>\n",
       "      <th>7</th>\n",
       "      <td>4</td>\n",
       "      <td>9</td>\n",
       "    </tr>\n",
       "  </tbody>\n",
       "</table>\n",
       "</div>"
      ],
      "text/plain": [
       "   coorX  coorY\n",
       "0      2     10\n",
       "1      2      5\n",
       "2      8      4\n",
       "3      5      8\n",
       "4      7      5\n",
       "5      6      4\n",
       "6      1      2\n",
       "7      4      9"
      ]
     },
     "execution_count": 14,
     "metadata": {},
     "output_type": "execute_result"
    }
   ],
   "source": [
    "l5p3_df = l5p1.copy()\n",
    "l5p3_df"
   ]
  },
  {
   "cell_type": "markdown",
   "metadata": {},
   "source": [
    "## Algoritmo DBSCAN <a class=\"anchor\" name=\"p3-dbscan\"></a>\n",
    "El algoritmo DBSCAN se basa en dos parámetros: el número mínimo de puntos 𝑀 y el radio ϵ. El algoritmo DBSCAN busca los puntos que se encuentran dentro de un radio ϵ y que tienen al menos 𝑀 puntos dentro de ese radio. Estos puntos se denominan puntos centrales. A partir de estos puntos centrales, se busca los puntos que se encuentran dentro de un radio ϵ y que tienen al menos 𝑀 puntos dentro de ese radio. Estos puntos se denominan puntos frontera. Los puntos que no son ni centrales ni frontera se denominan puntos ruido."
   ]
  },
  {
   "cell_type": "code",
   "execution_count": 15,
   "metadata": {},
   "outputs": [],
   "source": [
    "def dbscan(df, m, epsilon):\n",
    "    clusters = {}\n",
    "    noise = []\n",
    "    visited = []\n",
    "    cluster_id = 0\n",
    "    for i, row in df.iterrows():\n",
    "        # Si el punto ya fue visitado, se salta\n",
    "        if i not in visited:\n",
    "            visited.append(i)\n",
    "            # Se obtienen los puntos dentro del radio\n",
    "            neighbors = get_neighbors(df, row, epsilon)\n",
    "            # Si el punto no tiene suficientes vecinos, se considera ruido\n",
    "            if len(neighbors) < m:\n",
    "                noise.append(i)\n",
    "            else:\n",
    "                # Se crea un nuevo cluster\n",
    "                cluster_id += 1\n",
    "                clusters[cluster_id] = []\n",
    "                # Se agrega el punto al cluster\n",
    "                clusters[cluster_id].append(i)\n",
    "                # Se agregan los vecinos al cluster\n",
    "                for j in neighbors:\n",
    "                    if j not in visited:\n",
    "                        visited.append(j)\n",
    "                        neighbors2 = get_neighbors(df, row, epsilon)\n",
    "                        # Si el punto tiene suficientes vecinos, se agregan a los vecinos\n",
    "                        if len(neighbors2) >= m:\n",
    "                            neighbors += neighbors2\n",
    "                    # Si el punto no pertenece a un cluster, se agrega al cluster actual\n",
    "                    if j not in clusters[cluster_id]:\n",
    "                        # Se agrega el punto al cluster\n",
    "                        clusters[cluster_id].append(j)\n",
    "    # Eliminar puntos del ruido que pertenecen a un cluster\n",
    "    for i in noise:\n",
    "        for j in clusters:\n",
    "            if i in clusters[j]:\n",
    "                noise.remove(i)\n",
    "\n",
    "    # Agrupar puntos repetidos en clusters\n",
    "    for i in clusters:\n",
    "        for j in clusters:\n",
    "            if i != j:\n",
    "                if set(clusters[i]) & set(clusters[j]):\n",
    "                    clusters[i] += clusters[j]\n",
    "                    clusters[j] = []\n",
    "    # Eliminación de clusters vacíos\n",
    "    clusters = {k: v for k, v in clusters.items() if v}\n",
    "    # Eliminación de puntos repetidos en clusters\n",
    "    for i in clusters:\n",
    "        clusters[i] = list(set(clusters[i]))\n",
    "    return clusters, noise"
   ]
  },
  {
   "cell_type": "markdown",
   "metadata": {},
   "source": [
    "## Resultados DBSCAN con 𝑀 = 3 y ϵ = $\\sqrt{2}$ <a class=\"anchor\" name=\"p3-dbscan-1\"></a>"
   ]
  },
  {
   "cell_type": "code",
   "execution_count": 16,
   "metadata": {},
   "outputs": [
    {
     "name": "stdout",
     "output_type": "stream",
     "text": [
      "Clusters: {1: [2, 4, 5]}\n",
      "Noise: [0, 1, 3, 6, 7]\n"
     ]
    }
   ],
   "source": [
    "clusters_sqrt_2, noise_sqrt_2 = dbscan(l5p3_df, m=3, epsilon=2**0.5)\n",
    "print(f\"Clusters: {clusters_sqrt_2}\")\n",
    "print(f\"Noise: {noise_sqrt_2}\")"
   ]
  },
  {
   "cell_type": "markdown",
   "metadata": {},
   "source": [
    "## Resultados DBSCAN con 𝑀 = 3 y ϵ = $\\sqrt{10}$ <a class=\"anchor\" name=\"p3-dbscan-2\"></a>"
   ]
  },
  {
   "cell_type": "code",
   "execution_count": 17,
   "metadata": {},
   "outputs": [
    {
     "name": "stdout",
     "output_type": "stream",
     "text": [
      "Clusters: {1: [2, 4, 5], 2: [0, 3, 7]}\n",
      "Noise: [1, 6]\n"
     ]
    }
   ],
   "source": [
    "clusters_sqrt_10, noise_sqrt_10 = dbscan(l5p3_df, m=3, epsilon=10**0.5)\n",
    "print(f\"Clusters: {clusters_sqrt_10}\")\n",
    "print(f\"Noise: {noise_sqrt_10}\")"
   ]
  },
  {
   "cell_type": "markdown",
   "metadata": {},
   "source": [
    "## Representación de los datos <a class=\"anchor\" name=\"p3-representacion\"></a>"
   ]
  },
  {
   "cell_type": "code",
   "execution_count": 18,
   "metadata": {},
   "outputs": [
    {
     "data": {
      "image/png": "[encoded data removed]",
      "text/plain": [
       "<Figure size 1500x500 with 2 Axes>"
      ]
     },
     "metadata": {},
     "output_type": "display_data"
    }
   ],
   "source": [
    "fig, ax = plt.subplots(1, 2, figsize=(15, 5))\n",
    "ax[0].set_title(\"DBSCAN(M = 3, ϵ = sqrt(2))\")\n",
    "ax[1].set_title(\"DBSCAN(M = 3, ϵ = sqrt(10))\")\n",
    "for i in clusters_sqrt_2:\n",
    "    ax[0].scatter(\n",
    "        l5p3_df.iloc[clusters_sqrt_2[i]][\"coorX\"], \n",
    "        l5p3_df.iloc[clusters_sqrt_2[i]][\"coorY\"], \n",
    "        label=f\"Cluster {i}\"\n",
    ")\n",
    "ax[0].scatter(\n",
    "    l5p3_df.iloc[noise_sqrt_2][\"coorX\"], \n",
    "    l5p3_df.iloc[noise_sqrt_2][\"coorY\"], \n",
    "    label=\"Noise\"\n",
    ")\n",
    "ax[0].legend()\n",
    "for i in clusters_sqrt_10:\n",
    "    ax[1].scatter(\n",
    "        l5p3_df.iloc[clusters_sqrt_10[i]][\"coorX\"], \n",
    "        l5p3_df.iloc[clusters_sqrt_10[i]][\"coorY\"], \n",
    "        label=f\"Cluster {i}\"\n",
    ")\n",
    "ax[1].scatter(\n",
    "    l5p3_df.iloc[noise_sqrt_10][\"coorX\"], \n",
    "    l5p3_df.iloc[noise_sqrt_10][\"coorY\"], \n",
    "    label=\"Noise\"\n",
    ")\n",
    "ax[1].legend()\n",
    "plt.show()"
   ]
  },
  {
   "cell_type": "markdown",
   "metadata": {},
   "source": [
    "## ¿En qué afecta el cambio del parámetro ϵ ? <a class=\"anchor\" name=\"p3-epsilon\"></a>\n",
    "El parámetro ϵ, determina la longitud específica para mirar alrededor del punto seleccionado. Si el valor de ϵ es muy pequeño, entonces los puntos que están muy cerca entre sí pueden no ser considerados como vecinos. Si el valor de ϵ es muy grande, entonces los puntos que están muy lejos entre sí pueden ser considerados como vecinos. Por lo tanto, el valor de ϵ es muy importante para determinar el número de vecinos de un punto."
   ]
  }
 ],
 "metadata": {
  "kernelspec": {
   "display_name": "Python 3 (ipykernel)",
   "language": "python",
   "name": "python3"
  },
  "language_info": {
   "codemirror_mode": {
    "name": "ipython",
    "version": 3
   },
   "file_extension": ".py",
   "mimetype": "text/x-python",
   "name": "python",
   "nbconvert_exporter": "python",
   "pygments_lexer": "ipython3",
   "version": "3.8.5"
  },
  "vscode": {
   "interpreter": {
    "hash": "246ca3cf8243da353637bcca66d8dd45bdeb745c89e6e0812819da85cfdd11e5"
   }
  }
 },
 "nbformat": 4,
 "nbformat_minor": 2
}
