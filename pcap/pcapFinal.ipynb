{
 "cells": [
  {
   "attachments": {},
   "cell_type": "markdown",
   "metadata": {},
   "source": [
    "#  Todas las lecciones\n",
    "Actividad Final || Certificación PCAP\n",
    "\n",
    "Objetivos:\n",
    "* Profundizar en los conceptos vistos en todas las lecciones del curso\n",
    "\n",
    "Datos del alumno:\n",
    "* Víctor Luque Martín\n",
    "* Máster Avanzado en Programación en Python para Hacking, BigData y Machine Learning\n",
    "\n",
    "Fecha: 29/03/2023"
   ]
  },
  {
   "cell_type": "markdown",
   "metadata": {},
   "source": [
    "# Tabla de Contenidos\n",
    "1. [Preguntas](#preguntas)\n",
    "    1. [Pregunta 1](#pregunta-1)\n",
    "    2. [Pregunta 2](#pregunta-2)\n",
    "    3. [Pregunta 3](#pregunta-3)\n",
    "    4. [Pregunta 4](#pregunta-4)\n",
    "    5. [Pregunta 5](#pregunta-5)\n",
    "    6. [Pregunta 6](#pregunta-6)\n",
    "    7. [Pregunta 7](#pregunta-7)\n",
    "    8. [Pregunta 8](#pregunta-8)\n",
    "    9. [Pregunta 9](#pregunta-9)\n",
    "    10. [Pregunta 10](#pregunta-10)\n",
    "    11. [Pregunta 11](#pregunta-11)\n",
    "    12. [Pregunta 12](#pregunta-12)\n",
    "    13. [Pregunta 13](#pregunta-13)\n",
    "    14. [Pregunta 14](#pregunta-14)\n",
    "    15. [Pregunta 15](#pregunta-15)\n",
    "    16. [Pregunta 16](#pregunta-16)\n",
    "    17. [Pregunta 17](#pregunta-17)\n",
    "    18. [Pregunta 18](#pregunta-18)\n",
    "    19. [Pregunta 19](#pregunta-19)\n",
    "    20. [Pregunta 20](#pregunta-20)"
   ]
  },
  {
   "cell_type": "markdown",
   "metadata": {},
   "source": [
    "# Preguntas <a class=\"anchor\" id=\"preguntas\"></a>\n",
    "Con esta actividad final se pretende trabajar en los diferentes conceptos vistos en esta asignatura. En esta actividad debes enviar para cada pregunta la opción u opciones correctas, así como una breve explicación de tu elección. **Es importante que no te olvides de enviar la breve explicación de tu elección ya que si no lo envías se te valorará la pregunta como incorrecta. Además, indicar que en el caso de preguntas con varias opciones posibles sólo se  corregirá la pregunta como correcta si se han indicado todas las opciones correctas y no hay ninguna incorrecta.**"
   ]
  },
  {
   "cell_type": "markdown",
   "metadata": {},
   "source": [
    "## Pregunta 1 <a class=\"anchor\" id=\"pregunta-1\"></a>\n",
    "¿Cuál será la salida por pantalla al ejecutar el siguiente código? (1 opción)\n",
    "\n",
    "```python\n",
    "class MiClase:\n",
    "    var = 0\n",
    "    def __funcion(self):\n",
    "        MiClase.var += 1\n",
    "        return MiClase.var\n",
    "\n",
    "o = MiClase()\n",
    "o._MiClase__funcion()\n",
    "print(o._MiClase__funcion())\n",
    "```\n",
    "\n",
    "A) 0 <br>\n",
    "B) 1 <br>\n",
    "C) 2 <br>\n",
    "D) 3 <br>\n",
    "E) Al ejecutarse dará un error.\n",
    "\n",
    "**Respuesta:**\n",
    "\n",
    "La respuesta correcta es la **C**.\n",
    "\n",
    "Al incrementar el valor de la variable de clase `var` en la función `__funcion` se incrementa el valor de la variable de clase `var` en 1. Por lo tanto, al ejecutar la función `__funcion` dos veces, el valor de la variable de clase `var` será 2. Siendo la respuesta correcta la **C**.\n",
    "\n",
    "**Resultado Ejecución**"
   ]
  },
  {
   "cell_type": "code",
   "execution_count": 1,
   "metadata": {},
   "outputs": [
    {
     "name": "stdout",
     "output_type": "stream",
     "text": [
      "2\n"
     ]
    }
   ],
   "source": [
    "class MiClase:\n",
    "    var = 0\n",
    "    def __funcion(self):\n",
    "        MiClase.var += 1\n",
    "        return MiClase.var\n",
    "\n",
    "o = MiClase()\n",
    "o._MiClase__funcion()\n",
    "print(o._MiClase__funcion())"
   ]
  },
  {
   "cell_type": "markdown",
   "metadata": {},
   "source": [
    "## Pregunta 2 <a class=\"anchor\" id=\"pregunta-2\"></a>\n",
    "¿Cuál o cuáles de las siguientes líneas de código funcionarán sin problemas cuando se sustituya el comentario por ella dentro del método inc() para que la salida del fragment de código sea igual a 3? (una o varias opciones)\n",
    "\n",
    "```python\n",
    "class MiClase:\n",
    "    var = 0\n",
    "\n",
    "    def __init__(self):\n",
    "        MiClase.var += 1\n",
    "        self.prop = MiClase.var\n",
    "\n",
    "    def get(self):\n",
    "        return self.prop\n",
    "\n",
    "    def put(self, val):\n",
    "        self.prop = val\n",
    "\n",
    "    def inc(self, val):\n",
    "        # Inserta aqui tu código\n",
    "\n",
    "o = MiClase()\n",
    "o.inc(1)\n",
    "print(o.get())\n",
    "```\n",
    "\n",
    "A) put(self.prop + val) <br>\n",
    "B) self.put(self.get() + val) <br>\n",
    "C) self.put(get() + val) <br>\n",
    "D) self.put(self.prop + val) <br>\n",
    "E) self.put(prop + val)\n",
    "\n",
    "**Respuesta:**\n",
    "\n",
    "Las respuestas correctas son las **B** y **D**.\n",
    "\n",
    "El método `get` devuelve el valor de la variable de instancia `prop` (con valor 1 definido en el constructor y porque solo hay instanciado un objeto de tipo MiClase) por lo que la lineas de código **B** y **D** funcionarán correctamente porque se está incrementando el valor de la variable de instancia `prop` al utilizar como parámetro el valor de `prop` más 1 (`1 + 1`). Además para poder acceder correctamente a la variable de instancia `prop` es necesario utilizar `self`, ya que se encuentra dentro de la instancia. La salida del fragmento de código será igual a 2.\n",
    "\n",
    "**Resultado Ejecución**"
   ]
  },
  {
   "cell_type": "code",
   "execution_count": 2,
   "metadata": {},
   "outputs": [
    {
     "name": "stdout",
     "output_type": "stream",
     "text": [
      "2\n"
     ]
    }
   ],
   "source": [
    "class MiClase:\n",
    "    var = 0\n",
    "\n",
    "    def __init__(self):\n",
    "        MiClase.var += 1\n",
    "        self.prop = MiClase.var\n",
    "\n",
    "    def get(self):\n",
    "        return self.prop\n",
    "\n",
    "    def put(self, val):\n",
    "        self.prop = val\n",
    "\n",
    "    def inc(self, val):\n",
    "        self.put(self.get() + val) # opcion B\n",
    "\n",
    "o = MiClase()\n",
    "o.inc(1)\n",
    "print(o.get())"
   ]
  },
  {
   "cell_type": "code",
   "execution_count": 3,
   "metadata": {},
   "outputs": [
    {
     "name": "stdout",
     "output_type": "stream",
     "text": [
      "2\n"
     ]
    }
   ],
   "source": [
    "class MiClase:\n",
    "    var = 0\n",
    "\n",
    "    def __init__(self):\n",
    "        MiClase.var += 1\n",
    "        self.prop = MiClase.var\n",
    "\n",
    "    def get(self):\n",
    "        return self.prop\n",
    "\n",
    "    def put(self, val):\n",
    "        self.prop = val\n",
    "\n",
    "    def inc(self, val):\n",
    "        self.put(self.prop + val) # opcion D\n",
    "\n",
    "o = MiClase()\n",
    "o.inc(1)\n",
    "print(o.get())"
   ]
  },
  {
   "cell_type": "markdown",
   "metadata": {},
   "source": [
    "## Pregunta 3 <a class=\"anchor\" id=\"pregunta-3\"></a>\n",
    "¿Cuál o cuáles de las siguientes expresiones devolverá True? (una o varias opciones)\n",
    "\n",
    "A) ' T ' in 'Toledo' <br>\n",
    "B) 'eo' in 'Toledo' <br>\n",
    "C) 'a' not in 'ABC' <br>\n",
    "D) 'True' == 1 <br>\n",
    "E) False == 0 <br>\n",
    "F) 46 == 46.0 <br>\n",
    "\n",
    "**Respuesta:**\n",
    "\n",
    "Las respuestas correctas son las **C**, **E** y **F**.\n",
    "\n",
    "* La expresión **A** devuelve False porque la cadena `' T'` (con el espacio al principio incluido) no está contenida en la cadena 'Toledo'.\n",
    "* La expresión **B** devuelve False porque la cadena `'eo'` no está contenida en la cadena 'Toledo'.\n",
    "* La expresión **C** devuelve True porque la cadena `'a'` (importante la minuscula) no está contenida en la cadena 'ABC'.\n",
    "* La expresión **D** devuelve False porque la cadena `'True'`, como string, no es igual a 1, en caso de ser booleano si sería correcto.\n",
    "* La expresión **E** devuelve True porque False es igual a 0, internamente en Python False se representa como 0.\n",
    "* La expresión **F** devuelve True porque 46 es igual a 46.0, ya que en Python al comparar un número flotante como un número entero, internamente, se convierte el número entero a flotante."
   ]
  },
  {
   "cell_type": "code",
   "execution_count": 5,
   "metadata": {},
   "outputs": [
    {
     "name": "stdout",
     "output_type": "stream",
     "text": [
      "A) False\n",
      "B) False\n",
      "C) True\n",
      "D) False\n",
      "E) True\n",
      "F) True\n"
     ]
    }
   ],
   "source": [
    "print(f\"A) {' T ' in 'Toledo'}\")\n",
    "print(f\"B) {'eo' in 'Toledo'}\")\n",
    "print(f\"C) {'a' not in 'ABC'}\")\n",
    "print(f\"D) {'True' == 1}\")\n",
    "print(f\"E) {False == 0}\")\n",
    "print(f\"F) {46 == 46.0}\")"
   ]
  },
  {
   "cell_type": "markdown",
   "metadata": {},
   "source": [
    "## Pregunta 4 <a class=\"anchor\" id=\"pregunta-4\"></a>\n",
    "¿Cuál será la salida por pantalla al ejecutar el siguiente código? (1 opción)\n",
    "\n",
    "```python\n",
    "def mi_funcion(x, y=1):\n",
    "    if x == 1:\n",
    "        return 1\n",
    "    return x + mi_funcion(x - y)\n",
    "\n",
    "print(mi_funcion(2))\n",
    "```\n",
    "\n",
    "A) 12 <br>\n",
    "B) 21 <br>\n",
    "C) None <br>\n",
    "D) 3 <br>\n",
    "E) Lanzará una excepción\n",
    "\n",
    "**Respuesta:**\n",
    "\n",
    "La respuesta correcta es la **D**.\n",
    "\n",
    "La función `mi_funcion` es recursiva, siendo la condición de salida x == 1, en caso de no cumplirse la condición se volverá a llamar a sí misma y sumará el resultado a la variable `x`, pero restando el valor de `y` (por defecto 1) al de `x`. Por lo tanto, al llamar a la función `mi_funcion` con el valor de `x` igual a 2, se llamará a sí misma con el valor de `x` igual a 1, devolviendo 1 y sumándolo al valor de `x` (2), por lo que el resultado será 3. Siendo la respuesta correcta la **D**.\n",
    "\n",
    "**Resultado Ejecución**"
   ]
  },
  {
   "cell_type": "code",
   "execution_count": 6,
   "metadata": {},
   "outputs": [
    {
     "name": "stdout",
     "output_type": "stream",
     "text": [
      "3\n"
     ]
    }
   ],
   "source": [
    "def mi_funcion(x, y=1):\n",
    "    if x == 1:\n",
    "        return 1\n",
    "    return x + mi_funcion(x - y)\n",
    "\n",
    "print(mi_funcion(2))"
   ]
  },
  {
   "cell_type": "markdown",
   "metadata": {},
   "source": [
    "## Pregunta 5 <a class=\"anchor\" id=\"pregunta-5\"></a>\n",
    "¿Cuál será la salida por pantalla al ejecutar el siguiente código? (1 opción)\n",
    "\n",
    "```python\n",
    "def mi_funcion(n):\n",
    "    for i in range(1, n + 1, 2):\n",
    "        yield i\n",
    "\n",
    "for i in mi_funcion(4):\n",
    "    print(i, end='')\n",
    "```\n",
    "\n",
    "A) 12 <br>\n",
    "B) 13 <br>\n",
    "C) 123 <br>\n",
    "D) 1234 <br>\n",
    "E) Lanzará una excepción\n",
    "\n",
    "**Respuesta:**\n",
    "\n",
    "La respuesta correcta es la **B**.\n",
    "\n",
    "La función `mi_funcion` itera sobre un rango de números desde 1 hasta `n + 1` con un salto de 2 números. Al llamar a `mi_función` con un valor de 4, el generador devolverá los valores 1 y 3. Por lo tanto, al iterar sobre el generador, se imprimirán los valores 1 y 3 de forma concatenada por el argumento `end=''` definido en el print. Siendo la respuesta correcta la **B**.\n",
    "\n",
    "**Resultado Ejecución**"
   ]
  },
  {
   "cell_type": "code",
   "execution_count": 9,
   "metadata": {},
   "outputs": [
    {
     "name": "stdout",
     "output_type": "stream",
     "text": [
      "13"
     ]
    }
   ],
   "source": [
    "def mi_funcion(n):\n",
    "    for i in range(1, n + 1, 2):\n",
    "        yield i\n",
    "\n",
    "for i in mi_funcion(4):\n",
    "    print(i, end='')"
   ]
  },
  {
   "cell_type": "markdown",
   "metadata": {},
   "source": [
    "## Pregunta 6 <a class=\"anchor\" id=\"pregunta-6\"></a>\n",
    "Si necesitas capturar y manejar dos excepciones diferentes llamadas Ex1 y Ex2 en una única rama except, puedes escribirlo de la siguiente manera o maneras: (una o varias opciones)\n",
    "\n",
    "A) except Ex1 Ex2: <br>\n",
    "B) except (Ex1, Ex2): <br>\n",
    "C) except Ex1, Ex2: <br>\n",
    "D) except Ex1+Ex2:\n",
    "\n",
    "**Respuesta:**\n",
    "\n",
    "La respuesta correcta es la opción **B**.\n",
    "\n",
    "En un `except` es posible capturar múltiples excepciones, para ello es necesario definir una tupla con las excepciones a capturar. Siendo la respuesta correcta la opción **B**.\n",
    "\n",
    "**Resultado Ejecución**"
   ]
  },
  {
   "cell_type": "code",
   "execution_count": 10,
   "metadata": {},
   "outputs": [
    {
     "name": "stdout",
     "output_type": "stream",
     "text": [
      "EXCEPT "
     ]
    }
   ],
   "source": [
    "try:\n",
    "    raise ValueError(\"Error\")\n",
    "except (ValueError, Exception):\n",
    "    print(\"EXCEPT\", end=\" \")"
   ]
  },
  {
   "cell_type": "markdown",
   "metadata": {},
   "source": [
    "## Pregunta 7 <a class=\"anchor\" id=\"pregunta-7\"></a>\n",
    "¿Cuál será la salida por pantalla al ejecutar el siguiente código? (1 opción)\n",
    "\n",
    "```python\n",
    "i = -5\n",
    "while i < 5:\n",
    "    i = i // 2\n",
    "    if i % 3 == 0:\n",
    "        break\n",
    "else:\n",
    "    i -= 4\n",
    "print(i)\n",
    "```\n",
    "\n",
    "A) -3 <br>\n",
    "B) -7 <br>\n",
    "C) -2 <br>\n",
    "D) El bucle nunca terminaría\n",
    "\n",
    "**Respuesta:**\n",
    "\n",
    "La respuesta correcta es la **A**.\n",
    "\n",
    "Al declarar `i` con valor -5, el programa entrará en el bucle `while` y hará la división entera de `i` entre 2, quedando `i` con valor -3. Como el módulo de -3 sobre 3 es igual a 0, se ejecutará el `break` y se saldrá del bucle, al salir utilizando el `break`, el programa no entrará en el bloque `else`. Por lo tanto, el valor de `i` será -3. Siendo la respuesta correcta la **A**.\n",
    "\n",
    "**Resultado Ejecución**"
   ]
  },
  {
   "cell_type": "code",
   "execution_count": 11,
   "metadata": {},
   "outputs": [
    {
     "name": "stdout",
     "output_type": "stream",
     "text": [
      "-3\n"
     ]
    }
   ],
   "source": [
    "i = -5\n",
    "while i < 5:\n",
    "    i = i // 2\n",
    "    if i % 3 == 0:\n",
    "        break\n",
    "else:\n",
    "    i -= 4\n",
    "print(i)"
   ]
  },
  {
   "cell_type": "markdown",
   "metadata": {},
   "source": [
    "## Pregunta 8 <a class=\"anchor\" id=\"pregunta-8\"></a>\n",
    "¿Cuál será la salida por pantalla al ejecutar el siguiente código? (1 opción)\n",
    "\n",
    "```python\n",
    "lst1 = [1,2,3,4]\n",
    "lst2 = lst1[-3:-1]\n",
    "lst2[0] = -lst2[1]\n",
    "print(lst1, lst2)\n",
    "```\n",
    "\n",
    "A) [-3, 3] [-3, 3] <br>\n",
    "B) [1, 2, 3, 4] [3, 3] <br>\n",
    "C) [1, 2, 3, 4] [2, 3] <br>\n",
    "D) [1, 2, 3, 4] [3, 3, 4] <br>\n",
    "E) [1, 2, 3, 4] [-3, 3] <br>\n",
    "F) Lanzará una excepción\n",
    "\n",
    "**Respuesta:**\n",
    "\n",
    "La respuesta correcta es la **E**.\n",
    "\n",
    "Al declarar `lst2` con el valor de `lst1` desde el índice -3 hasta el índice -1, se obtiene una lista con los valores 2 y 3. Al modificar el valor del primer elemento de `lst2` con el valor negativo del segundo elemento, se obtiene el valor -3. Por lo tanto, al imprimir `lst1` y `lst2`, se obtendrán los valores [1, 2, 3, 4] y [-3, 3]. Siendo la respuesta correcta la **E**.\n",
    "\n",
    "**Resultado Ejecución**"
   ]
  },
  {
   "cell_type": "code",
   "execution_count": 13,
   "metadata": {},
   "outputs": [
    {
     "name": "stdout",
     "output_type": "stream",
     "text": [
      "[1, 2, 3, 4] [-3, 3]\n"
     ]
    }
   ],
   "source": [
    "lst1 = [1,2,3,4]\n",
    "lst2 = lst1[-3:-1]\n",
    "lst2[0] = -lst2[1]\n",
    "print(lst1, lst2)"
   ]
  },
  {
   "cell_type": "markdown",
   "metadata": {},
   "source": [
    "## Pregunta 9 <a class=\"anchor\" id=\"pregunta-9\"></a>\n",
    "Un constructor de una clase superclase: (una o varias opciones)\n",
    "\n",
    "A) Puede devolver cualquier valor con la sentencia return. <br>\n",
    "B) No puede ser invocado directamente dentro de la clase. <br>\n",
    "C) Puede ser invocado directamente por cualquiera de sus subclases. <br>\n",
    "D) Puede ser invocado directamente por cualquiera de sus superclases.\n",
    "\n",
    "**Respuesta:**\n",
    "\n",
    "La respuesta correcta es la opción **C**.\n",
    "\n",
    "* La opción **A** es incorrecta, ya que un constructor no puede devolver ningún valor.\n",
    "* La opción **B** es incorrecta, ya que un constructor puede ser invocado directamente dentro de la clase utilizando la sintaxis de la palabra clave `self`.\n",
    "* La opción **C** es correcta, ya que un constructor puede ser invocado directamente por cualquiera de sus subclases mediante la función `super()`.\n",
    "* La opción **D** es incorrecta, ya que un constructor no puede ser invocado directamente por cualquiera de sus superclases."
   ]
  },
  {
   "cell_type": "markdown",
   "metadata": {},
   "source": [
    "## Pregunta 10 <a class=\"anchor\" id=\"pregunta-10\"></a>\n",
    "Dada la siguiente función, selecciona la línea o líneas de código que al ejecutarse posteriormente no terminarán en excepcion: (una o varias opciones)\n",
    "\n",
    "```python\n",
    "def mi_funcion(a, b=0):\n",
    "    c = a * b\n",
    "\n",
    "# linea de código\n",
    "```\n",
    "\n",
    "A) x = mi_funcion(b=1) <br>\n",
    "B) mi_funcion(b=1) <br>\n",
    "C) x = mi_funcion(a=0) <br>\n",
    "D) mi_funcion(a=0) <br>\n",
    "E) x = mi_funcion(b=1, 0) <br>\n",
    "F) mi_funcion(b=1, 0) <br>\n",
    "G) x = mi_funcion(1) <br>\n",
    "H) mi_funcion(1)\n",
    "\n",
    "**Respuesta:**\n",
    "\n",
    "Las respuestas correctas son las opciones **C**, **D**, **G** y **H**.\n",
    "\n",
    "* Las opciones **A** y **B** lanzaran un error porque no se ha definido el valor del parámetro obligatorio `a`.\n",
    "* Las opciones **E** y **F** lanzaran un error porque no es posible definir parámetros sin clave después de parámetros con clave.\n",
    "* Las opciones **C**, **D**, **G** y **H** no lanzaran ningún error.\n",
    "\n",
    "**Resultado Ejecución**"
   ]
  },
  {
   "cell_type": "code",
   "execution_count": 14,
   "metadata": {},
   "outputs": [],
   "source": [
    "def mi_funcion(a, b=0):\n",
    "    c = a * b\n",
    "\n",
    "x = mi_funcion(a=0) # C)\n",
    "mi_funcion(a=0) # D)\n",
    "x = mi_funcion(1) # G)\n",
    "mi_funcion(1) # H)"
   ]
  },
  {
   "cell_type": "markdown",
   "metadata": {},
   "source": [
    "## Pregunta 11 <a class=\"anchor\" id=\"pregunta-11\"></a>\n",
    "Si necesitas leer un sólo caracter desde un stream llamado s, ¿qué instrucción utilizarías? (1 opción)\n",
    "\n",
    "A) ch = read(s, 1) <br>\n",
    "B) ch = s.input(1) <br>\n",
    "C) ch = input(s, 1) <br>\n",
    "D) ch = s.read(1)\n",
    "\n",
    "**Respuesta:**\n",
    "\n",
    "La respuesta correcta es la opción **D**.\n",
    "\n",
    "La función `read()` es una función de los streams, por lo tanto, para leer un caracter desde un stream, se debe utilizar la función `read()` del stream, además cuenta con el argumento opcional size que permite definir el tamaño del contenido que se desea leer. Siendo la respuesta correcta la opción **D**."
   ]
  },
  {
   "cell_type": "markdown",
   "metadata": {},
   "source": [
    "## Pregunta 12 <a class=\"anchor\" id=\"pregunta-12\"></a>\n",
    "¿Cuál será la salida por pantalla al ejecutar el siguiente código? (1 opción)\n",
    "\n",
    "```python\n",
    "class A:\n",
    "    def a(self):\n",
    "        print(\"A\", end='')\n",
    "    def b(self):\n",
    "        self.a()\n",
    "\n",
    "class B(A):\n",
    "    def a(self):\n",
    "        print(\"B\", end='')\n",
    "    def do(self):\n",
    "        self.b()\n",
    "\n",
    "class C(A):\n",
    "    def a(self):\n",
    "        print(\"C\", end='')\n",
    "    def do(self):\n",
    "        self.b()\n",
    "\n",
    "B().do()\n",
    "C().do()\n",
    "```\n",
    "\n",
    "A) BB <br>\n",
    "B) CC <br>\n",
    "C) AA <br>\n",
    "D) BC\n",
    "\n",
    "**Respuesta:**\n",
    "\n",
    "La respuesta correcta es la **D**.\n",
    "\n",
    "Los flujos de ejecución de los métodos `do()` de las clases `B` y `C` son los siguientes:\n",
    "* `B().do()` -> `self.b()` -> `self.a()` -> `print(\"B\", end='')` -> `B`\n",
    "* `C().do()` -> `self.b()` -> `self.a()` -> `print(\"C\", end='')` -> `C`\n",
    "\n",
    "Al trabajar con herencia, el método `a()` es sobreescrito por cada subclase por lo que el resultado de la ejecución del código es **BC**. Siendo la respuesta correcta la **D**.\n",
    "\n",
    "**Resultado Ejecución**"
   ]
  },
  {
   "cell_type": "code",
   "execution_count": 16,
   "metadata": {},
   "outputs": [
    {
     "name": "stdout",
     "output_type": "stream",
     "text": [
      "BC"
     ]
    }
   ],
   "source": [
    "class A:\n",
    "    def a(self):\n",
    "        print(\"A\", end='')\n",
    "    def b(self):\n",
    "        self.a()\n",
    "\n",
    "class B(A):\n",
    "    def a(self):\n",
    "        print(\"B\", end='')\n",
    "    def do(self):\n",
    "        self.b()\n",
    "\n",
    "class C(A):\n",
    "    def a(self):\n",
    "        print(\"C\", end='')\n",
    "    def do(self):\n",
    "        self.b()\n",
    "\n",
    "B().do()\n",
    "C().do()"
   ]
  },
  {
   "cell_type": "markdown",
   "metadata": {},
   "source": [
    "## Pregunta 13 <a class=\"anchor\" id=\"pregunta-13\"></a>\n",
    "¿Cuántos asteriscos se mostrarán por pantalla al ejecutar el siguiente código? (1 opción)\n",
    "\n",
    "```python\n",
    "s = '******'\n",
    "s = s - s[1:2]\n",
    "print(s)\n",
    "```\n",
    "\n",
    "A) Cinco <br>\n",
    "B) Ninguno, el código dará error <br>\n",
    "C) Cuatro <br>\n",
    "D) Dos\n",
    "\n",
    "**Respuesta:**\n",
    "\n",
    "La respuesta correcta es la **B**.\n",
    "\n",
    "La operación `-` no está definida para los strings, por lo que al intentar ejecutar el código, se lanzará una excepción. Siendo la respuesta correcta la **B**.\n",
    "\n",
    "**Resultado Ejecución**"
   ]
  },
  {
   "cell_type": "code",
   "execution_count": 17,
   "metadata": {},
   "outputs": [
    {
     "ename": "TypeError",
     "evalue": "unsupported operand type(s) for -: 'str' and 'str'",
     "output_type": "error",
     "traceback": [
      "\u001b[1;31m---------------------------------------------------------------------------\u001b[0m",
      "\u001b[1;31mTypeError\u001b[0m                                 Traceback (most recent call last)",
      "Cell \u001b[1;32mIn[17], line 2\u001b[0m\n\u001b[0;32m      1\u001b[0m s \u001b[39m=\u001b[39m \u001b[39m'\u001b[39m\u001b[39m******\u001b[39m\u001b[39m'\u001b[39m\n\u001b[1;32m----> 2\u001b[0m s \u001b[39m=\u001b[39m s \u001b[39m-\u001b[39;49m s[\u001b[39m1\u001b[39;49m:\u001b[39m2\u001b[39;49m]\n\u001b[0;32m      3\u001b[0m \u001b[39mprint\u001b[39m(s)\n",
      "\u001b[1;31mTypeError\u001b[0m: unsupported operand type(s) for -: 'str' and 'str'"
     ]
    }
   ],
   "source": [
    "s = '******'\n",
    "s = s - s[1:2]\n",
    "print(s)"
   ]
  },
  {
   "cell_type": "markdown",
   "metadata": {},
   "source": [
    "## Pregunta 14 <a class=\"anchor\" id=\"pregunta-14\"></a>\n",
    "¿Cuál o cuáles de las siguientes acciones se puede realizar después de declarar la variable mi_variable de la siguiente forma? (una o varias opciones)\n",
    "\n",
    "```python\n",
    "mi_variable = ()\n",
    "```\n",
    "\n",
    "A) mi_variable[:] <br>\n",
    "B) mi_variable.append(0) <br>\n",
    "C) mi_variable[0] <br>\n",
    "D) mi_variable[0] = 5 <br>\n",
    "E) del mi_variable\n",
    "\n",
    "**Respuesta:**\n",
    "\n",
    "Las respuestas correctas son las opciones **A**, **E**.\n",
    "\n",
    "* La opción **A** es correcta, ya que se puede realizar una operación de slicing sobre una tupla.\n",
    "* La opción **B** es incorrecta, ya que no se puede añadir elementos a una tupla.\n",
    "* La opción **C** es incorrecta, ya que no existe un elemento en la posición 0 en una tupla vacía.\n",
    "* La opción **D** es incorrecta, ya que no se puede modificar el contenido de una tupla.\n",
    "* La opción **E** es correcta, ya que se puede eliminar una tupla.\n",
    "\n",
    "**Resultado Ejecución**"
   ]
  },
  {
   "cell_type": "code",
   "execution_count": 21,
   "metadata": {},
   "outputs": [],
   "source": [
    "mi_variable = ()\n",
    "mi_variable[:] # A)\n",
    "del mi_variable # E)"
   ]
  },
  {
   "cell_type": "markdown",
   "metadata": {},
   "source": [
    "## Pregunta 15 <a class=\"anchor\" id=\"pregunta-15\"></a>\n",
    "¿Qué se puede deducir de la siguiente línea? (una o varias)\n",
    "\n",
    "```python\n",
    "x = a.b.c.f()\n",
    "```\n",
    "\n",
    "A) Que antes de dicha línea hace falta poner import a.b.c <br>\n",
    "B) Que f() se define en un subpaquete c de un subpaquete b de un paquete a <br>\n",
    "C) Que antes de dicha línea hace falta poner from a.b.c import f <br>\n",
    "D) La línea es incorrecta <br>\n",
    "E) El nombre de la función que se está invocando se llama a.b.c.f()\n",
    "\n",
    "**Respuesta:**\n",
    "\n",
    "Las respuestas correctas son las opciones **A** y **B**\n",
    "* La opción **A** es correcta, ya que es posible importar un paquete completo y acceder a sus subpaquetes y módulos.\n",
    "* La opción **B** es correcta, ya que la función `f()` se encuentra en `a > b > c`\n",
    "* La opción **C** es incorrecta, ya que al hacer el importe from a.b.c import f, se debería llamar a la función de la siguiente manera `x = f()`.\n",
    "* La opción **D** es incorrecta, ya que la línea es correcta.\n",
    "* La opción **E** es incorrecta, ya que el nombre de la función no se llama `a.b.c.f()`."
   ]
  },
  {
   "cell_type": "markdown",
   "metadata": {},
   "source": [
    "## Pregunta 16 <a class=\"anchor\" id=\"pregunta-16\"></a>\n",
    "¿Cuál será la salida por pantalla al ejecutar el siguiente código? (1 opción)\n",
    "\n",
    "```python\n",
    "lst = [x + 1 for x in range(5) if x < 3]\n",
    "lst = list(map(lambda x: x ** 1 ** 2, lst))\n",
    "print(lst)\n",
    "```\n",
    "\n",
    "A) [1, 4, 9] <br>\n",
    "B) [0, 1, 4] <br>\n",
    "C) [1, 2, 3] <br>\n",
    "D) [1, 1, 2] <br>\n",
    "\n",
    "**Respuesta:**\n",
    "\n",
    "La respuesta correcta es la **C**.\n",
    "\n",
    "En la comprensión de listas, se obtiene una lista con los valores de la expresión `x + 1` para los valores de `x` que cumplan la condición `x < 3` en el rango de números desde el 0 hasta 5 no incluido. Por lo que la lista resultante es `[1, 2, 3]`. Posteriormente se aplica la función `map()` para aplicar una doble exponencia `elemento ** 1 ** 2` de cada elemento contenido en la lista. Como el orden de ejecución del operador `**` es de derecha a izquierda, el resultado de la exponencia es `elemento ** (1 ** 2) => elemento ** 1 => elemento`. Por lo que el resultado final es `[1, 2, 3]`. Siendo la respuesta correcta la **C**.\n",
    "\n",
    "**Resultado Ejecución**"
   ]
  },
  {
   "cell_type": "code",
   "execution_count": 22,
   "metadata": {},
   "outputs": [
    {
     "name": "stdout",
     "output_type": "stream",
     "text": [
      "[1, 2, 3]\n"
     ]
    }
   ],
   "source": [
    "lst = [x + 1 for x in range(5) if x < 3]\n",
    "lst = list(map(lambda x: x ** 1 ** 2, lst))\n",
    "print(lst)"
   ]
  },
  {
   "cell_type": "markdown",
   "metadata": {},
   "source": [
    "## Pregunta 17 <a class=\"anchor\" id=\"pregunta-17\"></a>\n",
    "¿Cuántos asteriscos se van a mostrar por pantalla al ejecutar el siguiente código? (1 opción)\n",
    "\n",
    "```python\t\n",
    "def mi_funcion(x):\n",
    "    if x <= 0:\n",
    "        print('*', end='')\n",
    "    elif x >= 2:\n",
    "        print('*' * 2, end='')\n",
    "    else:\n",
    "        print('*' * 1, end='')\n",
    "\n",
    "for i in range(1:4):\n",
    "    mi_funcion(i)\n",
    "```\n",
    "\n",
    "A) 4 <br>\n",
    "B) 5 <br>\n",
    "C) 3 <br>\n",
    "D) El código dará error\n",
    "\n",
    "**Respuesta:**\n",
    "\n",
    "La respuesta correcta es la **D**.\n",
    "\n",
    "La sintaxis del bucle `for` es incorrecta, ya que se ha utilizado `:` en lugar de `,`. Siendo la respuesta correcta la **D**.\n",
    "\n",
    "**Resultado Ejecución**"
   ]
  },
  {
   "cell_type": "code",
   "execution_count": 23,
   "metadata": {},
   "outputs": [
    {
     "ename": "SyntaxError",
     "evalue": "invalid syntax (4096685219.py, line 9)",
     "output_type": "error",
     "traceback": [
      "\u001b[1;36m  Cell \u001b[1;32mIn[23], line 9\u001b[1;36m\u001b[0m\n\u001b[1;33m    for i in range(1:4):\u001b[0m\n\u001b[1;37m                    ^\u001b[0m\n\u001b[1;31mSyntaxError\u001b[0m\u001b[1;31m:\u001b[0m invalid syntax\n"
     ]
    }
   ],
   "source": [
    "def mi_funcion(x):\n",
    "    if x <= 0:\n",
    "        print('*', end='')\n",
    "    elif x >= 2:\n",
    "        print('*' * 2, end='')\n",
    "    else:\n",
    "        print('*' * 1, end='')\n",
    "\n",
    "for i in range(1:4):\n",
    "    mi_funcion(i)"
   ]
  },
  {
   "cell_type": "markdown",
   "metadata": {},
   "source": [
    "## Pregunta 18 <a class=\"anchor\" id=\"pregunta-18\"></a>\n",
    "¿Cuál será la salida por pantalla al ejecutar el siguiente código? (1 opción)\n",
    "\n",
    "```python\n",
    "x = \"Maria\"\n",
    "y = \"maria\"\n",
    "if x == y:\n",
    "    print(\"IGUAL\")\n",
    "elif x < y:\n",
    "    print(\"MENOR\")\n",
    "else:\n",
    "    print(\"MAYOR\")\n",
    "```\n",
    "\n",
    "A) MENOR <br>\n",
    "B) IGUAL <br>\n",
    "C) MAYOR <br>\n",
    "D) No mostrará nada\n",
    "\n",
    "**Respuesta:**\n",
    "\n",
    "La respuesta correcta es la **A**.\n",
    "\n",
    "La comparación de strings se realiza de izquierda a derecha, caracter a caracter. En el caso de que los caracteres sean iguales, se pasa al siguiente caracter. En el caso de que los caracteres sean diferentes, se realiza la comparación de acuerdo al valor numérico ascii de cada caracter. Por lo que al hacer al comparación de `x` < `y` se comparan las letras `M` y `m`, siendo `M` (77) menor que `m` (109) en el valor numérico ascii. Siendo la respuesta correcta la **A**.\n",
    "\n",
    "**Resultado Ejecución**"
   ]
  },
  {
   "cell_type": "code",
   "execution_count": 24,
   "metadata": {},
   "outputs": [
    {
     "name": "stdout",
     "output_type": "stream",
     "text": [
      "MENOR\n"
     ]
    }
   ],
   "source": [
    "x = \"Maria\"\n",
    "y = \"maria\"\n",
    "if x == y:\n",
    "    print(\"IGUAL\")\n",
    "elif x < y:\n",
    "    print(\"MENOR\")\n",
    "else:\n",
    "    print(\"MAYOR\")"
   ]
  },
  {
   "cell_type": "markdown",
   "metadata": {},
   "source": [
    "## Pregunta 19 <a class=\"anchor\" id=\"pregunta-19\"></a>\n",
    "¿Cuántos asteriscos se van a mostrar por pantalla al ejecutar el siguiente código? (1 opción)\n",
    "\n",
    "```python\n",
    "def o(p):\n",
    "    def q(a):\n",
    "        return '*' + '*' * p\n",
    "    return q\n",
    "\n",
    "r = o(2)\n",
    "s = o(3)\n",
    "\n",
    "try:\n",
    "    print(r(2), end='')\n",
    "except:\n",
    "    pass\n",
    "else:\n",
    "    print('*', end='')\n",
    "\n",
    "try:\n",
    "    print(s(), end='')\n",
    "except:\n",
    "    pass\n",
    "else:\n",
    "    print('*', end='')\n",
    "```\n",
    "\n",
    "A) No mostrará nada <br>\n",
    "B) tres <br>\n",
    "C) cuatro <br>\n",
    "D) cinco <br>\n",
    "E) nueve\n",
    "\n",
    "**Respuesta:**\n",
    "\n",
    "La respuesta correcta es la **C**.\n",
    "\n",
    "Al declarar `r = o(2)` la variable se convierte en un objeto de tipo `Callable` que invoca la función `p()` definida dentro de `o()`, de igual forma ocurre con la variable `s`. Como la función `p()` solicita un argumento, en el primer bloque `try`, se invoca la función `r(2)` que devuelve `'*' + '*' * 2 => '**'`. Por lo que se muestra por pantalla `***`, además al no producirse ningún error el programa entrará en el bloque `else` mostrando un cuarto `*`. En el último bloque `try` la variable `s` no recibe ningún argumento, por lo que se produce un error y no se realizan acciones dentro del bloque `except`. Por lo que no se mostrará nada. Finalmente, se mostrará `****`, siendo correcta la respuesta **C**."
   ]
  },
  {
   "cell_type": "code",
   "execution_count": 25,
   "metadata": {},
   "outputs": [
    {
     "name": "stdout",
     "output_type": "stream",
     "text": [
      "****"
     ]
    }
   ],
   "source": [
    "def o(p):\n",
    "    def q(a):\n",
    "        return '*' + '*' * p\n",
    "    return q\n",
    "\n",
    "r = o(2)\n",
    "s = o(3)\n",
    "\n",
    "try:\n",
    "    print(r(2), end='')\n",
    "except:\n",
    "    pass\n",
    "else:\n",
    "    print('*', end='')\n",
    "\n",
    "try:\n",
    "    print(s(), end='')\n",
    "except:\n",
    "    pass\n",
    "else:\n",
    "    print('*', end='')"
   ]
  },
  {
   "cell_type": "markdown",
   "metadata": {},
   "source": [
    "## Pregunta 20 <a class=\"anchor\" id=\"pregunta-20\"></a>\n",
    "¿Cuál será la salida por pantalla al ejecutar el siguiente código? (1 opción)\n",
    "\n",
    "```python\n",
    "class I:\n",
    "    def __init__(self):\n",
    "        self.s = 'abc'\n",
    "        self.i = 0\n",
    "\n",
    "    def __iter__(self):\n",
    "        return self\n",
    "\n",
    "    def __next__(self):\n",
    "        if self.i >= len(self.s):\n",
    "            raise StopIteration\n",
    "        v = self.s[self.i]\n",
    "        self.i += 1\n",
    "        return v\n",
    "\n",
    "for x in I():\n",
    "    print(x, end='')\n",
    "```\n",
    "\n",
    "A) cba <br>\n",
    "B) 210 <br>\n",
    "C) 012 <br>\n",
    "D) abc <br>\n",
    "\n",
    "**Respuesta:**\n",
    "\n",
    "La respuesta correcta es la **D**.\n",
    "\n",
    "La clase `I` implementa los métodos `__iter__()` y `__next__()`, por lo que se convierte en un objeto iterable. El método __next__() devuelve el valor de la posición `i` de la cadena `s` y posteriormente incrementa el valor de `i` en 1. Al iterar sobre el objeto `I()` se invocará al método `__next__()` hasta que se produzca un error `StopIteration`. Por lo que se mostrará por pantalla `abc`, siendo correcta la respuesta **D**.\n",
    "\n",
    "**Resultado Ejecución**"
   ]
  },
  {
   "cell_type": "code",
   "execution_count": 27,
   "metadata": {},
   "outputs": [
    {
     "name": "stdout",
     "output_type": "stream",
     "text": [
      "abc"
     ]
    }
   ],
   "source": [
    "class I:\n",
    "    def __init__(self):\n",
    "        self.s = 'abc'\n",
    "        self.i = 0\n",
    "\n",
    "    def __iter__(self):\n",
    "        return self\n",
    "\n",
    "    def __next__(self):\n",
    "        if self.i >= len(self.s):\n",
    "            raise StopIteration\n",
    "        v = self.s[self.i]\n",
    "        self.i += 1\n",
    "        return v\n",
    "\n",
    "for x in I():\n",
    "    print(x, end='')"
   ]
  }
 ],
 "metadata": {
  "kernelspec": {
   "display_name": "Python 3 (ipykernel)",
   "language": "python",
   "name": "python3"
  },
  "language_info": {
   "codemirror_mode": {
    "name": "ipython",
    "version": 3
   },
   "file_extension": ".py",
   "mimetype": "text/x-python",
   "name": "python",
   "nbconvert_exporter": "python",
   "pygments_lexer": "ipython3",
   "version": "3.10.10"
  }
 },
 "nbformat": 4,
 "nbformat_minor": 2
}
