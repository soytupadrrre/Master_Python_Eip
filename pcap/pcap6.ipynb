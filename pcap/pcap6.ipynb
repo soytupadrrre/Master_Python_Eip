{
 "cells": [
  {
   "attachments": {},
   "cell_type": "markdown",
   "metadata": {},
   "source": [
    "#  Módulos y paquetes, excepciones, generadores y cierres y procesado de ficheros\n",
    "Actividad Lección 6 || Certificación PCAP\n",
    "\n",
    "Objetivos:\n",
    "* Familiarizarse con los conceptos vistos en esta lección\n",
    "\n",
    "Datos del alumno:\n",
    "* Víctor Luque Martín\n",
    "* Máster Avanzado en Programación en Python para Hacking, BigData y Machine Learning\n",
    "\n",
    "Fecha: 09/10/2022"
   ]
  },
  {
   "cell_type": "markdown",
   "metadata": {},
   "source": [
    "# Tabla de Contenidos\n",
    "1. [Actividad 1: Script de Python](#actividad-1-script-de-python)\n",
    "    1. [Enunciado](#actividad-1-script-de-python-enunciado)\n",
    "    2. [Solución](#actividad-1-script-de-python-solución)\n",
    "2. [Actividad 2: Preguntas](#actividad-2-preguntas)\n",
    "    1. [Pregunta 1](#actividad-2-pregunta-1)\n",
    "    2. [Pregunta 2](#actividad-2-pregunta-2)\n",
    "    3. [Pregunta 3](#actividad-2-pregunta-3)\n",
    "    4. [Pregunta 4](#actividad-2-pregunta-4)\n",
    "    5. [Pregunta 5](#actividad-2-pregunta-5)"
   ]
  },
  {
   "attachments": {},
   "cell_type": "markdown",
   "metadata": {},
   "source": [
    "# Actividad 1: Script de Python <a name=\"actividad-1-script-de-python\"></a>\n",
    "## Enunciado <a name=\"actividad-1-script-de-python-enunciado\"></a>\n",
    "El objetivo de esta actividad es crear un pequeño código para leer las notas de los alumnos desde un fichero de texto llamado ‘fichero_texto.txt’. El fichero de texto contiene una nota por línea, pero puede haber líneas por medio vacías o con caracteres que no deben contemplarse. Al terminar de leer el fichero, debe mostrar la lista con las notas leídas, las notas que tiene con sobresaliente (aquellas con un 9.0 o más) y mostrar el número de líneas excluidas ya que no corresponden a notas (líneas con caracteres o vacías). Al mostrar las notas éstas deben estar ordenadas de menos a más.\n",
    "\n",
    "Por ejemplo, para el fichero de texto:\n",
    "\n",
    "```\n",
    "9.5\n",
    "10\n",
    "a\n",
    "9.5\n",
    "4\n",
    "\n",
    "6.4\n",
    "blanco\n",
    "9\n",
    "8\n",
    "```\n",
    "\n",
    "Deberá mostrar:\n",
    "\n",
    "```cmd\n",
    "Las notas leidas son: [4.0, 6.4, 8.0, 9.0, 9.5, 9.5, 10.0]\n",
    "Notas con sobresaliente: [9.0, 9.5, 9.5, 10.0]\n",
    "Lineas excluidas: 3\n",
    "```\n",
    "\n",
    "Se valorará que el código haga lo solicitado, la utilización de los conceptos y recursos vistos en la lección y la calidad del código. Así como se valorará la utilización de la función filter para obtener las notas con sobresaliente."
   ]
  },
  {
   "cell_type": "markdown",
   "metadata": {},
   "source": [
    "## Solución <a name=\"actividad-1-script-de-python-solución\"></a>"
   ]
  },
  {
   "cell_type": "code",
   "execution_count": 1,
   "metadata": {},
   "outputs": [
    {
     "name": "stdout",
     "output_type": "stream",
     "text": [
      "Las notas leidas son: [4.0, 6.4, 8.0, 9.0, 9.5, 9.5, 10.0]\n",
      "Notas con sobresaliente: [9.0, 9.5, 9.5, 10.0]\n",
      "Lineas excluidas: 3\n"
     ]
    }
   ],
   "source": [
    "notas = []\n",
    "n_descartes = 0\n",
    "for line in open('notas.txt', 'r').readlines():\n",
    "    try:\n",
    "        notas.append(float(line.strip()))\n",
    "    except ValueError:\n",
    "        n_descartes += 1\n",
    "\n",
    "notas.sort()\n",
    "\n",
    "print(f\"Las notas leidas son: {notas}\",\n",
    "      f\"Notas con sobresaliente: {list(filter(lambda x: x >= 9, notas))}\",\n",
    "      f\"Lineas excluidas: {n_descartes}\", sep=\"\\n\")"
   ]
  },
  {
   "attachments": {},
   "cell_type": "markdown",
   "metadata": {},
   "source": [
    "# Actividad 2: Preguntas <a name=\"actividad-2-preguntas\"></a>\n",
    "Las preguntas sobre los temas vistos en esta lección son muy comunes en el examen de certificación PCAP, por lo que con esta actividad se pretende trabajar en los diferentes conceptos vistos en esta lección. En esta actividad debes enviar para cada pregunta la opción u opciones correctas, así como una breve explicación de tu elección. **Es importante que no te olvides de enviar la breve explicación de tu elección ya que si no lo envías se te valorará la pregunta como incorrecta.**"
   ]
  },
  {
   "attachments": {},
   "cell_type": "markdown",
   "metadata": {},
   "source": [
    "## Pregunta 1 <a name=\"actividad-2-pregunta-1\"></a>\n",
    "Si tengo dos módulos definidos como:\n",
    "\n",
    "```python\n",
    "# mimodulo1.py\n",
    "print(\"MODULO1\", end=\" \")\n",
    "MODULO = 1\n",
    "```\n",
    "\n",
    "```python\n",
    "# mimodulo2.py\n",
    "print(\"MODULO2\", end=\" \")\n",
    "MODULO = 2\n",
    "```\n",
    "\n",
    "Si importo ambos módulos del siguiente modo, ¿cuál de las siguientes afirmaciones es correcta? (1 opción)\n",
    "\n",
    "```python\n",
    "from mimodulo1 import *\n",
    "from mimodulo2 import *\n",
    "from mimodulo1 import *\n",
    "from mimodulo2 import *\n",
    "print(MODULO)\n",
    "```\n",
    "\n",
    "A) Al ejecutarse el código mostrará: MODULO1 MODULO2 1 <br>\n",
    "B) Al ejecutarse el código mostrará: MODULO1 MODULO2 2 <br>\n",
    "C) Al ejecutarse el código mostrará: MODULO2 MODULO1 1 <br>\n",
    "D) Al ejecutarse el código mostrará: MODULO2 MODULO1 2 <br>\n",
    "E) Al ejecutarse el código mostrará: MODULO1 MODULO2 MODULO1 MODULO2 1 <br>\n",
    "F) Al ejecutarse el código mostrará: MODULO1 MODULO2 MODULO1 MODULO2 2 <br>\n",
    "G) Al ejecutarse el código mostrará: 1 <br>\n",
    "H) Al ejecutarse el código mostrará: 2 <br>\n",
    "I) Al ejecutarse dará un error.\n",
    "\n",
    "\n",
    "**Respuesta:**\n",
    "\n",
    "La respuesta correcta es la opción **B**.\n",
    "\n",
    "PENDING\n",
    "\n",
    "**Resultado Ejecución:**"
   ]
  },
  {
   "cell_type": "code",
   "execution_count": 1,
   "metadata": {},
   "outputs": [
    {
     "name": "stdout",
     "output_type": "stream",
     "text": [
      "MODULO1 MODULO2 2\n"
     ]
    }
   ],
   "source": [
    "from mimodulo1 import *\n",
    "from mimodulo2 import *\n",
    "from mimodulo1 import *\n",
    "from mimodulo2 import *\n",
    "print(MODULO)"
   ]
  },
  {
   "attachments": {},
   "cell_type": "markdown",
   "metadata": {},
   "source": [
    "## Pregunta 2 <a name=\"actividad-2-pregunta-2\"></a>\n",
    "¿Cuál será la salida por pantalla al ejecutar el siguiente código? (1 opción)\n",
    "\n",
    "```python\n",
    "try:\n",
    "    mi_lista = [1, 2, 3]\n",
    "    print([mi_lista[3]])\n",
    "except LookupError:\n",
    "    print(\"LookupError\")\n",
    "except IndexError:\n",
    "    print(\"IndexError\")\n",
    "except:\n",
    "    print(\"Error\")\n",
    "```\n",
    "\n",
    "A) 3 <br>\n",
    "B) Error: LookupError <br>\n",
    "C) Error: IndexError <br>\n",
    "D) Error general <br>\n",
    "\n",
    "\n",
    "**Respuesta:**\n",
    "\n",
    "La respuesta correcta es la opción **B**.\n",
    "\n",
    "PENDING\n",
    "\n",
    "**Resultado Ejecución:**"
   ]
  },
  {
   "cell_type": "code",
   "execution_count": 3,
   "metadata": {},
   "outputs": [
    {
     "name": "stdout",
     "output_type": "stream",
     "text": [
      "-YYXXWW\n"
     ]
    }
   ],
   "source": [
    "try:\n",
    "    mi_lista = [1, 2, 3]\n",
    "    print([mi_lista[3]])\n",
    "except LookupError:\n",
    "    print(\"LookupError\")\n",
    "except IndexError:\n",
    "    print(\"IndexError\")\n",
    "except:\n",
    "    print(\"Error\")"
   ]
  },
  {
   "attachments": {},
   "cell_type": "markdown",
   "metadata": {},
   "source": [
    "## Pregunta 3 <a name=\"actividad-2-pregunta-3\"></a>\n",
    "¿Cuál o cuáles de las siguientes sentencias aparecerán en la salida por pantalla al ejecutar el siguiente código? (1 o varias opciones)\n",
    "\n",
    "```python\n",
    "try:\n",
    "    x = int(\"3,4\")\n",
    "    print( \"Todo OK\")\n",
    "except ValueError:\n",
    "    print(\"Error: ValueError\")\n",
    "except:\n",
    "    print(\"Error general\")\n",
    "else:\n",
    "    print(\"ELSE\")\n",
    "finally:\n",
    "    print(\"FINALLY\")\n",
    "```\n",
    "\n",
    "A) Todo OK <br>\n",
    "B) Error: ValueError <br>\n",
    "C) Error general <br>\n",
    "D) ELSE <br>\n",
    "E) FINALLY\n",
    "\n",
    "**Respuesta:**\n",
    "\n",
    "Las respuestas correctas son la **B** y la **E**.\n",
    "\n",
    "PENDING\n",
    "\n",
    "**Resultado Ejecución:**"
   ]
  },
  {
   "cell_type": "code",
   "execution_count": 2,
   "metadata": {},
   "outputs": [
    {
     "name": "stdout",
     "output_type": "stream",
     "text": [
      "Error: ValueError\n",
      "FINALLY\n"
     ]
    }
   ],
   "source": [
    "try:\n",
    "    x = int(\"3,4\")\n",
    "    print( \"Todo OK\")\n",
    "except ValueError:\n",
    "    print(\"Error: ValueError\")\n",
    "except:\n",
    "    print(\"Error general\")\n",
    "else:\n",
    "    print(\"ELSE\")\n",
    "finally:\n",
    "    print(\"FINALLY\")"
   ]
  },
  {
   "attachments": {},
   "cell_type": "markdown",
   "metadata": {},
   "source": [
    "## Pregunta 4 <a name=\"actividad-2-pregunta-4\"></a>\n",
    "¿Cuál será la salida por pantalla al ejecutar el siguiente código? (1 opción)\n",
    "\n",
    "```python\n",
    "def o(p):\n",
    "    def q():\n",
    "        return p * '*'\n",
    "    return q\n",
    "\n",
    "r = o(1)\n",
    "s = o(2)\n",
    "print(r() + s())\n",
    "```\n",
    "\n",
    "A) **\n",
    "B) ***\n",
    "C) ****\n",
    "D) *\n",
    "E) Devolverá un error\n",
    "\n",
    "**Respuesta:**\n",
    "\n",
    "La respuesta correcta es la opción **B**.\n",
    "\n",
    "PEINDING\n",
    "\n",
    "**Resultado Ejecución:**"
   ]
  },
  {
   "cell_type": "code",
   "execution_count": 5,
   "metadata": {},
   "outputs": [
    {
     "name": "stdout",
     "output_type": "stream",
     "text": [
      "***\n"
     ]
    }
   ],
   "source": [
    "def o(p):\n",
    "    def q():\n",
    "        return p * '*'\n",
    "    return q\n",
    "\n",
    "r = o(1)\n",
    "s = o(2)\n",
    "print(r() + s())"
   ]
  },
  {
   "attachments": {},
   "cell_type": "markdown",
   "metadata": {},
   "source": [
    "## Pregunta 5 <a name=\"actividad-2-pregunta-5\"></a>\n",
    "¿Cuál será la salida por pantalla al ejecutar el siguiente código? (1 opción)\n",
    "\n",
    "```python\n",
    "def I():\n",
    "    s = '123456789'\n",
    "    for c in s[1::2]:\n",
    "        yield int(c)\n",
    "\n",
    "mi_lista = [i for i in I()]\n",
    "mi_lista2 = list(map(lambda x: x ** 2, mi_lista))\n",
    "print(mi_lista2)\n",
    "```\n",
    "\n",
    "A) [] <br>\n",
    "B) [1, 2, 3, 4, 5, 6, 7, 8] <br>\n",
    "C) [1, 4, 9, 16, 25, 36, 49, 64] <br>\n",
    "D) [2, 4, 6, 8] <br>\n",
    "E) [4, 16, 36, 64] <br>\n",
    "F) [1, 3, 5, 7] <br>\n",
    "G) [1, 9, 25, 49] <br>\n",
    "H) Devolverá un error\n",
    "\n",
    "**Respuesta:**\n",
    "\n",
    "La respuesta correcta es la opción **E**.\n",
    "\n",
    "PENDING\n",
    "\n",
    "**Resultado Ejecución:**"
   ]
  },
  {
   "cell_type": "code",
   "execution_count": 8,
   "metadata": {},
   "outputs": [
    {
     "name": "stdout",
     "output_type": "stream",
     "text": [
      "[4, 16, 36, 64]\n"
     ]
    }
   ],
   "source": [
    "def I():\n",
    "    s = '123456789'\n",
    "    for c in s[1::2]:\n",
    "        yield int(c)\n",
    "\n",
    "mi_lista = [i for i in I()]\n",
    "mi_lista2 = list(map(lambda x: x ** 2, mi_lista))\n",
    "print(mi_lista2)"
   ]
  }
 ],
 "metadata": {
  "kernelspec": {
   "display_name": "Python 3 (ipykernel)",
   "language": "python",
   "name": "python3"
  },
  "language_info": {
   "codemirror_mode": {
    "name": "ipython",
    "version": 3
   },
   "file_extension": ".py",
   "mimetype": "text/x-python",
   "name": "python",
   "nbconvert_exporter": "python",
   "pygments_lexer": "ipython3",
   "version": "3.10.5"
  }
 },
 "nbformat": 4,
 "nbformat_minor": 2
}
