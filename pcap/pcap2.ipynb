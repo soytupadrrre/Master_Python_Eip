{
 "cells": [
  {
   "attachments": {},
   "cell_type": "markdown",
   "metadata": {},
   "source": [
    "# Operadores, estructuras de control y funciones\n",
    "Actividad Lección 2 || Certificación PCAP\n",
    "\n",
    "Objetivos:\n",
    "* Familiarizarse con el uso de variables\n",
    "* Familiarizarse con la función input()\n",
    "* Familiarizarse con los operadores aritméticos y de comparación en Python\n",
    "* Familiarizarse con el concepto de ejecución condicional\n",
    "* Familiarizarse con el concepto de función\n",
    "\n",
    "Datos del alumno:\n",
    "* Víctor Luque Martín\n",
    "* Máster Avanzado en Programación en Python para Hacking, BigData y Machine Learning\n",
    "\n",
    "Fecha: 09/10/2022"
   ]
  },
  {
   "cell_type": "markdown",
   "metadata": {},
   "source": [
    "# Tabla de Contenidos\n",
    "1. [Actividad 1: Script de Python](#actividad-1-script-de-python)\n",
    "    1. [Enunciado](#actividad-1-script-de-python-enunciado)\n",
    "    2. [Solución](#actividad-1-script-de-python-solución)\n",
    "2. [Actividad 2: Preguntas](#actividad-2-preguntas)\n",
    "    1. [Pregunta 1](#actividad-2-pregunta-1)\n",
    "    2. [Pregunta 2](#actividad-2-pregunta-2)\n",
    "    3. [Pregunta 3](#actividad-2-pregunta-3)\n",
    "    4. [Pregunta 4](#actividad-2-pregunta-4)"
   ]
  },
  {
   "cell_type": "markdown",
   "metadata": {},
   "source": [
    "# Actividad 1: Script de Python <a class=\"anchor\" id=\"actividad-1-script-de-python\"></a>\n",
    "## Enunciado <a class=\"anchor\" id=\"actividad-1-script-de-python-enunciado\"></a>\n",
    "El objetivo de esta actividad es crear un pequeño código que calcule el sueldo neto anual de una pareja trabajadora dado el sueldo bruto de ambos salarios\n",
    "descontando el IRPF. Para ello, el programa deberá pedir al usuario el sueldo bruto de ambos salarios por separado (este salario bruto puede contener\n",
    "decimales), calcular el tipo aplicable de IRPF basándose en la tabla inferior y calcular el sueldo neto para cada uno de los salarios. Al finalizar la ejecución, dicho código deberá mostrar al usuario por pantalla el sueldo calculado tal y como se muestra debajo. Si el usuario introdujese un valor negativo, deberá mostrar al usuario un error amigable y volverle a pedir su salario, hasta que el salario no sea correcto no deberá pedir el salario de su pareja. Se valorará que el código haga lo solicitado, la utilización de los conceptos y recursos vistos en la lección, la calidad del código y si se ha realizado en el menor número posible de líneas.\n",
    "\n",
    "| Sueldo Bruto Desde (Íncluido) | Sueldo Bruto Hasta (Sin Incluir) | Tipo Aplicable de IRPF |\n",
    "|-------------------------------|----------------------------------|------------------------|\n",
    "| 0€                            | 12.450,00€                       | 19,00%                 |\n",
    "| 12.450,00€                    | 20.200,00€                       | 24,00%                 |\n",
    "| 20.200,00€                    | 28.000,00€                       | 30,00%                 |\n",
    "| 28.000,00€                    | 35.200,00€                       | 30,30%                 |\n",
    "| 35.200,00€                    | 50.000,00€                       | 37,10%                 |\n",
    "| 50.000,00€                    | En adelante                      | 37,20%                 |"
   ]
  },
  {
   "cell_type": "markdown",
   "metadata": {},
   "source": [
    "## Solución <a class=\"anchor\" id=\"actividad-1-script-de-python-solución\"></a>"
   ]
  },
  {
   "cell_type": "code",
   "execution_count": 1,
   "metadata": {},
   "outputs": [
    {
     "name": "stdout",
     "output_type": "stream",
     "text": [
      "Introduzca el salario bruto anual del cónyuge 1: 21000\n",
      "Introduzca el salario bruto anual del cónyuge 2: 22000.5\n",
      "\n",
      "******\n",
      "El salario bruto anual de la pareja es: 43000.50 €.\n",
      "El salario neto anual de la pareja es: 30100.35 €.\n",
      "******\n"
     ]
    }
   ],
   "source": [
    "from typing import Union # Type Hints\n",
    "\n",
    "# ==================== CONFIGURACIÓN ====================\n",
    "# Número de cónyuges \n",
    "# (En caso de que se quiera hacer para más personas)\n",
    "n_personas = 2\n",
    "\n",
    "# Tabla de retenciones IRPF \n",
    "# (Se puede hacer con if-elif-else == menos escalable)\n",
    "tabla_irpf = {            # {lim_sup: irpf}  \n",
    "    12450: .19,          # 0€ - 12.450€: 19%\n",
    "    20200: .24,          # 12.450€ - 20.200€: 24%\n",
    "    28000: .3,           # 20.200€ - 28.000€: 30%\n",
    "    35200: .303,         # 28.000€ - 35.200€: 30,3%\n",
    "    50000: .371,         # 35.200€ - 50.000€: 37,1%\n",
    "    float('inf'): .372   # 50.000€ - infinito: 37,2%\n",
    "}\n",
    "# ======================================================\n",
    "\n",
    "def calcular_salario_neto(salario: Union[int, float]) -> float:\n",
    "    \"\"\"\n",
    "    Función que calcula el salario neto a partir del bruto.\n",
    "\n",
    "    :param salario: Salario bruto anual en euros.\n",
    "    :type salario: Union[int, float]\n",
    "    :return: Salario neto anual en euros.\n",
    "    :rtype: float\n",
    "    \"\"\"\n",
    "    for limite, irpf in tabla_irpf.items():\n",
    "        if salario < limite:\n",
    "            return salario * (1 - irpf)\n",
    "\n",
    "\n",
    "def input_salario(msg: str) -> float:\n",
    "    \"\"\"\n",
    "    Función que pide al usuario un salario bruto anual y lo valida.\n",
    "\n",
    "    :param msg: Mensaje a mostrar al usuario.\n",
    "    :type msg: str\n",
    "    :return: Salario bruto anual en euros.\n",
    "    :rtype: float\n",
    "    \"\"\"\n",
    "    while True:\n",
    "        try:\n",
    "            salario = float(input(msg))\n",
    "            if salario >= 0:\n",
    "                return salario\n",
    "            else:\n",
    "                print(\"Debe introducir un salario mayor o igual a 0€\")\n",
    "        except ValueError:\n",
    "            print(\"Debe introducir un salario mayor o igual a 0€\")\n",
    "\n",
    "\n",
    "rango = range(1, n_personas + 1)\n",
    "msg = \"Introduzca el salario bruto anual del cónyuge {}: \"\n",
    "\n",
    "salarios_brutos = [input_salario(msg.format(i)) for i in rango]\n",
    "salarios_netos = list(map(calcular_salario_neto, salarios_brutos))\n",
    "\n",
    "msg = \"El salario {} anual de la pareja es: {:.2f} €.\"\n",
    "\n",
    "print(\"\\n******\", \n",
    "        msg.format('bruto', sum(salarios_brutos)), \n",
    "        msg.format('neto', sum(salarios_netos)), \n",
    "        \"******\", sep=\"\\n\")"
   ]
  },
  {
   "cell_type": "markdown",
   "metadata": {},
   "source": [
    "# Actividad 2: Preguntas <a class=\"anchor\" id=\"actividad-2-preguntas\"></a>\n",
    "Las preguntas sobre funciones y el alcance de los nombres suelen ser muy comunes en el examen de certificación PCAP, por lo que con esta actividad se pretende trabajar en los diferentes conceptos vistos en esta lección sobre funciones. En esta actividad debes enviar para cada pregunta la opción correcta, así como una breve explicación de tu elección. **Es importante que no te olvides de enviar la breve explicación de tu elección ya que si no la envías la pregunta se evaluará como incorrecta.**"
   ]
  },
  {
   "cell_type": "markdown",
   "metadata": {},
   "source": [
    "## Pregunta 1 <a class=\"anchor\" id=\"actividad-2-pregunta-1\"></a>\n",
    "¿Cuál es la salida del siguiente fragmento de código?\n",
    "\n",
    "```python\n",
    "x = 3\n",
    "def fun(x):\n",
    "    x += 3 * 2\n",
    "    return x\n",
    "\n",
    "print(fun(x+3), x, sep='')\n",
    "```\n",
    "\n",
    "A) 63 <br>\n",
    "B) 66 <br>\n",
    "C) 123 <br>\n",
    "D) 1212 <br>\n",
    "E) El programa dará un error\n",
    "\n",
    "**Respuesta:**\n",
    "\n",
    "La respuesta correcta es la opción **C**. \n",
    "\n",
    "La función `fun` recibe como parámetro el valor de la variable `x` que es 6 (3 + 3), por lo que el valor de `x` dentro de la función es 3. Dentro de la función se realiza la operación `x += 3 * 2` que es equivalente a `x = 6 + (3 * 2)`, siendo `x = 12`. Por lo tanto, el valor de `x` dentro de la función es 12. Al finalizar la ejecución de la función, esta devuelve el valor de 12, por lo que la salida del programa es `123` ya que la varible `x` declarada fuera de la función `fun` mantiene su valor inicial que es `3`, ya que en el print el separador es un string vacío.\n",
    "\n",
    "**Resultado Ejecución:**"
   ]
  },
  {
   "cell_type": "code",
   "execution_count": 2,
   "metadata": {},
   "outputs": [
    {
     "name": "stdout",
     "output_type": "stream",
     "text": [
      "123\n"
     ]
    }
   ],
   "source": [
    "x = 3\n",
    "def fun(x):\n",
    "    x += 3 * 2\n",
    "    return x\n",
    "\n",
    "print(fun(x+3), x, sep='')"
   ]
  },
  {
   "cell_type": "markdown",
   "metadata": {},
   "source": [
    "## Pregunta 2 <a class=\"anchor\" id=\"actividad-2-pregunta-2\"></a>\n",
    "¿Cuál es la salida del siguiente fragmento de código?\n",
    "\n",
    "```python\n",
    "def fun(x, y):\n",
    "    return x ** 3 ** y\n",
    "\n",
    "print(fun(2))\n",
    "```\n",
    "A) 512 <br>\n",
    "B) 64 <br>\n",
    "C) 8 <br>\n",
    "D) El programa dará un error \n",
    "\n",
    "**Respuesta:**\n",
    "\n",
    "La respuesta correcta es la opción **D**. \n",
    "\n",
    "La función `fun` pide dos parámetros, por lo que al ejecutar el programa se producirá un error ya que la función `fun` espera dos parámetros y solo se le está pasando uno en el print.\n",
    "\n",
    "**Resultado Ejecución:**"
   ]
  },
  {
   "cell_type": "code",
   "execution_count": 3,
   "metadata": {},
   "outputs": [
    {
     "ename": "TypeError",
     "evalue": "fun() missing 1 required positional argument: 'y'",
     "output_type": "error",
     "traceback": [
      "\u001b[1;31m---------------------------------------------------------------------------\u001b[0m",
      "\u001b[1;31mTypeError\u001b[0m                                 Traceback (most recent call last)",
      "Cell \u001b[1;32mIn[3], line 4\u001b[0m\n\u001b[0;32m      1\u001b[0m \u001b[38;5;28;01mdef\u001b[39;00m \u001b[38;5;21mfun\u001b[39m(x, y):\n\u001b[0;32m      2\u001b[0m     \u001b[38;5;28;01mreturn\u001b[39;00m x \u001b[38;5;241m*\u001b[39m\u001b[38;5;241m*\u001b[39m \u001b[38;5;241m3\u001b[39m \u001b[38;5;241m*\u001b[39m\u001b[38;5;241m*\u001b[39m y\n\u001b[1;32m----> 4\u001b[0m \u001b[38;5;28mprint\u001b[39m(\u001b[43mfun\u001b[49m\u001b[43m(\u001b[49m\u001b[38;5;241;43m2\u001b[39;49m\u001b[43m)\u001b[49m)\n",
      "\u001b[1;31mTypeError\u001b[0m: fun() missing 1 required positional argument: 'y'"
     ]
    }
   ],
   "source": [
    "def fun(x, y):\n",
    "    return x ** 3 ** y\n",
    "\n",
    "print(fun(2))"
   ]
  },
  {
   "cell_type": "markdown",
   "metadata": {},
   "source": [
    "## Pregunta 3 <a class=\"anchor\" id=\"actividad-2-pregunta-3\"></a>\n",
    "¿Cuál es la salida del siguiente fragmento de código?\n",
    "\n",
    "```python\n",
    "x = 2\n",
    "def fun1():\n",
    "    global x\n",
    "    x = x % 2\n",
    "    return x\n",
    "\n",
    "def fun2():\n",
    "    x = 3\n",
    "    return x\n",
    "\n",
    "print(fun1(), fun2(), x, sep='')\n",
    "```\n",
    "\n",
    "A) 030 <br>\n",
    "B) 032 <br>\n",
    "C) 033 <br>\n",
    "D) El programa dará un error\n",
    "\n",
    "**Respuesta:**\n",
    "\n",
    "La respuesta correcta es la **A**. \n",
    "\n",
    "Al comienzo de la ejecución la variable `x` tiene valor 2. La función `fun1` declara la variable `x` como global por lo que la variable `x` declarada fuera de las funciones es la misma que la variable `x` declarada dentro de la función `fun1`. Dentro de la función `fun1` se realiza la operación `x = x % 2` que es equivalente a `x = 2 % 2`, siendo `x = 0`. Por lo tanto, el valor de `x` dentro y fuera de la función `fun1` es 0. Al finalizar la ejecución de la función `fun1`, esta devuelve el valor de 0. \n",
    "\n",
    "La función `fun2` declara la variable `x` con valor 3 dentro de la función, por lo que la variable `x` declarada fuera de la función `fun2` mantiene el valor modificado por la `fun1`, que es `0`. Al finalizar la ejecución de la función `fun2`, esta devuelve el valor de 3. Al hacer el print, el separador es un string vacío, por lo que la salida del programa es `030`.\n",
    "\n",
    "**Resultado Ejecución:**"
   ]
  },
  {
   "cell_type": "code",
   "execution_count": 4,
   "metadata": {},
   "outputs": [
    {
     "name": "stdout",
     "output_type": "stream",
     "text": [
      "030\n"
     ]
    }
   ],
   "source": [
    "x = 2\n",
    "def fun1():\n",
    "    global x\n",
    "    x = x % 2\n",
    "    return x\n",
    "\n",
    "def fun2():\n",
    "    x = 3\n",
    "    return x\n",
    "\n",
    "print(fun1(), fun2(), x, sep='')"
   ]
  },
  {
   "cell_type": "markdown",
   "metadata": {},
   "source": [
    "## Pregunta 4 <a class=\"anchor\" id=\"actividad-2-pregunta-4\"></a>\n",
    "¿Cuál es la salida del siguiente fragmento de código?\n",
    "\n",
    "```python\n",
    "def fun(x, y=4, z=6):\n",
    "    return x + y / z\n",
    "\n",
    "print(fun(20, z=2))\n",
    "```\n",
    "\n",
    "A) 6.66 <br>\n",
    "B) 12 <br>\n",
    "C) 12.0 <br>\n",
    "D) 22 <br>\n",
    "E) 22.0 <br>\n",
    "F) 20.33 <br>\n",
    "G) El programa dará un error\n",
    "\n",
    "**Respuesta:**\n",
    "\n",
    "La respuesta correcta es la **E**.\n",
    "\n",
    "La función `fun` pide tres parámetros, siendo `x` obligatorio y `y` y `z` opcionales. Al ejecutar el programa se le pasa un valor a `x` que es 20, y un valor a `z` que es 2, por lo que el valor de `y` es el valor por defecto que es 4. Dentro de la función se realiza la operación `x + y / z` que es equivalente a `20 + 4 / 2`, el resultado de una división con el operador `/` devolverá un `float`, siendo `x = 22.0`. Al finalizar la ejecución de la función `fun`, esta devuelve el valor de 22.0, por lo que la salida del programa es `22.0`.\n",
    "\n",
    "**Resultado Ejecución:**"
   ]
  },
  {
   "cell_type": "code",
   "execution_count": 5,
   "metadata": {},
   "outputs": [
    {
     "name": "stdout",
     "output_type": "stream",
     "text": [
      "22.0\n"
     ]
    }
   ],
   "source": [
    "def fun(x, y=4, z=6):\n",
    "    return x + y / z\n",
    "\n",
    "print(fun(20, z=2))"
   ]
  }
 ],
 "metadata": {
  "kernelspec": {
   "display_name": "Python 3 (ipykernel)",
   "language": "python",
   "name": "python3"
  },
  "language_info": {
   "codemirror_mode": {
    "name": "ipython",
    "version": 3
   },
   "file_extension": ".py",
   "mimetype": "text/x-python",
   "name": "python",
   "nbconvert_exporter": "python",
   "pygments_lexer": "ipython3",
   "version": "3.10.5"
  }
 },
 "nbformat": 4,
 "nbformat_minor": 2
}
