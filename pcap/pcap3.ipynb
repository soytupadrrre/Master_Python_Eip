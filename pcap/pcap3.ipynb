{
 "cells": [
  {
   "cell_type": "markdown",
   "metadata": {},
   "source": [
    "#  Listas, tuplas y diccionarios\n",
    "Actividad Lección 3 || Certificación PCAP\n",
    "\n",
    "Objetivos:\n",
    "* Familiarizarse con el uso de las listas, tuplas y diccionarios\n",
    "\n",
    "Datos del alumno:\n",
    "* Víctor Luque Martín\n",
    "* Máster Avanzado en Programación en Python para Hacking, BigData y Machine Learning\n",
    "\n",
    "Fecha: 09/10/2022"
   ]
  },
  {
   "cell_type": "markdown",
   "metadata": {},
   "source": [
    "# Tabla de Contenidos\n",
    "1. [Actividad 1: Script de Python](#actividad-1-script-de-python)\n",
    "    1. [Enunciado](#actividad-1-script-de-python-enunciado)\n",
    "    2. [Solución](#actividad-1-script-de-python-solución)\n",
    "2. [Actividad 2: Preguntas](#actividad-2-preguntas)\n",
    "    1. [Pregunta 1](#actividad-2-pregunta-1)\n",
    "    2. [Pregunta 2](#actividad-2-pregunta-2)\n",
    "    3. [Pregunta 3](#actividad-2-pregunta-3)\n",
    "    4. [Pregunta 4](#actividad-2-pregunta-4)"
   ]
  },
  {
   "cell_type": "markdown",
   "metadata": {},
   "source": [
    "# Actividad 1: Script de Python <a class=\"anchor\" id=\"actividad-1-script-de-python\"></a>\n",
    "## Enunciado <a class=\"anchor\" id=\"actividad-1-script-de-python-enunciado\"></a>\n",
    "El objetivo de esta actividad es crear un pequeño programa que calcule y almacene los puntos acumulados de la compra de los clientes de un supermercado. El comportamiento del programa debe ser el siguiente: \n",
    "1. Solicita el DNI del cliente, si no existe debe solicitar también su nombre.\n",
    "2. Solicita el coste total de la compra.\n",
    "3. Calcula los puntos obtenidos de la compra y se los suma al total de puntos acumulados que tiene el cliente. Por cada 6€ gastados en la compra, acumula 5 puntos.\n",
    "3. Muestra un mensaje con el nombre del cliente y su DNI y el número total de puntos acumulados.\n",
    "4. Muestra las compras realizadas por el cliente en el establecimiento. \n",
    "\n",
    "El programa finalizará cuando se introduzca “0” como DNI.\n",
    "\n",
    "Se valorará que el código haga lo solicitado, la utilización de los conceptos y recursos vistos en la lección y la calidad del código.\n",
    "\n",
    "`TIP` Un recurso que se puede utilizar en la realización de la práctica es el método get() del objeto diccionario. Este método devuelve el valor asociado a la clave indicada. Su sintaxis es la siguiente:\n",
    "\n",
    "`valor = mi_diccionario.get(clave, valor_por_defecto)`\n",
    "\n",
    "A diferencia con la indexación que habíamos visto en la lección 3, este método no arrojará un error si la `clave` no existiese. En ese caso, si la clave no existe, devolverá el valor del parámetro `valor_por_defecto`. Además, indicar que el parámetro `valor_por_defecto` es opcional, si no se indica y la clave no existiese, el método devolverá None.\n",
    "\n",
    "A continuación, se muestra cómo debe funcionar el programa realizado y la salida por pantalla que debe tener, así como un ejemplo del resultado que debe mostrar si se introducen esos parámetros de entrada:\n",
    "\n",
    "```cmd\n",
    "Introduzca el DNI del cliente: 345345345L\n",
    "Introduzca el nombre del cliente: Pepe\n",
    "Introduzca el coste total de la compra: 13.5\n",
    "El cliente Pepe (345345345L) tiene acumulados 10 puntos.\n",
    "Sus compras son: 13.5 €\n",
    "---------\n",
    "Introduzca el DNI del cliente: 345345345L\n",
    "Introduzca el coste total de la compra: 7\n",
    "El cliente Pepe (345345345L) tiene acumulados 15 puntos.\n",
    "Sus compras son: 13.5 € - 7.0 €\n",
    "---------\n",
    "Introduzca el DNI del cliente: 789789789U\n",
    "Introduzca el nombre del cliente: Luisa\n",
    "Introduzca el coste total de la compra: 70.4\n",
    "El cliente Luisa (789789789U) tiene acumulados 55 puntos.\n",
    "Sus compras son: 70.4 €\n",
    "---------\n",
    "Introduzca el DNI del cliente: 0\n",
    "```"
   ]
  },
  {
   "cell_type": "markdown",
   "metadata": {},
   "source": [
    "## Solución <a class=\"anchor\" id=\"actividad-1-script-de-python-solución\"></a>"
   ]
  },
  {
   "cell_type": "code",
   "execution_count": null,
   "metadata": {},
   "outputs": [],
   "source": [
    "clientes = {}\n",
    "\n",
    "\n",
    "def solicitar_compra() -> float:\n",
    "    \"\"\"\n",
    "    Solicita al usuario el importe de la compra y lo devuelve.\n",
    "\n",
    "    :return: Importe de la compra.\n",
    "    :rtype: float\n",
    "    \"\"\"\n",
    "    while True:\n",
    "        try:\n",
    "            compra = float(input(\"Total de la compra: \"))\n",
    "            if compra >= 0:\n",
    "                return compra\n",
    "            else:\n",
    "                print(\"Debe introducir un importe mayor o igual a 0€\")\n",
    "        except ValueError:\n",
    "            print(\"Debe introducir un importe mayor o igual a 0€\")\n",
    "\n",
    "while True:\n",
    "    dni = input(\"Introduzca el DNI del cliente: \")\n",
    "    if dni == \"0\":\n",
    "        break\n",
    "\n",
    "    elif dni not in clientes:\n",
    "        nombre = input(\"Nombre del cliente: \")\n",
    "        compra = solicitar_compra()\n",
    "        clientes[dni] = {\"nombre\": nombre, \n",
    "                        \"compras\": [f\"{compra} €\"], \n",
    "                        \"puntos\": int((float(compra) // 6) * 5)}\n",
    "    else:\n",
    "        compra = solicitar_compra()\n",
    "        clientes[dni][\"compras\"].append(f\"{compra} €\")\n",
    "        clientes[dni][\"puntos\"] += int((float(compra) // 6) * 5)\n",
    "\n",
    "    print(f\"El cliente {clientes[dni]['nombre']} ({dni}) tiene acumulados {clientes[dni]['puntos']} puntos.\",\n",
    "        f\"Sus compras son: {' - '.join(clientes[dni]['compras'])}\",\n",
    "        \"---------\", sep=\"\\n\")"
   ]
  },
  {
   "cell_type": "markdown",
   "metadata": {},
   "source": [
    "# Actividad 2: Preguntas <a class=\"anchor\" id=\"actividad-2-preguntas\"></a>\n",
    "Las preguntas sobre listas, tuplas y diccionarios suelen ser muy comunes en el examen de certificación PCAP, por lo que con esta actividad se pretende trabajar en los diferentes conceptos vistos en esta lección. En esta actividad debes enviar para cada pregunta la opción u opciones correctas, así como una breve explicación de tu elección. **Es importante que no te olvides de enviar la breve explicación de tu elección ya que si no lo envías se te valorará la  pregunta como incorrecta.**"
   ]
  },
  {
   "cell_type": "markdown",
   "metadata": {},
   "source": [
    "## Pregunta 1 <a class=\"anchor\" id=\"actividad-2-pregunta-1\"></a>\n",
    "¿Cuál o cuáles de las siguientes afirmaciones son ciertas? (una o varias opciones)\n",
    "\n",
    "```python\n",
    "mi_lista = [1, 2, 3, 4]\n",
    "mi_lista2 = mi_lista[:]\n",
    "mi_lista2.append(5)\n",
    "print(id(mi_lista) == id(mi_lista2))\n",
    "```\n",
    "\n",
    "A) mi_lista es más larga que mi_lista2. <br>\n",
    "B) mi_lista2 es más larga que mi_lista. <br>\n",
    "C) mi_lista y mi_lista2 tienen la misma longitudes. <br>\n",
    "D) Ambas listas contienen los mismos elementos. <br>\n",
    "E) El resultado del programa será True. <br>\n",
    "F) El resultado del programa será False. <br>\n",
    "G) El programa dará un error.\n",
    "\n",
    "**Respuesta:**\n",
    "\n",
    "Las respuestas correctas son la opción **B** y la opción **F**.\n",
    "\n",
    "Al declarar `mi_lista2 = mi_lista[:]` estamos utilizando el `slicing` para crear una copia completa de `mi_lista`. Al ser dos listas distintas, al utilizar el método `append()` sobre `mi_lista2` el tamaño de esta lista aumenta, mientras que el de `mi_lista` se mantiene igual. Siendo la opción **B** correcta.\n",
    "\n",
    "Al crear una copia completa con `mi_lista2 = mi_lista[:]` se crea una nueva dirección de memoria para la lista, por lo que al comparar las direcciones de memoria de ambas listas con `id(mi_lista) == id(mi_lista2)` el resultado será `False`, por lo que la opción **F** es correcta.\n",
    "\n",
    "**Resultado Ejecución:**"
   ]
  },
  {
   "cell_type": "code",
   "execution_count": 1,
   "metadata": {},
   "outputs": [
    {
     "name": "stdout",
     "output_type": "stream",
     "text": [
      "False\n",
      "True\n"
     ]
    }
   ],
   "source": [
    "mi_lista = [1, 2, 3, 4]\n",
    "mi_lista2 = mi_lista[:]\n",
    "mi_lista2.append(5)\n",
    "print(id(mi_lista) == id(mi_lista2)) # Opción F\n",
    "print(len(mi_lista2) > len(mi_lista)) # Opción B"
   ]
  },
  {
   "cell_type": "markdown",
   "metadata": {},
   "source": [
    "## Pregunta 2 <a class=\"anchor\" id=\"actividad-2-pregunta-2\"></a>\n",
    "¿Cuál es la salida del siguiente fragmento de código? (1 opción)\n",
    "\n",
    "```python\t\n",
    "mi_lista = [1, 2, 3, 4, -1, -2]\n",
    "mi_lista = mi_lista[-1:3:-1]\n",
    "x = 6\n",
    "for elemento in mi_lista:\n",
    "    x /= mi_lista[mi_lista[elemento]]\n",
    "print(x)\n",
    "```\n",
    "\n",
    "A) 6 <br>\n",
    "B) 3 <br>\n",
    "C) 3.0 <br>\n",
    "D) El programa dará un error\n",
    "\n",
    "**Respuesta:**\n",
    "\n",
    "La respuesta correcta es la opción **C**.\n",
    "\n",
    "Al realizar el `slicing` de la lista `mi_lista[-1:3:-1]` estamos indicando que queremos obtener los elementos de la lista desde el último elemento (El -2) hasta el elemento con índice 3 (el 4 no incluido), pero en orden inverso. Por lo que el resultado de la operación será `[-2, -1]`.\n",
    "\n",
    "Posteriormente, la nueva lista es utilizada para realizar divisiones sobre la varible `x` con valor 6 utilzando el operador `/=` por lo que en la primera iteración el valor de x será `x = 6/(-2) = -3.0`. En la segunda iteración el valor de x será `x = -3.0/(-1) = 3.0`. Por lo que el valor final de x será 3.0, siendo correcta la opción **C**.\n",
    "\n",
    "**Resultado Ejecución:**"
   ]
  },
  {
   "cell_type": "code",
   "execution_count": 2,
   "metadata": {},
   "outputs": [
    {
     "name": "stdout",
     "output_type": "stream",
     "text": [
      "3.0\n"
     ]
    }
   ],
   "source": [
    "mi_lista = [1, 2, 3, 4, -1, -2]\n",
    "mi_lista = mi_lista[-1:3:-1]\n",
    "x = 6\n",
    "for elemento in mi_lista:\n",
    "    x /= mi_lista[mi_lista[elemento]]\n",
    "print(x)"
   ]
  },
  {
   "cell_type": "markdown",
   "metadata": {},
   "source": [
    "## Pregunta 3 <a class=\"anchor\" id=\"actividad-2-pregunta-3\"></a>\n",
    "¿Cuál o cuáles de las siguientes afirmaciones son ciertas? (una o varias opciones)\n",
    "\n",
    "```python\n",
    "mi_estruct = (1,2,4,8)\n",
    "id1 = id(mi_estruct)\n",
    "mi_estruct = mi_estruct[1:-2]\n",
    "id2 = id(mi_estruct)\n",
    "```\n",
    "\n",
    "A) Al finalizar la ejecución del código, el valor de mi_estruct será 2. <br>\n",
    "B) Al finalizar la ejecución del código, el valor de mi_estruct será (2,). <br>\n",
    "C) Al finalizar la ejecución del código, el valor de mi_estruct será (2). <br>\n",
    "D) Al finalizar la ejecución del código, el tipo de la variable mi_estruct será una tupla. <br>\n",
    "E) Al finalizar la ejecución del código, el tipo de la variable mi_estruct será un entero. <br>\n",
    "F) Al finalizar la ejecución del código, id1 e id2 contendrán el mismo valor. <br>\n",
    "G) Al finalizar la ejecución del código, id1 e id2 contendrán diferente valor. <br>\n",
    "H) El programa dará un error\n",
    "\n",
    "**Respuesta:**\n",
    "\n",
    "Las respuestas correctas son las opciones **B**, **D** y **G**.\n",
    "\n",
    "Al realizar el `slicing` de la tupla `mi_estruct = mi_estruct[1:-2]` estamos indicando que queremos obtener los elementos de la tupla desde el elemento con índice 1 (el 2) hasta el elemento con índice -2 (el 4 no incluido), pero en orden inverso. Por lo que el resultado de la operación será una tupla de tipo `(2,)`, siendo correctas las opciones **B** y **D**.\n",
    "\n",
    "Al realizar el `slicing` se crea una nueva tupla, por lo que al comparar las direcciones de memoria de ambas tuplas con `id1 = id(mi_estruct)` y `id2 = id(mi_estruct)` el resultado será `False`, por lo que la opción **G** es correcta.\n",
    "\n",
    "**Resultado Ejecución:**"
   ]
  },
  {
   "cell_type": "code",
   "execution_count": 4,
   "metadata": {},
   "outputs": [
    {
     "name": "stdout",
     "output_type": "stream",
     "text": [
      "(2,)\n",
      "<class 'tuple'>\n",
      "True\n"
     ]
    }
   ],
   "source": [
    "mi_estruct = (1,2,4,8)\n",
    "id1 = id(mi_estruct)\n",
    "mi_estruct = mi_estruct[1:-2]\n",
    "id2 = id(mi_estruct)\n",
    "print(mi_estruct) # Opción B\n",
    "print(type(mi_estruct)) # Opción D\n",
    "print(id1 != id2) # Opción G\n"
   ]
  },
  {
   "cell_type": "markdown",
   "metadata": {},
   "source": [
    "## Pregunta 4 <a class=\"anchor\" id=\"actividad-2-pregunta-4\"></a>\n",
    "¿Cuál es la salida del siguiente fragmento de código? (1 opción)\n",
    "\n",
    "```python\n",
    "mi_diccionario = {1: [1, 3], 2: [2, 1], 3: [3, 2]}\n",
    "for item in mi_diccionario:\n",
    "    mi_diccionario[item][0] = mi_diccionario[item][1]\n",
    "print(mi_diccionario)\n",
    "```\n",
    "\n",
    "A) {1: [1,3], 2: [2,1], 3: [3,2]} <br>\n",
    "B) {1: [1,1], 2: [2,2], 3: [3,3]} <br>\n",
    "C) {1: [3,3], 2: [1,1], 3: [2,2]} <br>\n",
    "D) El programa dará un error <br>\n",
    "E) Ninguna de las opciones anteriores\n",
    "\n",
    "**Respuesta:**\n",
    "\n",
    "La respuesta correcta es la opción **C**.\n",
    "\n",
    "Al realizar un `for` sobre un diccionario, este recorre las claves del diccionario. Por lo que en la primera iteración el valor de `item` será 1, en la segunda iteración el valor de `item` será 2 y en la tercera iteración el valor de `item` será 3. El valor del diccionario con clave `item` es una lista de dos elementos. Dentro del for se reemplaza la primera posición de la lista por el segundo valor de la lista, por lo tanto el resultado final del diccionario es `{1: [3,3], 2: [1,1], 3: [2,2]}`, siendo correcta la opción **C**.\n",
    "\n",
    "**Resultado Ejecución:**"
   ]
  },
  {
   "cell_type": "code",
   "execution_count": 5,
   "metadata": {},
   "outputs": [
    {
     "name": "stdout",
     "output_type": "stream",
     "text": [
      "{1: [3, 3], 2: [1, 1], 3: [2, 2]}\n"
     ]
    }
   ],
   "source": [
    "mi_diccionario = {1: [1, 3], 2: [2, 1], 3: [3, 2]}\n",
    "for item in mi_diccionario:\n",
    "    mi_diccionario[item][0] = mi_diccionario[item][1]\n",
    "print(mi_diccionario)"
   ]
  }
 ],
 "metadata": {
  "kernelspec": {
   "display_name": "Python 3 (ipykernel)",
   "language": "python",
   "name": "python3"
  },
  "language_info": {
   "codemirror_mode": {
    "name": "ipython",
    "version": 3
   },
   "file_extension": ".py",
   "mimetype": "text/x-python",
   "name": "python",
   "nbconvert_exporter": "python",
   "pygments_lexer": "ipython3",
   "version": "3.10.5"
  }
 },
 "nbformat": 4,
 "nbformat_minor": 2
}
