{
 "cells": [
  {
   "attachments": {},
   "cell_type": "markdown",
   "metadata": {},
   "source": [
    "#  Programación Orientada a Objetos (POO)\n",
    "Actividad Lección 5 || Certificación PCAP\n",
    "\n",
    "Objetivos:\n",
    "* Familiarizarse con el uso de las clases y objetos en Python y sus características\n",
    "\n",
    "Datos del alumno:\n",
    "* Víctor Luque Martín\n",
    "* Máster Avanzado en Programación en Python para Hacking, BigData y Machine Learning\n",
    "\n",
    "Fecha: 29/03/2023"
   ]
  },
  {
   "cell_type": "markdown",
   "metadata": {},
   "source": [
    "# Tabla de Contenidos\n",
    "1. [Actividad 1: Script de Python](#actividad-1-script-de-python)\n",
    "    1. [Enunciado](#actividad-1-script-de-python-enunciado)\n",
    "    2. [Solución](#actividad-1-script-de-python-solución)\n",
    "2. [Actividad 2: Preguntas](#actividad-2-preguntas)\n",
    "    1. [Pregunta 1](#actividad-2-pregunta-1)\n",
    "    2. [Pregunta 2](#actividad-2-pregunta-2)\n",
    "    3. [Pregunta 3](#actividad-2-pregunta-3)\n",
    "    4. [Pregunta 4](#actividad-2-pregunta-4)"
   ]
  },
  {
   "cell_type": "markdown",
   "metadata": {},
   "source": [
    "# Actividad 1: Script de Python <a class=\"anchor\" id=\"actividad-1-script-de-python\"></a>\n",
    "## Enunciado <a class=\"anchor\" id=\"actividad-1-script-de-python-enunciado\"></a>\n",
    "El objetivo de esta actividad es crear un pequeño código para gestionar el préstamo y devolución de los libros y revistas de una biblioteca. Los libros de la biblioteca tienen un código interno, el título del libro y un código ISBN, mientras que las revistas tienen un código interno, el título de la revista y el número de la revista. Además, este código debe permitir el préstamo y la devolución de los libros y revistas de la biblioteca.\n",
    "\n",
    "Este código debe poder ser utilizado por el siguiente fragmento de código:\n",
    "\n",
    "```python\n",
    "libro1 = Libro('L1_123', 'La Bestia', '9788408249849')\n",
    "print('Mi primer libro es: ', libro1)\n",
    "print('Número ejemplares totales: ', libro1.num_totales)\n",
    "print(\"Número libros totales: \", libro1.num_libros_totales)\n",
    "print(\"Número ejemplares prestados: \", libro1.num_prestados, \"\\n\")\n",
    "\n",
    "libro2 = Libro('L2_345', 'Últimos días en Berlín', '9788408249856')\n",
    "print('Mi segundo libro es: ', libro2)\n",
    "print('Número ejemplares totales: ', libro1.num_totales)\n",
    "print(\"Número libros totales: \", libro1.num_libros_totales)\n",
    "print(\"Número ejemplares prestados: \", libro1.num_prestados, \"\\n\")\n",
    "\n",
    "revista1 = Revista('R1_JDJ', 'National Geographic', '5')\n",
    "print('Mi primera revista es: ', revista1)\n",
    "print('Número ejemplares totales: ', revista1.num_totales)\n",
    "print(\"Número revistas totales: \", revista1.num_revistas_totales)\n",
    "print(\"Número ejemplares prestados: \", revista1.num_prestados, \"\\n\")\n",
    "\n",
    "revista2 = Revista('R2_ADA', 'National Geographic', '23')\n",
    "print('Mi segunda revista es: ', revista2)\n",
    "print('Número ejemplares totales: ', revista1.num_totales)\n",
    "print(\"Número revistas totales: \", revista1.num_revistas_totales)\n",
    "print(\"Número ejemplares prestados: \", revista1.num_prestados, \"\\n\")\n",
    "\n",
    "revista1.prestar()\n",
    "libro1.prestar()\n",
    "print('Número ejemplares prestados: ', libro1.num_prestados)\n",
    "libro1.devolver()\n",
    "print('Número ejemplares prestados: ', libro1.num_prestados, \"\\n\")\n",
    "```\n",
    "\n",
    "Cuya salida deberá ser:\n",
    "\n",
    "```cmd\n",
    "Mi primer libro es:  L1_123 - La Bestia - 9788408249849 - NO PRESTADO (9788408249849)\n",
    "Número ejemplares totales:  1\n",
    "Número libros totales:  1\n",
    "Número ejemplares prestados:  0 \n",
    "\n",
    "Mi segundo libro es:  L2_345 - Últimos días en Berlín - 9788408249856 - NO PRESTADO (9788408249856)\n",
    "Número ejemplares totales:  2\n",
    "Número libros totales:  2\n",
    "Número ejemplares prestados:  0 \n",
    "\n",
    "Mi primera revista es:  R1_JDJ - National Geographic - 5 - NO PRESTADO (5)\n",
    "Número ejemplares totales:  3\n",
    "Número revistas totales:  1\n",
    "Número ejemplares prestados:  0 \n",
    "\n",
    "Mi segunda revista es:  R2_ADA - National Geographic - 23 - NO PRESTADO (23)\n",
    "Número ejemplares totales:  4\n",
    "Número revistas totales:  2\n",
    "Número ejemplares prestados:  0 \n",
    "\n",
    "R1_JDJ PRESTADO\n",
    "L1_123 PRESTADO\n",
    "Número ejemplares prestados:  2\n",
    "L1_123 DEVUELTO\n",
    "Número ejemplares prestados:  1 \n",
    "```\n",
    "\n",
    "Se valorará que el código haga lo solicitado, la utilización de los conceptos y recursos vistos en la lección y la calidad del código.\n",
    "\n",
    "`TIP:` Python define una serie de métodos mágicos como, por  ejemplo, el método \\_\\_str\\_\\_, que se pueden sobrescribir en tus clases para obtener el resultado buscado. Concretamente el método \\_\\_str\\_\\_ devuelve una cadena de texto que representa el objeto:\n",
    "\n",
    "https://docs.python.org/3/reference/datamodel.html?highlight=__str__#object.__str__"
   ]
  },
  {
   "cell_type": "markdown",
   "metadata": {},
   "source": [
    "## Solución <a class=\"anchor\" id=\"actividad-1-script-de-python-solución\"></a>"
   ]
  },
  {
   "cell_type": "code",
   "execution_count": 1,
   "metadata": {},
   "outputs": [
    {
     "name": "stdout",
     "output_type": "stream",
     "text": [
      "Mi primer libro es:  L1_123 - La Bestia - 9788408249849 - NO PRESTADO (9788408249849)\n",
      "Número ejemplares totales:  1\n",
      "Número libros totales:  1\n",
      "Número ejemplares prestados:  0 \n",
      "\n",
      "Mi segundo libro es:  L2_345 - Últimos días en Berlín - 9788408249856 - NO PRESTADO (9788408249856)\n",
      "Número ejemplares totales:  2\n",
      "Número libros totales:  2\n",
      "Número ejemplares prestados:  0 \n",
      "\n",
      "Mi primera revista es:  R1_JDJ - National Geographic - 5 - NO PRESTADO (5)\n",
      "Número ejemplares totales:  3\n",
      "Número revistas totales:  1\n",
      "Número ejemplares prestados:  0 \n",
      "\n",
      "Mi segunda revista es:  R2_ADA - National Geographic - 23 - NO PRESTADO (23)\n",
      "Número ejemplares totales:  4\n",
      "Número revistas totales:  2\n",
      "Número ejemplares prestados:  0 \n",
      "\n",
      "R1_JDJ PRESTADO\n",
      "L1_123 PRESTADO\n",
      "Número ejemplares prestados:  2\n",
      "L1_123 DEVUELTO\n",
      "Número ejemplares prestados:  1 \n",
      "\n"
     ]
    }
   ],
   "source": [
    "class Biblioteca:\n",
    "    num_totales = 0\n",
    "    num_prestados = 0\n",
    "\n",
    "    def __init__(self, codigo, titulo, identificador) -> None:\n",
    "        self._codigo = codigo\n",
    "        self.titulo = titulo\n",
    "        self._identificador = identificador\n",
    "        self._prestado = False\n",
    "        Biblioteca.num_totales += 1\n",
    "\n",
    "    def __str__(self):\n",
    "        prestado_txt = 'PRESTADO' if self._prestado else 'NO PRESTADO'\n",
    "        return f'{self._codigo} - {self.titulo} - {self._identificador} - {prestado_txt} ({self._identificador})'\n",
    "\n",
    "    def prestar(self):\n",
    "        self._prestado = True\n",
    "        Biblioteca.num_prestados += 1\n",
    "        print(self._codigo, 'PRESTADO')\n",
    "\n",
    "    def devolver(self):\n",
    "        self._prestado = False\n",
    "        Biblioteca.num_prestados -= 1\n",
    "        print(self._codigo, 'DEVUELTO')\n",
    "\n",
    "\n",
    "class Libro(Biblioteca):\n",
    "    num_libros_totales = 0\n",
    "\n",
    "    def __init__(self, codigo, titulo, isbn):\n",
    "        super().__init__(codigo, titulo, isbn)\n",
    "        Libro.num_libros_totales += 1\n",
    "\n",
    "\n",
    "class Revista(Biblioteca):\n",
    "    num_revistas_totales = 0\n",
    "\n",
    "    def __init__(self, codigo, titulo, numero):\n",
    "        super().__init__(codigo, titulo, numero)\n",
    "        Revista.num_revistas_totales += 1\n",
    "\n",
    "\n",
    "libro1 = Libro('L1_123', 'La Bestia', '9788408249849')\n",
    "print('Mi primer libro es: ', libro1)\n",
    "print('Número ejemplares totales: ', libro1.num_totales)\n",
    "print(\"Número libros totales: \", libro1.num_libros_totales)\n",
    "print(\"Número ejemplares prestados: \", libro1.num_prestados, \"\\n\")\n",
    "\n",
    "libro2 = Libro('L2_345', 'Últimos días en Berlín', '9788408249856')\n",
    "print('Mi segundo libro es: ', libro2)\n",
    "print('Número ejemplares totales: ', libro1.num_totales)\n",
    "print(\"Número libros totales: \", libro1.num_libros_totales)\n",
    "print(\"Número ejemplares prestados: \", libro1.num_prestados, \"\\n\")\n",
    "\n",
    "revista1 = Revista('R1_JDJ', 'National Geographic', '5')\n",
    "print('Mi primera revista es: ', revista1)\n",
    "print('Número ejemplares totales: ', revista1.num_totales)\n",
    "print(\"Número revistas totales: \", revista1.num_revistas_totales)\n",
    "print(\"Número ejemplares prestados: \", revista1.num_prestados, \"\\n\")\n",
    "\n",
    "revista2 = Revista('R2_ADA', 'National Geographic', '23')\n",
    "print('Mi segunda revista es: ', revista2)\n",
    "print('Número ejemplares totales: ', revista1.num_totales)\n",
    "print(\"Número revistas totales: \", revista1.num_revistas_totales)\n",
    "print(\"Número ejemplares prestados: \", revista1.num_prestados, \"\\n\")\n",
    "\n",
    "revista1.prestar()\n",
    "libro1.prestar()\n",
    "print('Número ejemplares prestados: ', libro1.num_prestados)\n",
    "libro1.devolver()\n",
    "print('Número ejemplares prestados: ', libro1.num_prestados, \"\\n\")"
   ]
  },
  {
   "cell_type": "markdown",
   "metadata": {},
   "source": [
    "# Actividad 2: Preguntas <a class=\"anchor\" id=\"actividad-2-preguntas\"></a>\n",
    "Las preguntas sobre clases y herencia son muy comunes en el examen de certificación PCAP, por lo que con esta actividad se pretende trabajar en los diferentes conceptos vistos en esta lección. En esta actividad debes enviar para cada pregunta la opción u opciones correctas, así como una breve explicación de tu elección. **Es importante que no te olvides de enviar la breve explicación de tu elección ya que si no lo envías se te valorará la pregunta como incorrecta.**"
   ]
  },
  {
   "cell_type": "markdown",
   "metadata": {},
   "source": [
    "## Pregunta 1 <a class=\"anchor\" id=\"actividad-2-pregunta-1\"></a>\n",
    "¿Cuál de las siguientes afirmaciones es correcta? (1 opción)\n",
    "\n",
    "```python\n",
    "class ClaseA:\n",
    "    A = 1\n",
    "    def __init__(self, a):\n",
    "        self.a = a\n",
    "\n",
    "class ClaseB(ClaseA):\n",
    "    B = 2\n",
    "    def __init__(self, a, b):\n",
    "        ClaseA.A = a\n",
    "        ClaseB.B = b\n",
    "\n",
    "o1 = ClaseA(3)\n",
    "o2 = ClaseB(2, 4)\n",
    "print(o1.A, end=\" \")\n",
    "print(o1.a, end=\" \")\n",
    "print(o2.B, end=\" \")\n",
    "print(o2.A, end=\" \")\n",
    "print(o2.a, end=\" \")\n",
    "```\n",
    "\n",
    "A) Al ejecutarse el código mostrará 1 3 4 2 2 <br>\n",
    "B) Al ejecutarse el código mostrará 2 3 4 2 2 <br>\n",
    "C) Al ejecutarse el código mostrará 1 3 4 2 y dará un error <br>\n",
    "D) Al ejecutarse el código mostrará 2 3 4 2 y dará un error <br>\n",
    "\n",
    "**Respuesta:**\n",
    "\n",
    "La respuesta correcta es la **D**.\n",
    "\n",
    "Al crear el objeto `o1`, la variable de clase `A` conserva el valor 1 definido en la clase `ClaseA` y la variable de instancia `a` toma el valor 3. <br>\n",
    "Al crear el objeto `o2`, la variable de clase `A` de la clase padre `ClaseA` toma el valor 2 definido en la clase `ClaseB` y la variable de clase `B` de la clase `ClaseB` toma el valor 4. Durante la inicialización no se llama al método `__init__` de la clase padre por lo que la variable de instancia `a` no existe en este objeto<br>\n",
    "Al realizar los prints, se observa que el último valor asignado a la varible de clase `A`, siendo el mismo en los dos objetos (2), mientras que la variable de instancia `a` con valor (3) solo existe en el objeto `o1`. La variable de clase `B` solo existe en el objeto `o2` y toma el valor 4. Al no existir la variable de instancia `a` en el objeto `o2`, en el último print, se produce un error. Siendo la respuesta correcta la **D**.\n",
    "\n",
    "**Resultado Ejecución:**"
   ]
  },
  {
   "cell_type": "code",
   "execution_count": 1,
   "metadata": {},
   "outputs": [
    {
     "name": "stdout",
     "output_type": "stream",
     "text": [
      "2 3 4 2 "
     ]
    },
    {
     "ename": "AttributeError",
     "evalue": "'ClaseB' object has no attribute 'a'",
     "output_type": "error",
     "traceback": [
      "\u001b[1;31m---------------------------------------------------------------------------\u001b[0m",
      "\u001b[1;31mAttributeError\u001b[0m                            Traceback (most recent call last)",
      "Cell \u001b[1;32mIn[1], line 18\u001b[0m\n\u001b[0;32m     16\u001b[0m \u001b[39mprint\u001b[39m(o2\u001b[39m.\u001b[39mB, end\u001b[39m=\u001b[39m\u001b[39m\"\u001b[39m\u001b[39m \u001b[39m\u001b[39m\"\u001b[39m)\n\u001b[0;32m     17\u001b[0m \u001b[39mprint\u001b[39m(o2\u001b[39m.\u001b[39mA, end\u001b[39m=\u001b[39m\u001b[39m\"\u001b[39m\u001b[39m \u001b[39m\u001b[39m\"\u001b[39m)\n\u001b[1;32m---> 18\u001b[0m \u001b[39mprint\u001b[39m(o2\u001b[39m.\u001b[39;49ma, end\u001b[39m=\u001b[39m\u001b[39m\"\u001b[39m\u001b[39m \u001b[39m\u001b[39m\"\u001b[39m)\n",
      "\u001b[1;31mAttributeError\u001b[0m: 'ClaseB' object has no attribute 'a'"
     ]
    }
   ],
   "source": [
    "class ClaseA:\n",
    "    A = 1\n",
    "    def __init__(self, a):\n",
    "        self.a = a\n",
    "\n",
    "class ClaseB(ClaseA):\n",
    "    B = 2\n",
    "    def __init__(self, a, b):\n",
    "        ClaseA.A = a\n",
    "        ClaseB.B = b\n",
    "\n",
    "o1 = ClaseA(3)\n",
    "o2 = ClaseB(2, 4)\n",
    "print(o1.A, end=\" \")\n",
    "print(o1.a, end=\" \")\n",
    "print(o2.B, end=\" \")\n",
    "print(o2.A, end=\" \")\n",
    "print(o2.a, end=\" \")"
   ]
  },
  {
   "cell_type": "markdown",
   "metadata": {},
   "source": [
    "## Pregunta 2 <a class=\"anchor\" id=\"actividad-2-pregunta-2\"></a>\n",
    "Para el siguiente fragmento de código, seleccione la afirmación u afirmaciones correctas (una o varias opciones)\n",
    "\n",
    "```python\n",
    "class A:\n",
    "    def __init__(self):\n",
    "        self.a = 10\n",
    "    def metodo1(self):\n",
    "        self.b = 20\n",
    "\n",
    "o1 = A()\n",
    "o1.c = 30\n",
    "o2 = A()\n",
    "o2.a = 15\n",
    "o2.metodo1()\n",
    "```\n",
    "\n",
    "A) Si ejecuto print(o1.a, o1.b, o1.c) mostrará 10, 20, 30 <br>\n",
    "B) Si ejecuto print(o1.a, o1.b, o1.c) mostrará 15, 20, 30 <br>\n",
    "C) Si ejecuto print(o1.a, o1.b, o1.c) devolverá un error <br>\n",
    "D) Si ejecuto print(o1.a, o1.b) mostrará 10, 20 <br>\n",
    "E) Si ejecuto print(o1.a, o1.b) mostrará 15, 20 <br>\n",
    "F) Si ejecuto print(o1.a, o1.b) devolverá un error <br>\n",
    "G) Si ejecuto print(o2.a, o2.b, o2.c) mostrará 15, 20, 30 <br>\n",
    "H) Si ejecuto print(o2.a, o2.b, o2.c) devolverá un error <br>\n",
    "I) Si ejecuto print(o2.a, o2.b) mostrará 15, 20 <br>\n",
    "J) Si ejecuto print(o2.a, o2.b) devolverá un error <br>\n",
    "K) Ninguna de las anteriores es cierta\n",
    "\n",
    "**Respuesta:**\n",
    "\n",
    "Las respuestas correctas son las opciones **C, F, H, I**.\n",
    "\n",
    "Las opciones **C** y **F** son correctas porque la variable de instancia `b` solo existe tras la ejecución del método `metodo1` y no existe en el objeto `o1`.<br>\n",
    "La opción **H** es correcta porque la variable de instancia `c` solo existe en el objeto `o1` tras la declaración `o1.c = 30` y no existe en el objeto `o2`.<br>\n",
    "La opción **I** es correcta porque ambas variables de instancia están declaradas y no se produce ningún error.\n",
    "\n",
    "**Resultado Ejecución:**"
   ]
  },
  {
   "cell_type": "code",
   "execution_count": 11,
   "metadata": {},
   "outputs": [],
   "source": [
    "class A:\n",
    "    def __init__(self):\n",
    "        self.a = 10\n",
    "    def metodo1(self):\n",
    "        self.b = 20\n",
    "\n",
    "o1 = A()\n",
    "o1.c = 30\n",
    "o2 = A()\n",
    "o2.a = 15\n",
    "o2.metodo1()"
   ]
  },
  {
   "cell_type": "code",
   "execution_count": 12,
   "metadata": {},
   "outputs": [
    {
     "ename": "AttributeError",
     "evalue": "'A' object has no attribute 'b'",
     "output_type": "error",
     "traceback": [
      "\u001b[1;31m---------------------------------------------------------------------------\u001b[0m",
      "\u001b[1;31mAttributeError\u001b[0m                            Traceback (most recent call last)",
      "Cell \u001b[1;32mIn[12], line 1\u001b[0m\n\u001b[1;32m----> 1\u001b[0m \u001b[39mprint\u001b[39m(o1\u001b[39m.\u001b[39ma, o1\u001b[39m.\u001b[39;49mb, o1\u001b[39m.\u001b[39mc) \u001b[39m# error C\u001b[39;00m\n",
      "\u001b[1;31mAttributeError\u001b[0m: 'A' object has no attribute 'b'"
     ]
    }
   ],
   "source": [
    "print(o1.a, o1.b, o1.c) # error C"
   ]
  },
  {
   "cell_type": "code",
   "execution_count": 13,
   "metadata": {},
   "outputs": [
    {
     "ename": "AttributeError",
     "evalue": "'A' object has no attribute 'b'",
     "output_type": "error",
     "traceback": [
      "\u001b[1;31m---------------------------------------------------------------------------\u001b[0m",
      "\u001b[1;31mAttributeError\u001b[0m                            Traceback (most recent call last)",
      "Cell \u001b[1;32mIn[13], line 1\u001b[0m\n\u001b[1;32m----> 1\u001b[0m \u001b[39mprint\u001b[39m(o1\u001b[39m.\u001b[39ma, o1\u001b[39m.\u001b[39;49mb) \u001b[39m# error F\u001b[39;00m\n",
      "\u001b[1;31mAttributeError\u001b[0m: 'A' object has no attribute 'b'"
     ]
    }
   ],
   "source": [
    "print(o1.a, o1.b) # error F"
   ]
  },
  {
   "cell_type": "code",
   "execution_count": 14,
   "metadata": {},
   "outputs": [
    {
     "ename": "AttributeError",
     "evalue": "'A' object has no attribute 'c'",
     "output_type": "error",
     "traceback": [
      "\u001b[1;31m---------------------------------------------------------------------------\u001b[0m",
      "\u001b[1;31mAttributeError\u001b[0m                            Traceback (most recent call last)",
      "Cell \u001b[1;32mIn[14], line 1\u001b[0m\n\u001b[1;32m----> 1\u001b[0m \u001b[39mprint\u001b[39m(o2\u001b[39m.\u001b[39ma, o2\u001b[39m.\u001b[39mb, o2\u001b[39m.\u001b[39;49mc) \u001b[39m# error H\u001b[39;00m\n",
      "\u001b[1;31mAttributeError\u001b[0m: 'A' object has no attribute 'c'"
     ]
    }
   ],
   "source": [
    "print(o2.a, o2.b, o2.c) # error H"
   ]
  },
  {
   "cell_type": "code",
   "execution_count": 15,
   "metadata": {},
   "outputs": [
    {
     "name": "stdout",
     "output_type": "stream",
     "text": [
      "15 20\n"
     ]
    }
   ],
   "source": [
    "print(o2.a, o2.b) # 15, 20 I"
   ]
  },
  {
   "cell_type": "markdown",
   "metadata": {},
   "source": [
    "## Pregunta 3 <a class=\"anchor\" id=\"actividad-2-pregunta-3\"></a>\n",
    "Si se define una superclase llamada A y una subclase llamaB, cuál o cuáles de los siguientes fragmentos de código debería sustituir al comentario para que cualquier objeto de clase B tuviese el atributo ‘a’ (una o varias opciones)\n",
    "\n",
    "```python\n",
    "class A:\n",
    "    def __init__(self):\n",
    "        self.a = 1\n",
    "\n",
    "class B(A):\n",
    "    def __init__(self):\n",
    "        # Fragmento de código elegido\n",
    "        self.b = 2\n",
    "\n",
    "o = B()\n",
    "print(o.a)\n",
    "```\n",
    "\n",
    "A) \\_\\_init\\_\\_() <br>\n",
    "B) A.\\_\\_init\\_\\_(self) <br>\n",
    "C) A.\\_\\_init\\_\\_() <br>\n",
    "D) super.\\_\\_init\\_\\_() <br>\n",
    "E) super.__init(self) <br>\n",
    "F) super().\\_\\_init\\_\\_() <br>\n",
    "G) super().__init(self) <br>\n",
    "H) No hace falta poner nada\n",
    "\n",
    "**Respuesta:**\n",
    "\n",
    "La respuesta correcta es la **F**.\n",
    "\n",
    "Al utilizar `super()` se llama al método `__init__` de la clase padre, en este caso la clase `A`. Al no pasarle ningún parámetro, se utiliza el constructor por defecto de la clase padre, que en este caso es el constructor sin parámetros. <br>\n",
    "\n",
    "**Resultado Ejecución:**"
   ]
  },
  {
   "cell_type": "code",
   "execution_count": 16,
   "metadata": {},
   "outputs": [
    {
     "name": "stdout",
     "output_type": "stream",
     "text": [
      "1\n"
     ]
    }
   ],
   "source": [
    "class A:\n",
    "    def __init__(self):\n",
    "        self.a = 1\n",
    "\n",
    "class B(A):\n",
    "    def __init__(self):\n",
    "        super().__init__()\n",
    "        self.b = 2\n",
    "\n",
    "o = B()\n",
    "print(o.a)"
   ]
  },
  {
   "cell_type": "markdown",
   "metadata": {},
   "source": [
    "## Pregunta 4 <a class=\"anchor\" id=\"actividad-2-pregunta-4\"></a>\n",
    "¿Qué devolverá por pantalla el siguiente fragmento de código? (1 opción)\n",
    "\n",
    "```python\n",
    "class A:\n",
    "    def metodo(self) -> None:\n",
    "        print('a')\n",
    "\n",
    "class B:\n",
    "    def metodo(self) -> None:\n",
    "        print('b')\n",
    "\n",
    "class C(B):\n",
    "    def metodo(self) -> None:\n",
    "        print('c')\n",
    "\n",
    "class D(C, A):\n",
    "    pass\n",
    "\n",
    "o = D()\n",
    "print(issubclass(D, A), ' ', end='')\n",
    "o.metodo()\n",
    "```\n",
    "\n",
    "A) True a <br>\n",
    "B) True b <br>\n",
    "C) True c <br>\n",
    "D) False a <br>\n",
    "E) False b <br>\n",
    "F) False c <br>\n",
    "G) El programa dará un error.\n",
    "\n",
    "**Respuesta:**\n",
    "\n",
    "La respuesta correcta es la **C**.\n",
    "\n",
    "La función `issubclass` devuelve `True` si la clase `D` es subclase de la clase `A` y `False` si no lo es. Como la clase `D` es subclase de la clase `C` y `A`, la función devuelve `True`. Al utilizar la herencia múltiple, el orden de preferencia es de izquierda a derecha, por lo tanto al llamar método, se ejecuta el método de la clase `C` que es la primera clase de la lista de herencia. Siendo la respuesta correcta la **C**."
   ]
  },
  {
   "cell_type": "code",
   "execution_count": null,
   "metadata": {},
   "outputs": [],
   "source": [
    "class A:\n",
    "    def metodo(self) -> None:\n",
    "        print('a')\n",
    "\n",
    "class B:\n",
    "    def metodo(self) -> None:\n",
    "        print('b')\n",
    "\n",
    "class C(B):\n",
    "    def metodo(self) -> None:\n",
    "        print('c')\n",
    "\n",
    "class D(C, A):\n",
    "    pass\n",
    "\n",
    "o = D()\n",
    "print(issubclass(D, A), ' ', end='')\n",
    "o.metodo()"
   ]
  }
 ],
 "metadata": {
  "kernelspec": {
   "display_name": "Python 3 (ipykernel)",
   "language": "python",
   "name": "python3"
  },
  "language_info": {
   "codemirror_mode": {
    "name": "ipython",
    "version": 3
   },
   "file_extension": ".py",
   "mimetype": "text/x-python",
   "name": "python",
   "nbconvert_exporter": "python",
   "pygments_lexer": "ipython3",
   "version": "3.10.10"
  }
 },
 "nbformat": 4,
 "nbformat_minor": 2
}
