{
 "cells": [
  {
   "attachments": {},
   "cell_type": "markdown",
   "metadata": {},
   "source": [
    "#  Cadenas y Listas II\n",
    "Actividad Lección 4 || Certificación PCAP\n",
    "\n",
    "Objetivos:\n",
    "* Profundizar en los conceptos vistos en esta lección\n",
    "\n",
    "Datos del alumno:\n",
    "* Víctor Luque Martín\n",
    "* Máster Avanzado en Programación en Python para Hacking, BigData y Machine Learning\n",
    "\n",
    "Fecha: 29/03/2023"
   ]
  },
  {
   "cell_type": "markdown",
   "metadata": {},
   "source": [
    "# Tabla de Contenidos\n",
    "1. [Actividad 1: Script de Python](#actividad-1-script-de-python)\n",
    "    1. [Enunciado](#actividad-1-script-de-python-enunciado)\n",
    "    2. [Solución](#actividad-1-script-de-python-solución)\n",
    "2. [Actividad 2: Preguntas](#actividad-2-preguntas)\n",
    "    1. [Pregunta 1](#actividad-2-pregunta-1)\n",
    "    2. [Pregunta 2](#actividad-2-pregunta-2)\n",
    "    3. [Pregunta 3](#actividad-2-pregunta-3)\n",
    "    4. [Pregunta 4](#actividad-2-pregunta-4)\n",
    "    5. [Pregunta 5](#actividad-2-pregunta-5)"
   ]
  },
  {
   "cell_type": "markdown",
   "metadata": {},
   "source": [
    "# Actividad 1: Script de Python <a name=\"actividad-1-script-de-python\"></a>\n",
    "## Enunciado <a name=\"actividad-1-script-de-python-enunciado\"></a>\n",
    "El objetivo de esta actividad es crear un pequeño programa que dada una cadena de texto que represente una lista de números separada con espacios devuelva la suma total de los números de dicha lista y devuelva una cadena de texto por pantalla con la misma lista de números ordenada de forma numérica. Si la línea de números contiene la palabra “STOP” independientemente de que esté en mayúsculas o minúsculas o su combinación los números a la derecha de esta palabra se deben despreciar tanto para la suma como para la ordenación. \n",
    "\n",
    "Se valorará que el código haga lo solicitado, la utilización de los conceptos y recursos vistos en la lección y la calidad del código.\n",
    "\n",
    "`TIP:` Se recomienda leer los diferentes métodos que ofrecen los objetos de tipo cadena ya que podría haber alguno o algunos que os podrían facilitar la actividad: \n",
    "\n",
    "https://docs.python.org/3/library/stdtypes.html#string-methods\n",
    "\n",
    "A continuación, se muestra dos ejemplos de cómo debe funcionar el programa realizado y la salida por pantalla que debe mostrar:\n",
    "\n",
    "```cmd\n",
    "Introduzca una linea con los números separados por espacios: 23 4 5.4 8.5 9.0\n",
    "La suma de los números es 49.9\n",
    "La lista ordenada es: [4.0, 5.4, 8.5, 9.0, 23.0]\n",
    "\n",
    "Introduzca una linea con los números separados por espacios: 23 4 5.4 8.5 STOP 9.0\n",
    "La suma de los números es 40.9\n",
    "La lista ordenada es: [4.0, 5.4, 8.5, 23.0]\n",
    "```"
   ]
  },
  {
   "cell_type": "markdown",
   "metadata": {},
   "source": [
    "## Solución <a name=\"actividad-1-script-de-python-solución\"></a>"
   ]
  },
  {
   "cell_type": "code",
   "execution_count": 1,
   "metadata": {},
   "outputs": [
    {
     "name": "stdout",
     "output_type": "stream",
     "text": [
      "Introduzca una linea con los números separados por espacios: 23 4 5.4 8.5 9.0\n",
      "La suma de los números es 49.9\n",
      "La lista ordenada es: [4.0, 5.4, 8.5, 9.0, 23.0]\n",
      "\n",
      "Introduzca una linea con los números separados por espacios: 23 4 5.4 8.5 STOP 9.0\n",
      "La suma de los números es 40.9\n",
      "La lista ordenada es: [4.0, 5.4, 8.5, 23.0]\n"
     ]
    }
   ],
   "source": [
    "import string\n",
    "\n",
    "def actividad():\n",
    "    while True:\n",
    "        linea = input(\"Introduzca una linea con los números separados por espacios: \").lower()\n",
    "        numeros = linea.split(\" \")\n",
    "\n",
    "        if \"stop\" in numeros:\n",
    "            numeros = numeros[:numeros.index(\"stop\")]\n",
    "        \n",
    "        # Se valida que cada elemento dentro de numeros no es una letra ascii\n",
    "        # En caso de que haya algún caracter ascii, el bucle continua.\n",
    "        if any(v for v in numeros if v.lower() in string.ascii_lowercase):\n",
    "            continue\n",
    "        else:\n",
    "            break\n",
    "\n",
    "    # Si existe algun 'numero' que sea una letra con tilde (á, é, í, ó, ú) o dieresis lanzará un error\n",
    "    # porque no puede transformar ese string a float\n",
    "    numeros = sorted([float(numero) for numero in numeros])\n",
    "    suma = sum(numeros)\n",
    "\n",
    "    print(f\"La suma de los números es {suma}\", \n",
    "        f\"La lista ordenada es: {numeros}\", sep=\"\\n\")\n",
    "\n",
    "actividad()\n",
    "print(\"\")\n",
    "actividad()"
   ]
  },
  {
   "cell_type": "markdown",
   "metadata": {},
   "source": [
    "# Actividad 2: Preguntas <a name=\"actividad-2-preguntas\"></a>\n",
    "Las preguntas sobre listas, tuplas y diccionarios suelen ser muy comunes en el examen de certificación PCAP, por lo que con esta actividad se pretende trabajar en los diferentes conceptos vistos en esta lección. En esta actividad debes enviar para cada pregunta la opción u opciones correctas, así como una breve explicación de tu elección. **Es importante que no te olvides de enviar la breve explicación de tu elección ya que si no lo envías se te valorará la pregunta como incorrecta.**"
   ]
  },
  {
   "cell_type": "markdown",
   "metadata": {},
   "source": [
    "## Pregunta 1 <a name=\"actividad-2-pregunta-1\"></a>\n",
    "¿Cuál de las siguientes afirmaciones es correcta? (1 opción)\n",
    "\n",
    "```python\n",
    "print('abc' + 'xy' * 2 + 'a' * 3)\n",
    "```\n",
    "\n",
    "A) abcxyabcxyaabcxyabcxyaabcxyabcxya <br>\n",
    "B) abcxyabcxyaaa <br>\n",
    "C) abcxyxyaaa <br>\n",
    "D) El programa dará un error.\n",
    "\n",
    "**Respuesta:**\n",
    "\n",
    "La respuesta correcta es la opción **C**.\n",
    "\n",
    "El orden de los operadores en Python es de izquierda a derecha, salvo la exponenciación que es de derecha a izquierda. Al ejecutar el `print` se evalua la expresión `'abc' + 'xy' * 2 + 'a' * 3` que se puede descomponer en `'abc' + 'xyxy' + 'aaa'`, finalmente por pantalla se muestra la cadena `'abcxyxyaaa'`. Siendo la opción **C** la correcta.\n",
    "\n",
    "**Resultado Ejecución:**"
   ]
  },
  {
   "cell_type": "code",
   "execution_count": 2,
   "metadata": {},
   "outputs": [
    {
     "name": "stdout",
     "output_type": "stream",
     "text": [
      "abcxyxyaaa\n"
     ]
    }
   ],
   "source": [
    "print('abc' + 'xy' * 2 + 'a' * 3)"
   ]
  },
  {
   "cell_type": "markdown",
   "metadata": {},
   "source": [
    "## Pregunta 2 <a name=\"actividad-2-pregunta-2\"></a>\n",
    "¿Cuál es la salida del siguiente fragmento de código? (1 opción)\n",
    "\n",
    "```python\n",
    "salida = \"-\"\n",
    "for ch in \"ZYX\":\n",
    "    salida = salida + chr(ord(ch) - 1) * 2\n",
    "print(salida)\n",
    "```\n",
    "\n",
    "A) -WW <br>\n",
    "B) -YYXXWW <br>\n",
    "C) --YYXXWW <br>\n",
    "D) -YYXYYXW-YYXYYXW <br>\n",
    "E) - <br>\n",
    "F) El programa dará un error\n",
    "\n",
    "**Respuesta:**\n",
    "\n",
    "La respuesta correcta es la opción **B**.\n",
    "\n",
    "La variable `salida` comienza siendo '-', en el bucle `for` se recorre la cadena 'ZYX' y se va concatenando a la variable `salida` el caracter anterior en el código ASCII de cada caracter de la cadena 'ZYX' multiplicado por 2. Por lo que la salida del programa será '-YYXXWW'. Siendo la opción **B** la correcta.\n",
    "\n",
    "**Resultado Ejecución:**"
   ]
  },
  {
   "cell_type": "code",
   "execution_count": 3,
   "metadata": {},
   "outputs": [
    {
     "name": "stdout",
     "output_type": "stream",
     "text": [
      "-YYXXWW\n"
     ]
    }
   ],
   "source": [
    "salida = \"-\"\n",
    "for ch in \"ZYX\":\n",
    "    salida = salida + chr(ord(ch) - 1) * 2\n",
    "print(salida)"
   ]
  },
  {
   "cell_type": "markdown",
   "metadata": {},
   "source": [
    "## Pregunta 3 <a name=\"actividad-2-pregunta-3\"></a>\n",
    "¿Cuál o cuáles de las siguientes afirmaciones son ciertas? (una o varias opciones)\n",
    "\n",
    "```python\n",
    "a = \"2.1\"\n",
    "b = float(a)\n",
    "c = int(b)\n",
    "d = int(a)\n",
    "idc = id(c)\n",
    "idd = id(d)\n",
    "```\n",
    "\n",
    "A) Al finalizar la ejecución el valor de c y d será 2 <br>\n",
    "B) Al finalizar la ejecución idc e idd contendrán el mismo valor. <br>\n",
    "C) Al finalizar la ejecución idc e idd contendrán distinto valor. <br>\n",
    "D) El programa dará un error.\n",
    "\n",
    "**Respuesta:**\n",
    "\n",
    "La respuesta correcta es la **D**.\n",
    "\n",
    "El error se produce cuando se intenta convertir la cadena '2.1' en un entero, ya que no es posible convertir una cadena que contenga decimales en un entero. Siendo la opción **D** la correcta.\n",
    "\n",
    "**Resultado Ejecución:**"
   ]
  },
  {
   "cell_type": "code",
   "execution_count": 4,
   "metadata": {},
   "outputs": [
    {
     "ename": "ValueError",
     "evalue": "invalid literal for int() with base 10: '2.1'",
     "output_type": "error",
     "traceback": [
      "\u001b[1;31m---------------------------------------------------------------------------\u001b[0m",
      "\u001b[1;31mValueError\u001b[0m                                Traceback (most recent call last)",
      "Cell \u001b[1;32mIn[4], line 4\u001b[0m\n\u001b[0;32m      2\u001b[0m b \u001b[38;5;241m=\u001b[39m \u001b[38;5;28mfloat\u001b[39m(a)\n\u001b[0;32m      3\u001b[0m c \u001b[38;5;241m=\u001b[39m \u001b[38;5;28mint\u001b[39m(b)\n\u001b[1;32m----> 4\u001b[0m d \u001b[38;5;241m=\u001b[39m \u001b[38;5;28;43mint\u001b[39;49m\u001b[43m(\u001b[49m\u001b[43ma\u001b[49m\u001b[43m)\u001b[49m\n\u001b[0;32m      5\u001b[0m idc \u001b[38;5;241m=\u001b[39m \u001b[38;5;28mid\u001b[39m(c)\n\u001b[0;32m      6\u001b[0m idd \u001b[38;5;241m=\u001b[39m \u001b[38;5;28mid\u001b[39m(d)\n",
      "\u001b[1;31mValueError\u001b[0m: invalid literal for int() with base 10: '2.1'"
     ]
    }
   ],
   "source": [
    "a = \"2.1\"\n",
    "b = float(a)\n",
    "c = int(b)\n",
    "d = int(a)\n",
    "idc = id(c)\n",
    "idd = id(d)"
   ]
  },
  {
   "cell_type": "markdown",
   "metadata": {},
   "source": [
    "## Pregunta 4 <a name=\"actividad-2-pregunta-4\"></a>\n",
    "¿Cuál o cuáles de las siguientes afirmaciones son ciertas? (una o varias opciones)\n",
    "\n",
    "```python\n",
    "mi_lista = [\"aa\", \"AA\", \"a\"]\n",
    "mi_lista1 = mi_lista[:]\n",
    "mi_lista.sort()\n",
    "for el in mi_lista:\n",
    "    print(el, end=\"-\")\n",
    "for el in mi_lista1:\n",
    "    print(el, end=\"-\")\n",
    "```\n",
    "\n",
    "A) El programa imprimirá por pantalla “AA-a-aa-AA-a-aa-” <br>\n",
    "B) El programa imprimirá por pantalla “AA-a-aa-aa-AA-a-” <br>\n",
    "C) Si ejecuto después “mi_lista == mi_lista1” me devolverá True. <br>\n",
    "D) Si ejecuto después “mi_lista == mi_lista1” me devolverá False. <br>\n",
    "E) El programa dará un error.\n",
    "\n",
    "**Respuesta:**\n",
    "\n",
    "Las respuestas correctas son las opciones **B** y **D**.\n",
    "\n",
    "Al utilizar el método `sort` sobre `mi_lista` esta se ordena alfabéticamente, al recorrer `mi_lista` en el bucle `for` y hacer un `print` de cada elemento, se muestra por pantalla 'AA-a-aa-', al recorrer `mi_lista1` en el bucle `for` y hacer un `print` de cada elemento, se muestra por pantalla 'aa-AA-a-'. Por lo tanto el text mostrado por pantalla es 'AA-a-aa-aa-AA-a-'. Siendo la opción **B** la correcta.\n",
    "\n",
    "Al utilizar el operador `==` se compara el contenido de las dos listas, por lo que al comparar `mi_lista == mi_lista1` se comprueba que el contenido de ambas listas es distinto, por lo que el resultado de la comparación es `False`. Siendo la opción **D** la correcta.\n",
    "\n",
    "**Resultado Ejecución:**"
   ]
  },
  {
   "cell_type": "code",
   "execution_count": null,
   "metadata": {},
   "outputs": [],
   "source": [
    "mi_lista = [\"aa\", \"AA\", \"a\"]\n",
    "mi_lista1 = mi_lista[:]\n",
    "mi_lista.sort()\n",
    "for el in mi_lista:\n",
    "    print(el, end=\"-\") # Opción B pt 1\n",
    "for el in mi_lista1:\n",
    "    print(el, end=\"-\") # Opción B pt 2\n",
    "print(f'\\n{mi_lista == mi_lista1}') # Opcion D"
   ]
  },
  {
   "cell_type": "markdown",
   "metadata": {},
   "source": [
    "## Pregunta 5 <a name=\"actividad-2-pregunta-5\"></a>\n",
    "¿Cuál es la salida del siguiente fragmento de código? (1 opción)\n",
    "\n",
    "```python\n",
    "mi_lista = lista = [[i if j > 1 else -1 for i in range(4)] for j in range(0, 4) if j % 2 == 0]\n",
    "print(lista)\n",
    "```\n",
    "\n",
    "A) [[0, 1, 2, 3], [0, 1, 2, 3]] <br>\n",
    "B) [[-1, -1, -1, -1], [0, 1, 2, 3]] <br>\n",
    "C) [[-1, -1, 2, 3], [-1, -1, 2, 3]] <br>\n",
    "D) El programa dará un error.\n",
    "\n",
    "**Respuesta:**\n",
    "\n",
    "La respuesta correcta es la opción **B**.\n",
    "\n",
    "En esta comprensión de listas anidadas se define j para el rango 0-4 siempre que la expresión j % 2 == 0, por lo tanto es como si se recorriese una lista con valor `[0, 2]`. En la siguiente comprensión de lista se define i para el rango 0-4, donde se comprueba si j es mayor que 1, si es así se asigna el valor de i, si no se asigna el valor -1. Por lo que la lista resultante es `[[-1, -1, -1, -1], [0, 1, 2, 3]]`. Siendo la opción **B** la correcta.\n",
    "\n",
    "**Resultado Ejecución:**"
   ]
  },
  {
   "cell_type": "code",
   "execution_count": null,
   "metadata": {},
   "outputs": [],
   "source": [
    "mi_lista = lista = [[i if j > 1 else -1 for i in range(4)] for j in range(0, 4) if j % 2 == 0]\n",
    "print(lista)"
   ]
  }
 ],
 "metadata": {
  "kernelspec": {
   "display_name": "Python 3 (ipykernel)",
   "language": "python",
   "name": "python3"
  },
  "language_info": {
   "codemirror_mode": {
    "name": "ipython",
    "version": 3
   },
   "file_extension": ".py",
   "mimetype": "text/x-python",
   "name": "python",
   "nbconvert_exporter": "python",
   "pygments_lexer": "ipython3",
   "version": "3.10.10"
  }
 },
 "nbformat": 4,
 "nbformat_minor": 2
}
