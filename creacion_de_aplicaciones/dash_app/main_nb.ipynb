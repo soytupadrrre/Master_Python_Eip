{
 "cells": [
  {
   "cell_type": "code",
   "execution_count": 7,
   "metadata": {},
   "outputs": [],
   "source": [
    "from dash import dcc\n",
    "from dash import html\n",
    "from dash.dependencies import Output, Input\n",
    "import pandas as pd\n",
    "import plotly.express as px\n",
    "import quandl\n",
    "import requests\n",
    "from io import StringIO\n",
    "from jupyter_dash import JupyterDash"
   ]
  },
  {
   "cell_type": "code",
   "execution_count": 8,
   "metadata": {},
   "outputs": [],
   "source": [
    "app = JupyterDash(title=\"Víctor Luque - Quandl Dash App\")\n",
    "quandl.ApiConfig.api_key = \"\""
   ]
  },
  {
   "cell_type": "code",
   "execution_count": 9,
   "metadata": {},
   "outputs": [
    {
     "data": {
      "text/html": [
       "<div>\n",
       "<style scoped>\n",
       "    .dataframe tbody tr th:only-of-type {\n",
       "        vertical-align: middle;\n",
       "    }\n",
       "\n",
       "    .dataframe tbody tr th {\n",
       "        vertical-align: top;\n",
       "    }\n",
       "\n",
       "    .dataframe thead th {\n",
       "        text-align: right;\n",
       "    }\n",
       "</style>\n",
       "<table border=\"1\" class=\"dataframe\">\n",
       "  <thead>\n",
       "    <tr style=\"text-align: right;\">\n",
       "      <th></th>\n",
       "      <th>Ticker</th>\n",
       "    </tr>\n",
       "  </thead>\n",
       "  <tbody>\n",
       "    <tr>\n",
       "      <th>0</th>\n",
       "      <td>A</td>\n",
       "    </tr>\n",
       "    <tr>\n",
       "      <th>1</th>\n",
       "      <td>AA</td>\n",
       "    </tr>\n",
       "    <tr>\n",
       "      <th>2</th>\n",
       "      <td>AAL</td>\n",
       "    </tr>\n",
       "    <tr>\n",
       "      <th>3</th>\n",
       "      <td>AAMC</td>\n",
       "    </tr>\n",
       "    <tr>\n",
       "      <th>4</th>\n",
       "      <td>AAN</td>\n",
       "    </tr>\n",
       "  </tbody>\n",
       "</table>\n",
       "</div>"
      ],
      "text/plain": [
       "  Ticker\n",
       "0      A\n",
       "1     AA\n",
       "2    AAL\n",
       "3   AAMC\n",
       "4    AAN"
      ]
     },
     "execution_count": 9,
     "metadata": {},
     "output_type": "execute_result"
    }
   ],
   "source": [
    "wiki_companies_text = requests.get(\"https://static.quandl.com/coverage/WIKI_PRICES.csv\").text\n",
    "wiki_companies_df = pd.read_csv(StringIO(wiki_companies_text))\n",
    "wiki_companies_df.rename(columns={'ticker': 'Ticker'}, inplace=True)\n",
    "wiki_companies_df.head()"
   ]
  },
  {
   "cell_type": "code",
   "execution_count": 10,
   "metadata": {},
   "outputs": [
    {
     "data": {
      "text/html": [
       "<div>\n",
       "<style scoped>\n",
       "    .dataframe tbody tr th:only-of-type {\n",
       "        vertical-align: middle;\n",
       "    }\n",
       "\n",
       "    .dataframe tbody tr th {\n",
       "        vertical-align: top;\n",
       "    }\n",
       "\n",
       "    .dataframe thead th {\n",
       "        text-align: right;\n",
       "    }\n",
       "</style>\n",
       "<table border=\"1\" class=\"dataframe\">\n",
       "  <thead>\n",
       "    <tr style=\"text-align: right;\">\n",
       "      <th></th>\n",
       "      <th>Ticker</th>\n",
       "      <th>Name</th>\n",
       "      <th>Sector</th>\n",
       "      <th>Industry</th>\n",
       "      <th>Price</th>\n",
       "      <th>Collection</th>\n",
       "    </tr>\n",
       "  </thead>\n",
       "  <tbody>\n",
       "    <tr>\n",
       "      <th>0</th>\n",
       "      <td>A</td>\n",
       "      <td>Agilent Technologies Inc.</td>\n",
       "      <td>Healthcare</td>\n",
       "      <td>Medical Laboratories &amp; Research</td>\n",
       "      <td>WIKI/A</td>\n",
       "      <td>stocks/a</td>\n",
       "    </tr>\n",
       "    <tr>\n",
       "      <th>1</th>\n",
       "      <td>AA</td>\n",
       "      <td>Alcoa Inc.</td>\n",
       "      <td>Basic Materials</td>\n",
       "      <td>Aluminum</td>\n",
       "      <td>WIKI/AA</td>\n",
       "      <td>stocks/aa</td>\n",
       "    </tr>\n",
       "    <tr>\n",
       "      <th>3</th>\n",
       "      <td>AAN</td>\n",
       "      <td>Aaron's, Inc.</td>\n",
       "      <td>Services</td>\n",
       "      <td>Rental &amp; Leasing Services</td>\n",
       "      <td>WIKI/AAN</td>\n",
       "      <td>stocks/aan</td>\n",
       "    </tr>\n",
       "    <tr>\n",
       "      <th>4</th>\n",
       "      <td>AAON</td>\n",
       "      <td>AAON Inc.</td>\n",
       "      <td>Industrial Goods</td>\n",
       "      <td>General Building Materials</td>\n",
       "      <td>WIKI/AAON</td>\n",
       "      <td>stocks/aaon</td>\n",
       "    </tr>\n",
       "    <tr>\n",
       "      <th>5</th>\n",
       "      <td>AAP</td>\n",
       "      <td>Advance Auto Parts Inc.</td>\n",
       "      <td>Services</td>\n",
       "      <td>Auto Parts Stores</td>\n",
       "      <td>WIKI/AAP</td>\n",
       "      <td>stocks/aap</td>\n",
       "    </tr>\n",
       "  </tbody>\n",
       "</table>\n",
       "</div>"
      ],
      "text/plain": [
       "  Ticker                       Name            Sector  \\\n",
       "0      A  Agilent Technologies Inc.        Healthcare   \n",
       "1     AA                 Alcoa Inc.   Basic Materials   \n",
       "3    AAN              Aaron's, Inc.          Services   \n",
       "4   AAON                  AAON Inc.  Industrial Goods   \n",
       "5    AAP    Advance Auto Parts Inc.          Services   \n",
       "\n",
       "                          Industry      Price   Collection  \n",
       "0  Medical Laboratories & Research     WIKI/A     stocks/a  \n",
       "1                         Aluminum    WIKI/AA    stocks/aa  \n",
       "3        Rental & Leasing Services   WIKI/AAN   stocks/aan  \n",
       "4       General Building Materials  WIKI/AAON  stocks/aaon  \n",
       "5                Auto Parts Stores   WIKI/AAP   stocks/aap  "
      ]
     },
     "execution_count": 10,
     "metadata": {},
     "output_type": "execute_result"
    }
   ],
   "source": [
    "data_secwiki = requests.get(\"https://raw.githubusercontent.com/BangaloreSharks/SharkStock/master/secwiki_tickers.csv\").text\n",
    "df_secwiki = pd.read_csv(StringIO(data_secwiki))\n",
    "df_secwiki = df_secwiki[df_secwiki[\"Price\"].notna()]\n",
    "df_secwiki.head()"
   ]
  },
  {
   "cell_type": "code",
   "execution_count": 11,
   "metadata": {},
   "outputs": [
    {
     "data": {
      "text/html": [
       "<div>\n",
       "<style scoped>\n",
       "    .dataframe tbody tr th:only-of-type {\n",
       "        vertical-align: middle;\n",
       "    }\n",
       "\n",
       "    .dataframe tbody tr th {\n",
       "        vertical-align: top;\n",
       "    }\n",
       "\n",
       "    .dataframe thead th {\n",
       "        text-align: right;\n",
       "    }\n",
       "</style>\n",
       "<table border=\"1\" class=\"dataframe\">\n",
       "  <thead>\n",
       "    <tr style=\"text-align: right;\">\n",
       "      <th></th>\n",
       "      <th>Ticker</th>\n",
       "      <th>Name</th>\n",
       "      <th>Sector</th>\n",
       "    </tr>\n",
       "  </thead>\n",
       "  <tbody>\n",
       "    <tr>\n",
       "      <th>0</th>\n",
       "      <td>A</td>\n",
       "      <td>Agilent Technologies Inc.</td>\n",
       "      <td>Healthcare</td>\n",
       "    </tr>\n",
       "    <tr>\n",
       "      <th>1</th>\n",
       "      <td>AA</td>\n",
       "      <td>Alcoa Inc.</td>\n",
       "      <td>Basic Materials</td>\n",
       "    </tr>\n",
       "    <tr>\n",
       "      <th>2</th>\n",
       "      <td>AAN</td>\n",
       "      <td>Aaron's, Inc.</td>\n",
       "      <td>Services</td>\n",
       "    </tr>\n",
       "    <tr>\n",
       "      <th>3</th>\n",
       "      <td>AAON</td>\n",
       "      <td>AAON Inc.</td>\n",
       "      <td>Industrial Goods</td>\n",
       "    </tr>\n",
       "    <tr>\n",
       "      <th>4</th>\n",
       "      <td>AAP</td>\n",
       "      <td>Advance Auto Parts Inc.</td>\n",
       "      <td>Services</td>\n",
       "    </tr>\n",
       "  </tbody>\n",
       "</table>\n",
       "</div>"
      ],
      "text/plain": [
       "  Ticker                       Name            Sector\n",
       "0      A  Agilent Technologies Inc.        Healthcare\n",
       "1     AA                 Alcoa Inc.   Basic Materials\n",
       "2    AAN              Aaron's, Inc.          Services\n",
       "3   AAON                  AAON Inc.  Industrial Goods\n",
       "4    AAP    Advance Auto Parts Inc.          Services"
      ]
     },
     "execution_count": 11,
     "metadata": {},
     "output_type": "execute_result"
    }
   ],
   "source": [
    "df_valid = pd.merge(wiki_companies_df, df_secwiki, on=\"Ticker\")\n",
    "#Remove Industry, Price and Collection columns\n",
    "df_valid = df_valid.drop(columns=[\"Industry\", \"Price\", \"Collection\"])\n",
    "df_valid.head()"
   ]
  },
  {
   "cell_type": "code",
   "execution_count": 12,
   "metadata": {},
   "outputs": [],
   "source": [
    "# Get data from Quandl\n",
    "def get_quandl_data(ticker, start_date, end_date):\n",
    "    response = quandl.get(f\"WIKI/{ticker}.4\", start_date=start_date, end_date=end_date)\n",
    "    # Add a column with the ticker\n",
    "    response[\"Ticker\"] = ticker\n",
    "    return response"
   ]
  },
  {
   "cell_type": "code",
   "execution_count": 13,
   "metadata": {},
   "outputs": [],
   "source": [
    "@app.callback(\n",
    "    Output(component_id='output', component_property='figure'),\n",
    "    [Input(component_id='input_ticker', component_property='value'),\n",
    "     Input(component_id='date_range', component_property='start_date'),\n",
    "     Input(component_id='date_range', component_property='end_date')]\n",
    ")\n",
    "def create_figure(input_ticker:str, start_date:str, end_date:str):\n",
    "    if input_ticker is not None:\n",
    "        input_ticker = input_ticker.upper()\n",
    "    else:\n",
    "        input_ticker = 'GOOGL'\n",
    "    # Collect data from Quandl\n",
    "    # Create a figure\n",
    "    df_quandl = get_quandl_data(input_ticker, start_date, end_date)\n",
    "    # Move date index to a column\n",
    "    df_quandl.reset_index(inplace=True)\n",
    "    df_quandl.rename(columns={'Date': 'Date_Quandl'}, inplace=True)\n",
    "    # Include rows from df_valid where ticker is the same as ticker from Quandl\n",
    "    df_quandl = pd.merge(df_valid, df_quandl, on=\"Ticker\")\n",
    "    figure = px.line(\n",
    "        df_quandl, x=\"Date_Quandl\", y=\"Close\",\n",
    "        title=\"Precios de {}\".format(df_valid[df_valid[\"Ticker\"] == input_ticker][\"Name\"].to_string(index=False)),\n",
    "        labels={\n",
    "            \"Close\": \"Precio de cierre (USD)\",\n",
    "            \"Date_Quandl\": \"Fecha\"\n",
    "        },\n",
    "        template=\"plotly_dark\"\n",
    "    )\n",
    "    return figure"
   ]
  },
  {
   "cell_type": "code",
   "execution_count": 14,
   "metadata": {},
   "outputs": [],
   "source": [
    "#create temp_df with tickers and names deleting notna\n",
    "temp_df = df_valid[df_valid[\"Ticker\"].notna()]\n",
    "temp_df = df_valid[df_valid[\"Name\"].notna()]\n",
    "# Create a list of tickers\n",
    "lista = temp_df[[\"Ticker\", \"Name\"]].values\n",
    "opciones = []\n",
    "for item in lista:\n",
    "    # Remove special characters from each item list of strings\n",
    "    opciones.append({\"label\": item[1], \"value\": item[0]})"
   ]
  },
  {
   "cell_type": "code",
   "execution_count": 15,
   "metadata": {},
   "outputs": [],
   "source": [
    "app.layout = html.Div(children=[\n",
    "    html.H1(children='Víctor Luque - Dash App'),\n",
    "    html.H3(children='''\n",
    "        Una aplicación de Dash para mostrar la información del sépalo de las flores iris contenidas en Iris Dataset.\n",
    "    '''),\n",
    "    html.P(\"Seleccione una especie para ver su sépalo (setosa, version, virginica, todas)\"),\n",
    "    dcc.Dropdown(\n",
    "        id='input_ticker',\n",
    "        options=opciones,\n",
    "        clearable=False,\n",
    "        value='GOOG'\n",
    "    ),\n",
    "    dcc.DatePickerRange(\n",
    "        id='date_range',\n",
    "        min_date_allowed=\"2015-01-01\",\n",
    "        max_date_allowed=\"2021-12-31\",\n",
    "        start_date=\"2015-01-01\",\n",
    "        end_date=\"2021-12-31\"\n",
    "\n",
    "    ),\n",
    "    # Create a figure\n",
    "    dcc.Graph(id='output', figure=create_figure(input_ticker='GOOG', start_date='2015-01-01', end_date='2021-12-31')),\n",
    "])"
   ]
  },
  {
   "cell_type": "code",
   "execution_count": 16,
   "metadata": {},
   "outputs": [
    {
     "name": "stdout",
     "output_type": "stream",
     "text": [
      "Dash app running on http://127.0.0.1:8050/\n"
     ]
    }
   ],
   "source": [
    "app.run_server(debug=True)"
   ]
  },
  {
   "cell_type": "code",
   "execution_count": 17,
   "metadata": {},
   "outputs": [
    {
     "data": {
      "text/html": [
       "\n",
       "        <iframe\n",
       "            width=\"100%\"\n",
       "            height=\"650\"\n",
       "            src=\"http://127.0.0.1:8050/\"\n",
       "            frameborder=\"0\"\n",
       "            allowfullscreen\n",
       "            \n",
       "        ></iframe>\n",
       "        "
      ],
      "text/plain": [
       "<IPython.lib.display.IFrame at 0x1621af36130>"
      ]
     },
     "metadata": {},
     "output_type": "display_data"
    }
   ],
   "source": [
    "app.run_server(debug=True, mode=\"inline\")"
   ]
  }
 ],
 "metadata": {
  "interpreter": {
   "hash": "afbba9db617f7d4af295f609b16196de74c7c50266ddc7e483cfa75f3aa5dfc5"
  },
  "kernelspec": {
   "display_name": "Python 3.9.7 ('venv': venv)",
   "language": "python",
   "name": "python3"
  },
  "language_info": {
   "codemirror_mode": {
    "name": "ipython",
    "version": 3
   },
   "file_extension": ".py",
   "mimetype": "text/x-python",
   "name": "python",
   "nbconvert_exporter": "python",
   "pygments_lexer": "ipython3",
   "version": "3.9.7"
  },
  "orig_nbformat": 4
 },
 "nbformat": 4,
 "nbformat_minor": 2
}
