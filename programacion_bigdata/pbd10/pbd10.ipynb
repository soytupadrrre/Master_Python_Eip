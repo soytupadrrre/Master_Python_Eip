{
 "cells": [
  {
   "cell_type": "markdown",
   "metadata": {},
   "source": [
    "# Quantum Computing\n",
    "Actividad Lección 10 || Programación Python para Big Data\n",
    "\n",
    "Objetivos:\n",
    "* Aprender más sobre Computación Cuántica\n",
    "* Fomentar la proactividad\n",
    "\n",
    "Datos del alumno:\n",
    "* Víctor Luque Martín\n",
    "* Máster Avanzado en Programación en Python para Hacking, BigData y Machine Learning\n",
    "\n",
    "Fecha: 07/10/2022"
   ]
  },
  {
   "cell_type": "markdown",
   "metadata": {},
   "source": [
    "# Tabla de contenidos:\n",
    "1. [Ejercicio de Qiskit](#qiskit)\n",
    "    1. [Instalación qiskit en CMD](#instalacion)\n",
    "    2. [Importamos todo de qiskit](#importes)\n",
    "    3. [Creamos el circuito](#circuito)\n",
    "    4. [Dibujamos el circuito](#dibujar)\n",
    "    5. [Medición de los bits cuánticos](#medicion)\n",
    "    6. [Ejecutar el ejercicio en nuestro ordenador](#ejecutar)\n",
    "    7. [Ejecución en quantum computer](#ejecutar-en-qc)\n",
    "2. [Estados de Bell](#estados-bell)\n",
    "3. [Ejercicio de CIRQ](#cirq)\n",
    "    1. [Instalación CIRQ](#instalacion-cirq)\n",
    "    2. [Importamos todo de CIRQ](#importes-cirq)\n",
    "    3. [Creación de Qubits](#qubits-cirq)\n",
    "    4. [Puertas y Operaciones](#puertas-cirq)\n",
    "    5. [Circuitos y momentos](#momentos-cirq)\n",
    "    6. [Circuitos y dispositivos](#dispositivos-cirq)\n",
    "    7. [Simulación](#simulacion-cirq)\n",
    "    8. [Visualización de resultados](#visualizacion-cirq)\n",
    "    9. [Uso de barridos de parámetros](#barridos-cirq)\n",
    "    10. [Matrices unitarias y descomposiciones](#matrices-cirq)\n",
    "    11. [Transformadores](#transformadores-cirq)\n",
    "4. [Certificaciones](#certificaciones)\n",
    "    1. [Certificaciones SQL](#cert-sql)\n",
    "    2. [Certificaciones NoSQL](#cert-nosql)\n",
    "    3. [Certificaciones BIG DATA](#cert-big-data)"
   ]
  },
  {
   "cell_type": "markdown",
   "metadata": {},
   "source": [
    "# Parte 1: Ejercicio de Qiskit <a class=\"anchor\" id=\"qiskit\"></a>"
   ]
  },
  {
   "cell_type": "markdown",
   "metadata": {},
   "source": [
    "## Instalación qiskit en CMD <a class=\"anchor\" id=\"instalacion\"></a>"
   ]
  },
  {
   "cell_type": "code",
   "execution_count": 1,
   "metadata": {},
   "outputs": [],
   "source": [
    "# !pip install qiskit\n",
    "# mejor en cmd"
   ]
  },
  {
   "cell_type": "markdown",
   "metadata": {},
   "source": [
    "## Importamos todo de qiskit <a class=\"anchor\" id=\"importes\"></a>"
   ]
  },
  {
   "cell_type": "code",
   "execution_count": 2,
   "metadata": {},
   "outputs": [],
   "source": [
    "from qiskit import *\n",
    "import qiskit"
   ]
  },
  {
   "cell_type": "markdown",
   "metadata": {},
   "source": [
    "Compruebo la versión"
   ]
  },
  {
   "cell_type": "code",
   "execution_count": 3,
   "metadata": {},
   "outputs": [
    {
     "data": {
      "text/plain": [
       "{'qiskit-terra': '0.21.2', 'qiskit-aer': '0.11.0', 'qiskit-ignis': None, 'qiskit-ibmq-provider': '0.19.2', 'qiskit': '0.38.0', 'qiskit-nature': None, 'qiskit-finance': None, 'qiskit-optimization': None, 'qiskit-machine-learning': None}"
      ]
     },
     "execution_count": 3,
     "metadata": {},
     "output_type": "execute_result"
    }
   ],
   "source": [
    "qiskit.__qiskit_version__"
   ]
  },
  {
   "cell_type": "code",
   "execution_count": 4,
   "metadata": {},
   "outputs": [
    {
     "name": "stdout",
     "output_type": "stream",
     "text": [
      "qiskit-terra 0.21.2\n",
      "qiskit-aer 0.11.0\n",
      "qiskit-ignis None\n",
      "qiskit-ibmq-provider 0.19.2\n",
      "qiskit 0.38.0\n",
      "qiskit-nature None\n",
      "qiskit-finance None\n",
      "qiskit-optimization None\n",
      "qiskit-machine-learning None\n"
     ]
    }
   ],
   "source": [
    "for ele, ver in qiskit.__qiskit_version__.items():\n",
    "    print(ele, ver)"
   ]
  },
  {
   "cell_type": "code",
   "execution_count": 5,
   "metadata": {},
   "outputs": [
    {
     "name": "stdout",
     "output_type": "stream",
     "text": [
      "('qiskit-terra', '0.21.2')\n",
      "('qiskit-aer', '0.11.0')\n",
      "('qiskit-ignis', None)\n",
      "('qiskit-ibmq-provider', '0.19.2')\n",
      "('qiskit', '0.38.0')\n",
      "('qiskit-nature', None)\n",
      "('qiskit-finance', None)\n",
      "('qiskit-optimization', None)\n",
      "('qiskit-machine-learning', None)\n"
     ]
    }
   ],
   "source": [
    "for ver in qiskit.__qiskit_version__.items():\n",
    "    print(ver)"
   ]
  },
  {
   "cell_type": "markdown",
   "metadata": {},
   "source": [
    "## Creamos el circuito <a class=\"anchor\" id=\"circuito\"></a>\n",
    "La mayoría de los circuitos serán una combinación de registros clásicos y cuánticos\n",
    "**Los registros cuánticos** son usados para:\n",
    "- Realizar operaciones mecánicas cuánticas en qubits\n",
    "**Los registros clásicos**:\n",
    "- Serán usados para realizar operaciones clásicas de las medidas obtenidas."
   ]
  },
  {
   "cell_type": "code",
   "execution_count": 6,
   "metadata": {},
   "outputs": [
    {
     "data": {
      "text/plain": [
       "QuantumRegister(2, 'q0')"
      ]
     },
     "execution_count": 6,
     "metadata": {},
     "output_type": "execute_result"
    }
   ],
   "source": [
    "# registro cuántico de 2 qubits\n",
    "qr = QuantumRegister(2)\n",
    "qr"
   ]
  },
  {
   "cell_type": "code",
   "execution_count": 7,
   "metadata": {},
   "outputs": [
    {
     "data": {
      "text/plain": [
       "ClassicalRegister(2, 'c0')"
      ]
     },
     "execution_count": 7,
     "metadata": {},
     "output_type": "execute_result"
    }
   ],
   "source": [
    "# registro clásico de 2 bits\n",
    "cr = ClassicalRegister(2)\n",
    "cr"
   ]
  },
  {
   "cell_type": "code",
   "execution_count": 8,
   "metadata": {},
   "outputs": [
    {
     "data": {
      "text/plain": [
       "<qiskit.circuit.quantumcircuit.QuantumCircuit at 0x29fd5032040>"
      ]
     },
     "execution_count": 8,
     "metadata": {},
     "output_type": "execute_result"
    }
   ],
   "source": [
    "# Construcción del circuito\n",
    "circuit = QuantumCircuit(qr, cr)\n",
    "circuit"
   ]
  },
  {
   "cell_type": "markdown",
   "metadata": {},
   "source": [
    "## Dibujamos el circuito <a class=\"anchor\" id=\"dibujar\"></a>"
   ]
  },
  {
   "cell_type": "code",
   "execution_count": 9,
   "metadata": {},
   "outputs": [],
   "source": [
    "%matplotlib inline"
   ]
  },
  {
   "cell_type": "code",
   "execution_count": 10,
   "metadata": {},
   "outputs": [
    {
     "data": {
      "text/html": [
       "<pre style=\"word-wrap: normal;white-space: pre;background: #fff0;line-height: 1.1;font-family: &quot;Courier New&quot;,Courier,monospace\">      \n",
       "q0_0: \n",
       "      \n",
       "q0_1: \n",
       "      \n",
       "c0: 2/\n",
       "      </pre>"
      ],
      "text/plain": [
       "      \n",
       "q0_0: \n",
       "      \n",
       "q0_1: \n",
       "      \n",
       "c0: 2/\n",
       "      "
      ]
     },
     "execution_count": 10,
     "metadata": {},
     "output_type": "execute_result"
    }
   ],
   "source": [
    "circuit.draw()"
   ]
  },
  {
   "cell_type": "markdown",
   "metadata": {},
   "source": [
    "**Vemos 2  bits cuánticos y 2 bits clásicos**\n",
    "**Bits cuánticos: (q0_0) y q(0_1)**"
   ]
  },
  {
   "cell_type": "code",
   "execution_count": 11,
   "metadata": {},
   "outputs": [
    {
     "data": {
      "text/plain": [
       "<qiskit.circuit.instructionset.InstructionSet at 0x29fd6160ac0>"
      ]
     },
     "execution_count": 11,
     "metadata": {},
     "output_type": "execute_result"
    }
   ],
   "source": [
    "# Con el objetivo de crear \"entanglement\" (entrelazamiento cuántico)\n",
    "# Lo 1º es aplicar la puerta Hadamard en el primer qubit (q0_0)\n",
    "# Con ello logramos la \"superposicion\"\n",
    "# Al aplicar el operador H produce que un qubit pase de una estado básico |0⟩ o |1⟩,\n",
    "# A un estado de superposición equiprobable de ambos estados\n",
    "# No dar mayor importancia ahora a esto...\n",
    "circuit.h(qr[0])"
   ]
  },
  {
   "cell_type": "code",
   "execution_count": 12,
   "metadata": {},
   "outputs": [
    {
     "data": {
      "text/html": [
       "<pre style=\"word-wrap: normal;white-space: pre;background: #fff0;line-height: 1.1;font-family: &quot;Courier New&quot;,Courier,monospace\">      ┌───┐\n",
       "q0_0: ┤ H ├\n",
       "      └───┘\n",
       "q0_1: ─────\n",
       "           \n",
       "c0: 2/═════\n",
       "           </pre>"
      ],
      "text/plain": [
       "      ┌───┐\n",
       "q0_0: ┤ H ├\n",
       "      └───┘\n",
       "q0_1: ─────\n",
       "           \n",
       "c0: 2/═════\n",
       "           "
      ]
     },
     "execution_count": 12,
     "metadata": {},
     "output_type": "execute_result"
    }
   ],
   "source": [
    "circuit.draw()"
   ]
  },
  {
   "cell_type": "code",
   "execution_count": 13,
   "metadata": {},
   "outputs": [
    {
     "data": {
      "image/png": "[encoded data removed]",
      "text/plain": [
       "<Figure size 221.712x284.278 with 1 Axes>"
      ]
     },
     "execution_count": 13,
     "metadata": {},
     "output_type": "execute_result"
    }
   ],
   "source": [
    "# Mejor visualizado\n",
    "circuit.draw(output='mpl')"
   ]
  },
  {
   "cell_type": "code",
   "execution_count": 14,
   "metadata": {},
   "outputs": [],
   "source": [
    "# Aparece la puerta Hadamard (Hadamard gate)\n",
    "# Tal y como se pudo apreciar"
   ]
  },
  {
   "cell_type": "code",
   "execution_count": 15,
   "metadata": {},
   "outputs": [],
   "source": [
    "# Ahora la puerta CNOT, que es una \"Controlled-X gate\"\n",
    "# Y la puerta hace un NOT en qubit target si el qubit de control está en estado 1\n",
    "# Por defecto todos los qubits son inicializados a 0\n",
    "\n",
    "# En la siguiente ecuación:\n",
    "# El de control (qr[0])\n",
    "# El target (qr[1])"
   ]
  },
  {
   "cell_type": "code",
   "execution_count": 16,
   "metadata": {},
   "outputs": [
    {
     "data": {
      "text/plain": [
       "<qiskit.circuit.instructionset.InstructionSet at 0x29fd641ed60>"
      ]
     },
     "execution_count": 16,
     "metadata": {},
     "output_type": "execute_result"
    }
   ],
   "source": [
    "circuit.cx(qr[0], qr[1])"
   ]
  },
  {
   "cell_type": "code",
   "execution_count": 17,
   "metadata": {},
   "outputs": [
    {
     "data": {
      "text/html": [
       "<pre style=\"word-wrap: normal;white-space: pre;background: #fff0;line-height: 1.1;font-family: &quot;Courier New&quot;,Courier,monospace\">      ┌───┐     \n",
       "q0_0: ┤ H ├──■──\n",
       "      └───┘┌─┴─┐\n",
       "q0_1: ─────┤ X ├\n",
       "           └───┘\n",
       "c0: 2/══════════\n",
       "                </pre>"
      ],
      "text/plain": [
       "      ┌───┐     \n",
       "q0_0: ┤ H ├──■──\n",
       "      └───┘┌─┴─┐\n",
       "q0_1: ─────┤ X ├\n",
       "           └───┘\n",
       "c0: 2/══════════\n",
       "                "
      ]
     },
     "execution_count": 17,
     "metadata": {},
     "output_type": "execute_result"
    }
   ],
   "source": [
    "circuit.draw()"
   ]
  },
  {
   "cell_type": "code",
   "execution_count": 18,
   "metadata": {},
   "outputs": [
    {
     "data": {
      "image/png": "[encoded data removed]",
      "text/plain": [
       "<Figure size 305.323x284.278 with 1 Axes>"
      ]
     },
     "execution_count": 18,
     "metadata": {},
     "output_type": "execute_result"
    }
   ],
   "source": [
    "circuit.draw(output='mpl')"
   ]
  },
  {
   "cell_type": "markdown",
   "metadata": {},
   "source": [
    "## Medición de los bits cuánticos <a class=\"anchor\" id=\"medicion\"></a>"
   ]
  },
  {
   "cell_type": "code",
   "execution_count": 19,
   "metadata": {},
   "outputs": [],
   "source": [
    "# un experimento real termina por medir cada qubit\n",
    "# Sin medición no podemos obtener información acerca del estado"
   ]
  },
  {
   "cell_type": "code",
   "execution_count": 20,
   "metadata": {},
   "outputs": [
    {
     "data": {
      "text/plain": [
       "<qiskit.circuit.instructionset.InstructionSet at 0x29fd648dfd0>"
      ]
     },
     "execution_count": 20,
     "metadata": {},
     "output_type": "execute_result"
    }
   ],
   "source": [
    "circuit.measure(qr, cr)"
   ]
  },
  {
   "cell_type": "code",
   "execution_count": 21,
   "metadata": {},
   "outputs": [
    {
     "data": {
      "text/html": [
       "<pre style=\"word-wrap: normal;white-space: pre;background: #fff0;line-height: 1.1;font-family: &quot;Courier New&quot;,Courier,monospace\">      ┌───┐     ┌─┐   \n",
       "q0_0: ┤ H ├──■──┤M├───\n",
       "      └───┘┌─┴─┐└╥┘┌─┐\n",
       "q0_1: ─────┤ X ├─╫─┤M├\n",
       "           └───┘ ║ └╥┘\n",
       "c0: 2/═══════════╩══╩═\n",
       "                 0  1 </pre>"
      ],
      "text/plain": [
       "      ┌───┐     ┌─┐   \n",
       "q0_0: ┤ H ├──■──┤M├───\n",
       "      └───┘┌─┴─┐└╥┘┌─┐\n",
       "q0_1: ─────┤ X ├─╫─┤M├\n",
       "           └───┘ ║ └╥┘\n",
       "c0: 2/═══════════╩══╩═\n",
       "                 0  1 "
      ]
     },
     "execution_count": 21,
     "metadata": {},
     "output_type": "execute_result"
    }
   ],
   "source": [
    "circuit.draw()"
   ]
  },
  {
   "cell_type": "code",
   "execution_count": 22,
   "metadata": {},
   "outputs": [
    {
     "data": {
      "image/png": "[encoded data removed]",
      "text/plain": [
       "<Figure size 472.545x284.278 with 1 Axes>"
      ]
     },
     "execution_count": 22,
     "metadata": {},
     "output_type": "execute_result"
    }
   ],
   "source": [
    "circuit.draw(output='mpl')"
   ]
  },
  {
   "cell_type": "markdown",
   "metadata": {},
   "source": [
    "## Ejecutar el ejercicio en nuestro ordenador <a class=\"anchor\" id=\"ejecutar\"></a>"
   ]
  },
  {
   "cell_type": "code",
   "execution_count": 23,
   "metadata": {},
   "outputs": [
    {
     "data": {
      "text/plain": [
       "QasmSimulator('qasm_simulator')"
      ]
     },
     "execution_count": 23,
     "metadata": {},
     "output_type": "execute_result"
    }
   ],
   "source": [
    "backend_simulator = Aer.get_backend('qasm_simulator')\n",
    "backend_simulator"
   ]
  },
  {
   "cell_type": "code",
   "execution_count": 24,
   "metadata": {},
   "outputs": [
    {
     "data": {
      "text/plain": [
       "<qiskit_aer.jobs.aerjob.AerJob at 0x29fd6522fd0>"
      ]
     },
     "execution_count": 24,
     "metadata": {},
     "output_type": "execute_result"
    }
   ],
   "source": [
    "# Opcion 1\n",
    "job_simulator = execute(circuit, backend_simulator)\n",
    "job_simulator\n",
    "# Opción 2 (e incluso...)\n",
    "# execute(circuit, backend_simulator, shots=1024)"
   ]
  },
  {
   "cell_type": "code",
   "execution_count": 25,
   "metadata": {},
   "outputs": [
    {
     "data": {
      "text/plain": [
       "Result(backend_name='qasm_simulator', backend_version='0.11.0', qobj_id='af20959b-056b-473a-9217-50c2c44b492c', job_id='22319ae0-b294-47f7-8154-ff9a7421d604', success=True, results=[ExperimentResult(shots=1024, success=True, meas_level=2, data=ExperimentResultData(counts={'0x0': 502, '0x3': 522}), header=QobjExperimentHeader(clbit_labels=[['c0', 0], ['c0', 1]], creg_sizes=[['c0', 2]], global_phase=0.0, memory_slots=2, metadata={}, n_qubits=2, name='circuit-80', qreg_sizes=[['q0', 2]], qubit_labels=[['q0', 0], ['q0', 1]]), status=DONE, seed_simulator=3351516002, metadata={'batched_shots_optimization': False, 'method': 'stabilizer', 'active_input_qubits': [0, 1], 'device': 'CPU', 'remapped_qubits': False, 'num_qubits': 2, 'num_clbits': 2, 'sample_measure_time': 0.0009199, 'input_qubit_map': [[0, 0], [1, 1]], 'measure_sampling': True, 'noise': 'ideal', 'parallel_shots': 1, 'parallel_state_update': 6, 'fusion': {'enabled': False}}, time_taken=0.0044071)], date=2022-10-06T19:03:58.133937, status=COMPLETED, header=QobjHeader(backend_name='qasm_simulator', backend_version='0.11.0'), metadata={'parallel_experiments': 1, 'omp_enabled': True, 'max_memory_mb': 32719, 'max_gpu_memory_mb': 0, 'num_processes_per_experiments': 1, 'time_taken_load_qobj': 0.0001545, 'mpi_rank': 0, 'num_mpi_processes': 1, 'time_taken_execute': 0.0044495, 'time_taken': 0.0046125}, time_taken=0.005016326904296875)"
      ]
     },
     "execution_count": 25,
     "metadata": {},
     "output_type": "execute_result"
    }
   ],
   "source": [
    "result = job_simulator.result()\n",
    "result"
   ]
  },
  {
   "cell_type": "code",
   "execution_count": 26,
   "metadata": {},
   "outputs": [
    {
     "data": {
      "text/plain": [
       "'COMPLETED'"
      ]
     },
     "execution_count": 26,
     "metadata": {},
     "output_type": "execute_result"
    }
   ],
   "source": [
    "result.status"
   ]
  },
  {
   "cell_type": "code",
   "execution_count": 27,
   "metadata": {},
   "outputs": [],
   "source": [
    "# Plot histogram\n",
    "from qiskit.tools.visualization import plot_histogram"
   ]
  },
  {
   "cell_type": "code",
   "execution_count": 28,
   "metadata": {},
   "outputs": [
    {
     "data": {
      "image/png": "[encoded data removed]",
      "text/plain": [
       "<Figure size 700x500 with 1 Axes>"
      ]
     },
     "execution_count": 28,
     "metadata": {},
     "output_type": "execute_result"
    }
   ],
   "source": [
    "plot_histogram(result.get_counts(circuit))"
   ]
  },
  {
   "cell_type": "markdown",
   "metadata": {},
   "source": [
    "## Ejecución en quantum computer <a class=\"anchor\" id=\"ejecutar-en-qc\"></a>"
   ]
  },
  {
   "cell_type": "code",
   "execution_count": 29,
   "metadata": {},
   "outputs": [],
   "source": [
    "from qiskit import IBMQ"
   ]
  },
  {
   "cell_type": "code",
   "execution_count": 30,
   "metadata": {},
   "outputs": [],
   "source": [
    "# IBMQ.save_account('API_TOKEN')\n",
    "# Se ha borrado por seguridad mi API TOKEN\n",
    "# CADA alumno/a deberá probar con la suya propia\n",
    "# Una vez que se ejecuta esta celda, después, se puede omitir, ya se reconoce.\n",
    "# No debes enseñar ese API TOKEN a los demás"
   ]
  },
  {
   "cell_type": "code",
   "execution_count": 31,
   "metadata": {},
   "outputs": [
    {
     "data": {
      "text/plain": [
       "<AccountProvider for IBMQ(hub='ibm-q', group='open', project='main')>"
      ]
     },
     "execution_count": 31,
     "metadata": {},
     "output_type": "execute_result"
    }
   ],
   "source": [
    "IBMQ.load_account()"
   ]
  },
  {
   "cell_type": "code",
   "execution_count": 32,
   "metadata": {},
   "outputs": [
    {
     "data": {
      "text/plain": [
       "[<AccountProvider for IBMQ(hub='ibm-q', group='open', project='main')>]"
      ]
     },
     "execution_count": 32,
     "metadata": {},
     "output_type": "execute_result"
    }
   ],
   "source": [
    "IBMQ.providers()"
   ]
  },
  {
   "cell_type": "code",
   "execution_count": 33,
   "metadata": {},
   "outputs": [
    {
     "data": {
      "text/plain": [
       "<AccountProvider for IBMQ(hub='ibm-q', group='open', project='main')>"
      ]
     },
     "execution_count": 33,
     "metadata": {},
     "output_type": "execute_result"
    }
   ],
   "source": [
    "provider = IBMQ.get_provider(hub='ibm-q')\n",
    "provider"
   ]
  },
  {
   "cell_type": "code",
   "execution_count": 34,
   "metadata": {},
   "outputs": [
    {
     "data": {
      "text/plain": [
       "[<IBMQSimulator('ibmq_qasm_simulator') from IBMQ(hub='ibm-q', group='open', project='main')>,\n",
       " <IBMQBackend('ibmq_lima') from IBMQ(hub='ibm-q', group='open', project='main')>,\n",
       " <IBMQBackend('ibmq_belem') from IBMQ(hub='ibm-q', group='open', project='main')>,\n",
       " <IBMQBackend('ibmq_quito') from IBMQ(hub='ibm-q', group='open', project='main')>,\n",
       " <IBMQSimulator('simulator_statevector') from IBMQ(hub='ibm-q', group='open', project='main')>,\n",
       " <IBMQSimulator('simulator_mps') from IBMQ(hub='ibm-q', group='open', project='main')>,\n",
       " <IBMQSimulator('simulator_extended_stabilizer') from IBMQ(hub='ibm-q', group='open', project='main')>,\n",
       " <IBMQSimulator('simulator_stabilizer') from IBMQ(hub='ibm-q', group='open', project='main')>,\n",
       " <IBMQBackend('ibmq_manila') from IBMQ(hub='ibm-q', group='open', project='main')>,\n",
       " <IBMQBackend('ibm_nairobi') from IBMQ(hub='ibm-q', group='open', project='main')>,\n",
       " <IBMQBackend('ibm_oslo') from IBMQ(hub='ibm-q', group='open', project='main')>]"
      ]
     },
     "execution_count": 34,
     "metadata": {},
     "output_type": "execute_result"
    }
   ],
   "source": [
    "provider.backends()"
   ]
  },
  {
   "cell_type": "code",
   "execution_count": 35,
   "metadata": {},
   "outputs": [
    {
     "data": {
      "text/plain": [
       "<IBMQBackend('ibmq_belem') from IBMQ(hub='ibm-q', group='open', project='main')>"
      ]
     },
     "execution_count": 35,
     "metadata": {},
     "output_type": "execute_result"
    }
   ],
   "source": [
    "# Elijo el manila\n",
    "qcomp = provider.get_backend('ibmq_belem')\n",
    "qcomp\n"
   ]
  },
  {
   "cell_type": "code",
   "execution_count": 36,
   "metadata": {},
   "outputs": [
    {
     "data": {
      "text/plain": [
       "<qiskit.providers.ibmq.job.ibmqjob.IBMQJob at 0x29fd960a8b0>"
      ]
     },
     "execution_count": 36,
     "metadata": {},
     "output_type": "execute_result"
    }
   ],
   "source": [
    "job = execute(circuit, backend=qcomp)\n",
    "job"
   ]
  },
  {
   "cell_type": "code",
   "execution_count": 37,
   "metadata": {},
   "outputs": [],
   "source": [
    "from qiskit.tools.monitor import job_monitor"
   ]
  },
  {
   "cell_type": "code",
   "execution_count": 38,
   "metadata": {},
   "outputs": [
    {
     "name": "stdout",
     "output_type": "stream",
     "text": [
      "Job Status: job has successfully run\n"
     ]
    }
   ],
   "source": [
    "job_monitor(job)"
   ]
  },
  {
   "cell_type": "code",
   "execution_count": 39,
   "metadata": {},
   "outputs": [
    {
     "data": {
      "text/plain": [
       "Result(backend_name='ibmq_belem', backend_version='1.0.50', qobj_id='2d302b36-27d4-45fc-bac7-0c907d0db993', job_id='633f0a87e212b04b8cbeed4f', success=True, results=[ExperimentResult(shots=4000, success=True, meas_level=2, data=ExperimentResultData(counts={'0x0': 1905, '0x1': 93, '0x2': 82, '0x3': 1920}), header=QobjExperimentHeader(clbit_labels=[['c0', 0], ['c0', 1]], creg_sizes=[['c0', 2]], global_phase=0.7853981633974483, memory_slots=2, metadata={}, n_qubits=5, name='circuit-80', qreg_sizes=[['q', 5]], qubit_labels=[['q', 0], ['q', 1], ['q', 2], ['q', 3], ['q', 4]]), status=done)], date=2022-10-06 19:31:30+02:00, status=Successful completion, header=QobjHeader(backend_name='ibmq_belem', backend_version='1.0.50'), execution_id='b51b4c26-459c-11ed-8a16-b02628f7f59e', time_taken=2.871654510498047, error=None, client_version={'qiskit': '0.38.0'})"
      ]
     },
     "execution_count": 39,
     "metadata": {},
     "output_type": "execute_result"
    }
   ],
   "source": [
    "result = job.result()\n",
    "result"
   ]
  },
  {
   "cell_type": "code",
   "execution_count": 40,
   "metadata": {},
   "outputs": [
    {
     "data": {
      "image/png": "[encoded data removed]",
      "text/plain": [
       "<Figure size 700x500 with 1 Axes>"
      ]
     },
     "execution_count": 40,
     "metadata": {},
     "output_type": "execute_result"
    }
   ],
   "source": [
    "plot_histogram(result.get_counts(circuit))"
   ]
  },
  {
   "cell_type": "code",
   "execution_count": 41,
   "metadata": {},
   "outputs": [],
   "source": [
    "# en este caso tenemos un resultado diferente\n",
    "# el simulador lo que hace es simular un ordenador cuántico perfecto.\n",
    "# pero simulado en un dispositivo cuántico real, (de IBM en este caso)\n",
    "# hay algunos errores, que son corregidos día a día\n",
    "# (errores cuánticos)"
   ]
  },
  {
   "cell_type": "markdown",
   "metadata": {},
   "source": [
    "# Parte 2: Estados de Bell <a class=\"anchor\" id=\"estados-bell\"></a>"
   ]
  },
  {
   "cell_type": "markdown",
   "metadata": {},
   "source": [
    "Los estados de Bell son estados cuánticos específicos de 2 qubits, que representa el ejemplo más simple del entrelazamiento cuántico. Se trata de una combinación lineal de estos estados, en total pueden ser 4 estados de Bell, donde se deben correlar las medidas de base {|0⟩, |1⟩} y las de base {|+⟩, |−⟩}. Los resultados pueden ser los siguientes:\n",
    "- |00⟩ + |11⟩\n",
    "- |00⟩ - |11⟩\n",
    "- |01⟩ + |10⟩\n",
    "- |01⟩ - |10⟩\n"
   ]
  },
  {
   "cell_type": "markdown",
   "metadata": {},
   "source": [
    "# Parte 3: Ejercicio de CIRQ <a class=\"anchor\" id=\"cirq\"></a>"
   ]
  },
  {
   "cell_type": "markdown",
   "metadata": {},
   "source": [
    "## Instalación CIRQ <a class=\"anchor\" id=\"instalacion-cirq\"></a>"
   ]
  },
  {
   "cell_type": "code",
   "execution_count": 42,
   "metadata": {},
   "outputs": [],
   "source": [
    "# !pip install cirq"
   ]
  },
  {
   "cell_type": "markdown",
   "metadata": {},
   "source": [
    "## Importamos todo de CIRQ <a class=\"anchor\" id=\"importes-cirq\"></a>"
   ]
  },
  {
   "cell_type": "code",
   "execution_count": 43,
   "metadata": {},
   "outputs": [],
   "source": [
    "import cirq\n",
    "import cirq_google"
   ]
  },
  {
   "cell_type": "markdown",
   "metadata": {},
   "source": [
    "## Creación de Qubits <a class=\"anchor\" id=\"qubits-cirq\"></a>\n",
    "La primera parte de la creación de un circuito cuántico es definir un conjunto de qubits (también conocido como registro cuántico) para actuar.\n",
    "Cirq tiene tres formas principales de definir qubits:\n",
    "\n",
    "- [`cirq.NamedQubit`](https://quantumai.google/reference/python/cirq/NamedQubit): se utiliza para etiquetar qubits con un nombre abstracto.\n",
    "- [`cirq.LineQubit`](https://quantumai.google/reference/python/cirq/LineQubit): qubits etiquetados por número en una matriz lineal.\n",
    "- [`cirq.GridQubit`](https://quantumai.google/reference/python/cirq/GridQubit): qubits etiquetados por dos números en una red rectangular."
   ]
  },
  {
   "cell_type": "code",
   "execution_count": 44,
   "metadata": {},
   "outputs": [],
   "source": [
    "# Uso de NamedQubit para etiquetar qubits con un nombre abstracto\n",
    "q0 = cirq.NamedQubit('source')\n",
    "q1 = cirq.NamedQubit('target')\n",
    "\n",
    "# Uso de LineQubits para etiquetar qubits con un número en una matriz lineal\n",
    "q3 = cirq.LineQubit(3)\n",
    "\n",
    "# Los LineQubit se pueden crear tambien en un rango\n",
    "q0, q1, q2 = cirq.LineQubit.range(3)\n",
    "\n",
    "# Los GridQubits son etiquetados por dos numeros en una red rectangular\n",
    "q4_5 = cirq.GridQubit(4, 5)\n",
    "\n",
    "# Es posible crear en masa como un cuadrado\n",
    "# Crearemos 16 qubits desde (0,0) hasta (3,3)\n",
    "qubits = cirq.GridQubit.square(4)"
   ]
  },
  {
   "cell_type": "markdown",
   "metadata": {},
   "source": [
    "También hay conjuntos preempaquetados de qubits llamados [Dispositivos](https://quantumai.google/cirq/hardware/devices). Estos son qubits junto con un conjunto de reglas sobre cómo se pueden usar. Se [`cirq.Device`](https://quantumai.google/reference/python/cirq/Device) puede usar para garantizar que las puertas de dos qubits solo se apliquen a los qubits adyacentes en el hardware y otras restricciones. El siguiente ejemplo utilizará el [`cirq_google.Sycamore`](https://quantumai.google/reference/python/cirq_google#Sycamore) dispositivo que viene con cirq. Es una cuadrícula en forma de diamante con 54 qubits que imita el hardware anterior lanzado por Google."
   ]
  },
  {
   "cell_type": "code",
   "execution_count": 45,
   "metadata": {},
   "outputs": [
    {
     "data": {
      "text/plain": [
       "                                             (0, 5)───(0, 6)\n",
       "                                             │        │\n",
       "                                             │        │\n",
       "                                    (1, 4)───(1, 5)───(1, 6)───(1, 7)\n",
       "                                    │        │        │        │\n",
       "                                    │        │        │        │\n",
       "                           (2, 3)───(2, 4)───(2, 5)───(2, 6)───(2, 7)───(2, 8)\n",
       "                           │        │        │        │        │        │\n",
       "                           │        │        │        │        │        │\n",
       "                  (3, 2)───(3, 3)───(3, 4)───(3, 5)───(3, 6)───(3, 7)───(3, 8)───(3, 9)\n",
       "                  │        │        │        │        │        │        │        │\n",
       "                  │        │        │        │        │        │        │        │\n",
       "         (4, 1)───(4, 2)───(4, 3)───(4, 4)───(4, 5)───(4, 6)───(4, 7)───(4, 8)───(4, 9)\n",
       "         │        │        │        │        │        │        │        │\n",
       "         │        │        │        │        │        │        │        │\n",
       "(5, 0)───(5, 1)───(5, 2)───(5, 3)───(5, 4)───(5, 5)───(5, 6)───(5, 7)───(5, 8)\n",
       "         │        │        │        │        │        │        │\n",
       "         │        │        │        │        │        │        │\n",
       "         (6, 1)───(6, 2)───(6, 3)───(6, 4)───(6, 5)───(6, 6)───(6, 7)\n",
       "                  │        │        │        │        │\n",
       "                  │        │        │        │        │\n",
       "                  (7, 2)───(7, 3)───(7, 4)───(7, 5)───(7, 6)\n",
       "                           │        │        │\n",
       "                           │        │        │\n",
       "                           (8, 3)───(8, 4)───(8, 5)\n",
       "                                    │\n",
       "                                    │\n",
       "                                    (9, 4)"
      ]
     },
     "execution_count": 45,
     "metadata": {},
     "output_type": "execute_result"
    }
   ],
   "source": [
    "cirq_google.Sycamore"
   ]
  },
  {
   "cell_type": "markdown",
   "metadata": {},
   "source": [
    "## Puertas y Operaciones <a class=\"anchor\" id=\"puertas-cirq\"></a>\n",
    "El siguiente paso es usar los qubits para crear operaciones que se puedan usar en el circuito. Cirq tiene dos conceptos que es importante entender aquí:\n",
    "\n",
    "- Una `Gate` es un efecto que se puede aplicar a un conjunto de qubits.\n",
    "- Una `Operation` es una puerta aplicada a un conjunto de qubits.\n",
    "Por ejemplo, es el [Hadamard](https://en.wikipedia.org/wiki/Quantum_logic_gate#Hadamard_(H)_gate) [`cirq.H`](https://quantumai.google/reference/python/cirq/H) cuántico y es un objeto. es un objeto y es la puerta de Hadamard aplicada a un qubit específico (línea qubit número 1).`Gate cirq.H(cirq.LineQubit(1)) Operation`\n",
    "\n",
    "Muchas puertas de libros de texto están incluidas dentro de cirq. [`cirq.X`](https://quantumai.google/reference/python/cirq/X), [`cirq.Y`](https://quantumai.google/reference/python/cirq/Y) y [`cirq.Z`](https://quantumai.google/reference/python/cirq/Z) se refieren a las puertas de Pauli de un solo qubit. [`cirq.CZ`](https://quantumai.google/reference/python/cirq/CZ), [`cirq.CNOT`](https://quantumai.google/reference/python/cirq/CNOT), [`cirq.SWAP`](https://quantumai.google/reference/python/cirq/SWAP) son algunas de las puertas comunes de dos qubits. [`cirq.measure`](https://quantumai.google/reference/python/cirq/measure) es una macro para aplicar `MeasurementGate` a un conjunto de qubits. Puede encontrar más, así como instrucciones sobre cómo crear sus propias puertas personalizadas, en la página de [documentación de Gates](https://quantumai.google/cirq/build/gates) ."
   ]
  },
  {
   "cell_type": "code",
   "execution_count": 46,
   "metadata": {},
   "outputs": [],
   "source": [
    "# Ejemplos de puertas\n",
    "cnot_gate = cirq.CNOT\n",
    "pauli_z = cirq.Z\n",
    "# Uso de exponentes para obtener el cuadrado raiz de la puerta\n",
    "sqrt_x_gate = cirq.X**0.5\n",
    "\n",
    "# Algunas admiten parámetros\n",
    "sqrt_sqrt_y = cirq.YPowGate(exponent=0.25)\n",
    "\n",
    "# Creación de 2 qubits e una linea\n",
    "q0, q1 = cirq.LineQubit.range(2)\n",
    "\n",
    "# Algunas operaciones\n",
    "z_op = cirq.Z(q0)\n",
    "not_op = cirq.X(q0)\n",
    "sqrt_iswap_op = cirq.SQRT_ISWAP(q0, q1)\n",
    "\n",
    "# Se pueden usar las puertas usadas anteriormente\n",
    "cnot_op = cirq.CNOT(q0, q1)\n",
    "pauli_z_op = cirq.Z(q0)\n",
    "sqrt_x_op = sqrt_x_gate(q0)\n",
    "sqrt_sqrt_y_op = sqrt_sqrt_y(q0)"
   ]
  },
  {
   "cell_type": "markdown",
   "metadata": {},
   "source": [
    "## Circuitos y momentos <a class=\"anchor\" id=\"momentos-cirq\"></a>\n",
    "Ahora está listo para construir un circuito cuántico. A Circuites una colección de `Moment`s. A `Moment` es una colección de `Operation`s que actúan durante el mismo intervalo de tiempo abstracto. Cada uno `Operation` debe aplicarse a un conjunto inconexo de qubits en comparación con cada uno de los otros `Operation` en el `Moment`. Se `Moment` puede pensar en A como una rebanada vertical de un diagrama de circuito cuántico.\n",
    "\n",
    "Los circuitos se pueden construir de varias maneras diferentes. De forma predeterminada, Cirq intentará deslizar su operación lo antes posible `Moment` cuando la inserte. Puede usar la función agregar de dos maneras:"
   ]
  },
  {
   "cell_type": "markdown",
   "metadata": {},
   "source": [
    "Agregando cada operación una por una:"
   ]
  },
  {
   "cell_type": "code",
   "execution_count": 47,
   "metadata": {},
   "outputs": [
    {
     "data": {
      "text/html": [
       "<pre style=\"overflow: auto; white-space: pre;\">0: ───H───\n",
       "\n",
       "1: ───H───\n",
       "\n",
       "2: ───H───</pre>"
      ],
      "text/plain": [
       "0: ───H───\n",
       "\n",
       "1: ───H───\n",
       "\n",
       "2: ───H───"
      ]
     },
     "execution_count": 47,
     "metadata": {},
     "output_type": "execute_result"
    }
   ],
   "source": [
    "circuit = cirq.Circuit()\n",
    "qubits = cirq.LineQubit.range(3)\n",
    "circuit.append(cirq.H(qubits[0]))\n",
    "circuit.append(cirq.H(qubits[1]))\n",
    "circuit.append(cirq.H(qubits[2]))\n",
    "circuit"
   ]
  },
  {
   "cell_type": "markdown",
   "metadata": {},
   "source": [
    "O agregando algún iterable de operaciones. Una lista preconstruida funciona:"
   ]
  },
  {
   "cell_type": "code",
   "execution_count": 48,
   "metadata": {},
   "outputs": [
    {
     "name": "stdout",
     "output_type": "stream",
     "text": [
      "0: ───H───\n",
      "\n",
      "1: ───H───\n",
      "\n",
      "2: ───H───\n"
     ]
    }
   ],
   "source": [
    "circuit = cirq.Circuit()\n",
    "ops = [cirq.H(q) for q in cirq.LineQubit.range(3)]\n",
    "circuit.append(ops)\n",
    "print(circuit)"
   ]
  },
  {
   "cell_type": "markdown",
   "metadata": {},
   "source": [
    "También funciona un generador que rinde operaciones. Esta sintaxis se usará a menudo en la documentación y funciona tanto con el [`cirq.Circuit()`](https://quantumai.google/reference/python/cirq/Circuit) inicializador como con la [`cirq.Circuit.append()`](https://quantumai.google/reference/python/cirq/Circuit#append) función."
   ]
  },
  {
   "cell_type": "code",
   "execution_count": 49,
   "metadata": {},
   "outputs": [
    {
     "name": "stdout",
     "output_type": "stream",
     "text": [
      "0: ───H───\n",
      "\n",
      "1: ───H───\n",
      "\n",
      "2: ───H───\n",
      "0: ───H───\n",
      "\n",
      "1: ───H───\n",
      "\n",
      "2: ───H───\n"
     ]
    }
   ],
   "source": [
    "# Añadir con generador\n",
    "circuit = cirq.Circuit()\n",
    "circuit.append(cirq.H(q) for q in cirq.LineQubit.range(3))\n",
    "print(circuit)\n",
    "# Inicializador con generador\n",
    "print(cirq.Circuit(cirq.H(q) for q in cirq.LineQubit.range(3)))"
   ]
  },
  {
   "cell_type": "markdown",
   "metadata": {},
   "source": [
    "Tenga en cuenta que todas las puertas de Hadamard se empujan lo más a la izquierda posible y se colocan en el mismo momento, ya que ninguna se superpone.\n",
    "\n",
    "Si sus operaciones se aplican a los mismos qubits, se colocarán en momentos secuenciales ordenados por inserción. En el siguiente ejemplo, las puertas de dos qubits se superponen y se colocan en momentos consecutivos."
   ]
  },
  {
   "cell_type": "code",
   "execution_count": 50,
   "metadata": {},
   "outputs": [
    {
     "name": "stdout",
     "output_type": "stream",
     "text": [
      "0: ───×───────────\n",
      "      │\n",
      "1: ───×───×───────\n",
      "          │\n",
      "2: ───────×───×───\n",
      "              │\n",
      "3: ───────────×───\n"
     ]
    }
   ],
   "source": [
    "print(cirq.Circuit(cirq.SWAP(q, q + 1) for q in cirq.LineQubit.range(3)))"
   ]
  },
  {
   "cell_type": "markdown",
   "metadata": {},
   "source": [
    "A veces, es posible que no desee que Cirq cambie automáticamente las operaciones completamente hacia la izquierda. Para construir un circuito sin hacer esto, puede crear el circuito momento a momento o usar un diferente `InsertStrategy`, explicado más en la [documentación del circuito](https://quantumai.google/cirq/build/circuits)."
   ]
  },
  {
   "cell_type": "code",
   "execution_count": 51,
   "metadata": {},
   "outputs": [
    {
     "name": "stdout",
     "output_type": "stream",
     "text": [
      "0: ───H───────────\n",
      "\n",
      "1: ───────H───────\n",
      "\n",
      "2: ───────────H───\n"
     ]
    }
   ],
   "source": [
    "# Crea cada puerta en un momento separado pasando una iterable de Momentos en lugar de Operaciones.\n",
    "print(cirq.Circuit(cirq.Moment([cirq.H(q)]) for q in cirq.LineQubit.range(3)))"
   ]
  },
  {
   "cell_type": "markdown",
   "metadata": {},
   "source": [
    "## Circuitos y dispositivos <a class=\"anchor\" id=\"dispositivos-cirq\"></a>\n",
    "Una consideración importante al usar dispositivos cuánticos reales es que a menudo existen restricciones en los circuitos que pueden ejecutarse en el hardware. `Device` Los objetos especifican estas restricciones y se pueden usar para validar su circuito para asegurarse de que no contenga operaciones ilegales. Para obtener más información sobre qué restricciones `Device` pueden especificar los objetos y cómo usarlos, consulte la página [Dispositivos](https://quantumai.google/cirq/hardware/devices).\n",
    "\n",
    "El siguiente ejemplo demuestra esto con el dispositivo Sycamore:"
   ]
  },
  {
   "cell_type": "code",
   "execution_count": 52,
   "metadata": {},
   "outputs": [
    {
     "name": "stdout",
     "output_type": "stream",
     "text": [
      "Qubit pair is not valid on device: (cirq.GridQubit(5, 6), cirq.GridQubit(4, 5)).\n"
     ]
    }
   ],
   "source": [
    "# Crear algunos qubits.\n",
    "q0 = cirq.GridQubit(5, 6)\n",
    "q1 = cirq.GridQubit(5, 5)\n",
    "q2 = cirq.GridQubit(4, 5)\n",
    "\n",
    "# Crear operaciones usando la puerta Sycamore, que es compatible con el dispositivo Sycamore.\n",
    "# Sin embargo, cree operaciones para pares de qubits adyacentes y no adyacentes.\n",
    "adjacent_op = cirq_google.SYC(q0, q1)\n",
    "nonadjacent_op = cirq_google.SYC(q0, q2)\n",
    "\n",
    "# Un circuito funcional para el dispositivo Sycamore no genera problemas.\n",
    "working_circuit = cirq.Circuit()\n",
    "working_circuit.append(adjacent_op)\n",
    "valid = cirq_google.Sycamore.validate_circuit(working_circuit)\n",
    "\n",
    "# Un circuito que usa operaciones no válidas.\n",
    "bad_circuit = cirq.Circuit()\n",
    "bad_circuit.append(nonadjacent_op)\n",
    "try:\n",
    "    cirq_google.Sycamore.validate_circuit(bad_circuit)\n",
    "except ValueError as e:\n",
    "    print(e)"
   ]
  },
  {
   "cell_type": "markdown",
   "metadata": {},
   "source": [
    "## Simulación <a class=\"anchor\" id=\"simulacion-cirq\"></a>\n",
    "Los resultados de la aplicación de un circuito cuántico se pueden calcular mediante un `Simulator`. Cirq viene con un simulador que puede calcular los resultados de los circuitos hasta un límite de 20 qubits. Se puede inicializar con [`cirq.Simulator()`](https://quantumai.google/reference/python/cirq/Simulator).\n",
    "\n",
    "Hay dos enfoques diferentes para usar un simulador:\n",
    "\n",
    "- `simulate()`: Al simular un circuito de forma clásica, un simulador puede acceder directamente y ver la función de onda resultante. Esto es útil para depurar, aprender y comprender cómo funcionarán los circuitos.\n",
    "- `run()`: cuando usamos dispositivos cuánticos reales, solo podemos acceder al resultado final de un cálculo y debemos muestrear los resultados para obtener una distribución de resultados. Ejecutar el simulador como un muestreador imita este comportamiento y solo devuelve cadenas de bits como salida."
   ]
  },
  {
   "cell_type": "code",
   "execution_count": 53,
   "metadata": {},
   "outputs": [
    {
     "name": "stdout",
     "output_type": "stream",
     "text": [
      "Simulate the circuit:\n",
      "measurements: (no measurements)\n",
      "\n",
      "qubits: (cirq.LineQubit(0), cirq.LineQubit(1))\n",
      "output vector: 0.707|00⟩ + 0.707|11⟩\n",
      "\n",
      "phase:\n",
      "output vector: |⟩\n"
     ]
    }
   ],
   "source": [
    "# Crear un circuito para generar un estado de Bell:\n",
    "# 1/sqrt(2) * ( |00⟩ + |11⟩ )\n",
    "bell_circuit = cirq.Circuit()\n",
    "q0, q1 = cirq.LineQubit.range(2)\n",
    "bell_circuit.append(cirq.H(q0))\n",
    "bell_circuit.append(cirq.CNOT(q0, q1))\n",
    "\n",
    "# Inicializar simulador\n",
    "s = cirq.Simulator()\n",
    "\n",
    "print('Simulate the circuit:')\n",
    "results = s.simulate(bell_circuit)\n",
    "print(results)\n",
    "\n",
    "# Para la muestra, necesitamos agregar una medición al final\n",
    "bell_circuit.append(cirq.measure(q0, q1, key='result'))\n",
    "\n",
    "# Muestrear el circuito\n",
    "samples = s.run(bell_circuit, repetitions=1000)"
   ]
  },
  {
   "cell_type": "markdown",
   "metadata": {},
   "source": [
    "## Visualización de resultados <a class=\"anchor\" id=\"visualizacion-cirq\"></a>"
   ]
  },
  {
   "cell_type": "markdown",
   "metadata": {},
   "source": [
    "Cuando utiliza `run()` para obtener una muestra de distribución de medidas, puede graficar directamente las muestras simuladas como un histograma con [`cirq.plot_state_histogram`](https://quantumai.google/reference/python/cirq/plot_state_histogram)."
   ]
  },
  {
   "cell_type": "code",
   "execution_count": 54,
   "metadata": {},
   "outputs": [
    {
     "data": {
      "image/png": "[encoded data removed]",
      "text/plain": [
       "<Figure size 640x480 with 1 Axes>"
      ]
     },
     "metadata": {},
     "output_type": "display_data"
    }
   ],
   "source": [
    "import matplotlib.pyplot as plt\n",
    "\n",
    "cirq.plot_state_histogram(samples, plt.subplot())\n",
    "plt.show()"
   ]
  },
  {
   "cell_type": "markdown",
   "metadata": {},
   "source": [
    "Sin embargo, este histograma tiene algunos estados de qubits vacíos, lo que puede resultar problemático si trabaja con más qubits. Para graficar datos muestreados dispersos, primero obtenga `Counts` de sus resultados con su `histogram()` función y páselo a [`cirq.plot_state_histogram`](https://quantumai.google/reference/python/cirq/plot_state_histogram). Al recopilar los resultados en conteos, se ignoran todos los estados de qubit que nunca se vieron."
   ]
  },
  {
   "cell_type": "code",
   "execution_count": 55,
   "metadata": {},
   "outputs": [
    {
     "name": "stdout",
     "output_type": "stream",
     "text": [
      "Counter({3: 504, 0: 496})\n"
     ]
    },
    {
     "data": {
      "image/png": "[encoded data removed]",
      "text/plain": [
       "<Figure size 640x480 with 1 Axes>"
      ]
     },
     "metadata": {},
     "output_type": "display_data"
    }
   ],
   "source": [
    "# Extracción de recuentos de histograma de la estructura de datos de resultados\n",
    "counts = samples.histogram(key='result')\n",
    "print(counts)\n",
    "\n",
    "# Graficar los recuentos del histograma en lugar de los resultados\n",
    "cirq.plot_state_histogram(counts, plt.subplot())\n",
    "plt.show()"
   ]
  },
  {
   "cell_type": "markdown",
   "metadata": {},
   "source": [
    "Un histograma sobre los estados que realmente se observaron a menudo puede ser más útil al analizar los resultados. Para obtener más información sobre las opciones disponibles para crear histogramas de resultados, consulte la página [Histogramas de estado](https://quantumai.google/cirq/simulate/state_histograms)."
   ]
  },
  {
   "cell_type": "markdown",
   "metadata": {},
   "source": [
    "## Uso de barridos de parámetros <a class=\"anchor\" id=\"barridos-cirq\"></a>\n",
    "Los circuitos Cirq permiten que las puertas tengan símbolos como parámetros libres dentro del circuito. Esto es especialmente útil para los algoritmos variacionales, que varían los parámetros dentro del circuito para optimizar una función de costo, pero puede ser útil en una variedad de circunstancias.\n",
    "\n",
    "Para los parámetros, Cirq usa la biblioteca `sympy` para agregar `sympy.Symbol` parámetros a puertas y operaciones.\n",
    "\n",
    "Una vez que el circuito esté completo, puede completar los valores posibles de cada uno de estos parámetros con un Sweep. Hay varias posibilidades que se pueden utilizar como barrido:\n",
    "\n",
    "- [`cirq.Points`](https://quantumai.google/reference/python/cirq/Points): Una lista de valores especificados manualmente para un símbolo específico como una secuencia de flotantes.\n",
    "- [`cirq.Linspace`](https://quantumai.google/reference/python/cirq/Linspace): Un barrido lineal desde un valor inicial hasta un valor final.\n",
    "- [`cirq.ListSweep`](https://quantumai.google/reference/python/cirq/ListSweep): una lista de valores especificados manualmente para varios símbolos diferentes, especificados como una lista de diccionarios.\n",
    "- [`cirq.Zipy`](https://quantumai.google/reference/python/cirq/Zip) y [`cirq.Product`](https://quantumai.google/reference/python/cirq/Product): Los barridos se pueden combinar en forma de lista comprimiéndolos juntos o a través de su producto cartesiano.\n",
    "Un circuito parametrizado y un barrido juntos se pueden ejecutar usando el simulador u otro muestreador cambiando `run()` y `run_sweep()` agregando el barrido como un parámetro.\n",
    "\n",
    "Aquí hay un ejemplo de barrido de un exponente de una puerta X:"
   ]
  },
  {
   "cell_type": "code",
   "execution_count": 56,
   "metadata": {},
   "outputs": [
    {
     "data": {
      "image/png": "[encoded data removed]",
      "text/plain": [
       "<Figure size 640x480 with 1 Axes>"
      ]
     },
     "metadata": {},
     "output_type": "display_data"
    }
   ],
   "source": [
    "import sympy\n",
    "\n",
    "# Realizar una puerta X con exponente variable\n",
    "q = cirq.GridQubit(1, 1)\n",
    "circuit = cirq.Circuit(cirq.X(q) ** sympy.Symbol('t'), cirq.measure(q, key='m'))\n",
    "\n",
    "# Barrido del exponente de cero (apagado) a uno (encendido) y de vuelta a dos (apagado)\n",
    "param_sweep = cirq.Linspace('t', start=0, stop=2, length=200)\n",
    "\n",
    "# Simular el barrido\n",
    "s = cirq.Simulator()\n",
    "trials = s.run_sweep(circuit, param_sweep, repetitions=1000)\n",
    "\n",
    "# Graficar todos los resultados\n",
    "x_data = [trial.params['t'] for trial in trials]\n",
    "y_data = [trial.histogram(key='m')[1] / 1000.0 for trial in trials]\n",
    "plt.scatter('t', 'p', data={'t': x_data, 'p': y_data})\n",
    "plt.xlabel(\"trials\")\n",
    "plt.ylabel(\"frequency of qubit measured to be one\")\n",
    "plt.show()"
   ]
  },
  {
   "cell_type": "markdown",
   "metadata": {},
   "source": [
    "## Matrices unitarias y descomposiciones <a class=\"anchor\" id=\"matrices-cirq\"></a>\n",
    "Muchas operaciones cuánticas tienen representaciones de matrices unitarias. Se puede acceder a esta matriz aplicando [`cirq.unitary(operation)`](https://quantumai.google/reference/python/cirq/unitary) a ese archivo `operation`. Esto se puede aplicar a puertas, operaciones y circuitos que admiten este protocolo y devolverá la matriz unitaria que representa el objeto. Consulte [Protocolos](https://quantumai.google/cirq/build/protocols) para obtener más información sobre este y otros protocolos."
   ]
  },
  {
   "cell_type": "code",
   "execution_count": 57,
   "metadata": {},
   "outputs": [
    {
     "name": "stdout",
     "output_type": "stream",
     "text": [
      "Unitary of the X gate\n",
      "[[0.+0.j 1.+0.j]\n",
      " [1.+0.j 0.+0.j]]\n",
      "Unitary of SWAP operator on two qubits.\n",
      "[[1.+0.j 0.+0.j 0.+0.j 0.+0.j]\n",
      " [0.+0.j 0.+0.j 1.+0.j 0.+0.j]\n",
      " [0.+0.j 1.+0.j 0.+0.j 0.+0.j]\n",
      " [0.+0.j 0.+0.j 0.+0.j 1.+0.j]]\n",
      "Unitary of a sample circuit\n",
      "[[0.+0.j 0.+0.j 1.+0.j 0.+0.j]\n",
      " [1.+0.j 0.+0.j 0.+0.j 0.+0.j]\n",
      " [0.+0.j 0.+0.j 0.+0.j 1.+0.j]\n",
      " [0.+0.j 1.+0.j 0.+0.j 0.+0.j]]\n"
     ]
    }
   ],
   "source": [
    "print('Unitary of the X gate')\n",
    "print(cirq.unitary(cirq.X))\n",
    "\n",
    "print('Unitary of SWAP operator on two qubits.')\n",
    "q0, q1 = cirq.LineQubit.range(2)\n",
    "print(cirq.unitary(cirq.SWAP(q0, q1)))\n",
    "\n",
    "print('Unitary of a sample circuit')\n",
    "print(cirq.unitary(cirq.Circuit(cirq.X(q0), cirq.SWAP(q0, q1))))"
   ]
  },
  {
   "cell_type": "markdown",
   "metadata": {},
   "source": [
    "## Descomposiciones de circuitos <a class=\"anchor\" id=\"descomposiciones-cirq\"></a>\n",
    "Muchas puertas se pueden descomponer en un circuito equivalente con operaciones y puertas más simples. Esto se llama descomposición y se puede lograr con el [`cirq.decompose`](https://quantumai.google/reference/python/cirq/decompose) protocolo.\n",
    "\n",
    "Por ejemplo, una puerta Hadamard H se puede descomponer en puertas X e Y:"
   ]
  },
  {
   "cell_type": "code",
   "execution_count": 58,
   "metadata": {},
   "outputs": [
    {
     "name": "stdout",
     "output_type": "stream",
     "text": [
      "[(cirq.Y**0.5).on(cirq.LineQubit(0)), cirq.XPowGate(global_shift=-0.25).on(cirq.LineQubit(0))]\n"
     ]
    }
   ],
   "source": [
    "print(cirq.decompose(cirq.H(cirq.LineQubit(0))))"
   ]
  },
  {
   "cell_type": "markdown",
   "metadata": {},
   "source": [
    "Otro ejemplo es la puerta Toffoli de 3 qubits, que es equivalente a una puerta X controlada-controlada. Muchos dispositivos no admiten tres puertas qubit, por lo que es importante descomponerlas en una y dos puertas qubit."
   ]
  },
  {
   "cell_type": "code",
   "execution_count": 59,
   "metadata": {},
   "outputs": [
    {
     "name": "stdout",
     "output_type": "stream",
     "text": [
      "0: ───T────────────────@─────────────────────────────────@─────────────────────────────@────────────────────────────@───────────────────────────────────────\n",
      "                       │                                 │                             │                            │\n",
      "1: ───T───────Y^-0.5───@───Y^0.5────@───T^-1────Y^-0.5───@────────Y^0.5───@───Y^-0.5───@──────Y^0.5────@───Y^-0.5───@──────Y^0.5────@───────────────────────\n",
      "                                    │                                     │                            │                            │\n",
      "2: ───Y^0.5───X────────T───Y^-0.5───@───Y^0.5───T────────Y^-0.5───────────@───Y^0.5────T^-1───Y^-0.5───@───Y^0.5────T^-1───Y^-0.5───@───Y^0.5───Y^0.5───X───\n"
     ]
    }
   ],
   "source": [
    "q0, q1, q2 = cirq.LineQubit.range(3)\n",
    "print(cirq.Circuit(cirq.decompose(cirq.TOFFOLI(q0, q1, q2))))"
   ]
  },
  {
   "cell_type": "markdown",
   "metadata": {},
   "source": [
    "Lo anterior descompone el Toffoli en un conjunto más simple de puertas de un qubit y puertas CZ de dos qubits a costa de alargar considerablemente el circuito."
   ]
  },
  {
   "cell_type": "markdown",
   "metadata": {},
   "source": [
    "## Transformadores <a class=\"anchor\" id=\"transformadores-cirq\"></a>\n",
    "El último concepto en este tutorial es el transformador. Un transformador puede tomar un circuito y modificarlo. Por lo general, esto implicará combinar o modificar operaciones para hacerlo más eficiente y más corto, aunque un transformador puede, en teoría, realizar cualquier tipo de manipulación de circuitos.\n",
    "\n",
    "Por ejemplo, el [`cirq.merge_single_qubit_gates_to_phxz`](https://quantumai.google/reference/python/cirq/merge_single_qubit_gates_to_phxz)transformador tomará operaciones consecutivas de un solo qubit y las fusionará en una sola PhasedXZoperación."
   ]
  },
  {
   "cell_type": "code",
   "execution_count": 60,
   "metadata": {},
   "outputs": [
    {
     "name": "stdout",
     "output_type": "stream",
     "text": [
      "(1, 1): ───X^0.25───Y^0.25───T───\n",
      "(1, 1): ───PhXZ(a=0.304,x=0.333,z=0.142)───\n"
     ]
    }
   ],
   "source": [
    "q = cirq.GridQubit(1, 1)\n",
    "c = cirq.Circuit(cirq.X(q) ** 0.25, cirq.Y(q) ** 0.25, cirq.Z(q) ** 0.25)\n",
    "print(c)\n",
    "c = cirq.merge_single_qubit_gates_to_phxz(c)\n",
    "print(c)"
   ]
  },
  {
   "cell_type": "markdown",
   "metadata": {},
   "source": [
    "Otros transformadores pueden ayudar a transformar un circuito en operaciones que son operaciones nativas en dispositivos de hardware específicos. Puede encontrar más información sobre los transformadores y cómo crear los suyos propios en [Transformadores](https://quantumai.google/cirq/transform/transformers)."
   ]
  },
  {
   "cell_type": "markdown",
   "metadata": {},
   "source": [
    "# Parte 4: Certificaciones <a class=\"anchor\" id=\"certificaciones\"></a>"
   ]
  },
  {
   "cell_type": "markdown",
   "metadata": {},
   "source": [
    "## Certificaciones SQL <a class=\"anchor\" id=\"cert-sql\"></a>\n",
    "Tras haber hablado de PostgreSQL, se mencionarán a continuación algunas certificaciones relacionadas con PostgreSQL:\n",
    "- [**Certificación Associate de PostgreSQL**](https://www.abatic.net/courses/abatic-certified-associate-for-postgresql-13)\n",
    "- [**Certificación Professional de PostgreSQL**](https://www.abatic.net/courses/abatic-certified-professional-for-postgresql-13/)"
   ]
  },
  {
   "cell_type": "markdown",
   "metadata": {},
   "source": [
    "## Certificaciones NoSQL <a class=\"anchor\" id=\"cert-nosql\"></a>\n",
    "A continuación se muestran algunas certificaciones sobre BBDD no relacionales:<br>\n",
    "MongoDB:\n",
    "- [**MongoDB Developer**](https://university.mongodb.com/certification/developer/about): Mencionada en el manual, para construir aplicaciones utilizando MongoDB\n",
    "- [**MongoDB Database Administrator**](https://university.mongodb.com/certification/dba/about): Para crear, mantener y securidad la infraestructura MongoDB\n",
    "\n",
    "ElasticSearch:\n",
    "- [**Elastic Certified Engineer**](https://www.elastic.co/es/training/elastic-certified-engineer-exam): Certificación para expertos que pueden instalar y administrar clústeres, así como desarrollar soluciones de búsqueda.\n",
    "- [**Elastic Certified Analyst**](https://www.elastic.co/es/training/elastic-certified-analyst-examhttps://www.elastic.co/es/training/elastic-certified-observability-engineer): Certificación para expertos de Kibana que dominan la visualización de datos y el análisis avanzado.\n",
    "- [**Elastic Certified Observability Engineer**](https://www.elastic.co/es/training/elastic-certified-observability-engineer): Certificación para expertos que pueden implementar la observabilidad para monitorear y reaccionar ante eventos en cualquier lugar. \n",
    "\n",
    "Apache CouchDB\n",
    "- [**Apache CouchDB Professional**](https://www.vskills.in/certification/tutorial/certified-apache-couchdb-professional/): Conocimiento del candidato de la base de datos CouchDB y validará sus habilidades en varias áreas de Apache CouchDB para instalar, administrar y desarrollar aplicaciones"
   ]
  },
  {
   "cell_type": "markdown",
   "metadata": {},
   "source": [
    "## Certificaciones BIG DATA <a class=\"anchor\" id=\"cert-big-data\"></a>\n",
    "A continuación se muestran algunas certificaciones interesantes relacionadas con BIG DATA:\n",
    "- [**Profesional de Análisis Certificado (CAP)**](https://www.certifiedanalytics.org/)\n",
    "- [**Certificado profesional de ciencia de datos de IBM**](https://es.coursera.org/professional-certificates/certificado-profesional-de-ciencia-de-datos-de-ibm)\n",
    "- [**Certificación de Microsoft: Fundamentos de Azure AI**](https://learn.microsoft.com/es-es/certifications/azure-ai-fundamentals/)\n",
    "- [**Certificado por Microsoft: Azure Data Scientist Associate**](https://learn.microsoft.com/es-es/certifications/azure-data-scientist/)\n",
    "- [**Científico de datos certificado por SAS**](https://www.sas.com/es_es/certification/credentials/advanced-analytics/data-scientist.html)\n"
   ]
  }
 ],
 "metadata": {
  "kernelspec": {
   "display_name": "Python 3 (ipykernel)",
   "language": "python",
   "name": "python3"
  },
  "language_info": {
   "codemirror_mode": {
    "name": "ipython",
    "version": 3
   },
   "file_extension": ".py",
   "mimetype": "text/x-python",
   "name": "python",
   "nbconvert_exporter": "python",
   "pygments_lexer": "ipython3",
   "version": "3.8.5"
  },
  "vscode": {
   "interpreter": {
    "hash": "72a78ef0b8891a29286fddd1eac7716dbc1ae6af599d8e7187e0b5035bb516e6"
   }
  }
 },
 "nbformat": 4,
 "nbformat_minor": 2
}
