{
 "cells": [
  {
   "cell_type": "markdown",
   "metadata": {},
   "source": [
    "# Árboles de Decisión\n",
    "Actividad Lección 9 || Programación Python para Machine Learning\n",
    "\n",
    "Objetivos:\n",
    "* Conocer los principios en los que se basan los Árboles de decisión.\n",
    "* Reconocer los componentes de un Árbol de decisión y entender cómo se construye.\n",
    "* Dominar las técnicas de implementación de los Árboles de decisión en Python.\n",
    "* Identificar los aspectos a tener en cuenta para mejorar el rendimiento de un Árbol de decisión.\n",
    "\n",
    "Datos del alumno:\n",
    "* Víctor Luque Martín\n",
    "* Máster Avanzado en Programación en Python para Hacking, BigData y Machine Learning\n",
    "\n",
    "Fecha: 27/12/2022"
   ]
  },
  {
   "cell_type": "markdown",
   "metadata": {},
   "source": [
    "# Tabla de Contenidos\n",
    "1. [Importes](#importes)\n",
    "2. [Carga del dataset](#carga)\n",
    "3. [Procesamiento](#procesamiento)\n",
    "4. [Perceptrón Multicapa (MLP)](#mlp)\n",
    "7. [Evaluación del modelo](#evaluacion)\n",
    "8. [Optimizando MLP](#optimizando)"
   ]
  },
  {
   "cell_type": "markdown",
   "metadata": {},
   "source": [
    "# Importes <a name=\"importes\"></a>"
   ]
  },
  {
   "cell_type": "code",
   "execution_count": 1,
   "metadata": {},
   "outputs": [],
   "source": [
    "import random, time\n",
    "import pandas as pd\n",
    "import matplotlib.pyplot as plt\n",
    "from sklearn import model_selection, metrics\n",
    "from sklearn.tree import DecisionTreeClassifier, plot_tree"
   ]
  },
  {
   "cell_type": "markdown",
   "metadata": {},
   "source": [
    "# Carga del dataset <a class=\"anchor\" name=\"carga\"></a>\n",
    "Se cargan los datos del dataset “\""
   ]
  },
  {
   "cell_type": "code",
   "execution_count": 2,
   "metadata": {},
   "outputs": [
    {
     "data": {
      "text/html": [
       "<div>\n",
       "<style scoped>\n",
       "    .dataframe tbody tr th:only-of-type {\n",
       "        vertical-align: middle;\n",
       "    }\n",
       "\n",
       "    .dataframe tbody tr th {\n",
       "        vertical-align: top;\n",
       "    }\n",
       "\n",
       "    .dataframe thead th {\n",
       "        text-align: right;\n",
       "    }\n",
       "</style>\n",
       "<table border=\"1\" class=\"dataframe\">\n",
       "  <thead>\n",
       "    <tr style=\"text-align: right;\">\n",
       "      <th></th>\n",
       "      <th>pelvic_incidence</th>\n",
       "      <th>pelvic_tilt</th>\n",
       "      <th>lumbar_lordosis_angle</th>\n",
       "      <th>sacral_slope</th>\n",
       "      <th>pelvic_radius</th>\n",
       "      <th>degree_spondylolisthesis</th>\n",
       "      <th>class</th>\n",
       "    </tr>\n",
       "  </thead>\n",
       "  <tbody>\n",
       "    <tr>\n",
       "      <th>0</th>\n",
       "      <td>63.03</td>\n",
       "      <td>22.55</td>\n",
       "      <td>39.61</td>\n",
       "      <td>40.48</td>\n",
       "      <td>98.67</td>\n",
       "      <td>-0.25</td>\n",
       "      <td>DH</td>\n",
       "    </tr>\n",
       "    <tr>\n",
       "      <th>1</th>\n",
       "      <td>39.06</td>\n",
       "      <td>10.06</td>\n",
       "      <td>25.02</td>\n",
       "      <td>29.00</td>\n",
       "      <td>114.41</td>\n",
       "      <td>4.56</td>\n",
       "      <td>DH</td>\n",
       "    </tr>\n",
       "    <tr>\n",
       "      <th>2</th>\n",
       "      <td>68.83</td>\n",
       "      <td>22.22</td>\n",
       "      <td>50.09</td>\n",
       "      <td>46.61</td>\n",
       "      <td>105.99</td>\n",
       "      <td>-3.53</td>\n",
       "      <td>DH</td>\n",
       "    </tr>\n",
       "    <tr>\n",
       "      <th>3</th>\n",
       "      <td>69.30</td>\n",
       "      <td>24.65</td>\n",
       "      <td>44.31</td>\n",
       "      <td>44.64</td>\n",
       "      <td>101.87</td>\n",
       "      <td>11.21</td>\n",
       "      <td>DH</td>\n",
       "    </tr>\n",
       "    <tr>\n",
       "      <th>4</th>\n",
       "      <td>49.71</td>\n",
       "      <td>9.65</td>\n",
       "      <td>28.32</td>\n",
       "      <td>40.06</td>\n",
       "      <td>108.17</td>\n",
       "      <td>7.92</td>\n",
       "      <td>DH</td>\n",
       "    </tr>\n",
       "  </tbody>\n",
       "</table>\n",
       "</div>"
      ],
      "text/plain": [
       "   pelvic_incidence  pelvic_tilt  lumbar_lordosis_angle  sacral_slope  \\\n",
       "0             63.03        22.55                  39.61         40.48   \n",
       "1             39.06        10.06                  25.02         29.00   \n",
       "2             68.83        22.22                  50.09         46.61   \n",
       "3             69.30        24.65                  44.31         44.64   \n",
       "4             49.71         9.65                  28.32         40.06   \n",
       "\n",
       "   pelvic_radius  degree_spondylolisthesis class  \n",
       "0          98.67                     -0.25    DH  \n",
       "1         114.41                      4.56    DH  \n",
       "2         105.99                     -3.53    DH  \n",
       "3         101.87                     11.21    DH  \n",
       "4         108.17                      7.92    DH  "
      ]
     },
     "execution_count": 2,
     "metadata": {},
     "output_type": "execute_result"
    }
   ],
   "source": [
    "col_names = [\"pelvic_incidence\", \"pelvic_tilt\", \"lumbar_lordosis_angle\", \n",
    "             \"sacral_slope\", \"pelvic_radius\", \"degree_spondylolisthesis\", \"class\"]\n",
    "df = pd.read_csv(\"column_3C.dat\", sep=\" \", header=None, names=col_names)\n",
    "df.head()"
   ]
  },
  {
   "cell_type": "markdown",
   "metadata": {},
   "source": [
    "# Análisis de los datos <a class=\"anchor\" name=\"analisis\"></a>\n",
    "Comprobaremos si se trata de un dataset desbalanceado, ademas de comprobar si existen valores nulos."
   ]
  },
  {
   "cell_type": "code",
   "execution_count": 3,
   "metadata": {},
   "outputs": [
    {
     "data": {
      "text/plain": [
       "SL    150\n",
       "NO    100\n",
       "DH     60\n",
       "Name: class, dtype: int64"
      ]
     },
     "execution_count": 3,
     "metadata": {},
     "output_type": "execute_result"
    }
   ],
   "source": [
    "df[\"class\"].value_counts()"
   ]
  },
  {
   "cell_type": "code",
   "execution_count": 4,
   "metadata": {},
   "outputs": [
    {
     "data": {
      "text/plain": [
       "pelvic_incidence            0\n",
       "pelvic_tilt                 0\n",
       "lumbar_lordosis_angle       0\n",
       "sacral_slope                0\n",
       "pelvic_radius               0\n",
       "degree_spondylolisthesis    0\n",
       "class                       0\n",
       "dtype: int64"
      ]
     },
     "execution_count": 4,
     "metadata": {},
     "output_type": "execute_result"
    }
   ],
   "source": [
    "df.isnull().sum()"
   ]
  },
  {
   "cell_type": "markdown",
   "metadata": {},
   "source": [
    "Como hemos podido observar, el dataset está desbalanceado, y no existen valores nulos, este primer dato es relevante a la hora de la generación del modelo."
   ]
  },
  {
   "cell_type": "markdown",
   "metadata": {},
   "source": [
    "# Procesamiento <a class=\"anchor\" name=\"procesamiento\"></a>\n",
    "* Mapeo de las clases a números\n",
    "* División de los datos de entrenamiento y prueba por sus variables dependientes e independientes"
   ]
  },
  {
   "cell_type": "code",
   "execution_count": 5,
   "metadata": {},
   "outputs": [],
   "source": [
    "# Mapeo de la variable categórica \"class\"\n",
    "df[\"class\"] = df[\"class\"].map({\"DH\":0, \"SL\":1, \"NO\":2})\n",
    "\n",
    "# División X_train, y_train, X_test, y_test\n",
    "seed = random.seed(time.time())\n",
    "X_train, X_test, y_train, y_test = model_selection.train_test_split(df.drop(\"class\", axis=1), \n",
    "                                                                    df[\"class\"], \n",
    "                                                                    test_size=0.2, \n",
    "                                                                    random_state=seed)"
   ]
  },
  {
   "cell_type": "markdown",
   "metadata": {},
   "source": [
    "# Árboles de Decisión <a class=\"anchor\" name=\"dt\"></a>\n",
    "Los árboles de decisión son un tipo de algoritmo de aprendizaje supervisado que se utiliza para la clasificación y regresión. Los árboles de decisión son un tipo de modelo predictivo que se basa en la creación de un árbol de decisión a partir de los datos de entrenamiento. El árbol de decisión se construye a partir de un conjunto de reglas de decisión inferidas a partir de los datos de entrenamiento. Cada nodo interno del árbol representa un atributo, cada rama representa una regla de decisión y cada nodo hoja representa una clase o valor de predicción."
   ]
  },
  {
   "cell_type": "code",
   "execution_count": 6,
   "metadata": {},
   "outputs": [],
   "source": [
    "model = DecisionTreeClassifier(class_weight=\"balanced\", max_depth=4)"
   ]
  },
  {
   "cell_type": "markdown",
   "metadata": {},
   "source": [
    "# Evaluación del modelo <a class=\"anchor\" name=\"evaluacion\"></a>\n",
    "Utilizando la validación cruzada K-Fold, se evaluará el rendimiento del modelo."
   ]
  },
  {
   "cell_type": "code",
   "execution_count": 7,
   "metadata": {},
   "outputs": [
    {
     "data": {
      "text/html": [
       "<div>\n",
       "<style scoped>\n",
       "    .dataframe tbody tr th:only-of-type {\n",
       "        vertical-align: middle;\n",
       "    }\n",
       "\n",
       "    .dataframe tbody tr th {\n",
       "        vertical-align: top;\n",
       "    }\n",
       "\n",
       "    .dataframe thead th {\n",
       "        text-align: right;\n",
       "    }\n",
       "</style>\n",
       "<table border=\"1\" class=\"dataframe\">\n",
       "  <thead>\n",
       "    <tr style=\"text-align: right;\">\n",
       "      <th></th>\n",
       "      <th>KFold Balanced Accuracy Mean</th>\n",
       "      <th>KFold Balanced Accuracy Std</th>\n",
       "      <th>KFold Accuracy Mean</th>\n",
       "      <th>KFold Accuracy Std</th>\n",
       "    </tr>\n",
       "  </thead>\n",
       "  <tbody>\n",
       "    <tr>\n",
       "      <th>Árbol de decisión</th>\n",
       "      <td>0.747808</td>\n",
       "      <td>0.028581</td>\n",
       "      <td>0.822857</td>\n",
       "      <td>0.0455</td>\n",
       "    </tr>\n",
       "  </tbody>\n",
       "</table>\n",
       "</div>"
      ],
      "text/plain": [
       "                   KFold Balanced Accuracy Mean  KFold Balanced Accuracy Std  \\\n",
       "Árbol de decisión                      0.747808                     0.028581   \n",
       "\n",
       "                   KFold Accuracy Mean  KFold Accuracy Std  \n",
       "Árbol de decisión             0.822857              0.0455  "
      ]
     },
     "execution_count": 7,
     "metadata": {},
     "output_type": "execute_result"
    }
   ],
   "source": [
    "seed = random.seed(time.time())\n",
    "kfold = model_selection.KFold(n_splits=5, random_state=seed, shuffle=True)\n",
    "res_bal_acc = model_selection.cross_val_score(model, X_train, y_train, cv=kfold, scoring=\"balanced_accuracy\")\n",
    "res_acc = model_selection.cross_val_score(model, X_train, y_train, cv=kfold, scoring=\"accuracy\")\n",
    "df_res = pd.DataFrame({'KFold Balanced Accuracy Mean': res_bal_acc.mean(),\n",
    "                       'KFold Balanced Accuracy Std': res_bal_acc.std(),\n",
    "                       'KFold Accuracy Mean': res_acc.mean(),\n",
    "                       'KFold Accuracy Std': res_acc.std()}, index=[\"Árbol de decisión\"])\n",
    "df_res"
   ]
  },
  {
   "cell_type": "markdown",
   "metadata": {},
   "source": [
    "# Optimizando el Árbol de Decisión <a class=\"anchor\" name=\"optimizando\"></a>\n",
    "Reutilizando la validación cruzada K-Fold, se emplarán diferentes valores de para ver cuál es el que mejor rendimiento tiene. Los parámetros para realizar la optimización son:\n",
    "* **Criterio de división**: gini o entropía\n",
    "* **Splitter**: mejor o aleatorio\n",
    "* **Profundidad Máxima**: Del 4 al 10\n",
    "* **Alphas**: 0, 0.001, 0.01, 0.1, 1\n",
    "* **Máximo de características**: None, sqrt, log2 y del 5 al 10\n",
    "* **Mínimo de muestras por hoja**: del 1 al 3\n",
    "* **Mínimo de muestras para dividir**: del 2 al 4\n",
    "\n",
    "Se generarán un total de 22680 modelos, y se seleccionará el que mejor rendimiento tenga."
   ]
  },
  {
   "cell_type": "code",
   "execution_count": 8,
   "metadata": {},
   "outputs": [
    {
     "name": "stdout",
     "output_type": "stream",
     "text": [
      "Done Optimization!\n"
     ]
    }
   ],
   "source": [
    "criterias = [\"gini\", \"entropy\"]\n",
    "splitters = [\"best\", \"random\"]\n",
    "class_weights = [\"balanced\", None]\n",
    "max_depth = [4, 5, 6, 7, 8, 9, 10]\n",
    "ccp_alphas = [0.0, 0.001, 0.01, 0.1, 1.0]\n",
    "max_features = [None, \"sqrt\", \"log2\", 5, 6, 7, 8, 9, 10]\n",
    "min_samples_split = [2, 3, 4]\n",
    "min_samples_leaf = [1, 2, 3]\n",
    "df_metrics = pd.DataFrame(columns=[\"criteria\", \"splitter\", \"class_weight\", \n",
    "                                   \"max_depth\", \"ccp_alpha\", \"max_feature\",\n",
    "                                   \"min_sample_split\", \"min_sample_leaf\",\n",
    "                                   \"bacc\", \"baccy_err\",\n",
    "                                   \"bacc_std\", \"acc\", \"acc_err\", \"acc_std\"])\n",
    "\n",
    "for criterion in criterias:\n",
    "    for splitter in splitters:\n",
    "        for class_weight in class_weights:\n",
    "            for depth in max_depth:\n",
    "                for ccp_alpha in ccp_alphas:\n",
    "                    for max_feature in max_features:\n",
    "                        for min_sample_split in min_samples_split:\n",
    "                            for min_sample_leaf in min_samples_leaf:\n",
    "                                model = DecisionTreeClassifier(criterion=criterion, \n",
    "                                                               splitter=splitter, \n",
    "                                                               class_weight=class_weight, \n",
    "                                                               max_depth=depth, \n",
    "                                                               ccp_alpha=ccp_alpha, \n",
    "                                                               max_features=max_feature, \n",
    "                                                               min_samples_split=min_sample_split, \n",
    "                                                               min_samples_leaf=min_sample_leaf)\n",
    "                                res1 = model_selection.cross_val_score(model, X_train, y_train, \n",
    "                                                                       cv=kfold, scoring=\"balanced_accuracy\")\n",
    "                                res2 = model_selection.cross_val_score(model, X_train, y_train, \n",
    "                                                                       cv=kfold, scoring=\"accuracy\")\n",
    "                                df_metrics.loc[len(df_metrics)] = [\n",
    "                                    criterion, splitter, class_weight, depth, ccp_alpha, \n",
    "                                    max_feature, min_sample_split, min_sample_leaf,\n",
    "                                    res1.mean(), 1-res1.mean(), res1.std(), \n",
    "                                    res2.mean(), 1-res2.mean(), res2.std()\n",
    "                                ]\n",
    "\n",
    "print(\"Done Optimization!\")"
   ]
  },
  {
   "cell_type": "markdown",
   "metadata": {},
   "source": [
    "Una vez finalizado el proceso de optimización podemos siguiente observar el mejor resultado:"
   ]
  },
  {
   "cell_type": "code",
   "execution_count": 9,
   "metadata": {},
   "outputs": [
    {
     "data": {
      "text/html": [
       "<div>\n",
       "<style scoped>\n",
       "    .dataframe tbody tr th:only-of-type {\n",
       "        vertical-align: middle;\n",
       "    }\n",
       "\n",
       "    .dataframe tbody tr th {\n",
       "        vertical-align: top;\n",
       "    }\n",
       "\n",
       "    .dataframe thead th {\n",
       "        text-align: right;\n",
       "    }\n",
       "</style>\n",
       "<table border=\"1\" class=\"dataframe\">\n",
       "  <thead>\n",
       "    <tr style=\"text-align: right;\">\n",
       "      <th></th>\n",
       "      <th>criteria</th>\n",
       "      <th>splitter</th>\n",
       "      <th>class_weight</th>\n",
       "      <th>max_depth</th>\n",
       "      <th>ccp_alpha</th>\n",
       "      <th>max_feature</th>\n",
       "      <th>min_sample_split</th>\n",
       "      <th>min_sample_leaf</th>\n",
       "      <th>bacc</th>\n",
       "      <th>baccy_err</th>\n",
       "      <th>bacc_std</th>\n",
       "      <th>acc</th>\n",
       "      <th>acc_err</th>\n",
       "      <th>acc_std</th>\n",
       "    </tr>\n",
       "  </thead>\n",
       "  <tbody>\n",
       "    <tr>\n",
       "      <th>42</th>\n",
       "      <td>gini</td>\n",
       "      <td>best</td>\n",
       "      <td>balanced</td>\n",
       "      <td>4</td>\n",
       "      <td>0.0</td>\n",
       "      <td>6</td>\n",
       "      <td>4</td>\n",
       "      <td>1</td>\n",
       "      <td>0.839619</td>\n",
       "      <td>0.160381</td>\n",
       "      <td>0.051047</td>\n",
       "      <td>0.802204</td>\n",
       "      <td>0.197796</td>\n",
       "      <td>0.0462</td>\n",
       "    </tr>\n",
       "  </tbody>\n",
       "</table>\n",
       "</div>"
      ],
      "text/plain": [
       "   criteria splitter class_weight  max_depth  ccp_alpha max_feature  \\\n",
       "42     gini     best     balanced          4        0.0           6   \n",
       "\n",
       "    min_sample_split  min_sample_leaf      bacc  baccy_err  bacc_std  \\\n",
       "42                 4                1  0.839619   0.160381  0.051047   \n",
       "\n",
       "         acc   acc_err  acc_std  \n",
       "42  0.802204  0.197796   0.0462  "
      ]
     },
     "execution_count": 9,
     "metadata": {},
     "output_type": "execute_result"
    }
   ],
   "source": [
    "df_metrics.nsmallest(1, ['baccy_err', 'acc_err'])"
   ]
  }
 ],
 "metadata": {
  "kernelspec": {
   "display_name": "Python 3 (ipykernel)",
   "language": "python",
   "name": "python3"
  },
  "language_info": {
   "codemirror_mode": {
    "name": "ipython",
    "version": 3
   },
   "file_extension": ".py",
   "mimetype": "text/x-python",
   "name": "python",
   "nbconvert_exporter": "python",
   "pygments_lexer": "ipython3",
   "version": "3.8.5 (tags/v3.8.5:580fbb0, Jul 20 2020, 15:57:54) [MSC v.1924 64 bit (AMD64)]"
  },
  "vscode": {
   "interpreter": {
    "hash": "6517ef4d065b964775f7ded66e8332ac26eb91a9f9628f14f6a82a0ec9e672ea"
   }
  }
 },
 "nbformat": 4,
 "nbformat_minor": 2
}
