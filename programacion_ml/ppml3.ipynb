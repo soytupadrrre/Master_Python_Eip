{
 "cells": [
  {
   "cell_type": "markdown",
   "metadata": {},
   "source": [
    "# Tratamiento de valores perdidos\n",
    "Actividad Lección 3 || Programación Python para Machine Learning\n",
    "\n",
    "Objetivos:\n",
    "* Entender la problemática de la presencia de valores perdidos.\n",
    "* Identificar de modo adecuado los valores perdidos.\n",
    "* Aprender a utilizar las técnicas de eliminación de valores perdidos.\n",
    "* Manejar las técnicas principales para la imputación de valores perdidos.\n",
    "\n",
    "Datos del alumno:\n",
    "* Víctor Luque Martín\n",
    "* Máster Avanzado en Programación en Python para Hacking, BigData y Machine Learning\n",
    "\n",
    "Fecha: 07/11/2022"
   ]
  },
  {
   "cell_type": "markdown",
   "metadata": {},
   "source": [
    "# Tabla de Contenidos\n",
    "1. [Importes](#importes)\n",
    "2. [Carga del dataset](#carga)\n",
    "3. [Conteo datos faltantes por variable](#conteo)\n",
    "4. [Estrategias de eliminación](#eliminacion)\n",
    "    1. [Eliminación de filas con al menos un valor faltante](#eliminacion_filas_alguno)\n",
    "    2. [Eliminación de filas con todos los valores faltantes](#eliminacion_filas_todos)\n",
    "    3. [Eliminación de columnas con al menos un valor faltante](#eliminacion_columnas_alguno)\n",
    "    4. [Eliminación de columnas con todos los valores faltantes](#eliminacion_columnas_todos)\n",
    "    5. [Eliminación de filas cuando al menos haya 'n' valores faltantes](#eliminacion_filas_n)\n",
    "    6. [Eliminación de columnas cuando al menos haya 'n' valores faltantes](#eliminacion_columnas_n)\n",
    "    7. [Conclusión](#conclusion_eliminacion)\n",
    "5. [Estrategias de imputación](#imputacion)\n",
    "    1. [Sustitución por un valor constante](#imputacion_constante)\n",
    "    2. [Sustitución por el valor anterior](#imputacion_anterior)\n",
    "    3. [Sustitución por el valor posterior](#imputacion_posterior)\n",
    "    4. [Substitución por el valor interpolado](#imputacion_interpolado)\n",
    "    5. [Sustituición por la media (SimpleImputer)](#imputacion_media)\n",
    "    6. [Sustituición por la mediana (SimpleImputer)](#imputacion_mediana)\n",
    "    7. [Sustituición por la moda (SimpleImputer)](#imputacion_moda)\n",
    "    8. [Imputación Multivariante (KNNImputer)](#imputacion_multivariante_knn)\n",
    "    9. [Comparación de resultados](#comparacion)"
   ]
  },
  {
   "cell_type": "markdown",
   "metadata": {},
   "source": [
    "# Importes <a name=\"importes\"></a>"
   ]
  },
  {
   "cell_type": "code",
   "execution_count": 1,
   "metadata": {},
   "outputs": [],
   "source": [
    "import pandas as pd\n",
    "import numpy as np\n",
    "from sklearn.impute import SimpleImputer, KNNImputer\n",
    "import matplotlib.pyplot as plt"
   ]
  },
  {
   "cell_type": "markdown",
   "metadata": {},
   "source": [
    "# Carga del dataset <a name=\"carga\"></a>\n",
    "Se carga el dataset [Breast Cancer Wisconsin (Original) Data Set](https://archive.ics.uci.edu/ml/datasets/breast+cancer+wisconsin+%28original%29) para tratar los valores perdidos."
   ]
  },
  {
   "cell_type": "code",
   "execution_count": 2,
   "metadata": {},
   "outputs": [
    {
     "data": {
      "text/html": [
       "<div>\n",
       "<style scoped>\n",
       "    .dataframe tbody tr th:only-of-type {\n",
       "        vertical-align: middle;\n",
       "    }\n",
       "\n",
       "    .dataframe tbody tr th {\n",
       "        vertical-align: top;\n",
       "    }\n",
       "\n",
       "    .dataframe thead th {\n",
       "        text-align: right;\n",
       "    }\n",
       "</style>\n",
       "<table border=\"1\" class=\"dataframe\">\n",
       "  <thead>\n",
       "    <tr style=\"text-align: right;\">\n",
       "      <th></th>\n",
       "      <th>id</th>\n",
       "      <th>clump_thickness</th>\n",
       "      <th>uniform_cell_size</th>\n",
       "      <th>uniform_cell_shape</th>\n",
       "      <th>marginal_adhesion</th>\n",
       "      <th>single_epithelial_size</th>\n",
       "      <th>bare_nuclei</th>\n",
       "      <th>bland_chromatin</th>\n",
       "      <th>normal_nucleoli</th>\n",
       "      <th>mitoses</th>\n",
       "      <th>class</th>\n",
       "    </tr>\n",
       "  </thead>\n",
       "  <tbody>\n",
       "    <tr>\n",
       "      <th>0</th>\n",
       "      <td>1000025</td>\n",
       "      <td>5</td>\n",
       "      <td>1</td>\n",
       "      <td>1</td>\n",
       "      <td>1</td>\n",
       "      <td>2</td>\n",
       "      <td>1</td>\n",
       "      <td>3</td>\n",
       "      <td>1</td>\n",
       "      <td>1</td>\n",
       "      <td>2</td>\n",
       "    </tr>\n",
       "    <tr>\n",
       "      <th>1</th>\n",
       "      <td>1002945</td>\n",
       "      <td>5</td>\n",
       "      <td>4</td>\n",
       "      <td>4</td>\n",
       "      <td>5</td>\n",
       "      <td>7</td>\n",
       "      <td>10</td>\n",
       "      <td>3</td>\n",
       "      <td>2</td>\n",
       "      <td>1</td>\n",
       "      <td>2</td>\n",
       "    </tr>\n",
       "    <tr>\n",
       "      <th>2</th>\n",
       "      <td>1015425</td>\n",
       "      <td>3</td>\n",
       "      <td>1</td>\n",
       "      <td>1</td>\n",
       "      <td>1</td>\n",
       "      <td>2</td>\n",
       "      <td>2</td>\n",
       "      <td>3</td>\n",
       "      <td>1</td>\n",
       "      <td>1</td>\n",
       "      <td>2</td>\n",
       "    </tr>\n",
       "    <tr>\n",
       "      <th>3</th>\n",
       "      <td>1016277</td>\n",
       "      <td>6</td>\n",
       "      <td>8</td>\n",
       "      <td>8</td>\n",
       "      <td>1</td>\n",
       "      <td>3</td>\n",
       "      <td>4</td>\n",
       "      <td>3</td>\n",
       "      <td>7</td>\n",
       "      <td>1</td>\n",
       "      <td>2</td>\n",
       "    </tr>\n",
       "    <tr>\n",
       "      <th>4</th>\n",
       "      <td>1017023</td>\n",
       "      <td>4</td>\n",
       "      <td>1</td>\n",
       "      <td>1</td>\n",
       "      <td>3</td>\n",
       "      <td>2</td>\n",
       "      <td>1</td>\n",
       "      <td>3</td>\n",
       "      <td>1</td>\n",
       "      <td>1</td>\n",
       "      <td>2</td>\n",
       "    </tr>\n",
       "  </tbody>\n",
       "</table>\n",
       "</div>"
      ],
      "text/plain": [
       "        id  clump_thickness  uniform_cell_size  uniform_cell_shape  \\\n",
       "0  1000025                5                  1                   1   \n",
       "1  1002945                5                  4                   4   \n",
       "2  1015425                3                  1                   1   \n",
       "3  1016277                6                  8                   8   \n",
       "4  1017023                4                  1                   1   \n",
       "\n",
       "   marginal_adhesion  single_epithelial_size bare_nuclei  bland_chromatin  \\\n",
       "0                  1                       2           1                3   \n",
       "1                  5                       7          10                3   \n",
       "2                  1                       2           2                3   \n",
       "3                  1                       3           4                3   \n",
       "4                  3                       2           1                3   \n",
       "\n",
       "   normal_nucleoli  mitoses  class  \n",
       "0                1        1      2  \n",
       "1                2        1      2  \n",
       "2                1        1      2  \n",
       "3                7        1      2  \n",
       "4                1        1      2  "
      ]
     },
     "execution_count": 2,
     "metadata": {},
     "output_type": "execute_result"
    }
   ],
   "source": [
    "filename = \"breast-cancer-wisconsin.data\"\n",
    "col_names = ['id', 'clump_thickness', 'uniform_cell_size', 'uniform_cell_shape', \n",
    "             'marginal_adhesion', 'single_epithelial_size', 'bare_nuclei', \n",
    "             'bland_chromatin', 'normal_nucleoli', 'mitoses', 'class']\n",
    "df = pd.read_csv(filename, names=col_names)\n",
    "df.head()"
   ]
  },
  {
   "cell_type": "markdown",
   "metadata": {},
   "source": [
    "# Conteo datos faltantes por variable <a name=\"conteo\"></a>\n",
    "Los valores faltantes vienen representados por el carácter '?'. Se debe convertir a NaN para poder tratarlos."
   ]
  },
  {
   "cell_type": "code",
   "execution_count": 3,
   "metadata": {},
   "outputs": [
    {
     "data": {
      "text/plain": [
       "id                         0\n",
       "clump_thickness            0\n",
       "uniform_cell_size          0\n",
       "uniform_cell_shape         0\n",
       "marginal_adhesion          0\n",
       "single_epithelial_size     0\n",
       "bare_nuclei               16\n",
       "bland_chromatin            0\n",
       "normal_nucleoli            0\n",
       "mitoses                    0\n",
       "class                      0\n",
       "dtype: int64"
      ]
     },
     "execution_count": 3,
     "metadata": {},
     "output_type": "execute_result"
    }
   ],
   "source": [
    "df[df == '?'] = np.nan\n",
    "df.isna().sum()"
   ]
  },
  {
   "cell_type": "markdown",
   "metadata": {},
   "source": [
    "# Estrategias de eliminación <a name=\"eliminacion\"></a>\n",
    "Primeramente, visualizaremos las dimensiones del dataset antes de aplicar cualquier estrategia de eliminación. Las estrategias de eliminación son aplicables a partir del método `dropna()` de la clase `DataFrame` de Pandas."
   ]
  },
  {
   "cell_type": "code",
   "execution_count": 4,
   "metadata": {},
   "outputs": [
    {
     "data": {
      "text/plain": [
       "(699, 11)"
      ]
     },
     "execution_count": 4,
     "metadata": {},
     "output_type": "execute_result"
    }
   ],
   "source": [
    "df.shape"
   ]
  },
  {
   "cell_type": "markdown",
   "metadata": {},
   "source": [
    "## Eliminación de filas con al menos un valor faltante <a name=\"eliminacion_filas_alguno\"></a>\n",
    "Aplicando el método `.dropna` de pandas, sin especificar ningún parámetro, se eliminan las filas que contengan al menos un valor faltante."
   ]
  },
  {
   "cell_type": "code",
   "execution_count": 5,
   "metadata": {},
   "outputs": [
    {
     "data": {
      "text/plain": [
       "(683, 11)"
      ]
     },
     "execution_count": 5,
     "metadata": {},
     "output_type": "execute_result"
    }
   ],
   "source": [
    "df.dropna().shape"
   ]
  },
  {
   "cell_type": "markdown",
   "metadata": {},
   "source": [
    "## Eliminación de filas con todos los valores faltantes <a name=\"eliminacion_filas_todos\"></a>\n",
    "Se debe especificar el parámetro `how='all'` para que se eliminen las filas que contengan todos los valores faltantes."
   ]
  },
  {
   "cell_type": "code",
   "execution_count": 6,
   "metadata": {},
   "outputs": [
    {
     "data": {
      "text/plain": [
       "(699, 11)"
      ]
     },
     "execution_count": 6,
     "metadata": {},
     "output_type": "execute_result"
    }
   ],
   "source": [
    "df.dropna(how='all').shape"
   ]
  },
  {
   "cell_type": "markdown",
   "metadata": {},
   "source": [
    "## Eliminación de columnas con al menos un valor faltante <a name=\"eliminacion_columnas_alguno\"></a>\n",
    "Se debe especificar el parámetro `axis=1` para que se aplique la eliminación sobre las columnas."
   ]
  },
  {
   "cell_type": "code",
   "execution_count": 7,
   "metadata": {},
   "outputs": [
    {
     "data": {
      "text/plain": [
       "(699, 10)"
      ]
     },
     "execution_count": 7,
     "metadata": {},
     "output_type": "execute_result"
    }
   ],
   "source": [
    "df.dropna(axis=1).shape"
   ]
  },
  {
   "cell_type": "markdown",
   "metadata": {},
   "source": [
    "## Eliminación de columnas con todos los valores faltantes <a name=\"eliminacion_columnas_todos\"></a>\n",
    "Se deben especificar el parámetro `how='all'` y `axis=1` para que se eliminen las columnas que contengan todos los valores faltantes."
   ]
  },
  {
   "cell_type": "code",
   "execution_count": 8,
   "metadata": {},
   "outputs": [
    {
     "data": {
      "text/plain": [
       "(699, 11)"
      ]
     },
     "execution_count": 8,
     "metadata": {},
     "output_type": "execute_result"
    }
   ],
   "source": [
    "df.dropna(how='all', axis=1).shape"
   ]
  },
  {
   "cell_type": "markdown",
   "metadata": {},
   "source": [
    "## Eliminación de filas cuando al menos haya 'n' valores faltantes <a name=\"eliminacion_filas_n\"></a>\n",
    "Se debe especificar el parámetro `thresh=n` para que se eliminen las filas que contengan al menos 'n' valores faltantes. Siendo 'n' un valor entero. El umbral 'n' es un valor subjetivo, dependiendo de la cantidad de valores faltantes que se quieran eliminar."
   ]
  },
  {
   "cell_type": "code",
   "execution_count": 9,
   "metadata": {},
   "outputs": [
    {
     "data": {
      "text/plain": [
       "(683, 11)"
      ]
     },
     "execution_count": 9,
     "metadata": {},
     "output_type": "execute_result"
    }
   ],
   "source": [
    "df.dropna(thresh=11).shape"
   ]
  },
  {
   "cell_type": "markdown",
   "metadata": {},
   "source": [
    "## Eliminación de columnas cuando al menos haya 'n' valores faltantes <a name=\"eliminacion_columnas_n\"></a>\n",
    "Se deben especificar el parámetro `thresh=n` y `axis=1` para que se eliminen las columnas que contengan al menos 'n' valores faltantes. Siendo 'n' un valor entero."
   ]
  },
  {
   "cell_type": "code",
   "execution_count": 10,
   "metadata": {},
   "outputs": [
    {
     "data": {
      "text/plain": [
       "(699, 10)"
      ]
     },
     "execution_count": 10,
     "metadata": {},
     "output_type": "execute_result"
    }
   ],
   "source": [
    "df.dropna(axis=1, thresh=685).shape"
   ]
  },
  {
   "cell_type": "markdown",
   "metadata": {},
   "source": [
    "## Conclusion\n",
    "Siguiendo la estrategia de eliminación, al tratarse de un dataset con 16 valores faltantes en una única columna, la eliminación de filas o columnas no es muy recomendable, ya que es mejor aplicar una estrategia de imputación. No obstante, en caso de tener que aplicar alguna estrategia, sería la de eliminar las filas que tengan al menos un valor faltante, ya que al ser una cantidad tan pequeña, no afectaría demasiado al dataset.\n",
    "\n",
    "---"
   ]
  },
  {
   "cell_type": "markdown",
   "metadata": {},
   "source": [
    "# Estrategias de imputación <a name=\"imputacion\"></a>\n",
    "Las estrategias de imputación son aplicables a partir de distintos métodos, como `fillna()`, `interpolate()` de la clase `DataFrame` de Pandas, o `SimpleImputer` de la clase `impute` de la librería `sklearn`."
   ]
  },
  {
   "cell_type": "markdown",
   "metadata": {},
   "source": [
    "## Sustitución por un valor constante <a name=\"imputacion_constante\"></a>\n",
    "Se reemplazan los valores faltantes por un valor constante. En este caso, se reemplazan por el valor 0."
   ]
  },
  {
   "cell_type": "code",
   "execution_count": 11,
   "metadata": {},
   "outputs": [],
   "source": [
    "new_df_1 = df.fillna(0)"
   ]
  },
  {
   "cell_type": "markdown",
   "metadata": {},
   "source": [
    "## Sustitución por el valor anterior <a name=\"imputacion_anterior\"></a>\n",
    "Se reemplazan los valores faltantes por el valor anterior. En este caso, se reemplazan por el valor anterior de la misma columna."
   ]
  },
  {
   "cell_type": "code",
   "execution_count": 12,
   "metadata": {},
   "outputs": [],
   "source": [
    "new_df_2 = df.fillna(method='pad')"
   ]
  },
  {
   "cell_type": "markdown",
   "metadata": {},
   "source": [
    "## Sustitución por el valor posterior <a name=\"imputacion_posterior\"></a>\n",
    "Se reemplazan los valores faltantes por el valor posterior. En este caso, se reemplazan por el valor posterior de la misma columna."
   ]
  },
  {
   "cell_type": "code",
   "execution_count": 13,
   "metadata": {},
   "outputs": [],
   "source": [
    "new_df_3 = df.fillna(method='bfill')"
   ]
  },
  {
   "cell_type": "markdown",
   "metadata": {},
   "source": [
    "## Substitución por el valor interpolado <a name=\"imputacion_interpolado\"></a>\n",
    "Una interpolación es una aproximación de un valor desconocido entre los valores conocidos. En este caso, se reemplazan los valores faltantes por el valor interpolado de la misma columna."
   ]
  },
  {
   "cell_type": "code",
   "execution_count": 14,
   "metadata": {},
   "outputs": [],
   "source": [
    "new_df_4 = df.interpolate(inplace=False, method='linear', limit_direction='forward')"
   ]
  },
  {
   "cell_type": "markdown",
   "metadata": {},
   "source": [
    "## Sustituición por la media (SimpleImputer) <a name=\"imputacion_media\"></a>\n",
    "Apliquemos la estrategia de imputación por la media, utilizando la clase `SimpleImputer` de la librería `sklearn`."
   ]
  },
  {
   "cell_type": "code",
   "execution_count": 15,
   "metadata": {},
   "outputs": [],
   "source": [
    "imputer = SimpleImputer(missing_values=np.nan, strategy='mean').fit(df)\n",
    "new_df_5 = imputer.transform(df)"
   ]
  },
  {
   "cell_type": "markdown",
   "metadata": {},
   "source": [
    "## Sustituición por la mediana (SimpleImputer) <a name=\"imputacion_mediana\"></a>\n",
    "Apliquemos la estrategia de imputación por la mediana, utilizando la clase `SimpleImputer` de la librería `sklearn`."
   ]
  },
  {
   "cell_type": "code",
   "execution_count": 16,
   "metadata": {},
   "outputs": [],
   "source": [
    "imputer = SimpleImputer(missing_values=np.nan, strategy='median').fit(df)\n",
    "new_df_6 = imputer.transform(df)"
   ]
  },
  {
   "cell_type": "markdown",
   "metadata": {},
   "source": [
    "## Sustituición por la moda (SimpleImputer) <a name=\"imputacion_moda\"></a>\n",
    "Apliquemos la estrategia de imputación por la moda, utilizando la clase `SimpleImputer` de la librería `sklearn`. Esta estrategia también es aplicable a variables categóricas."
   ]
  },
  {
   "cell_type": "code",
   "execution_count": 17,
   "metadata": {},
   "outputs": [],
   "source": [
    "imputer = SimpleImputer(missing_values=np.nan, strategy='most_frequent').fit(df)\n",
    "new_df_7 = imputer.transform(df)"
   ]
  },
  {
   "cell_type": "markdown",
   "metadata": {},
   "source": [
    "## Imputación Multivariante (KNNImputer) <a name=\"imputacion_multivariante_knn\"></a>\n",
    "Apliquemos la estrategia de imputación multivariante, utilizando la clase `KNNImputer` de la librería `sklearn`. Mediante el algoritmo KNN, se imputan los valores faltantes de una variable, utilizando los valores de las demás variables."
   ]
  },
  {
   "cell_type": "code",
   "execution_count": 18,
   "metadata": {},
   "outputs": [],
   "source": [
    "imputer = KNNImputer().fit(df)\n",
    "new_df_8 = imputer.transform(df)"
   ]
  },
  {
   "cell_type": "markdown",
   "metadata": {},
   "source": [
    "## Comparación de resultados <a name=\"comparacion\"></a>\n",
    "A continuación, se creará un dataframe con la columna `bare_nuclei` original, y las columnas con los valores imputados por cada estrategia. Se compararán los resultados de las estrategias de imputación y se observará mediante un histograma."
   ]
  },
  {
   "cell_type": "code",
   "execution_count": 19,
   "metadata": {},
   "outputs": [
    {
     "data": {
      "image/png": "[encoded data removed]",
      "text/plain": [
       "<Figure size 1000x1000 with 9 Axes>"
      ]
     },
     "metadata": {},
     "output_type": "display_data"
    }
   ],
   "source": [
    "df_bare_nuclei = pd.DataFrame({'original': df['bare_nuclei'],\n",
    "                               'imputación_constante': new_df_1['bare_nuclei'],\n",
    "                                'imputación_anterior': new_df_2['bare_nuclei'],\n",
    "                                'imputación_posterior': new_df_3['bare_nuclei'],\n",
    "                                'imputación_interpolación': new_df_4['bare_nuclei'],\n",
    "                                'imputación_media': new_df_5[:,6],\n",
    "                                'imputación_mediana': new_df_6[:,6],\n",
    "                                'imputación_moda': new_df_7[:,6],\n",
    "                                'imputación_knn': new_df_8[:,6]})\n",
    "                                \n",
    "df_bare_nuclei = df_bare_nuclei.apply(pd.to_numeric)\n",
    "df_bare_nuclei.hist(figsize=(10,10))\n",
    "plt.show()"
   ]
  },
  {
   "cell_type": "markdown",
   "metadata": {},
   "source": [
    "Como podemos observar, al haber pocos valores faltantes, no hay un cambio drástico en la distribución de los datos, podemos observar en algunas estrategias ligeros cambios frente al resto, como son:\n",
    "- Constante\n",
    "- Media\n",
    "\n",
    "El resto de estrategias, no muestran cambios significativos en la distribución de los datos."
   ]
  }
 ],
 "metadata": {
  "kernelspec": {
   "display_name": "Python 3 (ipykernel)",
   "language": "python",
   "name": "python3"
  },
  "language_info": {
   "codemirror_mode": {
    "name": "ipython",
    "version": 3
   },
   "file_extension": ".py",
   "mimetype": "text/x-python",
   "name": "python",
   "nbconvert_exporter": "python",
   "pygments_lexer": "ipython3",
   "version": "3.8.5"
  },
  "vscode": {
   "interpreter": {
    "hash": "1634370e120a9c1df39eabce3cbeacd65fdf9bf1deaa79a301a3f714c9fcff5a"
   }
  }
 },
 "nbformat": 4,
 "nbformat_minor": 2
}
