{
 "cells": [
  {
   "cell_type": "markdown",
   "metadata": {},
   "source": [
    "# Modelos de Ensemble\n",
    "Actividad Lección 10 || Programación Python para Machine Learning\n",
    "\n",
    "Objetivos:\n",
    "* Presentar los principios en los que se basan los modelos de Ensemble.\n",
    "* Conocer las distintas estrategias de Ensemble.\n",
    "* Dominar las técnicas de implementación de los modelos de Ensemble en Python.\n",
    "* Examinar los puntos clave que determinan el rendimiento de los modelos de Ensemble. \n",
    "\n",
    "Datos del alumno:\n",
    "* Víctor Luque Martín\n",
    "* Máster Avanzado en Programación en Python para Hacking, BigData y Machine Learning\n",
    "\n",
    "Fecha: 02/01/2023"
   ]
  },
  {
   "cell_type": "markdown",
   "metadata": {},
   "source": [
    "# Tabla de Contenidos\n",
    "1. [Importes](#importes)\n",
    "2. [Carga de datos](#carga)\n",
    "    1. [Wine Dataset](#wine)\n",
    "    2. [Computer Hardware Dataset](#hardware)\n",
    "3. [Preparación de datos](#preparacion)\n",
    "    1. [Wine Dataset](#wine_prep)\n",
    "    2. [Computer Hardware Dataset](#hardware_prep)\n",
    "4. [Modelo base](#modelo_base)\n",
    "5. [Modelos de Ensemble](#ensemble)\n",
    "    1. [Bagging](#bagging)\n",
    "        1. [Bagging para regresión](#bagging_reg)\n",
    "        2. [Bagging para clasificación](#bagging_clas)\n",
    "    2. [Boosting](#boosting)\n",
    "        1. [Boosting para regresión](#boosting_reg)\n",
    "        2. [Boosting para clasificación](#boosting_clas)\n",
    "6. [Evaluación de modelos](#evaluacion)\n",
    "    1. [Evaluación de modelos de regresión](#evaluacion_reg)\n",
    "    2. [Evaluación de modelos de clasificación](#evaluacion_clas)\n",
    "7. [Conclusiones](#conclusiones)"
   ]
  },
  {
   "cell_type": "markdown",
   "metadata": {},
   "source": [
    "# Importes <a name=\"importes\"></a>"
   ]
  },
  {
   "cell_type": "code",
   "execution_count": 1,
   "metadata": {},
   "outputs": [],
   "source": [
    "import random, time\n",
    "import pandas as pd\n",
    "import matplotlib.pyplot as plt\n",
    "from sklearn.model_selection import (\n",
    "    train_test_split,\n",
    "    cross_val_score,\n",
    "    KFold\n",
    ")\n",
    "from sklearn.svm import SVC\n",
    "from sklearn.tree import DecisionTreeRegressor\n",
    "from sklearn.ensemble import (\n",
    "    BaggingClassifier, \n",
    "    BaggingRegressor,\n",
    "    AdaBoostClassifier,\n",
    "    AdaBoostRegressor,\n",
    ")"
   ]
  },
  {
   "cell_type": "markdown",
   "metadata": {},
   "source": [
    "# Carga de datos <a class=\"anchor\" name=\"carga\"></a>\n",
    "Para trabajar con los modelos de Ensemble, se utilizarán los siguientes datasets:\n",
    "* [Wine](https://archive.ics.uci.edu/ml/datasets/wine): Para problemas de clasificación.\n",
    "* [Computer Hardware](https://archive.ics.uci.edu/ml/datasets/Computer+Hardware): Para problemas de regresión."
   ]
  },
  {
   "cell_type": "markdown",
   "metadata": {},
   "source": [
    "## Wine Dataset <a class=\"anchor\" name=\"wine\"></a>\n",
    "Estos datos son los resultados de un análisis químico de vinos cultivados en la misma región de Italia pero procedentes de tres cultivares diferentes. El análisis determinó las cantidades de 13 componentes presentes en cada uno de los tres tipos de vino."
   ]
  },
  {
   "cell_type": "code",
   "execution_count": 2,
   "metadata": {},
   "outputs": [
    {
     "data": {
      "text/html": [
       "<div>\n",
       "<style scoped>\n",
       "    .dataframe tbody tr th:only-of-type {\n",
       "        vertical-align: middle;\n",
       "    }\n",
       "\n",
       "    .dataframe tbody tr th {\n",
       "        vertical-align: top;\n",
       "    }\n",
       "\n",
       "    .dataframe thead th {\n",
       "        text-align: right;\n",
       "    }\n",
       "</style>\n",
       "<table border=\"1\" class=\"dataframe\">\n",
       "  <thead>\n",
       "    <tr style=\"text-align: right;\">\n",
       "      <th></th>\n",
       "      <th>class</th>\n",
       "      <th>alcohol</th>\n",
       "      <th>malic_acid</th>\n",
       "      <th>ash</th>\n",
       "      <th>alcalinity_of_ash</th>\n",
       "      <th>magnesium</th>\n",
       "      <th>total_phenols</th>\n",
       "      <th>flavanoids</th>\n",
       "      <th>nonflavanoid_phenols</th>\n",
       "      <th>proanthocyanins</th>\n",
       "      <th>color_intensity</th>\n",
       "      <th>hue</th>\n",
       "      <th>od280/od315_of_diluted_wines</th>\n",
       "      <th>proline</th>\n",
       "    </tr>\n",
       "  </thead>\n",
       "  <tbody>\n",
       "    <tr>\n",
       "      <th>0</th>\n",
       "      <td>1</td>\n",
       "      <td>14.23</td>\n",
       "      <td>1.71</td>\n",
       "      <td>2.43</td>\n",
       "      <td>15.6</td>\n",
       "      <td>127</td>\n",
       "      <td>2.80</td>\n",
       "      <td>3.06</td>\n",
       "      <td>0.28</td>\n",
       "      <td>2.29</td>\n",
       "      <td>5.64</td>\n",
       "      <td>1.04</td>\n",
       "      <td>3.92</td>\n",
       "      <td>1065</td>\n",
       "    </tr>\n",
       "    <tr>\n",
       "      <th>1</th>\n",
       "      <td>1</td>\n",
       "      <td>13.20</td>\n",
       "      <td>1.78</td>\n",
       "      <td>2.14</td>\n",
       "      <td>11.2</td>\n",
       "      <td>100</td>\n",
       "      <td>2.65</td>\n",
       "      <td>2.76</td>\n",
       "      <td>0.26</td>\n",
       "      <td>1.28</td>\n",
       "      <td>4.38</td>\n",
       "      <td>1.05</td>\n",
       "      <td>3.40</td>\n",
       "      <td>1050</td>\n",
       "    </tr>\n",
       "    <tr>\n",
       "      <th>2</th>\n",
       "      <td>1</td>\n",
       "      <td>13.16</td>\n",
       "      <td>2.36</td>\n",
       "      <td>2.67</td>\n",
       "      <td>18.6</td>\n",
       "      <td>101</td>\n",
       "      <td>2.80</td>\n",
       "      <td>3.24</td>\n",
       "      <td>0.30</td>\n",
       "      <td>2.81</td>\n",
       "      <td>5.68</td>\n",
       "      <td>1.03</td>\n",
       "      <td>3.17</td>\n",
       "      <td>1185</td>\n",
       "    </tr>\n",
       "    <tr>\n",
       "      <th>3</th>\n",
       "      <td>1</td>\n",
       "      <td>14.37</td>\n",
       "      <td>1.95</td>\n",
       "      <td>2.50</td>\n",
       "      <td>16.8</td>\n",
       "      <td>113</td>\n",
       "      <td>3.85</td>\n",
       "      <td>3.49</td>\n",
       "      <td>0.24</td>\n",
       "      <td>2.18</td>\n",
       "      <td>7.80</td>\n",
       "      <td>0.86</td>\n",
       "      <td>3.45</td>\n",
       "      <td>1480</td>\n",
       "    </tr>\n",
       "    <tr>\n",
       "      <th>4</th>\n",
       "      <td>1</td>\n",
       "      <td>13.24</td>\n",
       "      <td>2.59</td>\n",
       "      <td>2.87</td>\n",
       "      <td>21.0</td>\n",
       "      <td>118</td>\n",
       "      <td>2.80</td>\n",
       "      <td>2.69</td>\n",
       "      <td>0.39</td>\n",
       "      <td>1.82</td>\n",
       "      <td>4.32</td>\n",
       "      <td>1.04</td>\n",
       "      <td>2.93</td>\n",
       "      <td>735</td>\n",
       "    </tr>\n",
       "  </tbody>\n",
       "</table>\n",
       "</div>"
      ],
      "text/plain": [
       "   class  alcohol  malic_acid   ash  alcalinity_of_ash  magnesium  \\\n",
       "0      1    14.23        1.71  2.43               15.6        127   \n",
       "1      1    13.20        1.78  2.14               11.2        100   \n",
       "2      1    13.16        2.36  2.67               18.6        101   \n",
       "3      1    14.37        1.95  2.50               16.8        113   \n",
       "4      1    13.24        2.59  2.87               21.0        118   \n",
       "\n",
       "   total_phenols  flavanoids  nonflavanoid_phenols  proanthocyanins  \\\n",
       "0           2.80        3.06                  0.28             2.29   \n",
       "1           2.65        2.76                  0.26             1.28   \n",
       "2           2.80        3.24                  0.30             2.81   \n",
       "3           3.85        3.49                  0.24             2.18   \n",
       "4           2.80        2.69                  0.39             1.82   \n",
       "\n",
       "   color_intensity   hue  od280/od315_of_diluted_wines  proline  \n",
       "0             5.64  1.04                          3.92     1065  \n",
       "1             4.38  1.05                          3.40     1050  \n",
       "2             5.68  1.03                          3.17     1185  \n",
       "3             7.80  0.86                          3.45     1480  \n",
       "4             4.32  1.04                          2.93      735  "
      ]
     },
     "execution_count": 2,
     "metadata": {},
     "output_type": "execute_result"
    }
   ],
   "source": [
    "wine_names = [\n",
    "    'class','alcohol','malic_acid','ash',\n",
    "    'alcalinity_of_ash','magnesium',\n",
    "    'total_phenols','flavanoids',\n",
    "    'nonflavanoid_phenols','proanthocyanins',\n",
    "    'color_intensity','hue',\n",
    "    'od280/od315_of_diluted_wines','proline'\n",
    "]\n",
    "df_wine_clf = pd.read_csv('wine.data', header=None, names=wine_names)\n",
    "df_wine_clf.head()"
   ]
  },
  {
   "cell_type": "markdown",
   "metadata": {},
   "source": [
    "## Computer Hardware Dataset <a class=\"anchor\" name=\"hardware\"></a>\n",
    "Este conjunto de datos contiene información sobre el rendimiento de los microprocesadores."
   ]
  },
  {
   "cell_type": "code",
   "execution_count": 3,
   "metadata": {},
   "outputs": [
    {
     "data": {
      "text/html": [
       "<div>\n",
       "<style scoped>\n",
       "    .dataframe tbody tr th:only-of-type {\n",
       "        vertical-align: middle;\n",
       "    }\n",
       "\n",
       "    .dataframe tbody tr th {\n",
       "        vertical-align: top;\n",
       "    }\n",
       "\n",
       "    .dataframe thead th {\n",
       "        text-align: right;\n",
       "    }\n",
       "</style>\n",
       "<table border=\"1\" class=\"dataframe\">\n",
       "  <thead>\n",
       "    <tr style=\"text-align: right;\">\n",
       "      <th></th>\n",
       "      <th>vendor_name</th>\n",
       "      <th>model_name</th>\n",
       "      <th>myct</th>\n",
       "      <th>mmin</th>\n",
       "      <th>mmax</th>\n",
       "      <th>cach</th>\n",
       "      <th>chmin</th>\n",
       "      <th>chmax</th>\n",
       "      <th>prp</th>\n",
       "      <th>erp</th>\n",
       "    </tr>\n",
       "  </thead>\n",
       "  <tbody>\n",
       "    <tr>\n",
       "      <th>0</th>\n",
       "      <td>adviser</td>\n",
       "      <td>32/60</td>\n",
       "      <td>125</td>\n",
       "      <td>256</td>\n",
       "      <td>6000</td>\n",
       "      <td>256</td>\n",
       "      <td>16</td>\n",
       "      <td>128</td>\n",
       "      <td>198</td>\n",
       "      <td>199</td>\n",
       "    </tr>\n",
       "    <tr>\n",
       "      <th>1</th>\n",
       "      <td>amdahl</td>\n",
       "      <td>470v/7</td>\n",
       "      <td>29</td>\n",
       "      <td>8000</td>\n",
       "      <td>32000</td>\n",
       "      <td>32</td>\n",
       "      <td>8</td>\n",
       "      <td>32</td>\n",
       "      <td>269</td>\n",
       "      <td>253</td>\n",
       "    </tr>\n",
       "    <tr>\n",
       "      <th>2</th>\n",
       "      <td>amdahl</td>\n",
       "      <td>470v/7a</td>\n",
       "      <td>29</td>\n",
       "      <td>8000</td>\n",
       "      <td>32000</td>\n",
       "      <td>32</td>\n",
       "      <td>8</td>\n",
       "      <td>32</td>\n",
       "      <td>220</td>\n",
       "      <td>253</td>\n",
       "    </tr>\n",
       "    <tr>\n",
       "      <th>3</th>\n",
       "      <td>amdahl</td>\n",
       "      <td>470v/7b</td>\n",
       "      <td>29</td>\n",
       "      <td>8000</td>\n",
       "      <td>32000</td>\n",
       "      <td>32</td>\n",
       "      <td>8</td>\n",
       "      <td>32</td>\n",
       "      <td>172</td>\n",
       "      <td>253</td>\n",
       "    </tr>\n",
       "    <tr>\n",
       "      <th>4</th>\n",
       "      <td>amdahl</td>\n",
       "      <td>470v/7c</td>\n",
       "      <td>29</td>\n",
       "      <td>8000</td>\n",
       "      <td>16000</td>\n",
       "      <td>32</td>\n",
       "      <td>8</td>\n",
       "      <td>16</td>\n",
       "      <td>132</td>\n",
       "      <td>132</td>\n",
       "    </tr>\n",
       "  </tbody>\n",
       "</table>\n",
       "</div>"
      ],
      "text/plain": [
       "  vendor_name model_name  myct  mmin   mmax  cach  chmin  chmax  prp  erp\n",
       "0     adviser      32/60   125   256   6000   256     16    128  198  199\n",
       "1      amdahl     470v/7    29  8000  32000    32      8     32  269  253\n",
       "2      amdahl    470v/7a    29  8000  32000    32      8     32  220  253\n",
       "3      amdahl    470v/7b    29  8000  32000    32      8     32  172  253\n",
       "4      amdahl    470v/7c    29  8000  16000    32      8     16  132  132"
      ]
     },
     "execution_count": 3,
     "metadata": {},
     "output_type": "execute_result"
    }
   ],
   "source": [
    "hardware_names = [\n",
    "    'vendor_name','model_name','myct','mmin','mmax',\n",
    "    'cach','chmin','chmax','prp','erp'\n",
    "]\n",
    "df_hardware = pd.read_csv('machine.data', header=None, names=hardware_names)\n",
    "df_hardware.head()"
   ]
  },
  {
   "cell_type": "markdown",
   "metadata": {},
   "source": [
    "# Preparación de datos <a class=\"anchor\" name=\"preparacion\"></a>\n",
    "Antes de comenzar a trabajar con los modelos de Ensemble, se deben preparar los datos para que puedan ser utilizados por los modelos."
   ]
  },
  {
   "cell_type": "markdown",
   "metadata": {},
   "source": [
    "## Wine Dataset <a class=\"anchor\" name=\"wine_prep\"></a>\n",
    "Se separan en variables independientes y dependientes."
   ]
  },
  {
   "cell_type": "code",
   "execution_count": 4,
   "metadata": {},
   "outputs": [],
   "source": [
    "seed = random.seed(time.time())\n",
    "X_wine_train, X_wine_test, y_wine_train, y_wine_test = train_test_split(\n",
    "    df_wine_clf.drop(columns=['class']), df_wine_clf['class'], test_size=0.3, random_state=seed\n",
    ")"
   ]
  },
  {
   "cell_type": "markdown",
   "metadata": {},
   "source": [
    "## Computer Hardware Dataset <a class=\"anchor\" name=\"hardware_prep\"></a>\n",
    "De acuerdo con la información del dataset, se deben eliminar aquellas columnas que no aporten información al modelo. En este caso, se eliminarán las columnas:\n",
    "* **Vendor Name**: Nombre del vendedor, un total de 30\n",
    "* **Model Name**: Nombre del modelo con muchos simbolos únicos.\n",
    "* **ERP**: Rendimiento relativo estimado\n",
    "\n",
    "Se mantienen las columnas que si aportan información al modelo:\n",
    "* **MYCT**: Tiempo de ciclo medio en nanosegundos (variable independiente)\n",
    "* **MMIN**: Tamaño mínimo de memoria en kilobytes (variable independiente)\n",
    "* **MMAX**: Tamaño máximo de memoria en kilobytes (variable independiente)\n",
    "* **CACH**: Tamaño del caché en kilobytes (variable independiente)\n",
    "* **CHMIN**: Número mínimo de canales (variable independiente)\n",
    "* **CHMAX**: Número máximo de canales (variable independiente)\n",
    "* **PRP**: Rendimento relativo publicado (`variable dependiente`)"
   ]
  },
  {
   "cell_type": "code",
   "execution_count": 5,
   "metadata": {},
   "outputs": [
    {
     "data": {
      "text/html": [
       "<div>\n",
       "<style scoped>\n",
       "    .dataframe tbody tr th:only-of-type {\n",
       "        vertical-align: middle;\n",
       "    }\n",
       "\n",
       "    .dataframe tbody tr th {\n",
       "        vertical-align: top;\n",
       "    }\n",
       "\n",
       "    .dataframe thead th {\n",
       "        text-align: right;\n",
       "    }\n",
       "</style>\n",
       "<table border=\"1\" class=\"dataframe\">\n",
       "  <thead>\n",
       "    <tr style=\"text-align: right;\">\n",
       "      <th></th>\n",
       "      <th>myct</th>\n",
       "      <th>mmin</th>\n",
       "      <th>mmax</th>\n",
       "      <th>cach</th>\n",
       "      <th>chmin</th>\n",
       "      <th>chmax</th>\n",
       "      <th>prp</th>\n",
       "    </tr>\n",
       "  </thead>\n",
       "  <tbody>\n",
       "    <tr>\n",
       "      <th>0</th>\n",
       "      <td>125</td>\n",
       "      <td>256</td>\n",
       "      <td>6000</td>\n",
       "      <td>256</td>\n",
       "      <td>16</td>\n",
       "      <td>128</td>\n",
       "      <td>198</td>\n",
       "    </tr>\n",
       "    <tr>\n",
       "      <th>1</th>\n",
       "      <td>29</td>\n",
       "      <td>8000</td>\n",
       "      <td>32000</td>\n",
       "      <td>32</td>\n",
       "      <td>8</td>\n",
       "      <td>32</td>\n",
       "      <td>269</td>\n",
       "    </tr>\n",
       "    <tr>\n",
       "      <th>2</th>\n",
       "      <td>29</td>\n",
       "      <td>8000</td>\n",
       "      <td>32000</td>\n",
       "      <td>32</td>\n",
       "      <td>8</td>\n",
       "      <td>32</td>\n",
       "      <td>220</td>\n",
       "    </tr>\n",
       "    <tr>\n",
       "      <th>3</th>\n",
       "      <td>29</td>\n",
       "      <td>8000</td>\n",
       "      <td>32000</td>\n",
       "      <td>32</td>\n",
       "      <td>8</td>\n",
       "      <td>32</td>\n",
       "      <td>172</td>\n",
       "    </tr>\n",
       "    <tr>\n",
       "      <th>4</th>\n",
       "      <td>29</td>\n",
       "      <td>8000</td>\n",
       "      <td>16000</td>\n",
       "      <td>32</td>\n",
       "      <td>8</td>\n",
       "      <td>16</td>\n",
       "      <td>132</td>\n",
       "    </tr>\n",
       "  </tbody>\n",
       "</table>\n",
       "</div>"
      ],
      "text/plain": [
       "   myct  mmin   mmax  cach  chmin  chmax  prp\n",
       "0   125   256   6000   256     16    128  198\n",
       "1    29  8000  32000    32      8     32  269\n",
       "2    29  8000  32000    32      8     32  220\n",
       "3    29  8000  32000    32      8     32  172\n",
       "4    29  8000  16000    32      8     16  132"
      ]
     },
     "execution_count": 5,
     "metadata": {},
     "output_type": "execute_result"
    }
   ],
   "source": [
    "df_hardware.drop(columns=['vendor_name','model_name', 'erp'], inplace=True)\n",
    "df_hardware.head()"
   ]
  },
  {
   "cell_type": "markdown",
   "metadata": {},
   "source": [
    "Se separan en variables independientes y dependientes."
   ]
  },
  {
   "cell_type": "code",
   "execution_count": 6,
   "metadata": {},
   "outputs": [],
   "source": [
    "seed = random.seed(time.time())\n",
    "X_hardware_train, X_hardware_test, y_hardware_train, y_hardware_test = train_test_split(\n",
    "    df_hardware.drop(columns=['prp']), df_hardware['prp'], test_size=0.3, random_state=seed\n",
    ")"
   ]
  },
  {
   "cell_type": "markdown",
   "metadata": {},
   "source": [
    "# Modelo base <a class=\"anchor\" name=\"modelo_base\"></a>\n",
    "Se planteará un modelo base para cada tipo de problema (regresión y clasificación), posteriormente se utilizará en los modelos de Ensemble. Los modelos base serán:\n",
    "* Regresión: DecisionTreeRegressor\n",
    "* Clasificación: SVC"
   ]
  },
  {
   "cell_type": "code",
   "execution_count": 7,
   "metadata": {},
   "outputs": [],
   "source": [
    "# Decision Tree Regressor\n",
    "seed = random.seed(time.time())\n",
    "base_reg = DecisionTreeRegressor(max_depth=5, random_state=seed, ccp_alpha=0.01)"
   ]
  },
  {
   "cell_type": "code",
   "execution_count": 8,
   "metadata": {},
   "outputs": [],
   "source": [
    "# SVC\n",
    "seed = random.seed(time.time())\n",
    "base_clf = SVC(C=.1, kernel='sigmoid', gamma=.01, class_weight='balanced', max_iter=100, random_state=seed, probability=True)"
   ]
  },
  {
   "cell_type": "markdown",
   "metadata": {},
   "source": [
    "# Modelos de Ensemble <a class=\"anchor\" name=\"ensemble\"></a>\n",
    "Existen distintas estrategias de Ensemble, en este caso se utilizarán las siguientes:\n",
    "* Bagging\n",
    "* Boosting"
   ]
  },
  {
   "cell_type": "markdown",
   "metadata": {},
   "source": [
    "## Bagging <a class=\"anchor\" name=\"bagging\"></a>\n",
    "Los métodos de Bagging son un método de Ensemble que consiste en tomar múltiples instancias con reemplazo del conjunto de datos de entrenamiento y entrenar un modelo para cada muestra. A la hora de la predicción, para calcular la salida final del Ensemble se combinan las predicciones de todos\n",
    "los modelos base.\n",
    "\n",
    "Esta combinación de predicciones se realiza mediante un promedio para la regresión, o mediante votación para la clasificación, normalmente, por mayoría.\n",
    "\n",
    "Cuando los resultados se combinan de este modo, la varianza general del modelo disminuye y presenta un mejor rendimiento como resultado"
   ]
  },
  {
   "cell_type": "markdown",
   "metadata": {},
   "source": [
    "### Bagging para regresión <a class=\"anchor\" name=\"bagging_reg\"></a>\n",
    "Implementando el modelo BaggingRegressor de Scikit-Learn."
   ]
  },
  {
   "cell_type": "code",
   "execution_count": 9,
   "metadata": {},
   "outputs": [],
   "source": [
    "seed = random.seed(time.time())\n",
    "bagg_reg = BaggingRegressor(estimator=base_reg, n_estimators=100, random_state=seed, max_samples=0.3)"
   ]
  },
  {
   "cell_type": "markdown",
   "metadata": {},
   "source": [
    "### Bagging para clasificación <a class=\"anchor\" name=\"bagging_clas\"></a>\n",
    "Implementando el modelo BaggingClassifier de Scikit-Learn."
   ]
  },
  {
   "cell_type": "code",
   "execution_count": 10,
   "metadata": {},
   "outputs": [],
   "source": [
    "seed = random.seed(time.time())\n",
    "bagg_clf = BaggingClassifier(estimator=base_clf, n_estimators=100, random_state=seed, max_samples=0.3)"
   ]
  },
  {
   "cell_type": "markdown",
   "metadata": {},
   "source": [
    "## Boosting <a class=\"anchor\" name=\"boosting\"></a>\n",
    "Los modelos de Boosting trabajan en todas las etapas con el conjunto completo de entrenamiento, y se manipulan los pesos de las instancias para generar modelos distintos\n",
    "\n",
    "La idea se basa en que en cada iteración se incremente el peso de las instancias mal predichas por el modelo, provocando que en el entrenamiento del siguiente predictor estos objetos tendrán una mayor importancia y tendrán más probabilidades de ser correctamente predichas."
   ]
  },
  {
   "cell_type": "markdown",
   "metadata": {},
   "source": [
    "### Boosting para regresión <a class=\"anchor\" name=\"boosting_reg\"></a>\n",
    "Implementando el modelo AdaBoostRegressor de Scikit-Learn."
   ]
  },
  {
   "cell_type": "code",
   "execution_count": 11,
   "metadata": {},
   "outputs": [],
   "source": [
    "seed = random.seed(time.time())\n",
    "boost_reg = AdaBoostRegressor(estimator=base_reg, n_estimators=100, random_state=seed, learning_rate=0.3)"
   ]
  },
  {
   "cell_type": "markdown",
   "metadata": {},
   "source": [
    "### Boosting para clasificación <a class=\"anchor\" name=\"boosting_clas\"></a>\n",
    "Implementando el modelo AdaBoostClassifier de Scikit-Learn."
   ]
  },
  {
   "cell_type": "code",
   "execution_count": 12,
   "metadata": {},
   "outputs": [],
   "source": [
    "seed = random.seed(time.time())\n",
    "boost_clf = AdaBoostClassifier(estimator=base_clf, n_estimators=100, random_state=seed, learning_rate=0.3)"
   ]
  },
  {
   "cell_type": "markdown",
   "metadata": {},
   "source": [
    "# Evaluación de modelos <a class=\"anchor\" name=\"evaluacion\"></a>\n",
    "Se evaluarán los modelos utilizando KFold Cross Validation. Dependiendo del tipo de problema se emplearán unas métricas u otras."
   ]
  },
  {
   "cell_type": "code",
   "execution_count": 13,
   "metadata": {},
   "outputs": [],
   "source": [
    "seed = random.seed(time.time())\n",
    "kfold = KFold(n_splits=5, shuffle=True, random_state=seed)"
   ]
  },
  {
   "cell_type": "markdown",
   "metadata": {},
   "source": [
    "## Evaluación de modelos de regresión <a class=\"anchor\" name=\"evaluacion_reg\"></a>\n",
    "Se utilizarán las siguientes métricas:\n",
    "* Mean Absolute Error\n",
    "* Root Mean Squared Error\n",
    "* R2 Score"
   ]
  },
  {
   "cell_type": "code",
   "execution_count": 14,
   "metadata": {},
   "outputs": [
    {
     "data": {
      "text/html": [
       "<div>\n",
       "<style scoped>\n",
       "    .dataframe tbody tr th:only-of-type {\n",
       "        vertical-align: middle;\n",
       "    }\n",
       "\n",
       "    .dataframe tbody tr th {\n",
       "        vertical-align: top;\n",
       "    }\n",
       "\n",
       "    .dataframe thead th {\n",
       "        text-align: right;\n",
       "    }\n",
       "</style>\n",
       "<table border=\"1\" class=\"dataframe\">\n",
       "  <thead>\n",
       "    <tr style=\"text-align: right;\">\n",
       "      <th></th>\n",
       "      <th>Base Model (mean)</th>\n",
       "      <th>Base Model (std)</th>\n",
       "      <th>Bagging Model (mean)</th>\n",
       "      <th>Bagging Model (std)</th>\n",
       "      <th>Boosting Model (mean)</th>\n",
       "      <th>Boosting Model (std)</th>\n",
       "    </tr>\n",
       "    <tr>\n",
       "      <th>Métricas Regresión</th>\n",
       "      <th></th>\n",
       "      <th></th>\n",
       "      <th></th>\n",
       "      <th></th>\n",
       "      <th></th>\n",
       "      <th></th>\n",
       "    </tr>\n",
       "  </thead>\n",
       "  <tbody>\n",
       "    <tr>\n",
       "      <th>MAE</th>\n",
       "      <td>42.094621</td>\n",
       "      <td>11.612642</td>\n",
       "      <td>35.562654</td>\n",
       "      <td>16.150240</td>\n",
       "      <td>39.459108</td>\n",
       "      <td>10.827707</td>\n",
       "    </tr>\n",
       "    <tr>\n",
       "      <th>RMSE</th>\n",
       "      <td>80.109072</td>\n",
       "      <td>48.681408</td>\n",
       "      <td>78.025997</td>\n",
       "      <td>43.295106</td>\n",
       "      <td>86.449240</td>\n",
       "      <td>38.253277</td>\n",
       "    </tr>\n",
       "    <tr>\n",
       "      <th>R2</th>\n",
       "      <td>0.292207</td>\n",
       "      <td>1.998564</td>\n",
       "      <td>0.798584</td>\n",
       "      <td>0.109712</td>\n",
       "      <td>0.647888</td>\n",
       "      <td>0.151019</td>\n",
       "    </tr>\n",
       "    <tr>\n",
       "      <th>Average</th>\n",
       "      <td>40.831966</td>\n",
       "      <td>20.764205</td>\n",
       "      <td>37.596689</td>\n",
       "      <td>19.851686</td>\n",
       "      <td>41.753486</td>\n",
       "      <td>16.410668</td>\n",
       "    </tr>\n",
       "  </tbody>\n",
       "</table>\n",
       "</div>"
      ],
      "text/plain": [
       "                    Base Model (mean)  Base Model (std)  Bagging Model (mean)  \\\n",
       "Métricas Regresión                                                              \n",
       "MAE                         42.094621         11.612642             35.562654   \n",
       "RMSE                        80.109072         48.681408             78.025997   \n",
       "R2                           0.292207          1.998564              0.798584   \n",
       "Average                     40.831966         20.764205             37.596689   \n",
       "\n",
       "                    Bagging Model (std)  Boosting Model (mean)  \\\n",
       "Métricas Regresión                                               \n",
       "MAE                           16.150240              39.459108   \n",
       "RMSE                          43.295106              86.449240   \n",
       "R2                             0.109712               0.647888   \n",
       "Average                       19.851686              41.753486   \n",
       "\n",
       "                    Boosting Model (std)  \n",
       "Métricas Regresión                        \n",
       "MAE                            10.827707  \n",
       "RMSE                           38.253277  \n",
       "R2                              0.151019  \n",
       "Average                        16.410668  "
      ]
     },
     "execution_count": 14,
     "metadata": {},
     "output_type": "execute_result"
    }
   ],
   "source": [
    "metrics_reg = ['neg_mean_absolute_error', 'neg_root_mean_squared_error', 'r2']\n",
    "cv_base = [cross_val_score(base_reg, X_hardware_train, y_hardware_train, cv=kfold, scoring=metric) for metric in metrics_reg]\n",
    "cv_bagg = [cross_val_score(bagg_reg, X_hardware_train, y_hardware_train, cv=kfold, scoring=metric) for metric in metrics_reg]\n",
    "cv_boost = [cross_val_score(boost_reg, X_hardware_train, y_hardware_train, cv=kfold, scoring=metric) for metric in metrics_reg]\n",
    "rendimiento_reg = pd.DataFrame(data={\n",
    "    'Base Model (mean)': [cv.mean() for cv in cv_base],\n",
    "    'Base Model (std)': [cv.std() for cv in cv_base],\n",
    "    'Bagging Model (mean)': [cv.mean() for cv in cv_bagg],\n",
    "    'Bagging Model (std)': [cv.std() for cv in cv_bagg],\n",
    "    'Boosting Model (mean)': [cv.mean() for cv in cv_boost],\n",
    "    'Boosting Model (std)': [cv.std() for cv in cv_boost]\n",
    "}, index=['MAE', 'RMSE', 'R2'])\n",
    "rendimiento_reg.index.name = 'Métricas Regresión'\n",
    "rendimiento_reg.loc[\"Average\"] = rendimiento_reg.mean()\n",
    "rendimiento_reg = rendimiento_reg.abs()\n",
    "rendimiento_reg"
   ]
  },
  {
   "cell_type": "markdown",
   "metadata": {},
   "source": [
    "## Evaluación de modelos de clasificación <a class=\"anchor\" name=\"evaluacion_clas\"></a>\n",
    "Se utilizarán las siguientes métricas:\n",
    "* Accuracy\n",
    "* Balanced Accuracy\n",
    "* F1-Score\n",
    "* AUC"
   ]
  },
  {
   "cell_type": "code",
   "execution_count": 15,
   "metadata": {},
   "outputs": [
    {
     "data": {
      "text/html": [
       "<div>\n",
       "<style scoped>\n",
       "    .dataframe tbody tr th:only-of-type {\n",
       "        vertical-align: middle;\n",
       "    }\n",
       "\n",
       "    .dataframe tbody tr th {\n",
       "        vertical-align: top;\n",
       "    }\n",
       "\n",
       "    .dataframe thead th {\n",
       "        text-align: right;\n",
       "    }\n",
       "</style>\n",
       "<table border=\"1\" class=\"dataframe\">\n",
       "  <thead>\n",
       "    <tr style=\"text-align: right;\">\n",
       "      <th></th>\n",
       "      <th>Base Model (mean)</th>\n",
       "      <th>Base Model (std)</th>\n",
       "      <th>Bagging Model (mean)</th>\n",
       "      <th>Bagging Model (std)</th>\n",
       "      <th>Boosting Model (mean)</th>\n",
       "      <th>Boosting Model (std)</th>\n",
       "    </tr>\n",
       "    <tr>\n",
       "      <th>Métricas Clasificación</th>\n",
       "      <th></th>\n",
       "      <th></th>\n",
       "      <th></th>\n",
       "      <th></th>\n",
       "      <th></th>\n",
       "      <th></th>\n",
       "    </tr>\n",
       "  </thead>\n",
       "  <tbody>\n",
       "    <tr>\n",
       "      <th>Accuracy</th>\n",
       "      <td>0.330333</td>\n",
       "      <td>0.116163</td>\n",
       "      <td>0.347000</td>\n",
       "      <td>0.075073</td>\n",
       "      <td>0.329667</td>\n",
       "      <td>0.100401</td>\n",
       "    </tr>\n",
       "    <tr>\n",
       "      <th>Balanced Accuracy</th>\n",
       "      <td>0.333333</td>\n",
       "      <td>0.000000</td>\n",
       "      <td>0.333333</td>\n",
       "      <td>0.000000</td>\n",
       "      <td>0.333333</td>\n",
       "      <td>0.000000</td>\n",
       "    </tr>\n",
       "    <tr>\n",
       "      <th>F1-Score</th>\n",
       "      <td>0.134578</td>\n",
       "      <td>0.055157</td>\n",
       "      <td>0.227659</td>\n",
       "      <td>0.070969</td>\n",
       "      <td>0.201506</td>\n",
       "      <td>0.033347</td>\n",
       "    </tr>\n",
       "    <tr>\n",
       "      <th>ROC AUC</th>\n",
       "      <td>0.500000</td>\n",
       "      <td>0.000000</td>\n",
       "      <td>0.500000</td>\n",
       "      <td>0.000000</td>\n",
       "      <td>0.500000</td>\n",
       "      <td>0.000000</td>\n",
       "    </tr>\n",
       "    <tr>\n",
       "      <th>Average</th>\n",
       "      <td>0.324561</td>\n",
       "      <td>0.042830</td>\n",
       "      <td>0.351998</td>\n",
       "      <td>0.036510</td>\n",
       "      <td>0.341127</td>\n",
       "      <td>0.033437</td>\n",
       "    </tr>\n",
       "  </tbody>\n",
       "</table>\n",
       "</div>"
      ],
      "text/plain": [
       "                        Base Model (mean)  Base Model (std)  \\\n",
       "Métricas Clasificación                                        \n",
       "Accuracy                         0.330333          0.116163   \n",
       "Balanced Accuracy                0.333333          0.000000   \n",
       "F1-Score                         0.134578          0.055157   \n",
       "ROC AUC                          0.500000          0.000000   \n",
       "Average                          0.324561          0.042830   \n",
       "\n",
       "                        Bagging Model (mean)  Bagging Model (std)  \\\n",
       "Métricas Clasificación                                              \n",
       "Accuracy                            0.347000             0.075073   \n",
       "Balanced Accuracy                   0.333333             0.000000   \n",
       "F1-Score                            0.227659             0.070969   \n",
       "ROC AUC                             0.500000             0.000000   \n",
       "Average                             0.351998             0.036510   \n",
       "\n",
       "                        Boosting Model (mean)  Boosting Model (std)  \n",
       "Métricas Clasificación                                               \n",
       "Accuracy                             0.329667              0.100401  \n",
       "Balanced Accuracy                    0.333333              0.000000  \n",
       "F1-Score                             0.201506              0.033347  \n",
       "ROC AUC                              0.500000              0.000000  \n",
       "Average                              0.341127              0.033437  "
      ]
     },
     "execution_count": 15,
     "metadata": {},
     "output_type": "execute_result"
    }
   ],
   "source": [
    "metrics_clf = ['accuracy', 'balanced_accuracy', 'f1_weighted', 'roc_auc_ovr']\n",
    "cv_base = [cross_val_score(base_clf, X_wine_train, y_wine_train, cv=kfold, scoring=metric) for metric in metrics_clf]\n",
    "cv_bagg = [cross_val_score(bagg_clf, X_wine_train, y_wine_train, cv=kfold, scoring=metric) for metric in metrics_clf]\n",
    "cv_boost = [cross_val_score(boost_clf, X_wine_train, y_wine_train, cv=kfold, scoring=metric) for metric in metrics_clf]\n",
    "rendimiento_clf = pd.DataFrame(data={\n",
    "    'Base Model (mean)': [cv.mean() for cv in cv_base],\n",
    "    'Base Model (std)': [cv.std() for cv in cv_base],\n",
    "    'Bagging Model (mean)': [cv.mean() for cv in cv_bagg],\n",
    "    'Bagging Model (std)': [cv.std() for cv in cv_bagg],\n",
    "    'Boosting Model (mean)': [cv.mean() for cv in cv_boost],\n",
    "    'Boosting Model (std)': [cv.std() for cv in cv_boost]\n",
    "}, index=['Accuracy', 'Balanced Accuracy', 'F1-Score', 'ROC AUC'])\n",
    "rendimiento_clf.index.name = 'Métricas Clasificación'\n",
    "rendimiento_clf.loc[\"Average\"] = rendimiento_clf.mean()\n",
    "rendimiento_clf"
   ]
  },
  {
   "cell_type": "markdown",
   "metadata": {},
   "source": [
    "# Conclusiones <a class=\"anchor\" name=\"conclusiones\"></a>\n",
    "Tras observar las evaluaciones podemos concluir que la estrategia de Bagging es la que mejor rendimiento presenta en ambos tipos de problemas.\n",
    "\n",
    "El Árbol de Decisión para el problema de regresión muestra un error bastante elevado, tras realizar el Ensemble con Bagging, el error disminuye ligéramente. Sería recomendable optimizar los hiperparámetros del modelo base para mejorar el rendimiento y volver a evaluar el rendimiento del modelo y del Ensemble.\n",
    "\n",
    "El SVM para el problema de clasificación muestra un rendimiento bastante bajo, ya que el conjunto de datos es muy pequeño y no es posible realizar un buen entrenamiento. Tras realizar el Ensemble de cualquier estrategia, el rendimiento aumenta ligeramente, pero sigue siendo bajo. Sería recomendable utilizar otro tipo de modelo para este problema, o optimizar los hiperparámetros del modelo base para mejorar el rendimiento y volver a evaluar el rendimiento del modelo y del Ensemble."
   ]
  }
 ],
 "metadata": {
  "kernelspec": {
   "display_name": "Python 3 (ipykernel)",
   "language": "python",
   "name": "python3"
  },
  "language_info": {
   "codemirror_mode": {
    "name": "ipython",
    "version": 3
   },
   "file_extension": ".py",
   "mimetype": "text/x-python",
   "name": "python",
   "nbconvert_exporter": "python",
   "pygments_lexer": "ipython3",
   "version": "3.8.5"
  },
  "vscode": {
   "interpreter": {
    "hash": "6517ef4d065b964775f7ded66e8332ac26eb91a9f9628f14f6a82a0ec9e672ea"
   }
  }
 },
 "nbformat": 4,
 "nbformat_minor": 2
}
