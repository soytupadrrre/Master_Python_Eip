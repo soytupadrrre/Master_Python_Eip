{
  "cells": [
    {
      "attachments": {},
      "cell_type": "markdown",
      "metadata": {
        "id": "4zGe7MSdebck"
      },
      "source": [
        "# Deep Learning II\n",
        "Actividad Lección 14 || Programación Python para Machine Learning\n",
        "\n",
        "Objetivos:\n",
        "* Conocer los principios en los que se basan y la utilidad de las Redes Convolucionales.\n",
        "* Dominar las técnicas para la implementación en Python de Redes Convolucionales.\n",
        "\n",
        "Datos del alumno:\n",
        "* Víctor Luque Martín\n",
        "* Máster Avanzado en Programación en Python para Hacking, BigData y Machine Learning\n",
        "\n",
        "Fecha: 29/01/2023"
      ]
    },
    {
      "attachments": {},
      "cell_type": "markdown",
      "metadata": {
        "id": "CrQQBtcBebcn"
      },
      "source": [
        "# Tabla de Contenidos\n",
        "1. [Importes](#importes)\n",
        "2. [Carga de datos](#carga-de-datos)\n",
        "3. [Preprocesado de datos](#preprocesado-de-datos)\n",
        "4. [Red Neuronal Convolucional](#cnn)\n",
        "5. [Matriz de Confusión](#cm)\n",
        "6. [Conclusión](#conclusion)"
      ]
    },
    {
      "cell_type": "markdown",
      "metadata": {
        "id": "McsQwqfhebco"
      },
      "source": [
        "# Importes <a class=\"anchor\" id=\"importes\"></a>"
      ]
    },
    {
      "cell_type": "code",
      "execution_count": 1,
      "metadata": {
        "id": "r7GuP6Wdebcp"
      },
      "outputs": [],
      "source": [
        "import pandas as pd\n",
        "import numpy as np\n",
        "import matplotlib.pyplot as plt\n",
        "import seaborn as sns\n",
        "import random, time\n",
        "import tensorflow as tf\n",
        "import tensorflow_datasets as tfds\n",
        "import keras\n",
        "from sklearn.metrics import ConfusionMatrixDisplay\n",
        "from sklearn.metrics import confusion_matrix\n",
        "from keras import layers\n",
        "from keras.optimizers import Adam\n",
        "from keras.losses import CategoricalCrossentropy"
      ]
    },
    {
      "attachments": {},
      "cell_type": "markdown",
      "metadata": {
        "id": "6d6gPdlpebcq"
      },
      "source": [
        "# Carga de datos <a class=\"anchor\" id=\"carga-de-datos\"></a>\n",
        "Se cargarán los datos del dataset Rock Paper Scissors incluidos en la librería de Tensorflow-Datasets. Previamente se debe instalar la librería con el comando `pip install tensorflow-datasets`."
      ]
    },
    {
      "cell_type": "code",
      "execution_count": 2,
      "metadata": {
        "id": "0_x3aoXcebcq"
      },
      "outputs": [],
      "source": [
        "(x_train, y_train), (x_test, y_test) = tfds.as_numpy(tfds.load('rock_paper_scissors', split=['train', 'test'], batch_size=-1, as_supervised=True))"
      ]
    },
    {
      "attachments": {},
      "cell_type": "markdown",
      "metadata": {
        "id": "tmHbr-y4ebcq"
      },
      "source": [
        "# Preprocesado de datos <a class=\"anchor\" id=\"preprocesado-de-datos\"></a>\n",
        "Los datos vienen dispuestos en un formato de imágenes de 300x300 pixeles en formato RGB. Se procede a normalizar los datos y a dividirlos en un conjunto de entrenamiento y otro de test. Para ello realizamos las siguientes operaciones:\n",
        "1. Obtención del número de clases.\n",
        "2. Obtención del tamaño de las imágenes.\n",
        "3. Normalización de los datos (conversión a float32 y división entre 255).\n",
        "4. Catetgorización de las etiquetas."
      ]
    },
    {
      "cell_type": "code",
      "execution_count": 3,
      "metadata": {
        "colab": {
          "base_uri": "https://localhost:8080/"
        },
        "id": "DK6mSDvIebcr",
        "outputId": "f7095494-de27-4eb2-dd2b-6495715a25e6"
      },
      "outputs": [
        {
          "data": {
            "text/plain": [
              "3"
            ]
          },
          "execution_count": 3,
          "metadata": {},
          "output_type": "execute_result"
        }
      ],
      "source": [
        "# Obtención del número de clases (Valores únicos en y_train)\n",
        "num_classes = len(np.unique(y_train))\n",
        "num_classes"
      ]
    },
    {
      "cell_type": "code",
      "execution_count": 4,
      "metadata": {
        "colab": {
          "base_uri": "https://localhost:8080/"
        },
        "id": "CdcQjfMyebcs",
        "outputId": "2364cb8f-9c9a-4ea1-d476-6b62d5ed2a34"
      },
      "outputs": [
        {
          "data": {
            "text/plain": [
              "(300, 300, 3)"
            ]
          },
          "execution_count": 4,
          "metadata": {},
          "output_type": "execute_result"
        }
      ],
      "source": [
        "# Tamaño de las imágenes\n",
        "input_size = (x_train.shape[1], x_train.shape[2], x_train.shape[3])\n",
        "input_size"
      ]
    },
    {
      "cell_type": "code",
      "execution_count": 5,
      "metadata": {
        "id": "OFu76lF1ebcs"
      },
      "outputs": [],
      "source": [
        "# Normalización\n",
        "x_train = x_train.astype('float32')\n",
        "x_test = x_test.astype('float32')\n",
        "x_train = x_train / 255.0\n",
        "x_test = x_test / 255.0"
      ]
    },
    {
      "cell_type": "code",
      "execution_count": 6,
      "metadata": {
        "id": "lPwH_8mqebct"
      },
      "outputs": [],
      "source": [
        "# Categorización\n",
        "y_train = tf.keras.utils.to_categorical(y_train, num_classes)\n",
        "y_test = tf.keras.utils.to_categorical(y_test, num_classes)"
      ]
    },
    {
      "attachments": {},
      "cell_type": "markdown",
      "metadata": {
        "id": "jFaa7bJCebct"
      },
      "source": [
        "# Red Neuronal Convolucional <a class=\"anchor\" id=\"cnn\"></a>\n",
        "Una red neuronal convolucional (Convolutional Neural Network, CNN) es un tipo de red neuronal artificial utilizada en tareas de `Deep Learning`, especialmente en el análisis de imágenes y reconocimiento de patrones. Las características clave de una CNN son la utilización de capas de convolución para extraer características relevantes de los datos de entrada y la utilización de pooling para reducir la dimensionalidad de los datos.\n",
        "\n",
        "A continuación se muestra el modelo de la CNN que se va a implementar:"
      ]
    },
    {
      "cell_type": "code",
      "execution_count": 7,
      "metadata": {
        "colab": {
          "base_uri": "https://localhost:8080/"
        },
        "id": "bQCP1H2Cebct",
        "outputId": "7d12f5c2-6d05-4455-c910-05f82eff9ddf"
      },
      "outputs": [
        {
          "name": "stdout",
          "output_type": "stream",
          "text": [
            "Model: \"sequential\"\n",
            "_________________________________________________________________\n",
            " Layer (type)                Output Shape              Param #   \n",
            "=================================================================\n",
            " conv2d (Conv2D)             (None, 298, 298, 64)      1792      \n",
            "                                                                 \n",
            " max_pooling2d (MaxPooling2D  (None, 149, 149, 64)     0         \n",
            " )                                                               \n",
            "                                                                 \n",
            " conv2d_1 (Conv2D)           (None, 147, 147, 128)     73856     \n",
            "                                                                 \n",
            " max_pooling2d_1 (MaxPooling  (None, 73, 73, 128)      0         \n",
            " 2D)                                                             \n",
            "                                                                 \n",
            " conv2d_2 (Conv2D)           (None, 71, 71, 512)       590336    \n",
            "                                                                 \n",
            " max_pooling2d_2 (MaxPooling  (None, 35, 35, 512)      0         \n",
            " 2D)                                                             \n",
            "                                                                 \n",
            " flatten (Flatten)           (None, 627200)            0         \n",
            "                                                                 \n",
            " dense (Dense)               (None, 128)               80281728  \n",
            "                                                                 \n",
            " dropout (Dropout)           (None, 128)               0         \n",
            "                                                                 \n",
            " dense_1 (Dense)             (None, 3)                 387       \n",
            "                                                                 \n",
            "=================================================================\n",
            "Total params: 80,948,099\n",
            "Trainable params: 80,948,099\n",
            "Non-trainable params: 0\n",
            "_________________________________________________________________\n"
          ]
        }
      ],
      "source": [
        "seed = random.seed(time.time())\n",
        "\n",
        "model = keras.Sequential([\n",
        "    keras.Input(shape=input_size),\n",
        "    layers.Conv2D(64, kernel_size=(3, 3), activation='relu'),\n",
        "    layers.MaxPooling2D(pool_size=(2, 2)),\n",
        "    layers.Conv2D(128, kernel_size=(3, 3), activation='relu'),\n",
        "    layers.MaxPooling2D(pool_size=(2, 2)),\n",
        "    layers.Conv2D(512, kernel_size=(3, 3), activation='relu'),\n",
        "    layers.MaxPooling2D(pool_size=(2, 2)),\n",
        "    layers.Flatten(),\n",
        "    layers.Dense(128, activation='relu'),\n",
        "    layers.Dropout(.5),\n",
        "    layers.Dense(num_classes, activation='softmax')\n",
        "])\n",
        "\n",
        "optimizer = Adam(learning_rate=0.0001)\n",
        "loss = CategoricalCrossentropy()\n",
        "\n",
        "model.compile(loss=loss, optimizer=optimizer, metrics=['accuracy'])\n",
        "\n",
        "model.summary()"
      ]
    },
    {
      "cell_type": "markdown",
      "metadata": {
        "id": "0g7nhtIwebcu"
      },
      "source": [
        "Una vez definida la red, se debe realizar un entrenamiento de la misma, donde se irá perfeccionando el modelo mediante un número de épocas."
      ]
    },
    {
      "cell_type": "code",
      "execution_count": 8,
      "metadata": {
        "colab": {
          "base_uri": "https://localhost:8080/",
          "height": 726
        },
        "id": "y07YEUPXebcu",
        "outputId": "04d569c9-b2db-44a8-f014-4dfe2e5fb983"
      },
      "outputs": [
        {
          "name": "stdout",
          "output_type": "stream",
          "text": [
            "Epoch 1/10\n",
            "63/63 [==============================] - 23s 296ms/step - loss: 0.9921 - accuracy: 0.6042 - val_loss: 0.3048 - val_accuracy: 0.9643\n",
            "Epoch 2/10\n",
            "63/63 [==============================] - 17s 276ms/step - loss: 0.2286 - accuracy: 0.9400 - val_loss: 0.0522 - val_accuracy: 0.9940\n",
            "Epoch 3/10\n",
            "63/63 [==============================] - 17s 278ms/step - loss: 0.1003 - accuracy: 0.9697 - val_loss: 0.0155 - val_accuracy: 1.0000\n",
            "Epoch 4/10\n",
            "63/63 [==============================] - 18s 281ms/step - loss: 0.0603 - accuracy: 0.9851 - val_loss: 0.0055 - val_accuracy: 1.0000\n",
            "Epoch 5/10\n",
            "63/63 [==============================] - 18s 284ms/step - loss: 0.0373 - accuracy: 0.9901 - val_loss: 9.2928e-04 - val_accuracy: 1.0000\n",
            "Epoch 6/10\n",
            "63/63 [==============================] - 18s 282ms/step - loss: 0.0256 - accuracy: 0.9940 - val_loss: 0.0011 - val_accuracy: 1.0000\n",
            "Epoch 7/10\n",
            "63/63 [==============================] - 18s 281ms/step - loss: 0.0249 - accuracy: 0.9916 - val_loss: 0.0011 - val_accuracy: 1.0000\n",
            "Epoch 8/10\n",
            "63/63 [==============================] - 18s 283ms/step - loss: 0.0214 - accuracy: 0.9950 - val_loss: 1.8260e-04 - val_accuracy: 1.0000\n",
            "Epoch 9/10\n",
            "63/63 [==============================] - 18s 284ms/step - loss: 0.0167 - accuracy: 0.9940 - val_loss: 2.1282e-04 - val_accuracy: 1.0000\n",
            "Epoch 10/10\n",
            "63/63 [==============================] - 18s 286ms/step - loss: 0.0137 - accuracy: 0.9950 - val_loss: 3.2386e-05 - val_accuracy: 1.0000\n"
          ]
        },
        {
          "data": {
            "text/html": [
              "\n",
              "  <div id=\"df-e46761ec-42ea-478b-b392-f624d5c4c825\">\n",
              "    <div class=\"colab-df-container\">\n",
              "      <div>\n",
              "<style scoped>\n",
              "    .dataframe tbody tr th:only-of-type {\n",
              "        vertical-align: middle;\n",
              "    }\n",
              "\n",
              "    .dataframe tbody tr th {\n",
              "        vertical-align: top;\n",
              "    }\n",
              "\n",
              "    .dataframe thead th {\n",
              "        text-align: right;\n",
              "    }\n",
              "</style>\n",
              "<table border=\"1\" class=\"dataframe\">\n",
              "  <thead>\n",
              "    <tr style=\"text-align: right;\">\n",
              "      <th></th>\n",
              "      <th>loss</th>\n",
              "      <th>accuracy</th>\n",
              "      <th>val_loss</th>\n",
              "      <th>val_accuracy</th>\n",
              "      <th>epoch</th>\n",
              "    </tr>\n",
              "  </thead>\n",
              "  <tbody>\n",
              "    <tr>\n",
              "      <th>0</th>\n",
              "      <td>0.992056</td>\n",
              "      <td>0.604167</td>\n",
              "      <td>0.304833</td>\n",
              "      <td>0.964286</td>\n",
              "      <td>0</td>\n",
              "    </tr>\n",
              "    <tr>\n",
              "      <th>1</th>\n",
              "      <td>0.228550</td>\n",
              "      <td>0.939980</td>\n",
              "      <td>0.052183</td>\n",
              "      <td>0.994048</td>\n",
              "      <td>1</td>\n",
              "    </tr>\n",
              "    <tr>\n",
              "      <th>2</th>\n",
              "      <td>0.100300</td>\n",
              "      <td>0.969742</td>\n",
              "      <td>0.015489</td>\n",
              "      <td>1.000000</td>\n",
              "      <td>2</td>\n",
              "    </tr>\n",
              "    <tr>\n",
              "      <th>3</th>\n",
              "      <td>0.060260</td>\n",
              "      <td>0.985119</td>\n",
              "      <td>0.005548</td>\n",
              "      <td>1.000000</td>\n",
              "      <td>3</td>\n",
              "    </tr>\n",
              "    <tr>\n",
              "      <th>4</th>\n",
              "      <td>0.037308</td>\n",
              "      <td>0.990079</td>\n",
              "      <td>0.000929</td>\n",
              "      <td>1.000000</td>\n",
              "      <td>4</td>\n",
              "    </tr>\n",
              "    <tr>\n",
              "      <th>5</th>\n",
              "      <td>0.025639</td>\n",
              "      <td>0.994048</td>\n",
              "      <td>0.001080</td>\n",
              "      <td>1.000000</td>\n",
              "      <td>5</td>\n",
              "    </tr>\n",
              "    <tr>\n",
              "      <th>6</th>\n",
              "      <td>0.024911</td>\n",
              "      <td>0.991567</td>\n",
              "      <td>0.001055</td>\n",
              "      <td>1.000000</td>\n",
              "      <td>6</td>\n",
              "    </tr>\n",
              "    <tr>\n",
              "      <th>7</th>\n",
              "      <td>0.021357</td>\n",
              "      <td>0.995040</td>\n",
              "      <td>0.000183</td>\n",
              "      <td>1.000000</td>\n",
              "      <td>7</td>\n",
              "    </tr>\n",
              "    <tr>\n",
              "      <th>8</th>\n",
              "      <td>0.016714</td>\n",
              "      <td>0.994048</td>\n",
              "      <td>0.000213</td>\n",
              "      <td>1.000000</td>\n",
              "      <td>8</td>\n",
              "    </tr>\n",
              "    <tr>\n",
              "      <th>9</th>\n",
              "      <td>0.013656</td>\n",
              "      <td>0.995040</td>\n",
              "      <td>0.000032</td>\n",
              "      <td>1.000000</td>\n",
              "      <td>9</td>\n",
              "    </tr>\n",
              "  </tbody>\n",
              "</table>\n",
              "</div>\n",
              "      <button class=\"colab-df-convert\" onclick=\"convertToInteractive('df-e46761ec-42ea-478b-b392-f624d5c4c825')\"\n",
              "              title=\"Convert this dataframe to an interactive table.\"\n",
              "              style=\"display:none;\">\n",
              "        \n",
              "  <svg xmlns=\"http://www.w3.org/2000/svg\" height=\"24px\"viewBox=\"0 0 24 24\"\n",
              "       width=\"24px\">\n",
              "    <path d=\"M0 0h24v24H0V0z\" fill=\"none\"/>\n",
              "    <path d=\"M18.56 5.44l.94 2.06.94-2.06 2.06-.94-2.06-.94-.94-2.06-.94 2.06-2.06.94zm-11 1L8.5 8.5l.94-2.06 2.06-.94-2.06-.94L8.5 2.5l-.94 2.06-2.06.94zm10 10l.94 2.06.94-2.06 2.06-.94-2.06-.94-.94-2.06-.94 2.06-2.06.94z\"/><path d=\"M17.41 7.96l-1.37-1.37c-.4-.4-.92-.59-1.43-.59-.52 0-1.04.2-1.43.59L10.3 9.45l-7.72 7.72c-.78.78-.78 2.05 0 2.83L4 21.41c.39.39.9.59 1.41.59.51 0 1.02-.2 1.41-.59l7.78-7.78 2.81-2.81c.8-.78.8-2.07 0-2.86zM5.41 20L4 18.59l7.72-7.72 1.47 1.35L5.41 20z\"/>\n",
              "  </svg>\n",
              "      </button>\n",
              "      \n",
              "  <style>\n",
              "    .colab-df-container {\n",
              "      display:flex;\n",
              "      flex-wrap:wrap;\n",
              "      gap: 12px;\n",
              "    }\n",
              "\n",
              "    .colab-df-convert {\n",
              "      background-color: #E8F0FE;\n",
              "      border: none;\n",
              "      border-radius: 50%;\n",
              "      cursor: pointer;\n",
              "      display: none;\n",
              "      fill: #1967D2;\n",
              "      height: 32px;\n",
              "      padding: 0 0 0 0;\n",
              "      width: 32px;\n",
              "    }\n",
              "\n",
              "    .colab-df-convert:hover {\n",
              "      background-color: #E2EBFA;\n",
              "      box-shadow: 0px 1px 2px rgba(60, 64, 67, 0.3), 0px 1px 3px 1px rgba(60, 64, 67, 0.15);\n",
              "      fill: #174EA6;\n",
              "    }\n",
              "\n",
              "    [theme=dark] .colab-df-convert {\n",
              "      background-color: #3B4455;\n",
              "      fill: #D2E3FC;\n",
              "    }\n",
              "\n",
              "    [theme=dark] .colab-df-convert:hover {\n",
              "      background-color: #434B5C;\n",
              "      box-shadow: 0px 1px 3px 1px rgba(0, 0, 0, 0.15);\n",
              "      filter: drop-shadow(0px 1px 2px rgba(0, 0, 0, 0.3));\n",
              "      fill: #FFFFFF;\n",
              "    }\n",
              "  </style>\n",
              "\n",
              "      <script>\n",
              "        const buttonEl =\n",
              "          document.querySelector('#df-e46761ec-42ea-478b-b392-f624d5c4c825 button.colab-df-convert');\n",
              "        buttonEl.style.display =\n",
              "          google.colab.kernel.accessAllowed ? 'block' : 'none';\n",
              "\n",
              "        async function convertToInteractive(key) {\n",
              "          const element = document.querySelector('#df-e46761ec-42ea-478b-b392-f624d5c4c825');\n",
              "          const dataTable =\n",
              "            await google.colab.kernel.invokeFunction('convertToInteractive',\n",
              "                                                     [key], {});\n",
              "          if (!dataTable) return;\n",
              "\n",
              "          const docLinkHtml = 'Like what you see? Visit the ' +\n",
              "            '<a target=\"_blank\" href=https://colab.research.google.com/notebooks/data_table.ipynb>data table notebook</a>'\n",
              "            + ' to learn more about interactive tables.';\n",
              "          element.innerHTML = '';\n",
              "          dataTable['output_type'] = 'display_data';\n",
              "          await google.colab.output.renderOutput(dataTable, element);\n",
              "          const docLink = document.createElement('div');\n",
              "          docLink.innerHTML = docLinkHtml;\n",
              "          element.appendChild(docLink);\n",
              "        }\n",
              "      </script>\n",
              "    </div>\n",
              "  </div>\n",
              "  "
            ],
            "text/plain": [
              "       loss  accuracy  val_loss  val_accuracy  epoch\n",
              "0  0.992056  0.604167  0.304833      0.964286      0\n",
              "1  0.228550  0.939980  0.052183      0.994048      1\n",
              "2  0.100300  0.969742  0.015489      1.000000      2\n",
              "3  0.060260  0.985119  0.005548      1.000000      3\n",
              "4  0.037308  0.990079  0.000929      1.000000      4\n",
              "5  0.025639  0.994048  0.001080      1.000000      5\n",
              "6  0.024911  0.991567  0.001055      1.000000      6\n",
              "7  0.021357  0.995040  0.000183      1.000000      7\n",
              "8  0.016714  0.994048  0.000213      1.000000      8\n",
              "9  0.013656  0.995040  0.000032      1.000000      9"
            ]
          },
          "execution_count": 8,
          "metadata": {},
          "output_type": "execute_result"
        }
      ],
      "source": [
        "history = model.fit(x_train, y_train, epochs=10, validation_split=0.2)\n",
        "model_history = pd.DataFrame(history.history)\n",
        "model_history['epoch'] = history.epoch\n",
        "model_history"
      ]
    },
    {
      "cell_type": "markdown",
      "metadata": {
        "id": "NySO3mLTebcu"
      },
      "source": [
        "Tras realizar la fase de entrenamiento, es posible visualizar la evolución del rendimiento de la red neuronal profunda."
      ]
    },
    {
      "cell_type": "code",
      "execution_count": 9,
      "metadata": {
        "colab": {
          "base_uri": "https://localhost:8080/",
          "height": 350
        },
        "id": "LaxzTZP2ebcv",
        "outputId": "36391ce3-fa8d-42a4-b9a6-62c0db4cc61f"
      },
      "outputs": [
        {
          "data": {
            "image/png": "[encoded data removed]",
            "text/plain": [
              "<Figure size 1080x360 with 2 Axes>"
            ]
          },
          "metadata": {
            "needs_background": "light"
          },
          "output_type": "display_data"
        }
      ],
      "source": [
        "fig, ax = plt.subplots(1, 2, figsize=(15, 5))\n",
        "num_epochs = model_history.shape[0]\n",
        "ax[0].plot(np.arange(0, num_epochs), model_history['accuracy'], label='Training Accuracy', lw=3, color='blue')\n",
        "ax[0].plot(np.arange(0, num_epochs), model_history['val_accuracy'], label='Validation Accuracy', lw=3, color='red')\n",
        "ax[1].plot(np.arange(0, num_epochs), model_history['loss'], label='Training Loss', lw=3, color='green')\n",
        "ax[1].plot(np.arange(0, num_epochs), model_history['val_loss'], label='Validation Loss', lw=3, color='orange')\n",
        "ax[0].set_title('Training and Validation Accuracy')\n",
        "ax[1].set_title('Loss and Validation Loss')\n",
        "ax[0].set_xlabel('Epoch')\n",
        "ax[0].set_ylabel('Accuracy')\n",
        "ax[0].legend()\n",
        "ax[1].set_xlabel('Epoch')\n",
        "ax[1].set_ylabel('Accuracy')\n",
        "ax[1].legend()\n",
        "plt.show()"
      ]
    },
    {
      "cell_type": "markdown",
      "metadata": {
        "id": "4DD6WkGaebcv"
      },
      "source": [
        "A continuación, evaluaremos los datos de set con el modelo generado y visualizaremos los valores de precisión y pérdida obtenidas."
      ]
    },
    {
      "cell_type": "code",
      "execution_count": 10,
      "metadata": {
        "colab": {
          "base_uri": "https://localhost:8080/"
        },
        "id": "EFbU0MdMebcv",
        "outputId": "ddf2cabd-d666-4733-f627-cfb5a01127c0"
      },
      "outputs": [
        {
          "name": "stdout",
          "output_type": "stream",
          "text": [
            "Loss: 0.7088\n",
            "Accuracy: 0.8360\n"
          ]
        }
      ],
      "source": [
        "loss, accuracy = model.evaluate(x_test, y_test, verbose=0)\n",
        "print(f\"Loss: {loss:.4f}\")\n",
        "print(f\"Accuracy: {accuracy:.4f}\")"
      ]
    },
    {
      "cell_type": "markdown",
      "metadata": {
        "id": "yGcyzhy7ebcv"
      },
      "source": [
        "# Matriz de Confusión <a class=\"anchor\" id=\"cm\"></a>\n",
        "Comprobaremos el rendimiento del modelo mediante la matriz de confusión."
      ]
    },
    {
      "cell_type": "code",
      "execution_count": 11,
      "metadata": {
        "colab": {
          "base_uri": "https://localhost:8080/",
          "height": 300
        },
        "id": "Z41pCtGPjKwZ",
        "outputId": "fb595505-6aec-4712-c781-8c775cf647d4"
      },
      "outputs": [
        {
          "name": "stdout",
          "output_type": "stream",
          "text": [
            "12/12 [==============================] - 1s 96ms/step\n"
          ]
        },
        {
          "data": {
            "image/png": "[encoded data removed]",
            "text/plain": [
              "<Figure size 432x288 with 2 Axes>"
            ]
          },
          "metadata": {
            "needs_background": "light"
          },
          "output_type": "display_data"
        }
      ],
      "source": [
        "y_pred = model.predict(x_test)\n",
        "y_pred = np.argmax(y_pred, axis=1)\n",
        "y_test = np.argmax(y_test, axis=1)\n",
        "cm = confusion_matrix(y_test, y_pred)\n",
        "disp = ConfusionMatrixDisplay(confusion_matrix=cm, display_labels=['Papel', 'Piedra', 'Tijeras'])\n",
        "disp.plot()\n",
        "plt.show()"
      ]
    },
    {
      "attachments": {},
      "cell_type": "markdown",
      "metadata": {},
      "source": [
        "# Conclusion <a class=\"anchor\" id=\"conclusion\"></a>\n",
        "Como podemos observar, la CNN ha obtenido un rendimiento de aproximadamente el 80% de precisión, lo que es un buen resultado para un modelo de este tipo."
      ]
    }
  ],
  "metadata": {
    "accelerator": "GPU",
    "colab": {
      "provenance": []
    },
    "gpuClass": "standard",
    "kernelspec": {
      "display_name": "Python 3 (ipykernel)",
      "language": "python",
      "name": "python3"
    },
    "language_info": {
      "codemirror_mode": {
        "name": "ipython",
        "version": 3
      },
      "file_extension": ".py",
      "mimetype": "text/x-python",
      "name": "python",
      "nbconvert_exporter": "python",
      "pygments_lexer": "ipython3",
      "version": "3.8.5 (tags/v3.8.5:580fbb0, Jul 20 2020, 15:57:54) [MSC v.1924 64 bit (AMD64)]"
    },
    "vscode": {
      "interpreter": {
        "hash": "6517ef4d065b964775f7ded66e8332ac26eb91a9f9628f14f6a82a0ec9e672ea"
      }
    }
  },
  "nbformat": 4,
  "nbformat_minor": 0
}
