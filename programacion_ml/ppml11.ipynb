{
 "cells": [
  {
   "cell_type": "markdown",
   "metadata": {},
   "source": [
    "# Ajuste de hiperparámetros y flujos de trabajo en Machine Learning \n",
    "Actividad Lección 11 || Programación Python para Machine Learning\n",
    "\n",
    "Objetivos:\n",
    "* Conocer los motivos fundamentales por los que es necesario llevar a cabo un proceso de ajuste de parámetros en modelos supervisados de Machine Learning.\n",
    "* Dominar las técnicas de implementación de los métodos más comunes de ajuste de hiperparámetros en Python.\n",
    "* Describir qué es un flujo de trabajo en Machine Learning y su utilidad.\n",
    "* Aprender a utilizar las técnicas de implementación de flujos de trabajo en Machine Learning en Python.\n",
    "\n",
    "Datos del alumno:\n",
    "* Víctor Luque Martín\n",
    "* Máster Avanzado en Programación en Python para Hacking, BigData y Machine Learning\n",
    "\n",
    "Fecha: 13/01/2023"
   ]
  },
  {
   "cell_type": "markdown",
   "metadata": {},
   "source": [
    "# Tabla de Contenidos\n",
    "1. [Importes](#importes)\n",
    "2. [Carga de datos](#carga)\n",
    "3. [Análisis de los datos](#analisis)\n",
    "3. [Flujo de trabajo](#pipeline)\n",
    "4. [Ajuste de hiperparámetros](#ajuste)\n",
    "5. [Conclusiones](#conclusiones)"
   ]
  },
  {
   "cell_type": "markdown",
   "metadata": {},
   "source": [
    "# Importes <a name=\"importes\"></a>"
   ]
  },
  {
   "cell_type": "code",
   "execution_count": 3,
   "metadata": {},
   "outputs": [],
   "source": [
    "import random, time\n",
    "import pandas as pd\n",
    "import numpy as np\n",
    "import matplotlib.pyplot as plt\n",
    "from sklearn.model_selection import (\n",
    "    RepeatedStratifiedKFold,\n",
    "    GridSearchCV,\n",
    ")\n",
    "from sklearn.impute import SimpleImputer\n",
    "from sklearn.pipeline import Pipeline\n",
    "from sklearn.neural_network import MLPClassifier\n",
    "from sklearn.preprocessing import StandardScaler"
   ]
  },
  {
   "cell_type": "markdown",
   "metadata": {},
   "source": [
    "# Carga de datos <a class=\"anchor\" name=\"carga\"></a>\n",
    "Se carga el dataset [Census Income](https://archive.ics.uci.edu/ml/datasets/Census+Income) para realizar el ajuste de hiperparámetros y el flujo de parámetros"
   ]
  },
  {
   "cell_type": "code",
   "execution_count": 4,
   "metadata": {},
   "outputs": [
    {
     "data": {
      "text/plain": [
       "(366, 35)"
      ]
     },
     "execution_count": 4,
     "metadata": {},
     "output_type": "execute_result"
    }
   ],
   "source": [
    "filename = \"dermatology.data\"\n",
    "col_names = [\"erythema\", \"scaling\", \"definite borders\", \"itching\", \"koebner phenomenon\",\n",
    "             \"polygonal papules\", \"follicular papules\", \"oral mucosal involvement\", \"knee and elbow involvement\",\n",
    "             \"scalp involvement\", \"family history\", \"melanin incontinence\", \"eosinophils in the infiltrate\",\n",
    "             \"PNL infiltrate\", \"fibrosis of the papillary dermis\", \"exocytosis\", \"acanthosis\", \"hyperkeratosis\",\n",
    "             \"parakeratosis\", \"clubbing of the rete ridges\", \"elongation of the rete ridges\", \n",
    "             \"thinning of the suprapapillary epidermis\", \"spongiform pustule\", \"munro microabcess\", \"focal hypergranulosis\", \n",
    "             \"disappearance of the granular layer\", \"vacuolisation and damage of basal layer\", \"spongiosis\", \n",
    "             \"saw-tooth appearance of retes\", \"follicular horn plug\", \"perifollicular parakeratosis\", \n",
    "             \"inflammatory monoluclear inflitrate\", \"band-like infiltrate\", \"age\", \"class\"]\n",
    "col_names = [x.replace(\" \", \"_\").lower() for x in col_names]\n",
    "df = pd.read_csv(filename, names=col_names)\n",
    "df.shape"
   ]
  },
  {
   "cell_type": "code",
   "execution_count": 5,
   "metadata": {},
   "outputs": [
    {
     "data": {
      "text/html": [
       "<div>\n",
       "<style scoped>\n",
       "    .dataframe tbody tr th:only-of-type {\n",
       "        vertical-align: middle;\n",
       "    }\n",
       "\n",
       "    .dataframe tbody tr th {\n",
       "        vertical-align: top;\n",
       "    }\n",
       "\n",
       "    .dataframe thead th {\n",
       "        text-align: right;\n",
       "    }\n",
       "</style>\n",
       "<table border=\"1\" class=\"dataframe\">\n",
       "  <thead>\n",
       "    <tr style=\"text-align: right;\">\n",
       "      <th></th>\n",
       "      <th>erythema</th>\n",
       "      <th>scaling</th>\n",
       "      <th>definite_borders</th>\n",
       "      <th>itching</th>\n",
       "      <th>koebner_phenomenon</th>\n",
       "      <th>polygonal_papules</th>\n",
       "      <th>follicular_papules</th>\n",
       "      <th>oral_mucosal_involvement</th>\n",
       "      <th>knee_and_elbow_involvement</th>\n",
       "      <th>scalp_involvement</th>\n",
       "      <th>...</th>\n",
       "      <th>disappearance_of_the_granular_layer</th>\n",
       "      <th>vacuolisation_and_damage_of_basal_layer</th>\n",
       "      <th>spongiosis</th>\n",
       "      <th>saw-tooth_appearance_of_retes</th>\n",
       "      <th>follicular_horn_plug</th>\n",
       "      <th>perifollicular_parakeratosis</th>\n",
       "      <th>inflammatory_monoluclear_inflitrate</th>\n",
       "      <th>band-like_infiltrate</th>\n",
       "      <th>age</th>\n",
       "      <th>class</th>\n",
       "    </tr>\n",
       "  </thead>\n",
       "  <tbody>\n",
       "    <tr>\n",
       "      <th>0</th>\n",
       "      <td>2</td>\n",
       "      <td>2</td>\n",
       "      <td>0</td>\n",
       "      <td>3</td>\n",
       "      <td>0</td>\n",
       "      <td>0</td>\n",
       "      <td>0</td>\n",
       "      <td>0</td>\n",
       "      <td>1</td>\n",
       "      <td>0</td>\n",
       "      <td>...</td>\n",
       "      <td>0</td>\n",
       "      <td>0</td>\n",
       "      <td>3</td>\n",
       "      <td>0</td>\n",
       "      <td>0</td>\n",
       "      <td>0</td>\n",
       "      <td>1</td>\n",
       "      <td>0</td>\n",
       "      <td>55</td>\n",
       "      <td>2</td>\n",
       "    </tr>\n",
       "    <tr>\n",
       "      <th>1</th>\n",
       "      <td>3</td>\n",
       "      <td>3</td>\n",
       "      <td>3</td>\n",
       "      <td>2</td>\n",
       "      <td>1</td>\n",
       "      <td>0</td>\n",
       "      <td>0</td>\n",
       "      <td>0</td>\n",
       "      <td>1</td>\n",
       "      <td>1</td>\n",
       "      <td>...</td>\n",
       "      <td>0</td>\n",
       "      <td>0</td>\n",
       "      <td>0</td>\n",
       "      <td>0</td>\n",
       "      <td>0</td>\n",
       "      <td>0</td>\n",
       "      <td>1</td>\n",
       "      <td>0</td>\n",
       "      <td>8</td>\n",
       "      <td>1</td>\n",
       "    </tr>\n",
       "    <tr>\n",
       "      <th>2</th>\n",
       "      <td>2</td>\n",
       "      <td>1</td>\n",
       "      <td>2</td>\n",
       "      <td>3</td>\n",
       "      <td>1</td>\n",
       "      <td>3</td>\n",
       "      <td>0</td>\n",
       "      <td>3</td>\n",
       "      <td>0</td>\n",
       "      <td>0</td>\n",
       "      <td>...</td>\n",
       "      <td>0</td>\n",
       "      <td>2</td>\n",
       "      <td>3</td>\n",
       "      <td>2</td>\n",
       "      <td>0</td>\n",
       "      <td>0</td>\n",
       "      <td>2</td>\n",
       "      <td>3</td>\n",
       "      <td>26</td>\n",
       "      <td>3</td>\n",
       "    </tr>\n",
       "    <tr>\n",
       "      <th>3</th>\n",
       "      <td>2</td>\n",
       "      <td>2</td>\n",
       "      <td>2</td>\n",
       "      <td>0</td>\n",
       "      <td>0</td>\n",
       "      <td>0</td>\n",
       "      <td>0</td>\n",
       "      <td>0</td>\n",
       "      <td>3</td>\n",
       "      <td>2</td>\n",
       "      <td>...</td>\n",
       "      <td>3</td>\n",
       "      <td>0</td>\n",
       "      <td>0</td>\n",
       "      <td>0</td>\n",
       "      <td>0</td>\n",
       "      <td>0</td>\n",
       "      <td>3</td>\n",
       "      <td>0</td>\n",
       "      <td>40</td>\n",
       "      <td>1</td>\n",
       "    </tr>\n",
       "    <tr>\n",
       "      <th>4</th>\n",
       "      <td>2</td>\n",
       "      <td>3</td>\n",
       "      <td>2</td>\n",
       "      <td>2</td>\n",
       "      <td>2</td>\n",
       "      <td>2</td>\n",
       "      <td>0</td>\n",
       "      <td>2</td>\n",
       "      <td>0</td>\n",
       "      <td>0</td>\n",
       "      <td>...</td>\n",
       "      <td>2</td>\n",
       "      <td>3</td>\n",
       "      <td>2</td>\n",
       "      <td>3</td>\n",
       "      <td>0</td>\n",
       "      <td>0</td>\n",
       "      <td>2</td>\n",
       "      <td>3</td>\n",
       "      <td>45</td>\n",
       "      <td>3</td>\n",
       "    </tr>\n",
       "  </tbody>\n",
       "</table>\n",
       "<p>5 rows × 35 columns</p>\n",
       "</div>"
      ],
      "text/plain": [
       "   erythema  scaling  definite_borders  itching  koebner_phenomenon  \\\n",
       "0         2        2                 0        3                   0   \n",
       "1         3        3                 3        2                   1   \n",
       "2         2        1                 2        3                   1   \n",
       "3         2        2                 2        0                   0   \n",
       "4         2        3                 2        2                   2   \n",
       "\n",
       "   polygonal_papules  follicular_papules  oral_mucosal_involvement  \\\n",
       "0                  0                   0                         0   \n",
       "1                  0                   0                         0   \n",
       "2                  3                   0                         3   \n",
       "3                  0                   0                         0   \n",
       "4                  2                   0                         2   \n",
       "\n",
       "   knee_and_elbow_involvement  scalp_involvement  ...  \\\n",
       "0                           1                  0  ...   \n",
       "1                           1                  1  ...   \n",
       "2                           0                  0  ...   \n",
       "3                           3                  2  ...   \n",
       "4                           0                  0  ...   \n",
       "\n",
       "   disappearance_of_the_granular_layer  \\\n",
       "0                                    0   \n",
       "1                                    0   \n",
       "2                                    0   \n",
       "3                                    3   \n",
       "4                                    2   \n",
       "\n",
       "   vacuolisation_and_damage_of_basal_layer  spongiosis  \\\n",
       "0                                        0           3   \n",
       "1                                        0           0   \n",
       "2                                        2           3   \n",
       "3                                        0           0   \n",
       "4                                        3           2   \n",
       "\n",
       "   saw-tooth_appearance_of_retes  follicular_horn_plug  \\\n",
       "0                              0                     0   \n",
       "1                              0                     0   \n",
       "2                              2                     0   \n",
       "3                              0                     0   \n",
       "4                              3                     0   \n",
       "\n",
       "   perifollicular_parakeratosis  inflammatory_monoluclear_inflitrate  \\\n",
       "0                             0                                    1   \n",
       "1                             0                                    1   \n",
       "2                             0                                    2   \n",
       "3                             0                                    3   \n",
       "4                             0                                    2   \n",
       "\n",
       "   band-like_infiltrate  age  class  \n",
       "0                     0   55      2  \n",
       "1                     0    8      1  \n",
       "2                     3   26      3  \n",
       "3                     0   40      1  \n",
       "4                     3   45      3  \n",
       "\n",
       "[5 rows x 35 columns]"
      ]
     },
     "execution_count": 5,
     "metadata": {},
     "output_type": "execute_result"
    }
   ],
   "source": [
    "df.head()"
   ]
  },
  {
   "cell_type": "markdown",
   "metadata": {},
   "source": [
    "# Análisis de los datos <a class=\"anchor\" name=\"analisis\"></a>\n",
    "A continuación se muestran las clases que contienen valores perdidos:"
   ]
  },
  {
   "cell_type": "code",
   "execution_count": 6,
   "metadata": {},
   "outputs": [
    {
     "data": {
      "text/plain": [
       "age    8\n",
       "dtype: int64"
      ]
     },
     "execution_count": 6,
     "metadata": {},
     "output_type": "execute_result"
    }
   ],
   "source": [
    "df[df == '?'] = np.nan\n",
    "df.isna().sum()[df.isna().sum() > 0]"
   ]
  },
  {
   "cell_type": "markdown",
   "metadata": {},
   "source": [
    "Comprobaremos si el dataset está balanceado mostrando el número de elementos por cada clase:"
   ]
  },
  {
   "cell_type": "code",
   "execution_count": 7,
   "metadata": {},
   "outputs": [
    {
     "data": {
      "text/plain": [
       "1    112\n",
       "3     72\n",
       "2     61\n",
       "5     52\n",
       "4     49\n",
       "6     20\n",
       "Name: class, dtype: int64"
      ]
     },
     "execution_count": 7,
     "metadata": {},
     "output_type": "execute_result"
    }
   ],
   "source": [
    "df[\"class\"].value_counts()"
   ]
  },
  {
   "cell_type": "markdown",
   "metadata": {},
   "source": [
    "Como podemos observar, el dataset está desbalanceado, contiene valores perdidos en la columna de la edad y todas sus variables son numéricas."
   ]
  },
  {
   "cell_type": "markdown",
   "metadata": {},
   "source": [
    "# Flujo de trabajo <a class=\"anchor\" name=\"pipeline\"></a>\n",
    "Se crea un flujo de trabajo para el modelo de regresión logística con las siguientes fases:\n",
    "1. Imputación de valores perdidos por la mediana.\n",
    "2. Escalado de datos utilizando StandardScaler.\n",
    "3. Algoritmo a utilizar: MLPClassifier."
   ]
  },
  {
   "cell_type": "code",
   "execution_count": 8,
   "metadata": {},
   "outputs": [],
   "source": [
    "X = df.drop(columns=['class'])\n",
    "y = df['class']\n",
    "seed = random.seed(time.time())\n",
    "\n",
    "pipe = Pipeline([\n",
    "    ('imputer', SimpleImputer(strategy='median')),\n",
    "    ('scaler', StandardScaler()),\n",
    "    ('mlp', MLPClassifier(random_state=seed))\n",
    "])\n",
    "\n",
    "space = [{\n",
    "    'mlp__hidden_layer_sizes': [(10,), (50,), (100,), \n",
    "                                (10, 10), (50, 50), (100, 100), \n",
    "                                (10, 10, 10), (50, 50, 50), (100, 100, 100)],\n",
    "    'mlp__activation': ['logistic', 'tanh', 'relu'],\n",
    "    'mlp__solver': ['lbfgs', 'adam'],\n",
    "    'mlp__learning_rate': ['constant', 'invscaling', 'adaptive'],\n",
    "    'mlp__max_iter': [1000, 2000, 3000, 4000, 5000],\n",
    "    'mlp__learning_rate_init': [1e-4, 1e-3, 1e-2, 1e-1, 1],\n",
    "}]\n",
    "\n",
    "cv = RepeatedStratifiedKFold(n_splits=5, n_repeats=3, random_state=seed)"
   ]
  },
  {
   "cell_type": "markdown",
   "metadata": {},
   "source": [
    "# Ajuste de hiperparámetros <a class=\"anchor\" name=\"ajuste\"></a>\n",
    "Haciendo uso de GridSearchCV del módulo `model_selection` de `sklearn` se ajustan los hiperparámetros del modelo de la red neuronal."
   ]
  },
  {
   "cell_type": "code",
   "execution_count": 10,
   "metadata": {},
   "outputs": [
    {
     "name": "stdout",
     "output_type": "stream",
     "text": [
      "Best Score: 0.9737321937321937\n",
      "Best Params: {'mlp__activation': 'relu', 'mlp__hidden_layer_sizes': (50, 50), 'mlp__learning_rate': 'constant', 'mlp__learning_rate_init': 0.0001, 'mlp__max_iter': 5000, 'mlp__solver': 'adam'}\n"
     ]
    }
   ],
   "source": [
    "grid = GridSearchCV(pipe, space, scoring='balanced_accuracy', n_jobs=-1, cv=cv)\n",
    "result = grid.fit(X, y)\n",
    "print(f\"Best Score: {result.best_score_}\")\n",
    "print(f\"Best Params: {result.best_params_}\")"
   ]
  },
  {
   "cell_type": "markdown",
   "metadata": {},
   "source": [
    "# Conclusiones <a class=\"anchor\" name=\"conclusiones\"></a>\n",
    "Tras el ajuste de hiperparámetros se obtiene un mejor resultado del modelo de red neuronal.<br>\n",
    "El mejor resultado obtenido es de un `0.9737321937321937` de precisión balanceada.<br>\n",
    "Los mejores hiperparámetros son los siguientes:\n",
    "* `hidden_layer_sizes`: (50, 50)\n",
    "* `activation`: relu\n",
    "* `solver`: adam\n",
    "* `learning_rate`: constant\n",
    "* `learning_rate_init`: 0.0001\n",
    "* `max_iter`: 5000"
   ]
  }
 ],
 "metadata": {
  "kernelspec": {
   "display_name": "Python 3 (ipykernel)",
   "language": "python",
   "name": "python3"
  },
  "language_info": {
   "codemirror_mode": {
    "name": "ipython",
    "version": 3
   },
   "file_extension": ".py",
   "mimetype": "text/x-python",
   "name": "python",
   "nbconvert_exporter": "python",
   "pygments_lexer": "ipython3",
   "version": "3.8.5"
  },
  "vscode": {
   "interpreter": {
    "hash": "6517ef4d065b964775f7ded66e8332ac26eb91a9f9628f14f6a82a0ec9e672ea"
   }
  }
 },
 "nbformat": 4,
 "nbformat_minor": 2
}
