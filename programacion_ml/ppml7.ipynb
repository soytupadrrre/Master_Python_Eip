{
 "cells": [
  {
   "cell_type": "markdown",
   "metadata": {},
   "source": [
    "# Support Vector Machines y Naive Bayes\n",
    "Actividad Lección 7 || Programación Python para Machine Learning\n",
    "\n",
    "Objetivos:\n",
    "* Conocer los principios de las Máquinas de Vectores Soporte (SVM)\n",
    "* Saber implementar en Python modelos de SVM para resolver problemas de clasificación y regresión\n",
    "\n",
    "Datos del alumno:\n",
    "* Víctor Luque Martín\n",
    "* Máster Avanzado en Programación en Python para Hacking, BigData y Machine Learning\n",
    "\n",
    "Fecha: 07/12/2022"
   ]
  },
  {
   "cell_type": "markdown",
   "metadata": {},
   "source": [
    "# Tabla de Contenidos\n",
    "1. [Importes](#importes)\n",
    "2. [Carga del dataset](#carga)\n",
    "3. [Conteo de Clases](#conteo)\n",
    "    1. [Analisis de los datos](#analisis)\n",
    "4. [Segmentación del conjunto de datos](#segmentacion)\n",
    "5. [Normalización](#normalizacion)\n",
    "6. [Modelos](#modelos)\n",
    "    1. [Regresión Logística](#regresion)\n",
    "    2. [K-Vecinos más cercanos](#knn)\n",
    "7. [Evaluación de los modelos](#evaluacion)\n",
    "8. [Optimizando KNN](#optimizando)"
   ]
  },
  {
   "cell_type": "markdown",
   "metadata": {},
   "source": [
    "# Importes <a name=\"importes\"></a>"
   ]
  },
  {
   "cell_type": "code",
   "execution_count": 129,
   "metadata": {},
   "outputs": [],
   "source": [
    "import random, time\n",
    "import pandas as pd\n",
    "import numpy as np\n",
    "import matplotlib.pyplot as plt\n",
    "from sklearn.preprocessing import StandardScaler\n",
    "from sklearn import model_selection, metrics\n",
    "from sklearn.svm import SVC"
   ]
  },
  {
   "cell_type": "markdown",
   "metadata": {},
   "source": [
    "# Carga del dataset <a class=\"anchor\" name=\"carga\"></a>\n",
    "Se carga el dataset [Climate Model Simulation Crashes](https://archive.ics.uci.edu/ml/datasets/climate+model+simulation+crashes#) para trabajar la implementación de modelos SVM."
   ]
  },
  {
   "cell_type": "code",
   "execution_count": 130,
   "metadata": {},
   "outputs": [
    {
     "data": {
      "text/html": [
       "<div>\n",
       "<style scoped>\n",
       "    .dataframe tbody tr th:only-of-type {\n",
       "        vertical-align: middle;\n",
       "    }\n",
       "\n",
       "    .dataframe tbody tr th {\n",
       "        vertical-align: top;\n",
       "    }\n",
       "\n",
       "    .dataframe thead th {\n",
       "        text-align: right;\n",
       "    }\n",
       "</style>\n",
       "<table border=\"1\" class=\"dataframe\">\n",
       "  <thead>\n",
       "    <tr style=\"text-align: right;\">\n",
       "      <th></th>\n",
       "      <th>Study</th>\n",
       "      <th>Run</th>\n",
       "      <th>vconst_corr</th>\n",
       "      <th>vconst_2</th>\n",
       "      <th>vconst_3</th>\n",
       "      <th>vconst_4</th>\n",
       "      <th>vconst_5</th>\n",
       "      <th>vconst_7</th>\n",
       "      <th>ah_corr</th>\n",
       "      <th>ah_bolus</th>\n",
       "      <th>...</th>\n",
       "      <th>efficiency_factor</th>\n",
       "      <th>tidal_mix_max</th>\n",
       "      <th>vertical_decay_scale</th>\n",
       "      <th>convect_corr</th>\n",
       "      <th>bckgrnd_vdc1</th>\n",
       "      <th>bckgrnd_vdc_ban</th>\n",
       "      <th>bckgrnd_vdc_eq</th>\n",
       "      <th>bckgrnd_vdc_psim</th>\n",
       "      <th>Prandtl</th>\n",
       "      <th>outcome</th>\n",
       "    </tr>\n",
       "  </thead>\n",
       "  <tbody>\n",
       "    <tr>\n",
       "      <th>0</th>\n",
       "      <td>1</td>\n",
       "      <td>1</td>\n",
       "      <td>0.859036</td>\n",
       "      <td>0.927825</td>\n",
       "      <td>0.252866</td>\n",
       "      <td>0.298838</td>\n",
       "      <td>0.170521</td>\n",
       "      <td>0.735936</td>\n",
       "      <td>0.428325</td>\n",
       "      <td>0.567947</td>\n",
       "      <td>...</td>\n",
       "      <td>0.245675</td>\n",
       "      <td>0.104226</td>\n",
       "      <td>0.869091</td>\n",
       "      <td>0.997518</td>\n",
       "      <td>0.448620</td>\n",
       "      <td>0.307522</td>\n",
       "      <td>0.858310</td>\n",
       "      <td>0.796997</td>\n",
       "      <td>0.869893</td>\n",
       "      <td>0</td>\n",
       "    </tr>\n",
       "    <tr>\n",
       "      <th>1</th>\n",
       "      <td>1</td>\n",
       "      <td>2</td>\n",
       "      <td>0.606041</td>\n",
       "      <td>0.457728</td>\n",
       "      <td>0.359448</td>\n",
       "      <td>0.306957</td>\n",
       "      <td>0.843331</td>\n",
       "      <td>0.934851</td>\n",
       "      <td>0.444572</td>\n",
       "      <td>0.828015</td>\n",
       "      <td>...</td>\n",
       "      <td>0.616870</td>\n",
       "      <td>0.975786</td>\n",
       "      <td>0.914344</td>\n",
       "      <td>0.845247</td>\n",
       "      <td>0.864152</td>\n",
       "      <td>0.346713</td>\n",
       "      <td>0.356573</td>\n",
       "      <td>0.438447</td>\n",
       "      <td>0.512256</td>\n",
       "      <td>1</td>\n",
       "    </tr>\n",
       "    <tr>\n",
       "      <th>2</th>\n",
       "      <td>1</td>\n",
       "      <td>3</td>\n",
       "      <td>0.997600</td>\n",
       "      <td>0.373238</td>\n",
       "      <td>0.517399</td>\n",
       "      <td>0.504993</td>\n",
       "      <td>0.618903</td>\n",
       "      <td>0.605571</td>\n",
       "      <td>0.746225</td>\n",
       "      <td>0.195928</td>\n",
       "      <td>...</td>\n",
       "      <td>0.679355</td>\n",
       "      <td>0.803413</td>\n",
       "      <td>0.643995</td>\n",
       "      <td>0.718441</td>\n",
       "      <td>0.924775</td>\n",
       "      <td>0.315371</td>\n",
       "      <td>0.250642</td>\n",
       "      <td>0.285636</td>\n",
       "      <td>0.365858</td>\n",
       "      <td>1</td>\n",
       "    </tr>\n",
       "    <tr>\n",
       "      <th>3</th>\n",
       "      <td>1</td>\n",
       "      <td>4</td>\n",
       "      <td>0.783408</td>\n",
       "      <td>0.104055</td>\n",
       "      <td>0.197533</td>\n",
       "      <td>0.421837</td>\n",
       "      <td>0.742056</td>\n",
       "      <td>0.490828</td>\n",
       "      <td>0.005525</td>\n",
       "      <td>0.392123</td>\n",
       "      <td>...</td>\n",
       "      <td>0.471463</td>\n",
       "      <td>0.597879</td>\n",
       "      <td>0.761659</td>\n",
       "      <td>0.362751</td>\n",
       "      <td>0.912819</td>\n",
       "      <td>0.977971</td>\n",
       "      <td>0.845921</td>\n",
       "      <td>0.699431</td>\n",
       "      <td>0.475987</td>\n",
       "      <td>1</td>\n",
       "    </tr>\n",
       "    <tr>\n",
       "      <th>4</th>\n",
       "      <td>1</td>\n",
       "      <td>5</td>\n",
       "      <td>0.406250</td>\n",
       "      <td>0.513199</td>\n",
       "      <td>0.061812</td>\n",
       "      <td>0.635837</td>\n",
       "      <td>0.844798</td>\n",
       "      <td>0.441502</td>\n",
       "      <td>0.191926</td>\n",
       "      <td>0.487546</td>\n",
       "      <td>...</td>\n",
       "      <td>0.551543</td>\n",
       "      <td>0.743877</td>\n",
       "      <td>0.312349</td>\n",
       "      <td>0.650223</td>\n",
       "      <td>0.522261</td>\n",
       "      <td>0.043545</td>\n",
       "      <td>0.376660</td>\n",
       "      <td>0.280098</td>\n",
       "      <td>0.132283</td>\n",
       "      <td>1</td>\n",
       "    </tr>\n",
       "    <tr>\n",
       "      <th>...</th>\n",
       "      <td>...</td>\n",
       "      <td>...</td>\n",
       "      <td>...</td>\n",
       "      <td>...</td>\n",
       "      <td>...</td>\n",
       "      <td>...</td>\n",
       "      <td>...</td>\n",
       "      <td>...</td>\n",
       "      <td>...</td>\n",
       "      <td>...</td>\n",
       "      <td>...</td>\n",
       "      <td>...</td>\n",
       "      <td>...</td>\n",
       "      <td>...</td>\n",
       "      <td>...</td>\n",
       "      <td>...</td>\n",
       "      <td>...</td>\n",
       "      <td>...</td>\n",
       "      <td>...</td>\n",
       "      <td>...</td>\n",
       "      <td>...</td>\n",
       "    </tr>\n",
       "    <tr>\n",
       "      <th>535</th>\n",
       "      <td>3</td>\n",
       "      <td>176</td>\n",
       "      <td>0.657136</td>\n",
       "      <td>0.489375</td>\n",
       "      <td>0.133713</td>\n",
       "      <td>0.411950</td>\n",
       "      <td>0.087780</td>\n",
       "      <td>0.356289</td>\n",
       "      <td>0.480204</td>\n",
       "      <td>0.029678</td>\n",
       "      <td>...</td>\n",
       "      <td>0.280546</td>\n",
       "      <td>0.384117</td>\n",
       "      <td>0.885948</td>\n",
       "      <td>0.768482</td>\n",
       "      <td>0.459479</td>\n",
       "      <td>0.334482</td>\n",
       "      <td>0.573002</td>\n",
       "      <td>0.610183</td>\n",
       "      <td>0.737706</td>\n",
       "      <td>1</td>\n",
       "    </tr>\n",
       "    <tr>\n",
       "      <th>536</th>\n",
       "      <td>3</td>\n",
       "      <td>177</td>\n",
       "      <td>0.915894</td>\n",
       "      <td>0.842720</td>\n",
       "      <td>0.518947</td>\n",
       "      <td>0.090622</td>\n",
       "      <td>0.336981</td>\n",
       "      <td>0.893576</td>\n",
       "      <td>0.978703</td>\n",
       "      <td>0.674868</td>\n",
       "      <td>...</td>\n",
       "      <td>0.798108</td>\n",
       "      <td>0.353546</td>\n",
       "      <td>0.044796</td>\n",
       "      <td>0.990900</td>\n",
       "      <td>0.347027</td>\n",
       "      <td>0.512499</td>\n",
       "      <td>0.810549</td>\n",
       "      <td>0.593332</td>\n",
       "      <td>0.142565</td>\n",
       "      <td>0</td>\n",
       "    </tr>\n",
       "    <tr>\n",
       "      <th>537</th>\n",
       "      <td>3</td>\n",
       "      <td>178</td>\n",
       "      <td>0.478600</td>\n",
       "      <td>0.941185</td>\n",
       "      <td>0.769245</td>\n",
       "      <td>0.950776</td>\n",
       "      <td>0.189406</td>\n",
       "      <td>0.112743</td>\n",
       "      <td>0.745645</td>\n",
       "      <td>0.527096</td>\n",
       "      <td>...</td>\n",
       "      <td>0.193103</td>\n",
       "      <td>0.829563</td>\n",
       "      <td>0.101506</td>\n",
       "      <td>0.548878</td>\n",
       "      <td>0.381966</td>\n",
       "      <td>0.198811</td>\n",
       "      <td>0.867108</td>\n",
       "      <td>0.461632</td>\n",
       "      <td>0.652817</td>\n",
       "      <td>1</td>\n",
       "    </tr>\n",
       "    <tr>\n",
       "      <th>538</th>\n",
       "      <td>3</td>\n",
       "      <td>179</td>\n",
       "      <td>0.007793</td>\n",
       "      <td>0.779287</td>\n",
       "      <td>0.867468</td>\n",
       "      <td>0.704820</td>\n",
       "      <td>0.983282</td>\n",
       "      <td>0.420303</td>\n",
       "      <td>0.710612</td>\n",
       "      <td>0.174746</td>\n",
       "      <td>...</td>\n",
       "      <td>0.761134</td>\n",
       "      <td>0.436714</td>\n",
       "      <td>0.690132</td>\n",
       "      <td>0.825133</td>\n",
       "      <td>0.981656</td>\n",
       "      <td>0.113193</td>\n",
       "      <td>0.364799</td>\n",
       "      <td>0.201469</td>\n",
       "      <td>0.536535</td>\n",
       "      <td>1</td>\n",
       "    </tr>\n",
       "    <tr>\n",
       "      <th>539</th>\n",
       "      <td>3</td>\n",
       "      <td>180</td>\n",
       "      <td>0.608075</td>\n",
       "      <td>0.031556</td>\n",
       "      <td>0.598264</td>\n",
       "      <td>0.794771</td>\n",
       "      <td>0.145680</td>\n",
       "      <td>0.378183</td>\n",
       "      <td>0.461948</td>\n",
       "      <td>0.425291</td>\n",
       "      <td>...</td>\n",
       "      <td>0.480938</td>\n",
       "      <td>0.307816</td>\n",
       "      <td>0.231638</td>\n",
       "      <td>0.464152</td>\n",
       "      <td>0.583558</td>\n",
       "      <td>0.969365</td>\n",
       "      <td>0.464331</td>\n",
       "      <td>0.760344</td>\n",
       "      <td>0.762439</td>\n",
       "      <td>1</td>\n",
       "    </tr>\n",
       "  </tbody>\n",
       "</table>\n",
       "<p>540 rows × 21 columns</p>\n",
       "</div>"
      ],
      "text/plain": [
       "     Study  Run  vconst_corr  vconst_2  vconst_3  vconst_4  vconst_5  \\\n",
       "0        1    1     0.859036  0.927825  0.252866  0.298838  0.170521   \n",
       "1        1    2     0.606041  0.457728  0.359448  0.306957  0.843331   \n",
       "2        1    3     0.997600  0.373238  0.517399  0.504993  0.618903   \n",
       "3        1    4     0.783408  0.104055  0.197533  0.421837  0.742056   \n",
       "4        1    5     0.406250  0.513199  0.061812  0.635837  0.844798   \n",
       "..     ...  ...          ...       ...       ...       ...       ...   \n",
       "535      3  176     0.657136  0.489375  0.133713  0.411950  0.087780   \n",
       "536      3  177     0.915894  0.842720  0.518947  0.090622  0.336981   \n",
       "537      3  178     0.478600  0.941185  0.769245  0.950776  0.189406   \n",
       "538      3  179     0.007793  0.779287  0.867468  0.704820  0.983282   \n",
       "539      3  180     0.608075  0.031556  0.598264  0.794771  0.145680   \n",
       "\n",
       "     vconst_7   ah_corr  ah_bolus  ...  efficiency_factor  tidal_mix_max  \\\n",
       "0    0.735936  0.428325  0.567947  ...           0.245675       0.104226   \n",
       "1    0.934851  0.444572  0.828015  ...           0.616870       0.975786   \n",
       "2    0.605571  0.746225  0.195928  ...           0.679355       0.803413   \n",
       "3    0.490828  0.005525  0.392123  ...           0.471463       0.597879   \n",
       "4    0.441502  0.191926  0.487546  ...           0.551543       0.743877   \n",
       "..        ...       ...       ...  ...                ...            ...   \n",
       "535  0.356289  0.480204  0.029678  ...           0.280546       0.384117   \n",
       "536  0.893576  0.978703  0.674868  ...           0.798108       0.353546   \n",
       "537  0.112743  0.745645  0.527096  ...           0.193103       0.829563   \n",
       "538  0.420303  0.710612  0.174746  ...           0.761134       0.436714   \n",
       "539  0.378183  0.461948  0.425291  ...           0.480938       0.307816   \n",
       "\n",
       "     vertical_decay_scale  convect_corr  bckgrnd_vdc1  bckgrnd_vdc_ban  \\\n",
       "0                0.869091      0.997518      0.448620         0.307522   \n",
       "1                0.914344      0.845247      0.864152         0.346713   \n",
       "2                0.643995      0.718441      0.924775         0.315371   \n",
       "3                0.761659      0.362751      0.912819         0.977971   \n",
       "4                0.312349      0.650223      0.522261         0.043545   \n",
       "..                    ...           ...           ...              ...   \n",
       "535              0.885948      0.768482      0.459479         0.334482   \n",
       "536              0.044796      0.990900      0.347027         0.512499   \n",
       "537              0.101506      0.548878      0.381966         0.198811   \n",
       "538              0.690132      0.825133      0.981656         0.113193   \n",
       "539              0.231638      0.464152      0.583558         0.969365   \n",
       "\n",
       "     bckgrnd_vdc_eq  bckgrnd_vdc_psim   Prandtl  outcome  \n",
       "0          0.858310          0.796997  0.869893        0  \n",
       "1          0.356573          0.438447  0.512256        1  \n",
       "2          0.250642          0.285636  0.365858        1  \n",
       "3          0.845921          0.699431  0.475987        1  \n",
       "4          0.376660          0.280098  0.132283        1  \n",
       "..              ...               ...       ...      ...  \n",
       "535        0.573002          0.610183  0.737706        1  \n",
       "536        0.810549          0.593332  0.142565        0  \n",
       "537        0.867108          0.461632  0.652817        1  \n",
       "538        0.364799          0.201469  0.536535        1  \n",
       "539        0.464331          0.760344  0.762439        1  \n",
       "\n",
       "[540 rows x 21 columns]"
      ]
     },
     "execution_count": 130,
     "metadata": {},
     "output_type": "execute_result"
    }
   ],
   "source": [
    "df = pd.read_csv('pop_failures.dat', sep='\\s+')\n",
    "df"
   ]
  },
  {
   "cell_type": "markdown",
   "metadata": {},
   "source": [
    "# Conteo de Clases <a class=\"anchor\" name=\"conteo\"></a>\n"
   ]
  },
  {
   "cell_type": "code",
   "execution_count": 131,
   "metadata": {},
   "outputs": [
    {
     "data": {
      "image/png": "[encoded data removed]",
      "text/plain": [
       "<Figure size 640x480 with 1 Axes>"
      ]
     },
     "metadata": {},
     "output_type": "display_data"
    }
   ],
   "source": [
    "df['outcome'].value_counts().plot(kind='bar')\n",
    "for i, v in enumerate(df['outcome'].value_counts()):\n",
    "    plt.text(i, v, str(v), color='black', ha='center', va='bottom')\n",
    "plt.show()"
   ]
  },
  {
   "cell_type": "markdown",
   "metadata": {},
   "source": [
    "## Análisis de los datos <a class=\"anchor\" name=\"analisis\"></a>\n",
    "* Como podemos observar, estamos ante un problema de clasificación binaria.\n",
    "* Además, existe un desequilibrio de clases, siendo la clase 1 la que más se repite y la clase 0 la que menos. \n",
    "* Esto puede ser un problema para el modelo, ya que puede aprender a clasificar la clase 1 y no la clase 0.\n"
   ]
  },
  {
   "cell_type": "markdown",
   "metadata": {},
   "source": [
    "# Segmentación del conjnto de datos <a class=\"anchor\" name=\"segmentacion\"></a>\n",
    "* Las variables independientes son todas salvo \"outcome\", \"Study\" y \"Run\", según la descripción del dataset.\n",
    "* La variable dependiente es \"outcome\", que indica si el modelo ha fallado o no.\n",
    "* Se separa el conjunto de datos en dos conjuntos: uno de entrenamiento y otro de test.\n",
    "* El conjunto de entrenamiento se utilizará para entrenar el modelo.\n",
    "* El conjunto de test se utilizará para evaluar el rendimiento del modelo."
   ]
  },
  {
   "cell_type": "code",
   "execution_count": 132,
   "metadata": {},
   "outputs": [],
   "source": [
    "X = df.drop(columns=['outcome', \"Study\", \"Run\"])\n",
    "y = df[\"outcome\"]\n",
    "seed = random.seed(time.time())\n",
    "X_train, X_test, y_train, y_test = model_selection.train_test_split(X, y, test_size=0.5, random_state=seed)"
   ]
  },
  {
   "cell_type": "markdown",
   "metadata": {},
   "source": [
    "# Normalización de los datos <a class=\"anchor\" name=\"normalizacion\"></a>\n",
    "* Los datos del dataset se encuentran escalados entre 0 y 1.\n",
    "* Se utilizará StandardScaler para normalizar los datos."
   ]
  },
  {
   "cell_type": "code",
   "execution_count": 133,
   "metadata": {},
   "outputs": [],
   "source": [
    "scaler = StandardScaler()\n",
    "scaler.fit(X_train)\n",
    "X_train = scaler.transform(X_train)\n",
    "X_test = scaler.transform(X_test)"
   ]
  },
  {
   "cell_type": "markdown",
   "metadata": {},
   "source": [
    "# Máquinas de Vectores Soporte (SVM) <a class=\"anchor\" name=\"svm\"></a>\n",
    "..."
   ]
  },
  {
   "cell_type": "code",
   "execution_count": 134,
   "metadata": {},
   "outputs": [],
   "source": [
    "model = SVC(kernel='sigmoid', gamma=0.1, C=1.0, class_weight='balanced')\n",
    "model.fit(X_train, y_train)\n",
    "y_pred = model.predict(X_test)"
   ]
  },
  {
   "cell_type": "markdown",
   "metadata": {},
   "source": [
    "# Evaluación del modelos <a class=\"anchor\" name=\"evaluacion\"></a>\n",
    "Para evaluar el rendimiento de los modelos utilizaremos las siguientes métricas\n",
    "* Precisión balanceada, ya que el conjunto de datos está desbalanceado y es la métrica que permite evaluar de manera más efectiva este tipo de casos.\n",
    "* Matriz de confusión, para ver la distribución de los aciertos y errores."
   ]
  },
  {
   "cell_type": "code",
   "execution_count": 135,
   "metadata": {},
   "outputs": [
    {
     "data": {
      "text/html": [
       "<div>\n",
       "<style scoped>\n",
       "    .dataframe tbody tr th:only-of-type {\n",
       "        vertical-align: middle;\n",
       "    }\n",
       "\n",
       "    .dataframe tbody tr th {\n",
       "        vertical-align: top;\n",
       "    }\n",
       "\n",
       "    .dataframe thead th {\n",
       "        text-align: right;\n",
       "    }\n",
       "</style>\n",
       "<table border=\"1\" class=\"dataframe\">\n",
       "  <thead>\n",
       "    <tr style=\"text-align: right;\">\n",
       "      <th></th>\n",
       "      <th>Precisión Balanceada</th>\n",
       "    </tr>\n",
       "  </thead>\n",
       "  <tbody>\n",
       "    <tr>\n",
       "      <th>SVM</th>\n",
       "      <td>0.761</td>\n",
       "    </tr>\n",
       "  </tbody>\n",
       "</table>\n",
       "</div>"
      ],
      "text/plain": [
       "     Precisión Balanceada\n",
       "SVM                 0.761"
      ]
     },
     "execution_count": 135,
     "metadata": {},
     "output_type": "execute_result"
    }
   ],
   "source": [
    "# Balanced accuracy, Accuracy, Precision, Recall, F1 as df\n",
    "df_metrics = pd.DataFrame(columns=['Precisión Balanceada'], index=['SVM'], data=[metrics.balanced_accuracy_score(y_test, y_pred)])\n",
    "df_metrics"
   ]
  },
  {
   "cell_type": "code",
   "execution_count": 136,
   "metadata": {},
   "outputs": [
    {
     "data": {
      "image/png": "[encoded data removed]",
      "text/plain": [
       "<Figure size 640x480 with 2 Axes>"
      ]
     },
     "metadata": {},
     "output_type": "display_data"
    }
   ],
   "source": [
    "cm = metrics.confusion_matrix(y_test, y_pred)\n",
    "metrics.ConfusionMatrixDisplay(cm, display_labels=['Verdadero', 'Falso']).plot()\n",
    "plt.show()"
   ]
  },
  {
   "cell_type": "markdown",
   "metadata": {},
   "source": [
    "# Optimizando SVM <a class=\"anchor\" name=\"optimizando\"></a>\n",
    "Teniendo en cuenta la métrica de precisión balanceada, se emplarán diferentes valores de k para ver cuál es el que mejor rendimiento tiene."
   ]
  },
  {
   "cell_type": "code",
   "execution_count": 138,
   "metadata": {},
   "outputs": [
    {
     "data": {
      "image/png": "[encoded data removed]",
      "text/plain": [
       "<Figure size 640x480 with 1 Axes>"
      ]
     },
     "metadata": {},
     "output_type": "display_data"
    }
   ],
   "source": [
    "results = pd.DataFrame(columns=['C', 'gamma', 'Precisión Balanceada'])\n",
    "rango = np.arange(.01, 100, .01)\n",
    "kernels = ['linear', 'poly', 'rbf', 'sigmoid']\n",
    "for kernel in kernels:\n",
    "    for C in rango:\n",
    "        for gamma in rango:\n",
    "            model = SVC(C=C, kernel=kernel, gamma=gamma, class_weight='balanced')\n",
    "            model.fit(X_train, y_train)\n",
    "            y_pred = model.predict(X_test)\n",
    "            results.loc[len(results)] = [C, gamma, 1-metrics.balanced_accuracy_score(y_test, y_pred)]"
   ]
  }
 ],
 "metadata": {
  "kernelspec": {
   "display_name": "Python 3 (ipykernel)",
   "language": "python",
   "name": "python3"
  },
  "language_info": {
   "codemirror_mode": {
    "name": "ipython",
    "version": 3
   },
   "file_extension": ".py",
   "mimetype": "text/x-python",
   "name": "python",
   "nbconvert_exporter": "python",
   "pygments_lexer": "ipython3",
   "version": "3.8.5"
  },
  "vscode": {
   "interpreter": {
    "hash": "1634370e120a9c1df39eabce3cbeacd65fdf9bf1deaa79a301a3f714c9fcff5a"
   }
  }
 },
 "nbformat": 4,
 "nbformat_minor": 2
}
